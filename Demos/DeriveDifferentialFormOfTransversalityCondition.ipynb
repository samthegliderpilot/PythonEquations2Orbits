{
 "cells": [
  {
   "cell_type": "code",
   "execution_count": 18,
   "metadata": {},
   "outputs": [
    {
     "data": {
      "text/latex": [
       "$\\displaystyle \\phi{\\left(t_{f},x{\\left(t_{f} \\right)},u{\\left(t_{f} \\right)} \\right)} + \\int\\limits_{t_{0}}^{\\operatorname{t_{f}}{\\left(\\epsilon \\right)}} \\left(L{\\left(t{\\left(\\epsilon \\right)},x{\\left(t{\\left(\\epsilon \\right)} \\right)},u{\\left(t{\\left(\\epsilon \\right)} \\right)} \\right)} + \\lambda{\\left(t{\\left(\\epsilon \\right)} \\right)} f{\\left(t{\\left(\\epsilon \\right)},x{\\left(t{\\left(\\epsilon \\right)} \\right)},u{\\left(t{\\left(\\epsilon \\right)} \\right)} \\right)} - \\lambda{\\left(t{\\left(\\epsilon \\right)} \\right)} \\frac{d}{d t{\\left(\\epsilon \\right)}} x{\\left(t{\\left(\\epsilon \\right)} \\right)}\\right)\\, dt$"
      ],
      "text/plain": [
       "\\phi(t_f, x(t_f), u(t_f)) + Integral(L(t(\\epsilon), x(t(\\epsilon)), u(t(\\epsilon))) + \\lambda(t(\\epsilon))*f(t(\\epsilon), x(t(\\epsilon)), u(t(\\epsilon))) - \\lambda(t(\\epsilon))*Derivative(x(t(\\epsilon)), t(\\epsilon)), (t, t_0, t_f(\\epsilon)))"
      ]
     },
     "metadata": {},
     "output_type": "display_data"
    }
   ],
   "source": [
    "import sympy as sy\n",
    "from IPython.display import display\n",
    "t = sy.Symbol('t', real=True)\n",
    "t0 = sy.Symbol('t_0', real=True)\n",
    "tf = sy.Symbol('t_f', real=True)\n",
    "\n",
    "x = sy.Function('x', real=True)(t)\n",
    "xDot = sy.diff(x, t)\n",
    "u = sy.Function('u', real=True)(t)\n",
    "lmd = sy.Function(r'\\lambda', real=True)(t)\n",
    "\n",
    "def subsWithTf(funcSym) :\n",
    "    return funcSym.subs(t, tf)\n",
    "\n",
    "f = sy.Function('f', real=True)(t, x, u)\n",
    "L = sy.Function('L', real=True)(t, x, u)\n",
    "termCost = sy.Function(r'\\phi')(t, x, u)\n",
    "J = termCost + sy.Integral(L, (t, t0, tf))\n",
    "H = L + lmd*f\n",
    "JExtended = termCost + sy.Integral(H-lmd*xDot, (t, t0, tf))\n",
    "eps = sy.Symbol(r'\\epsilon', real=True, positive=True)\n",
    "tAsFunc = sy.Function('t')(eps)\n",
    "tfAsFunc = sy.Function('t_f')(eps)\n",
    "JOfEps = termCost.subs(t, tf) + sy.Integral((H-lmd*xDot).subs(t, tAsFunc), (t, t0, tf)).subs(tf, tfAsFunc)\n",
    "display(JOfEps)"
   ]
  }
 ],
 "metadata": {
  "interpreter": {
   "hash": "d3a7bff9b0ece80a6a4bcaffb870b1f82d9a6c892aab1bd79f7423714be328f3"
  },
  "kernelspec": {
   "display_name": "Python 3.8.12 ('base')",
   "language": "python",
   "name": "python3"
  },
  "language_info": {
   "codemirror_mode": {
    "name": "ipython",
    "version": 3
   },
   "file_extension": ".py",
   "mimetype": "text/x-python",
   "name": "python",
   "nbconvert_exporter": "python",
   "pygments_lexer": "ipython3",
   "version": "3.8.12"
  },
  "orig_nbformat": 4
 },
 "nbformat": 4,
 "nbformat_minor": 2
}
