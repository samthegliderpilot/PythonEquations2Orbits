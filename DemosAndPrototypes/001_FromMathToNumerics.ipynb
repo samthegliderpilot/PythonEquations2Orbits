{
 "cells": [
  {
   "cell_type": "code",
   "execution_count": 1,
   "metadata": {},
   "outputs": [
    {
     "data": {
      "text/markdown": [
       "# Creating a NLP Solver for Optimal Control Problems"
      ],
      "text/plain": [
       "<IPython.core.display.Markdown object>"
      ]
     },
     "metadata": {},
     "output_type": "display_data"
    },
    {
     "data": {
      "text/markdown": [
       "I've always found it challenging to take a paper in a journal or a professional pdf found online, and turn it into something that can be used to actually crank out numbers. Part of me making this library is also me learning how to solve a NLP."
      ],
      "text/plain": [
       "<IPython.core.display.Markdown object>"
      ]
     },
     "metadata": {},
     "output_type": "display_data"
    },
    {
     "data": {
      "text/markdown": [
       "I want to thank Matthew Kelly for writing several very helpful PDF's, especially \"An Introduction to Trajectory Optimization: How to Do Your Own Direct Collocation\".  This problem is from that paper. To start, we are going to define this simple problem, and then run a trapezoidal rule NLP solver.  You can find that paper here. https://epubs.siam.org/doi/pdf/10.1137/16M1062569"
      ],
      "text/plain": [
       "<IPython.core.display.Markdown object>"
      ]
     },
     "metadata": {},
     "output_type": "display_data"
    }
   ],
   "source": [
    "from IPython.display import display\n",
    "import scipyPaperPrinter as jh\n",
    "import sympy as sy\n",
    "\n",
    "jh.printMarkdown(\"# Creating a NLP Solver for Optimal Control Problems\")\n",
    "\n",
    "firstParagraph = \"\" \\\n",
    "+ \"I've always found it challenging to take a paper in a journal or a professional pdf \" \\\n",
    "+ \"found online, and turn it into something that can be used to actually crank out numbers. \" \\\n",
    "+ \"Part of me making this library is also me learning how to solve a NLP.\"\n",
    "\n",
    "jh.printMarkdown(firstParagraph)\n",
    "\n",
    "secondParagraph = \"\" \\\n",
    "+ \"I want to thank Matthew Kelly for writing several very helpful PDF's, especially \\\"An Introduction to Trajectory Optimization: How to Do Your Own Direct Collocation\\\".  This problem is from that paper. \" \\\n",
    "+ \"To start, we are going to define this simple problem, and then run a trapezoidal rule NLP solver.  You can find that paper here. \" \\\n",
    "+ 'https://epubs.siam.org/doi/pdf/10.1137/16M1062569'\n",
    "\n",
    "jh.printMarkdown(secondParagraph)"
   ]
  },
  {
   "cell_type": "code",
   "execution_count": 2,
   "metadata": {},
   "outputs": [
    {
     "data": {
      "text/markdown": [
       "First we will define our problem. This is a 1 dimensional \"block moving\" problem from [An Introduction to Trajectory Optimization: How to Do Your Own Direct Collocation](https://epubs.siam.org/doi/pdf/10.1137/16M1062569). I highly recommend reading that paper.  I will be referring to it a great deal in the coming examples."
      ],
      "text/plain": [
       "<IPython.core.display.Markdown object>"
      ]
     },
     "metadata": {},
     "output_type": "display_data"
    },
    {
     "data": {
      "text/markdown": [
       "The problem has a block moving from 0 to 1 distance units at some speed.  Our control is the force applied to the block. The dynamics are"
      ],
      "text/plain": [
       "<IPython.core.display.Markdown object>"
      ]
     },
     "metadata": {},
     "output_type": "display_data"
    },
    {
     "data": {
      "text/latex": [
       "$\\displaystyle v{\\left(t \\right)}$"
      ],
      "text/plain": [
       "v(t)"
      ]
     },
     "metadata": {},
     "output_type": "display_data"
    },
    {
     "data": {
      "text/latex": [
       "$\\displaystyle \\frac{d}{d t} x = v$"
      ],
      "text/plain": [
       "Eq(Derivative(x, t), v)"
      ]
     },
     "metadata": {},
     "output_type": "display_data"
    },
    {
     "data": {
      "text/latex": [
       "$\\displaystyle \\frac{d}{d t} v = u$"
      ],
      "text/plain": [
       "Eq(Derivative(v, t), u)"
      ]
     },
     "metadata": {},
     "output_type": "display_data"
    },
    {
     "data": {
      "text/markdown": [
       "Over the following time range and with the following boundary conditions:"
      ],
      "text/plain": [
       "<IPython.core.display.Markdown object>"
      ]
     },
     "metadata": {},
     "output_type": "display_data"
    },
    {
     "data": {
      "text/latex": [
       "$\\displaystyle t_{initial} = 0$"
      ],
      "text/plain": [
       "Eq(t_{initial}, 0)"
      ]
     },
     "metadata": {},
     "output_type": "display_data"
    },
    {
     "data": {
      "text/latex": [
       "$\\displaystyle t_{final} = 1$"
      ],
      "text/plain": [
       "Eq(t_{final}, 1)"
      ]
     },
     "metadata": {},
     "output_type": "display_data"
    },
    {
     "data": {
      "text/latex": [
       "$\\displaystyle x(0) = 0$"
      ],
      "text/plain": [
       "Eq(x(0), 0)"
      ]
     },
     "metadata": {},
     "output_type": "display_data"
    },
    {
     "data": {
      "text/latex": [
       "$\\displaystyle x(1) = 1$"
      ],
      "text/plain": [
       "Eq(x(1), 1)"
      ]
     },
     "metadata": {},
     "output_type": "display_data"
    },
    {
     "data": {
      "text/latex": [
       "$\\displaystyle v_{x(0)} = 0$"
      ],
      "text/plain": [
       "Eq(v_x(0), 0)"
      ]
     },
     "metadata": {},
     "output_type": "display_data"
    },
    {
     "data": {
      "text/latex": [
       "$\\displaystyle v_{x(1)} = 0$"
      ],
      "text/plain": [
       "Eq(v_x(1), 0)"
      ]
     },
     "metadata": {},
     "output_type": "display_data"
    },
    {
     "data": {
      "text/markdown": [
       "And we want to minimize the force, which for convenience will be minimizing the square of the control"
      ],
      "text/plain": [
       "<IPython.core.display.Markdown object>"
      ]
     },
     "metadata": {},
     "output_type": "display_data"
    },
    {
     "data": {
      "text/latex": [
       "$\\displaystyle \\int\\limits_{0}^{1} u^{2}{\\left(t \\right)}\\, dt$"
      ],
      "text/plain": [
       "Integral(u(t)**2, (t, 0, 1))"
      ]
     },
     "metadata": {},
     "output_type": "display_data"
    },
    {
     "data": {
      "text/markdown": [
       "This can be solved with calculus of variation techniques. But because we can find a complete solution, it makes a great first test problem. This is a problem in the Lagrange form as it is only an integral. We are going to use the helper type wrapping this problem."
      ],
      "text/plain": [
       "<IPython.core.display.Markdown object>"
      ]
     },
     "metadata": {},
     "output_type": "display_data"
    }
   ],
   "source": [
    "thirdParagraph = \"\" \\\n",
    "+ \"First we will define our problem. This is a 1 dimensional \\\"block moving\\\" problem from [An Introduction to Trajectory Optimization: How to Do Your Own Direct Collocation](https://epubs.siam.org/doi/pdf/10.1137/16M1062569). \" \\\n",
    "+ \"I highly recommend reading that paper.  I will be referring to it a great deal in the coming examples.\"\n",
    "\n",
    "jh.printMarkdown(thirdParagraph)\n",
    "\n",
    "fourthParagraph = \\\n",
    "\"The problem has a block moving from 0 to 1 distance units at some speed.  Our control is the force applied to the block. The dynamics are\"\n",
    "jh.printMarkdown(fourthParagraph)\n",
    "\n",
    "tSy = sy.Symbol('t')\n",
    "xSy = sy.Function('x')(tSy)\n",
    "vSy = sy.Function('v')(tSy)\n",
    "uSy = sy.Function('u')(tSy)\n",
    "xDotSy = sy.diff(xSy, tSy)\n",
    "vxDotSy = sy.diff(vSy, tSy)\n",
    "display(vSy)\n",
    "jh.showEquation(xDotSy, vSy)\n",
    "jh.showEquation(vxDotSy, uSy)\n",
    "\n",
    "fifthParagraph = \\\n",
    "\"Over the following time range and with the following boundary conditions:\"\n",
    "jh.printMarkdown(fifthParagraph)\n",
    "\n",
    "jh.showEquation(\"t_{initial}\", 0)\n",
    "jh.showEquation(\"t_{final}\", 1)\n",
    "jh.showEquation(\"x(0)\", 0)\n",
    "jh.showEquation(\"x(1)\", 1)\n",
    "jh.showEquation(\"v_x(0)\", 0)\n",
    "jh.showEquation(\"v_x(1)\", 0)\n",
    "\n",
    "sixthParagraph = \\\n",
    "\"And we want to minimize the force, which for convenience will be minimizing the square of the control\"\n",
    "jh.printMarkdown(sixthParagraph)\n",
    "\n",
    "display(sy.integrate(uSy**2, (tSy, 0, 1)))\n",
    "\n",
    "seventhParagraph = \\\n",
    "\"This can be solved with calculus of variation techniques. \" \\\n",
    "+ \"But because we can find a complete solution, it makes a great first test problem. \" \\\n",
    "+ \"This is a problem in the Lagrange form as it is only an integral. We are going to use \"\\\n",
    "+ \"the helper type wrapping this problem.\"\n",
    "\n",
    "jh.printMarkdown(seventhParagraph)"
   ]
  },
  {
   "cell_type": "code",
   "execution_count": 3,
   "metadata": {},
   "outputs": [
    {
     "name": "stdout",
     "output_type": "stream",
     "text": [
      "True\n",
      "Optimization terminated successfully\n"
     ]
    },
    {
     "data": {
      "image/png": "[encoded data removed]",
      "text/plain": [
       "<Figure size 640x480 with 4 Axes>"
      ]
     },
     "metadata": {},
     "output_type": "display_data"
    }
   ],
   "source": [
    "import matplotlib.pyplot as plt\n",
    "from pyeq2orb.Problems import OneDimensionalMinimalWorkProblem as OneDWorkProblemModule\n",
    "from pyeq2orb.Solvers.ScipyDiscretizationMinimizeWrapper import ScipyDiscretizationMinimizeWrapper\n",
    "from typing import Dict, List\n",
    "import sympy as sy #type: ignore\n",
    "import numpy as np\n",
    "n = 9 # coarse enough to see a small difference from the analytical solution\n",
    "oneDWorkProblem = OneDWorkProblemModule.OneDWorkProblem()\n",
    "scipySolver = ScipyDiscretizationMinimizeWrapper(oneDWorkProblem)\n",
    "t = np.linspace(oneDWorkProblem.T0, oneDWorkProblem.Tf, n+1)\n",
    "ans = scipySolver.ScipyOptimize(t)\n",
    "plotAbleNumericalAnswer = scipySolver.ConvertScipyOptimizerOutputToDictionary(ans)\n",
    "\n",
    "print(ans.success)\n",
    "print(ans.message)\n",
    "\n",
    "analyticalAnswerEvaluator = OneDWorkProblemModule.AnalyticalAnswerToProblem()\n",
    "analyticalAnswer = analyticalAnswerEvaluator.EvaluateAnswer(oneDWorkProblem, t)\n",
    "def AddResultsToFigure(figure : plt.Figure, t : List[float], dictionaryOfValueArraysKeyedOffState : Dict[sy.Expr, List[float]], label : str) -> None :\n",
    "    plt.title(\"1D Work Problem\")\n",
    "    subPlotInt = 311\n",
    "    for key in dictionaryOfValueArraysKeyedOffState:\n",
    "        values = dictionaryOfValueArraysKeyedOffState[key]\n",
    "        plt.subplot(subPlotInt)        \n",
    "        plt.plot(t, values, label=label)\n",
    "        plt.ylabel(key)\n",
    "        subPlotInt = subPlotInt+1\n",
    "\n",
    "    plt.legend()\n",
    "\n",
    "fig = plt.figure()\n",
    "AddResultsToFigure(fig, t, analyticalAnswer, \"Analytical Answer\")\n",
    "AddResultsToFigure(fig, t, plotAbleNumericalAnswer, \"Numerical Answer\")\n",
    "plt.show()"
   ]
  },
  {
   "cell_type": "markdown",
   "metadata": {},
   "source": [
    "By using only 9 points we keep the problem fast, but we also see some small deviation between the analytical and numerical solution."
   ]
  }
 ],
 "metadata": {
  "kernelspec": {
   "display_name": "py310OptFun",
   "language": "python",
   "name": "python3"
  },
  "language_info": {
   "codemirror_mode": {
    "name": "ipython",
    "version": 3
   },
   "file_extension": ".py",
   "mimetype": "text/x-python",
   "name": "python",
   "nbconvert_exporter": "python",
   "pygments_lexer": "ipython3",
   "version": "3.10.15"
  },
  "orig_nbformat": 4
 },
 "nbformat": 4,
 "nbformat_minor": 2
}
