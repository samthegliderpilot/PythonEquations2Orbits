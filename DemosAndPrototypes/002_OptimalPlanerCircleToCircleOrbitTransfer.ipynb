{
 "cells": [
  {
   "cell_type": "markdown",
   "metadata": {},
   "source": [
    "# Optimal Planer Circle to Circle Orbit Transfer\n",
    "This problem was recreated from Optimal Control with Aerospace Applications by James M. Longuski, Jose J. Guzman and John E. Prussing.  Thank you all for this (and Jose, sorry for not figuring out accents in Markdown, and we should talk about the difficulties you had in Appendix C.  A rule of thumb that works for pure numerical methods fails for indirect methods and I think that caused problems for you).\n",
    "\n",
    "We are going to solve the optimal continuous thrust transfer between 2 circular orbits in the same orbit plane.  The specifics of the problem are posed as transfer from a low-Earth orbit to a Geo orbit.  We will start with the equations of motion, constants and constraints, and go through deriving the optimal control conditions that we can solve (the indirect method).  Then, we will solve the problem using direct methods leveraging the python library pyomo.\n",
    "\n",
    "Note that included in this folder are two files, one for the indirect method and one for the direct (pyomo) method that are a single script. If you want to start editing things, I highly recommend playing with those instead of this juypter notebook.\n",
    "\n",
    "## The Indirect Method\n",
    "\n",
    "We start with importing all of the python libraries that we need for the indirect methods."
   ]
  },
  {
   "cell_type": "code",
   "execution_count": 1,
   "metadata": {},
   "outputs": [
    {
     "name": "stdout",
     "output_type": "stream",
     "text": [
      "2025-05-31 14:41:30.841065\n"
     ]
    }
   ],
   "source": [
    "from IPython.display import display\n",
    "from scipy.integrate import solve_ivp #type:ignore\n",
    "import matplotlib.pyplot as plt\n",
    "import numpy as np\n",
    "import sympy as sy\n",
    "import math #type:ignore\n",
    "from scipy.optimize import fsolve #type:ignore\n",
    "from pyeq2orb.ProblemBase import ProblemVariable, Problem #type:ignore\n",
    "from pyeq2orb.Problems.ContinuousThrustCircularOrbitTransfer import ContinuousThrustCircularOrbitTransferProblem #type:ignore\n",
    "from pyeq2orb.Numerical import ScipyCallbackCreators #type:ignore\n",
    "from pyeq2orb.Numerical.LambdifyHelpers import LambdifyHelper, OdeLambdifyHelperWithBoundaryConditions #type:ignore\n",
    "from pyeq2orb.Utilities.SolutionDictionaryFunctions import GetValueFromStateDictionaryAtIndex #type:ignore\n",
    "from pyeq2orb import SafeSubs #type:ignore\n",
    "import scipyPaperPrinter as jh #type:ignore\n",
    "from datetime import datetime\n",
    "from typing import List\n",
    "from pyeq2orb.Numerical.SimpleProblemCallers import SimpleIntegrationAnswer,SingleShootingFunctions  #type:ignore\n",
    "from pyeq2orb.Numerical.SimpleProblemCallers import BlackBoxSingleShootingFunctions, fSolveSingleShootingSolver, BlackBoxSingleShootingFunctionsFromLambdifiedFunctions\n",
    "import matplotlib.pyplot as plot #type:ignore\n",
    "import pyeq2orb.Graphics.Primitives as prim#type:ignore\n",
    "from pyeq2orb.Graphics.Plotly2DModule import plot2DLines #type:ignore\n",
    "print(str(datetime.now()))\n",
    "# constants\n",
    "g = 9.80665\n",
    "mu = 3.986004418e14  \n",
    "thrust = 20.0\n",
    "isp = 6000.0\n",
    "m0 = 1500.0\n",
    "\n",
    "# initial values\n",
    "r0 = 6678000.0\n",
    "u0 = 0.0\n",
    "v0 = sy.sqrt(mu/r0) # circular\n",
    "lon0 = 0.0\n",
    "\n",
    "r0_org = r0\n",
    "u0_org = u0\n",
    "v0_org = v0\n",
    "lon0_org = lon0\n",
    "# I know from many previous runs that this is the time needed to go from LEO to GEO.\n",
    "# However, below works well wrapped in another fsolve to control the final time for a desired radius.\n",
    "tfVal  = 3600*3.97152*24 \n",
    "tfOrg = tfVal\n"
   ]
  },
  {
   "cell_type": "markdown",
   "metadata": {},
   "source": [
    "We have a few choices to make.  Scaling the problem often leads to better convergence behavior.  This problem is set up to scale or not with a changing of this boolean.  There are 2 things we can scale.  The orbital elements, and/or the time.  I haven't really looked at scaling the time without scaling the elements too, but there's no reason why you can.\n",
    "\n",
    "We also start defining our problem here."
   ]
  },
  {
   "cell_type": "code",
   "execution_count": 2,
   "metadata": {},
   "outputs": [],
   "source": [
    "# these are options to switch to try different things\n",
    "scaleElements = False\n",
    "scaleTime = scaleElements and False\n",
    "# your choice of the nu vector here controls which transversality condition we use\n",
    "#nus = [sy.Symbol('B_{u_f}'), sy.Symbol('B_{v_f}')]\n",
    "nus = []\n"
   ]
  },
  {
   "cell_type": "code",
   "execution_count": 3,
   "metadata": {},
   "outputs": [],
   "source": [
    "# make the time array\n",
    "tArray = np.linspace(0.0, tfOrg, 1200)\n",
    "if scaleTime:\n",
    "    tfVal = 1.0\n",
    "    tArray = np.linspace(0.0, 1.0, 1200)\n",
    "\n",
    "baseProblem = ContinuousThrustCircularOrbitTransferProblem()\n",
    "problem :Problem = baseProblem\n",
    "initialStateSymbols = baseProblem.StateSymbolsInitial()\n",
    "\n",
    "if scaleElements :\n",
    "    originalProblem = problem\n",
    "    newSvs = Problem.CreateBarVariables(problem.StateSymbols, problem.TimeSymbol) \n",
    "    problem = baseProblem.ScaleStateVariables(newSvs, {problem.StateSymbols[0]: newSvs[0] * initialStateSymbols[0], \n",
    "                                                       problem.StateSymbols[1]: newSvs[1] * initialStateSymbols[2], \n",
    "                                                       problem.StateSymbols[2]: newSvs[2] * initialStateSymbols[2], \n",
    "                                                       problem.StateSymbols[3]: newSvs[3]}) #type: ignore\n",
    "    if scaleTime :\n",
    "        tau = sy.Symbol(r'\\tau', real=True)\n",
    "        problem = problem.ScaleTime(tau, sy.Symbol(r'\\tau_0', real=True), sy.Symbol(r'\\tau_f', real=True), tau*problem.TimeFinalSymbol)  \n",
    "        jh.t = problem._timeSymbol # needed for cleaner printed equations\n",
    "        # controlSolved = SafeSubs(controlSolved, {originalProblem.TimeSymbol: tau})\n",
    "\n",
    "    constantsSubsDict=problem.SubstitutionDictionary\n",
    "    # and reset the real initial values using tau_0 instead of time\n",
    "    initialValuesAtTau0 = SafeSubs(problem.StateSymbols, {baseProblem.TimeInitialSymbol: problem.TimeInitialSymbol})\n",
    "    constantsSubsDict.update(zip(initialValuesAtTau0, [r0, u0, v0, lon0]))\n",
    "\n",
    "    r0= r0/r0\n",
    "    u0=u0/v0\n",
    "    v0=v0/v0\n",
    "    lon0=lon0/1.0\n",
    "    # add the scaled initial values (at tau_0).  While we shouldn't need this in general, to make a guess for initial costate values, it is helpful\n",
    "    initialScaledStateValues = problem.StateSymbolsInitial()\n",
    "    constantsSubsDict.update(zip(initialScaledStateValues, [r0, u0, v0, lon0]))  \n",
    "\n",
    "\n",
    "\n",
    "\n",
    "\n",
    "# register constants (this dictionary gets shared around)\n",
    "constantsSubsDict = problem.SubstitutionDictionary\n",
    "constantsSubsDict[baseProblem.Isp] = isp\n",
    "constantsSubsDict[baseProblem.MassInitial] = m0\n",
    "constantsSubsDict[baseProblem.Gravity] = g\n",
    "constantsSubsDict[baseProblem.Mu]= mu\n",
    "constantsSubsDict[baseProblem.Thrust] = thrust\n",
    "constantsSubsDict.update(zip(initialStateSymbols, [r0, u0, v0, lon0]))\n",
    "\n",
    "stateAtTf = baseProblem.StateSymbolsFinal()\n",
    "\n",
    "# register initial state values\n",
    "# constantsSubsDict.update(zip(initialStateValues, [r0, u0, v0, lon0]))\n",
    "# if scaleElements :\n",
    "#     # and reset the real initial values using tau_0 instead of time\n",
    "#     initialValuesAtTau0 = SafeSubs(initialStateValues, {baseProblem.TimeInitialSymbol: problem.TimeInitialSymbol})\n",
    "#     constantsSubsDict.update(zip(initialValuesAtTau0, [r0, u0, v0, lon0]))\n",
    "\n",
    "#     r0= r0/r0\n",
    "#     u0=u0/v0\n",
    "#     v0=v0/v0\n",
    "#     lon0=lon0/1.0\n",
    "#     # add the scaled initial values (at tau_0).  We should NOT need to add these at t_0\n",
    "#     initialScaledStateValues = problem.StateSymbolsInitial()\n",
    "#     constantsSubsDict.update(zip(initialScaledStateValues, [r0, u0, v0, lon0]))     \n"
   ]
  },
  {
   "cell_type": "markdown",
   "metadata": {},
   "source": [
    "There is a non-trivial amount of code in both the ContinuousThrustCircularOrbitTransferProblem and in the ScaledSymbolicProblem.  Because I like to keep the equations symbolic as I go, I end up registering the various constants in the system in a dictionary.\n",
    "\n",
    "At this point, let's state our problem.  We want to find the optimal continuous thrust transfer between 2 coplanar circular orbits.  For this particular problem, we pose it as maximizing the final radius and constraining the final orbit to be a circle (we do not constrain the final longitude)."
   ]
  },
  {
   "cell_type": "code",
   "execution_count": 4,
   "metadata": {},
   "outputs": [],
   "source": [
    "# jh.t = problem._timeSymbol # needed for cleaner printed equations\n",
    "\n",
    "# jh.printMarkdown(\"With a given final time, maximize:\")\n",
    "# jh.showEquation(\"J\", baseProblem.CostFunction, False)\n",
    "# jh.printMarkdown(\"We will find the optimal thrust vector $\\\\alpha(t)$ to achieve this transfer.\")\n",
    "\n",
    "# jh.printMarkdown(\"With the following equations of motion:\")\n",
    "# for i in range(0, len(problem.StateVariableDynamics)) :\n",
    "#     jh.showEquation(problem.StateSymbols[i].diff(problem.TimeSymbol), problem.StateVariableDynamics[i], [problem.TimeInitialSymbol])\n",
    "\n",
    "# jh.printMarkdown(\"There are known initial values.  Additionally, we have the following constraints.  The orbit must be circular resulting in $v(t_f)$ obeying a specific equation and $u(t_f)=0$.\")\n",
    "# for bc in problem.BoundaryConditions :\n",
    "#     jh.showEquation(0, bc, False)"
   ]
  },
  {
   "cell_type": "markdown",
   "metadata": {},
   "source": [
    "Now we go through the fairly standard sequence of deriving the optimality conditions.  However, there is enough that makes me hesitate turning this into a standard reusable function.  Almost all optimization problems will require some code to be written and although being concise is good, shorter is not always better than readable.  Better to make it a clear demo.  We create the costate time-varying symbols, adjoin them to the equations of motion, and use the optimal control conditions to derive their equations of motion and derive additional constraints."
   ]
  },
  {
   "cell_type": "code",
   "execution_count": 5,
   "metadata": {},
   "outputs": [
    {
     "data": {
      "text/latex": [
       "$\\displaystyle \\frac{d}{d t} \\lambda_{r} = \\frac{\\lambda_{\\theta} v}{r^{2}} - \\lambda_{u} \\left(\\frac{2 \\mu}{r^{3}} - \\frac{v^{2}}{r^{2}}\\right) - \\frac{\\lambda_{v} u v}{r^{2}}$"
      ],
      "text/plain": [
       "Eq(Derivative(\\lambda_{r}, t), \\lambda_{\\theta}*v/r**2 - \\lambda_{u}*(2*\\mu/r**3 - v**2/r**2) - \\lambda_{v}*u*v/r**2)"
      ]
     },
     "metadata": {},
     "output_type": "display_data"
    },
    {
     "data": {
      "text/latex": [
       "$\\displaystyle \\frac{d}{d t} \\lambda_{u} = - \\lambda_{r} + \\frac{\\lambda_{v} v}{r}$"
      ],
      "text/plain": [
       "Eq(Derivative(\\lambda_{u}, t), -\\lambda_{r} + \\lambda_{v}*v/r)"
      ]
     },
     "metadata": {},
     "output_type": "display_data"
    },
    {
     "data": {
      "text/latex": [
       "$\\displaystyle \\frac{d}{d t} \\lambda_{v} = - \\frac{\\lambda_{\\theta}}{r} - \\frac{2 \\lambda_{u} v}{r} + \\frac{\\lambda_{v} u}{r}$"
      ],
      "text/plain": [
       "Eq(Derivative(\\lambda_{v}, t), -\\lambda_{\\theta}/r - 2*\\lambda_{u}*v/r + \\lambda_{v}*u/r)"
      ]
     },
     "metadata": {},
     "output_type": "display_data"
    },
    {
     "data": {
      "text/latex": [
       "$\\displaystyle \\frac{d}{d t} \\lambda_{\\theta} = 0$"
      ],
      "text/plain": [
       "Eq(Derivative(\\lambda_{\\theta}, t), 0)"
      ]
     },
     "metadata": {},
     "output_type": "display_data"
    }
   ],
   "source": [
    "# this next block does most of the problem, pretty standard optimal control actions\n",
    "\n",
    "orgSvCount = len(problem.StateSymbols)\n",
    "costateSymbols = problem.CreateCostateVariables(problem.StateSymbols, r'\\lambda', problem.TimeSymbol) # preemptively making the costate values\n",
    "hamiltonian = problem.CreateHamiltonian(costateSymbols)\n",
    "\n",
    "lambdaDotExpressions = problem.CreateLambdaDotCondition(hamiltonian)\n",
    "for i in range(0, 4):\n",
    "    problem.AddCostateVariable(ProblemVariable(costateSymbols[i], lambdaDotExpressions[i]))\n",
    "    jh.showEquation(costateSymbols[i].diff(problem.TimeSymbol), lambdaDotExpressions[i, 0])"
   ]
  },
  {
   "cell_type": "code",
   "execution_count": 6,
   "metadata": {},
   "outputs": [
    {
     "data": {
      "text/latex": [
       "$\\displaystyle \\frac{\\partial{H}}{\\partial{u}}=0 = \\frac{T \\lambda_{u} \\cos{\\left(\\alpha \\right)}}{m_{0} - \\frac{T t}{I_{sp} g}} - \\frac{T \\lambda_{v} \\sin{\\left(\\alpha \\right)}}{m_{0} - \\frac{T t}{I_{sp} g}}$"
      ],
      "text/plain": [
       "Eq(\\frac{\\partial{H}}{\\partial{u}}=0, T*\\lambda_{u}*cos(\\alpha)/(m_0 - T*t/(I_{sp}*g)) - T*\\lambda_{v}*sin(\\alpha)/(m_0 - T*t/(I_{sp}*g)))"
      ]
     },
     "metadata": {},
     "output_type": "display_data"
    },
    {
     "data": {
      "text/markdown": [
       "Note that because time is explicitly in the Hamiltonian, the partial and total derivatives of H with respect to the controls are not equivalent.  Also the Hamiltonian along the optimal solution will not be constant"
      ],
      "text/plain": [
       "<IPython.core.display.Markdown object>"
      ]
     },
     "metadata": {},
     "output_type": "display_data"
    },
    {
     "data": {
      "text/markdown": [
       "We can use this equation to make an expression for the control variable."
      ],
      "text/plain": [
       "<IPython.core.display.Markdown object>"
      ]
     },
     "metadata": {},
     "output_type": "display_data"
    },
    {
     "data": {
      "text/latex": [
       "$\\displaystyle \\alpha = 2 \\operatorname{atan}{\\left(\\frac{- \\lambda_{v} + \\sqrt{\\lambda_{u}^{2} + \\lambda_{v}^{2}}}{\\lambda_{u}} \\right)}$"
      ],
      "text/plain": [
       "Eq(\\alpha, 2*atan((-\\lambda_{v} + sqrt(\\lambda_{u}**2 + \\lambda_{v}**2))/\\lambda_{u}))"
      ]
     },
     "metadata": {},
     "output_type": "display_data"
    },
    {
     "data": {
      "text/latex": [
       "$\\displaystyle \\frac{d}{d t} r = u$"
      ],
      "text/plain": [
       "Eq(Derivative(r, t), u)"
      ]
     },
     "metadata": {},
     "output_type": "display_data"
    },
    {
     "data": {
      "text/latex": [
       "$\\displaystyle \\frac{d}{d t} u = \\frac{T \\sin{\\left(\\alpha \\right)}}{m_{0} - \\frac{T t}{I_{sp} g}} - \\frac{\\mu}{r^{2}} + \\frac{v^{2}}{r}$"
      ],
      "text/plain": [
       "Eq(Derivative(u, t), T*sin(\\alpha)/(m_0 - T*t/(I_{sp}*g)) - \\mu/r**2 + v**2/r)"
      ]
     },
     "metadata": {},
     "output_type": "display_data"
    },
    {
     "data": {
      "text/latex": [
       "$\\displaystyle \\frac{d}{d t} v = \\frac{T \\cos{\\left(\\alpha \\right)}}{m_{0} - \\frac{T t}{I_{sp} g}} - \\frac{u v}{r}$"
      ],
      "text/plain": [
       "Eq(Derivative(v, t), T*cos(\\alpha)/(m_0 - T*t/(I_{sp}*g)) - u*v/r)"
      ]
     },
     "metadata": {},
     "output_type": "display_data"
    },
    {
     "data": {
      "text/latex": [
       "$\\displaystyle \\frac{d}{d t} \\theta = \\frac{v}{r}$"
      ],
      "text/plain": [
       "Eq(Derivative(\\theta, t), v/r)"
      ]
     },
     "metadata": {},
     "output_type": "display_data"
    },
    {
     "data": {
      "text/markdown": [
       "Note the use of the deep parameter when we do the trig simplification.  It is little things like that that require each problem to be a little unique."
      ],
      "text/plain": [
       "<IPython.core.display.Markdown object>"
      ]
     },
     "metadata": {},
     "output_type": "display_data"
    }
   ],
   "source": [
    "dHdu = problem.CreateHamiltonianControlExpressions(hamiltonian)[0]\n",
    "jh.showEquation('\\\\frac{\\\\partial{H}}{\\\\partial{u}}=0', dHdu)\n",
    "jh.printMarkdown(\"Note that because time is explicitly in the Hamiltonian, the partial and total derivatives of H with respect to the controls are not equivalent.  Also the Hamiltonian along the optimal solution will not be constant\")\n",
    "jh.printMarkdown(\"We can use this equation to make an expression for the control variable.\")\n",
    "\n",
    "controlSolved = sy.solve(dHdu, problem.ControlSymbols[0])[0] # something that may be different for other problems is when there are multiple control variables\n",
    "eomWithControlSolved = problem.EquationsOfMotionAsEquations[1].rhs.subs(problem.ControlSymbols[0], controlSolved)\n",
    "jh.showEquation(problem.ControlSymbols[0], controlSolved)\n",
    "\n",
    "# update ALL equations of motion with the new expression for the control variable\n",
    "controlSubsDict = {problem.ControlSymbols[0]: controlSolved}\n",
    "# the trig simplification needs the deep=True for this problem to make the equations even cleaner\n",
    "for i in range(0, len(problem.StateVariableDynamics)):\n",
    "    problem.StateVariableDynamics[i] = SafeSubs(problem.StateVariableDynamics[i],controlSubsDict).trigsimp(deep=True).simplify() # some simplification to make numerical code more stable later, and that is why this code forces us to do things somewhat manually.  There are often special things like this that we ought to do that you can't really automate.\n",
    "    jh.showEquation(problem.StateSymbols[i].diff(problem.TimeSymbol), problem.StateVariableDynamics[i], [problem.TimeInitialSymbol])\n",
    "jh.printMarkdown(\"Note the use of the deep parameter when we do the trig simplification.  It is little things like that that require each problem to be a little unique.\")\n",
    "constantsSubsDict[problem.ControlSymbols[0]]  =controlSolved\n",
    "lambdasFinal = SafeSubs(costateSymbols, {problem.TimeSymbol: problem.TimeFinalSymbol})\n"
   ]
  },
  {
   "cell_type": "markdown",
   "metadata": {},
   "source": [
    "We have another choice to make; the transversality condition.  In optimal control theory, the transversality condition provides another optimality condition that we can solve for.  It is a necessary condition both in the \"necessary and sufficient\" context, but also to provide enough non-trivial boundary conditions to solve for.  \n",
    "\n",
    "The first of the two forms is the adjoined method.  Here, the transversality condition is created by by creating additional final (not time varying) scalers that multiply the constraints and get combined with the terminal cost.  The second way is the differential form of the transversality condition that doesn't add in additional variables to solve for.  Really, neither is better or worse (especially for this problem), and I'm just going to pick the differential form.\n",
    "\n",
    "Long story short, we get additional NECESSARY boundary conditions for solving for the alpha that makes the cost stationary if we add in an error variation to the cost."
   ]
  },
  {
   "cell_type": "code",
   "execution_count": 7,
   "metadata": {},
   "outputs": [
    {
     "data": {
      "text/markdown": [
       "Note that the implementation of the scaled problem actually derives the transversality conditions for the unscaled problem, and then after the condition is derived, the substituted variables are entered.  This way there is the opportunity for values to get canceled out."
      ],
      "text/plain": [
       "<IPython.core.display.Markdown object>"
      ]
     },
     "metadata": {},
     "output_type": "display_data"
    },
    {
     "data": {
      "text/markdown": [
       "The transversality conditions are:"
      ],
      "text/plain": [
       "<IPython.core.display.Markdown object>"
      ]
     },
     "metadata": {},
     "output_type": "display_data"
    },
    {
     "data": {
      "text/latex": [
       "$\\displaystyle 0 = - \\lambda_{r} + \\frac{\\lambda_{v} \\sqrt{\\mu}}{2 r^{\\frac{3}{2}}} + 1$"
      ],
      "text/plain": [
       "Eq(0, -\\lambda_{r} + \\lambda_{v}*sqrt(\\mu)/(2*r**(3/2)) + 1)"
      ]
     },
     "metadata": {},
     "output_type": "display_data"
    },
    {
     "data": {
      "text/latex": [
       "$\\displaystyle 0 = - \\lambda_{\\theta}$"
      ],
      "text/plain": [
       "Eq(0, -\\lambda_{\\theta})"
      ]
     },
     "metadata": {},
     "output_type": "display_data"
    }
   ],
   "source": [
    "# make the transversality conditions\n",
    "\n",
    "if len(nus) != 0:\n",
    "    transversalityCondition = problem.TransversalityConditionsByAugmentation(nus, lambdasFinal)\n",
    "else:\n",
    "    transversalityCondition = problem.TransversalityConditionInTheDifferentialForm(hamiltonian, sy.Symbol(r'dt_f'), lambdasFinal)\n",
    "problem.BoundaryConditions.extend(transversalityCondition)\n",
    "if len(nus) > 0:\n",
    "    problem.OtherArguments.extend(nus)\n",
    "    # and add them to the problem\n",
    "jh.printMarkdown(\"Note that the implementation of the scaled problem actually derives the transversality conditions for the unscaled problem, and then after the condition is derived, the substituted variables are entered.  This way there is the opportunity for values to get canceled out.\")\n",
    "jh.printMarkdown(\"The transversality conditions are:\")\n",
    "for xvers in transversalityCondition :\n",
    "    jh.showEquation(0, xvers, [problem.TimeInitialSymbol])\n",
    "\n",
    "if len(nus) > 0:\n",
    "    problem.OtherArguments.extend(nus)"
   ]
  },
  {
   "cell_type": "code",
   "execution_count": 8,
   "metadata": {},
   "outputs": [
    {
     "data": {
      "text/markdown": [
       "Despite this being a maximization problem, the differential form of the transversality condition will NOT multiply the terminal cost by -1 to make the maximization problem a minimization problem.  I have not been able to find any reasonable justification for that other than 'it works' for numerical solvers.  This is one of the necessary optimality conditions that only finds a stationary point.  It doesn't matter if we are finding a minimum or maximum, the terminal cost doesn't gets its sign flipped."
      ],
      "text/plain": [
       "<IPython.core.display.Markdown object>"
      ]
     },
     "metadata": {},
     "output_type": "display_data"
    }
   ],
   "source": [
    "#TODO: This is a bad order of operations bug.  The final-time BC cannot be present in the base problem's BC's when the transversality conditions are made\n",
    "if scaleTime : # add BC if we are working with the final time (not all solvers need this, but when the same number of BC's and variables are required by the solver [like fsolve does] then...)\n",
    "    problem.BoundaryConditions.append(baseProblem.TimeFinalSymbol-tfOrg)\n",
    "\n",
    "jh.printMarkdown(\"Despite this being a maximization problem, the differential form of the transversality condition will NOT multiply the terminal cost by -1 to make the maximization problem a minimization problem.  I have not been able to find any reasonable justification for that other than 'it works' for numerical solvers.  This is one of the necessary optimality conditions that only finds a stationary point.  It doesn't matter if we are finding a minimum or maximum, the terminal cost doesn't gets its sign flipped.\")"
   ]
  },
  {
   "cell_type": "markdown",
   "metadata": {},
   "source": [
    "Note that the final value for the costate value associated with the longitude is 0, as is its equation of motion.  We will remove it from consideration."
   ]
  },
  {
   "cell_type": "code",
   "execution_count": 9,
   "metadata": {},
   "outputs": [],
   "source": [
    "# lambda_lon is always 0, so do that cleanup\n",
    "problem.BoundaryConditions.remove(problem.BoundaryConditions[-1])\n",
    "lmdTheta = problem.CostateSymbols[-1]\n",
    "problem._costateElements.pop()\n",
    "constantsSubsDict[lmdTheta]=0\n",
    "constantsSubsDict[lmdTheta.subs(problem.TimeSymbol, problem.TimeFinalSymbol)]=0\n",
    "constantsSubsDict[lmdTheta.subs(problem.TimeSymbol, problem.TimeInitialSymbol)]=0"
   ]
  },
  {
   "cell_type": "markdown",
   "metadata": {},
   "source": [
    "The next line of code is making our initial guesses for the costate variables.  The general process is based on the intuition that the thrust should be going forward in the direction of the velocity.  Solving the control angle to be 0 at $t_0$ gives us 0 for one of them and about 1 for the other.  However from experience, setting one of the costate values to 0 usually has problems, so we set it to a low number.  Those 2 costate variables lets us solve for the third, giving us our first guess that is hopefully close enough."
   ]
  },
  {
   "cell_type": "code",
   "execution_count": 10,
   "metadata": {},
   "outputs": [
    {
     "name": "stdout",
     "output_type": "stream",
     "text": [
      "[0.0011569091762708, 0.00010000000130634948, 1.0]\n"
     ]
    }
   ],
   "source": [
    "initialFSolveStateGuess = ContinuousThrustCircularOrbitTransferProblem.CreateInitialLambdaGuessForLeoToGeo(problem, controlSolved, problem.CostateSymbols)\n",
    "print(initialFSolveStateGuess)\n",
    "if scaleTime :\n",
    "    initialFSolveStateGuess.append(tfOrg)"
   ]
  },
  {
   "cell_type": "markdown",
   "metadata": {},
   "source": [
    "We now start the transformation to a numerical algorithm that we can solve.  Note that if you change which form of the transversality condition you are using, different values will get substituted here."
   ]
  },
  {
   "cell_type": "code",
   "execution_count": 12,
   "metadata": {},
   "outputs": [
    {
     "data": {
      "text/plain": [
       "[t,\n",
       " [r(t), u(t), v(t), \\theta(t), \\lambda_{r}(t), \\lambda_{u}(t), \\lambda_{v}(t)]]"
      ]
     },
     "metadata": {},
     "output_type": "display_data"
    },
    {
     "data": {
      "text/plain": [
       "[0.0011569091762708, 0.00010000000130634948, 1.0]"
      ]
     },
     "metadata": {},
     "output_type": "display_data"
    },
    {
     "name": "stdout",
     "output_type": "stream",
     "text": [
      "[6678000.0, 0.0, 7725.83947913639, 0.0, 0.0011569091762708, 0.00010000000130634948]\n"
     ]
    },
    {
     "ename": "IndexError",
     "evalue": "list assignment index out of range",
     "output_type": "error",
     "traceback": [
      "\u001b[1;31m---------------------------------------------------------------------------\u001b[0m",
      "\u001b[1;31mIndexError\u001b[0m                                Traceback (most recent call last)",
      "Cell \u001b[1;32mIn[12], line 42\u001b[0m\n\u001b[0;32m     38\u001b[0m     argsArray\u001b[38;5;241m.\u001b[39mappend(tfOrg)\n\u001b[0;32m     41\u001b[0m \u001b[38;5;28mprint\u001b[39m(initialStateValues)\n\u001b[1;32m---> 42\u001b[0m ans \u001b[38;5;241m=\u001b[39m \u001b[43msolver\u001b[49m\u001b[38;5;241;43m.\u001b[39;49m\u001b[43msolve\u001b[49m\u001b[43m(\u001b[49m\u001b[43minitialSolverGuess\u001b[49m\u001b[43m,\u001b[49m\u001b[43m \u001b[49m\u001b[43mtArray\u001b[49m\u001b[43m,\u001b[49m\u001b[43m \u001b[49m\u001b[43minitialStateValues\u001b[49m\u001b[43m,\u001b[49m\u001b[43m \u001b[49m\u001b[43mfull_output\u001b[49m\u001b[38;5;241;43m=\u001b[39;49m\u001b[38;5;28;43;01mTrue\u001b[39;49;00m\u001b[43m,\u001b[49m\u001b[43m \u001b[49m\u001b[43mfactor\u001b[49m\u001b[38;5;241;43m=\u001b[39;49m\u001b[38;5;241;43m1.0\u001b[39;49m\u001b[43m,\u001b[49m\u001b[43m \u001b[49m\u001b[43mepsfcn\u001b[49m\u001b[38;5;241;43m=\u001b[39;49m\u001b[38;5;241;43m0.01\u001b[39;49m\u001b[43m)\u001b[49m\n\u001b[0;32m     43\u001b[0m \u001b[38;5;28mprint\u001b[39m(ans\u001b[38;5;241m.\u001b[39mSolverResult)\n\u001b[0;32m     47\u001b[0m \u001b[38;5;66;03m#%%\u001b[39;00m\n",
      "File \u001b[1;32mC:\\src\\PythonEquations2Orbits\\src\\pyeq2orb\\Numerical\\SimpleProblemCallers.py:434\u001b[0m, in \u001b[0;36mfSolveSingleShootingSolver.solve\u001b[1;34m(self, initialGuessOfSolverControls, time, initialState, **kwargs)\u001b[0m\n\u001b[0;32m    431\u001b[0m     \u001b[38;5;28mprint\u001b[39m(solvedForValues)\n\u001b[0;32m    432\u001b[0m     \u001b[38;5;28;01mreturn\u001b[39;00m solvedForValues\n\u001b[1;32m--> 434\u001b[0m fsolveAns \u001b[38;5;241m=\u001b[39m \u001b[38;5;28mself\u001b[39m\u001b[38;5;241m.\u001b[39mfsolveRun(fSolveCallback, initialGuessOfSolverControls, \u001b[38;5;241m*\u001b[39m\u001b[38;5;241m*\u001b[39mkwargs)\n\u001b[0;32m    435\u001b[0m fsolveX \u001b[38;5;241m=\u001b[39m fsolveAns[\u001b[38;5;241m0\u001b[39m]\n\u001b[0;32m    436\u001b[0m \u001b[38;5;28;01mif\u001b[39;00m \u001b[38;5;28misinstance\u001b[39m(fsolveX , \u001b[38;5;28mfloat\u001b[39m):\n",
      "File \u001b[1;32mC:\\src\\PythonEquations2Orbits\\src\\pyeq2orb\\Numerical\\SimpleProblemCallers.py:442\u001b[0m, in \u001b[0;36mfSolveSingleShootingSolver.fsolveRun\u001b[1;34m(self, solverFunc, solverState, **kwargs)\u001b[0m\n\u001b[0;32m    441\u001b[0m \u001b[38;5;28;01mdef\u001b[39;00m \u001b[38;5;21mfsolveRun\u001b[39m(\u001b[38;5;28mself\u001b[39m, solverFunc, solverState, \u001b[38;5;241m*\u001b[39m\u001b[38;5;241m*\u001b[39mkwargs):\n\u001b[1;32m--> 442\u001b[0m     \u001b[38;5;28;01mreturn\u001b[39;00m fsolve(solverFunc, solverState, \u001b[38;5;241m*\u001b[39m\u001b[38;5;241m*\u001b[39mkwargs)\n",
      "File \u001b[1;32mc:\\Programs\\miniforge3\\envs\\py310OptFun\\lib\\site-packages\\scipy\\optimize\\_minpack_py.py:170\u001b[0m, in \u001b[0;36mfsolve\u001b[1;34m(func, x0, args, fprime, full_output, col_deriv, xtol, maxfev, band, epsfcn, factor, diag)\u001b[0m\n\u001b[0;32m    160\u001b[0m _wrapped_func\u001b[38;5;241m.\u001b[39mnfev \u001b[38;5;241m=\u001b[39m \u001b[38;5;241m0\u001b[39m\n\u001b[0;32m    162\u001b[0m options \u001b[38;5;241m=\u001b[39m {\u001b[38;5;124m'\u001b[39m\u001b[38;5;124mcol_deriv\u001b[39m\u001b[38;5;124m'\u001b[39m: col_deriv,\n\u001b[0;32m    163\u001b[0m            \u001b[38;5;124m'\u001b[39m\u001b[38;5;124mxtol\u001b[39m\u001b[38;5;124m'\u001b[39m: xtol,\n\u001b[0;32m    164\u001b[0m            \u001b[38;5;124m'\u001b[39m\u001b[38;5;124mmaxfev\u001b[39m\u001b[38;5;124m'\u001b[39m: maxfev,\n\u001b[1;32m   (...)\u001b[0m\n\u001b[0;32m    167\u001b[0m            \u001b[38;5;124m'\u001b[39m\u001b[38;5;124mfactor\u001b[39m\u001b[38;5;124m'\u001b[39m: factor,\n\u001b[0;32m    168\u001b[0m            \u001b[38;5;124m'\u001b[39m\u001b[38;5;124mdiag\u001b[39m\u001b[38;5;124m'\u001b[39m: diag}\n\u001b[1;32m--> 170\u001b[0m res \u001b[38;5;241m=\u001b[39m _root_hybr(_wrapped_func, x0, args, jac\u001b[38;5;241m=\u001b[39mfprime, \u001b[38;5;241m*\u001b[39m\u001b[38;5;241m*\u001b[39moptions)\n\u001b[0;32m    171\u001b[0m res\u001b[38;5;241m.\u001b[39mnfev \u001b[38;5;241m=\u001b[39m _wrapped_func\u001b[38;5;241m.\u001b[39mnfev\n\u001b[0;32m    173\u001b[0m \u001b[38;5;28;01mif\u001b[39;00m full_output:\n",
      "File \u001b[1;32mc:\\Programs\\miniforge3\\envs\\py310OptFun\\lib\\site-packages\\scipy\\optimize\\_minpack_py.py:238\u001b[0m, in \u001b[0;36m_root_hybr\u001b[1;34m(func, x0, args, jac, col_deriv, xtol, maxfev, band, eps, factor, diag, **unknown_options)\u001b[0m\n\u001b[0;32m    236\u001b[0m \u001b[38;5;28;01mif\u001b[39;00m \u001b[38;5;129;01mnot\u001b[39;00m \u001b[38;5;28misinstance\u001b[39m(args, \u001b[38;5;28mtuple\u001b[39m):\n\u001b[0;32m    237\u001b[0m     args \u001b[38;5;241m=\u001b[39m (args,)\n\u001b[1;32m--> 238\u001b[0m shape, dtype \u001b[38;5;241m=\u001b[39m \u001b[43m_check_func\u001b[49m\u001b[43m(\u001b[49m\u001b[38;5;124;43m'\u001b[39;49m\u001b[38;5;124;43mfsolve\u001b[39;49m\u001b[38;5;124;43m'\u001b[39;49m\u001b[43m,\u001b[49m\u001b[43m \u001b[49m\u001b[38;5;124;43m'\u001b[39;49m\u001b[38;5;124;43mfunc\u001b[39;49m\u001b[38;5;124;43m'\u001b[39;49m\u001b[43m,\u001b[49m\u001b[43m \u001b[49m\u001b[43mfunc\u001b[49m\u001b[43m,\u001b[49m\u001b[43m \u001b[49m\u001b[43mx0\u001b[49m\u001b[43m,\u001b[49m\u001b[43m \u001b[49m\u001b[43margs\u001b[49m\u001b[43m,\u001b[49m\u001b[43m \u001b[49m\u001b[43mn\u001b[49m\u001b[43m,\u001b[49m\u001b[43m \u001b[49m\u001b[43m(\u001b[49m\u001b[43mn\u001b[49m\u001b[43m,\u001b[49m\u001b[43m)\u001b[49m\u001b[43m)\u001b[49m\n\u001b[0;32m    239\u001b[0m \u001b[38;5;28;01mif\u001b[39;00m epsfcn \u001b[38;5;129;01mis\u001b[39;00m \u001b[38;5;28;01mNone\u001b[39;00m:\n\u001b[0;32m    240\u001b[0m     epsfcn \u001b[38;5;241m=\u001b[39m finfo(dtype)\u001b[38;5;241m.\u001b[39meps\n",
      "File \u001b[1;32mc:\\Programs\\miniforge3\\envs\\py310OptFun\\lib\\site-packages\\scipy\\optimize\\_minpack_py.py:23\u001b[0m, in \u001b[0;36m_check_func\u001b[1;34m(checker, argname, thefunc, x0, args, numinputs, output_shape)\u001b[0m\n\u001b[0;32m     21\u001b[0m \u001b[38;5;28;01mdef\u001b[39;00m \u001b[38;5;21m_check_func\u001b[39m(checker, argname, thefunc, x0, args, numinputs,\n\u001b[0;32m     22\u001b[0m                 output_shape\u001b[38;5;241m=\u001b[39m\u001b[38;5;28;01mNone\u001b[39;00m):\n\u001b[1;32m---> 23\u001b[0m     res \u001b[38;5;241m=\u001b[39m atleast_1d(\u001b[43mthefunc\u001b[49m\u001b[43m(\u001b[49m\u001b[38;5;241;43m*\u001b[39;49m\u001b[43m(\u001b[49m\u001b[43m(\u001b[49m\u001b[43mx0\u001b[49m\u001b[43m[\u001b[49m\u001b[43m:\u001b[49m\u001b[43mnuminputs\u001b[49m\u001b[43m]\u001b[49m\u001b[43m,\u001b[49m\u001b[43m)\u001b[49m\u001b[43m \u001b[49m\u001b[38;5;241;43m+\u001b[39;49m\u001b[43m \u001b[49m\u001b[43margs\u001b[49m\u001b[43m)\u001b[49m\u001b[43m)\u001b[49m)\n\u001b[0;32m     24\u001b[0m     \u001b[38;5;28;01mif\u001b[39;00m (output_shape \u001b[38;5;129;01mis\u001b[39;00m \u001b[38;5;129;01mnot\u001b[39;00m \u001b[38;5;28;01mNone\u001b[39;00m) \u001b[38;5;129;01mand\u001b[39;00m (shape(res) \u001b[38;5;241m!=\u001b[39m output_shape):\n\u001b[0;32m     25\u001b[0m         \u001b[38;5;28;01mif\u001b[39;00m (output_shape[\u001b[38;5;241m0\u001b[39m] \u001b[38;5;241m!=\u001b[39m \u001b[38;5;241m1\u001b[39m):\n",
      "File \u001b[1;32mc:\\Programs\\miniforge3\\envs\\py310OptFun\\lib\\site-packages\\scipy\\optimize\\_minpack_py.py:158\u001b[0m, in \u001b[0;36mfsolve.<locals>._wrapped_func\u001b[1;34m(*fargs)\u001b[0m\n\u001b[0;32m    153\u001b[0m \u001b[38;5;250m\u001b[39m\u001b[38;5;124;03m\"\"\"\u001b[39;00m\n\u001b[0;32m    154\u001b[0m \u001b[38;5;124;03mWrapped `func` to track the number of times\u001b[39;00m\n\u001b[0;32m    155\u001b[0m \u001b[38;5;124;03mthe function has been called.\u001b[39;00m\n\u001b[0;32m    156\u001b[0m \u001b[38;5;124;03m\"\"\"\u001b[39;00m\n\u001b[0;32m    157\u001b[0m _wrapped_func\u001b[38;5;241m.\u001b[39mnfev \u001b[38;5;241m+\u001b[39m\u001b[38;5;241m=\u001b[39m \u001b[38;5;241m1\u001b[39m\n\u001b[1;32m--> 158\u001b[0m \u001b[38;5;28;01mreturn\u001b[39;00m \u001b[43mfunc\u001b[49m\u001b[43m(\u001b[49m\u001b[38;5;241;43m*\u001b[39;49m\u001b[43mfargs\u001b[49m\u001b[43m)\u001b[49m\n",
      "File \u001b[1;32mC:\\src\\PythonEquations2Orbits\\src\\pyeq2orb\\Numerical\\SimpleProblemCallers.py:427\u001b[0m, in \u001b[0;36mfSolveSingleShootingSolver.solve.<locals>.fSolveCallback\u001b[1;34m(fSolveGuess, *parametersForFSolve)\u001b[0m\n\u001b[0;32m    425\u001b[0m \u001b[38;5;28;01mdef\u001b[39;00m \u001b[38;5;21mfSolveCallback\u001b[39m(fSolveGuess, \u001b[38;5;241m*\u001b[39mparametersForFSolve):\n\u001b[0;32m    426\u001b[0m     \u001b[38;5;66;03m# fsolve wraps the guess in an array, so pull it out\u001b[39;00m\n\u001b[1;32m--> 427\u001b[0m     everythingAns \u001b[38;5;241m=\u001b[39m \u001b[43mevaluateAnswer\u001b[49m\u001b[43m(\u001b[49m\u001b[43mfSolveGuess\u001b[49m\u001b[43m,\u001b[49m\u001b[43m \u001b[49m\u001b[43mtime\u001b[49m\u001b[43m,\u001b[49m\u001b[43m \u001b[49m\u001b[43minitialState\u001b[49m\u001b[43m)\u001b[49m\n\u001b[0;32m    428\u001b[0m     solvedForValues \u001b[38;5;241m=\u001b[39m \u001b[38;5;28mself\u001b[39m\u001b[38;5;241m.\u001b[39mgetSolverValuesFromEverythingAns(everythingAns)\n\u001b[0;32m    429\u001b[0m     \u001b[38;5;28;01mwhile\u001b[39;00m \u001b[38;5;28mlen\u001b[39m(solvedForValues) \u001b[38;5;241m<\u001b[39m \u001b[38;5;28mlen\u001b[39m(fSolveGuess):\n",
      "File \u001b[1;32mC:\\src\\PythonEquations2Orbits\\src\\pyeq2orb\\Numerical\\SimpleProblemCallers.py:412\u001b[0m, in \u001b[0;36mfSolveSingleShootingSolver.solve.<locals>.evaluateAnswer\u001b[1;34m(fSolveValues, time, initialState)\u001b[0m\n\u001b[0;32m    410\u001b[0m \u001b[38;5;28;01mdef\u001b[39;00m \u001b[38;5;21mevaluateAnswer\u001b[39m(fSolveValues, time, initialState) \u001b[38;5;241m-\u001b[39m\u001b[38;5;241m>\u001b[39m IEverythingAnswer:\n\u001b[0;32m    411\u001b[0m     copiedInitialState \u001b[38;5;241m=\u001b[39m initialState\u001b[38;5;241m.\u001b[39mcopy()\n\u001b[1;32m--> 412\u001b[0m     \u001b[38;5;28;43mself\u001b[39;49m\u001b[38;5;241;43m.\u001b[39;49m\u001b[43mupdateInitialStateWithSolverValues\u001b[49m\u001b[43m(\u001b[49m\u001b[43mfSolveValues\u001b[49m\u001b[43m,\u001b[49m\u001b[43m \u001b[49m\u001b[43mcopiedInitialState\u001b[49m\u001b[43m)\u001b[49m\n\u001b[0;32m    415\u001b[0m     \u001b[38;5;28;01mif\u001b[39;00m \u001b[38;5;129;01mnot\u001b[39;00m(\u001b[38;5;28mself\u001b[39m\u001b[38;5;241m.\u001b[39mEvaluatableProblem\u001b[38;5;241m.\u001b[39mOtherArgumentSymbols \u001b[38;5;241m==\u001b[39m \u001b[38;5;28;01mNone\u001b[39;00m \u001b[38;5;129;01mor\u001b[39;00m \u001b[38;5;28mlen\u001b[39m(\u001b[38;5;28mself\u001b[39m\u001b[38;5;241m.\u001b[39mEvaluatableProblem\u001b[38;5;241m.\u001b[39mOtherArgumentSymbols) \u001b[38;5;241m==\u001b[39m \u001b[38;5;241m0\u001b[39m):\n\u001b[0;32m    416\u001b[0m         argsCopy \u001b[38;5;241m=\u001b[39m [\u001b[38;5;241m0.0\u001b[39m]\u001b[38;5;241m*\u001b[39m\u001b[38;5;28mlen\u001b[39m(\u001b[38;5;28mself\u001b[39m\u001b[38;5;241m.\u001b[39mEvaluatableProblem\u001b[38;5;241m.\u001b[39mOtherArgumentSymbols)\n",
      "File \u001b[1;32mC:\\src\\PythonEquations2Orbits\\src\\pyeq2orb\\Numerical\\SimpleProblemCallers.py:378\u001b[0m, in \u001b[0;36msingleShootingSolver.updateInitialStateWithSolverValues\u001b[1;34m(self, solverGuess, mutableInitialState)\u001b[0m\n\u001b[0;32m    376\u001b[0m \u001b[38;5;28;01mdef\u001b[39;00m \u001b[38;5;21mupdateInitialStateWithSolverValues\u001b[39m(\u001b[38;5;28mself\u001b[39m, solverGuess : List[\u001b[38;5;28mfloat\u001b[39m], mutableInitialState : List[\u001b[38;5;28mfloat\u001b[39m]):\n\u001b[0;32m    377\u001b[0m     \u001b[38;5;28;01mfor\u001b[39;00m k,v \u001b[38;5;129;01min\u001b[39;00m \u001b[38;5;28mself\u001b[39m\u001b[38;5;241m.\u001b[39m_indicesOfInitialStateToUpdate\u001b[38;5;241m.\u001b[39mitems():\n\u001b[1;32m--> 378\u001b[0m         \u001b[43mmutableInitialState\u001b[49m\u001b[43m[\u001b[49m\u001b[43mv\u001b[49m\u001b[43m]\u001b[49m \u001b[38;5;241m=\u001b[39m solverGuess[k]\n",
      "\u001b[1;31mIndexError\u001b[0m: list assignment index out of range"
     ]
    }
   ],
   "source": [
    "numerical = OdeLambdifyHelperWithBoundaryConditions.CreateFromProblem(problem)\n",
    "numerical.ApplySubstitutionDictionaryToExpressions()\n",
    "ivpCallback = numerical.CreateSimpleCallbackForSolveIvp()\n",
    "display(numerical.BuildLambdifyingState())\n",
    "integrationVariables = []\n",
    "integrationVariables.extend(problem.StateSymbols)\n",
    "integrationVariables.extend(problem.CostateSymbols)\n",
    "\n",
    "def solve_ivp_wrapper(t, y, *args):\n",
    "    if isinstance(args, list):\n",
    "        args = tuple(args)\n",
    "    if isinstance(args, float):\n",
    "        args = (args,)\n",
    "    anAns = solve_ivp(ivpCallback, [t[0], t[-1]], y, t_eval=t, dense_output=True, args=args, method='LSODA', rtol=1.49012e-8, atol=1.49012e-11)\n",
    "    anAnsDict = ScipyCallbackCreators.ConvertEitherIntegratorResultsToDictionary(integrationVariables, anAns)\n",
    "    return (anAnsDict, anAns)\n",
    "\n",
    "bcCallback = numerical.CreateCallbackForBoundaryConditionsWithFullState()\n",
    "#%%\n",
    "problemEvaluator = BlackBoxSingleShootingFunctionsFromLambdifiedFunctions(solve_ivp_wrapper, bcCallback, integrationVariables, problem.BoundaryConditions, problem.OtherArguments)\n",
    "fSolveInputSymbols = [*problem.CostateSymbols[:3]]\n",
    "if scaleTime:\n",
    "    fSolveInputSymbols.append(originalProblem.TimeFinalSymbol)\n",
    "solver = fSolveSingleShootingSolver(problemEvaluator, fSolveInputSymbols, problem.BoundaryConditions[:-1])\n",
    "#initialSolverGuess =  [1.0, 0.00010000000130634948, 1.0]\n",
    "initialSolverGuess = ContinuousThrustCircularOrbitTransferProblem.CreateInitialLambdaGuessForLeoToGeo(problem, controlSolved, costateSymbols)\n",
    "if len(nus) > 0:\n",
    "    initialSolverGuess.append(initialSolverGuess[2])\n",
    "    initialSolverGuess.append(initialSolverGuess[3])\n",
    "\n",
    "initialStateValues = [r0, u0, v0, lon0, *initialFSolveStateGuess[:-1]]\n",
    "display(initialSolverGuess)\n",
    "\n",
    "argsArray = None\n",
    "if scaleTime:\n",
    "    argsArray = []\n",
    "    initialSolverGuess.append(tfOrg)\n",
    "    argsArray.append(tfOrg)\n",
    "    \n",
    "\n",
    "print(initialStateValues)\n",
    "ans = solver.solve(initialSolverGuess, tArray, initialStateValues, full_output=True, factor=1.0, epsfcn=0.01)\n",
    "print(ans.SolverResult)\n",
    "\n",
    "\n",
    "\n",
    "#%%\n",
    "\n",
    "solution = ans.EvaluatedAnswer.RawIntegratorOutput\n",
    "solutionDictionary = ScipyCallbackCreators.ConvertEitherIntegratorResultsToDictionary(integrationVariables, solution)\n",
    "unscaledResults = solutionDictionary\n",
    "unscaledTArray = tArray\n",
    "unscaledResults = problem.DescaleResults(solutionDictionary, baseProblem.StateSymbols)\n",
    "\n"
   ]
  },
  {
   "cell_type": "markdown",
   "metadata": {},
   "source": [
    "Lambdify is the function that saves a ton of time and possible errors.  This turns our symbolic expressions into code that runs at normal or faster speeds (using libraries like numpy for additional performance) instead of substituting in values when we go to evaluate the equations of motion which would be very slow.  "
   ]
  },
  {
   "cell_type": "code",
   "execution_count": null,
   "metadata": {},
   "outputs": [],
   "source": []
  },
  {
   "cell_type": "markdown",
   "metadata": {},
   "source": [
    "Now we create the boundary condition evaluation callback.  Note that making this callback general is difficult.  I'm using scipy's solveIvp for the integration of the eqations of motion, but what if you want to use some other routine?  Some of the initial values and final values that are passed to the fsolve boundary condition values, and some of those values also need to get placed into the initial values for the equations of motion... it is can't be easily generalized for most problems, but it doesn't really change for this problem.\n",
    "\n",
    "That being said, streamlining this part of the process is something I am continuing to think about."
   ]
  },
  {
   "cell_type": "code",
   "execution_count": null,
   "metadata": {},
   "outputs": [],
   "source": []
  },
  {
   "cell_type": "code",
   "execution_count": null,
   "metadata": {},
   "outputs": [],
   "source": [
    "solution = ans.EvaluatedAnswer.RawIntegratorOutput\n",
    "solutionDictionary = ScipyCallbackCreators.ConvertEitherIntegratorResultsToDictionary(integrationVariables, solution)\n",
    "unscaledResults = solutionDictionary\n",
    "unscaledTArray = tArray\n",
    "unscaledResults = problem.DescaleResults(solutionDictionary, baseProblem.StateSymbols)"
   ]
  },
  {
   "cell_type": "markdown",
   "metadata": {},
   "source": [
    "Yay, it says it converged.  Let's see what we have."
   ]
  },
  {
   "cell_type": "code",
   "execution_count": null,
   "metadata": {},
   "outputs": [],
   "source": [
    "# solution = solve_ivp(solve_ivp_wrapper, [tArray[0], tArray[-1]], [r0, u0, v0, lon0, *fSolveSol[0][0:3]], args=tuple(fSolveSol[0][3:len(fSolveSol[0])]), t_eval=tArray, dense_output=True, method=\"LSODA\", rtol=1.49012e-8, atol=1.49012e-11)\n",
    "# solutionDictionary = ScipyCallbackCreators.ConvertEitherIntegratorResultsToDictionary(integrationSymbols, solution)\n",
    "# unscaledResults = solutionDictionary\n",
    "# unscaledTArray = tArray\n",
    "# unscaledResults = problem.DescaleResults(solutionDictionary, baseProblem.StateSymbols)\n",
    "if scaleTime:\n",
    "    unscaledTArray=tfOrg*tArray\n",
    "\n",
    "if scaleElements:    \n",
    "    finalState = GetValueFromStateDictionaryAtIndex(solutionDictionary, -1)\n",
    "    jh.showEquation(stateAtTf[0], finalState[problem.StateSymbols[0]], False)\n",
    "    jh.showEquation(stateAtTf[1], finalState[problem.StateSymbols[1]], False)\n",
    "    jh.showEquation(stateAtTf[2], finalState[problem.StateSymbols[2]], False)\n",
    "    jh.showEquation(stateAtTf[3], (finalState[problem.StateSymbols[3]]%(2*math.pi))*180.0/(2*math.pi), False)\n",
    "\n",
    "baseProblem.PlotSolution(tArray*tfOrg, unscaledResults, \"Test\")\n",
    "jh.showEquation(baseProblem.StateSymbols[0].subs(problem.TimeSymbol, problem.TimeFinalSymbol), unscaledResults[baseProblem.StateSymbols[0]][-1], False)\n",
    "jh.showEquation(baseProblem.StateSymbols[1].subs(problem.TimeSymbol, problem.TimeFinalSymbol), unscaledResults[baseProblem.StateSymbols[1]][-1], False)\n",
    "jh.showEquation(baseProblem.StateSymbols[2].subs(problem.TimeSymbol, problem.TimeFinalSymbol), unscaledResults[baseProblem.StateSymbols[2]][-1], False)\n",
    "jh.showEquation(baseProblem.StateSymbols[3].subs(problem.TimeSymbol, problem.TimeFinalSymbol), (unscaledResults[baseProblem.StateSymbols[3]][-1]%(2*math.pi))*180.0/(2*math.pi), False)\n",
    "\n",
    "[hamltVals, dhduValus, d2hdu2Valus] = problem.EvaluateHamiltonianAndItsFirstTwoDerivatives(solutionDictionary, tArray, hamiltonian, {problem.ControlSymbols[0]: controlSolved}, {baseProblem.TimeFinalSymbol: tfOrg})\n",
    "plt.title(\"Hamlitonion and its derivatives\")\n",
    "plt.plot(tArray/86400, hamltVals, label=\"Hamiltonian\")\n",
    "plt.plot(tArray/86400, dhduValus, label=r'$\\frac{dH}{du}$')\n",
    "plt.plot(tArray/86400, d2hdu2Valus, label=r'$\\frac{d^2H}{du^2}$')\n",
    "\n",
    "plt.tight_layout()\n",
    "plt.grid(alpha=0.5)\n",
    "plt.legend(framealpha=1, shadow=True)\n",
    "plt.show()   "
   ]
  },
  {
   "cell_type": "markdown",
   "metadata": {},
   "source": [
    "The second derivative of the Hamiltonian is negative which satisfies the sufficient condition for a maximization problem.  The plots are also identical to the plots from Dr. Gusman's outputs.  All in all, we can be very confident that this solution is indeed an optimal one."
   ]
  },
  {
   "cell_type": "markdown",
   "metadata": {},
   "source": [
    "# Direct Method\n",
    "\n",
    "For the direct method, it will start similar to the previous one.  We have to make our problem class, register the constants, etc...  Note that compared to the indirect version, this routine has not been as well tested and refined."
   ]
  },
  {
   "cell_type": "code",
   "execution_count": null,
   "metadata": {},
   "outputs": [],
   "source": [
    "import math\n",
    "import sympy as sy\n",
    "import numpy as np\n",
    "import matplotlib.pyplot as plt\n",
    "from collections import OrderedDict\n",
    "\n",
    "# to get pyomo to work on windows, must also install this library:\n",
    "# conda install -c conda-forge pynumero_libraries\n",
    "from pyeq2orb.Numerical.LambdifyHelpers import LambdifyHelper, OdeLambdifyHelper\n",
    "from pyeq2orb.Problems.ContinuousThrustCircularOrbitTransfer import ContinuousThrustCircularOrbitTransferProblem\n",
    "from pyeq2orb.Numerical import ScipyCallbackCreators\n",
    "import scipyPaperPrinter as jh\n",
    "import pyomo.environ as poenv\n",
    "import pyomo.dae as podae\n",
    "from matplotlib.figure import Figure\n",
    "from pyeq2orb.ProblemBase import Problem, ProblemVariable\n",
    "from pyeq2orb import SafeSubs\n",
    "# constants\n",
    "g = 9.80665\n",
    "mu = 3.986004418e14  \n",
    "thrust = 20.0\n",
    "isp = 6000.0\n",
    "m0 = 1500.0\n",
    "\n",
    "# initial values\n",
    "r0 = 6678000.0\n",
    "u0 = 0.0\n",
    "v0 = sy.sqrt(mu/r0) # circular\n",
    "lon0 = 0.0\n",
    "# I know from many previous runs that this is the time needed to go from LEO to GEO.\n",
    "# However, below works well wrapped in another fsolve to control the final time for a desired radius.\n",
    "tfVal  = 3600*3.97152*24\n",
    "tfOrg = tfVal\n",
    "\n",
    "# these are options to switch to try different scaling options\n",
    "scale = True\n",
    "scaleTime = scale and True\n",
    "# your choice of the nu vector here controls which transversality condition we use\n",
    "baseProblem = ContinuousThrustCircularOrbitTransferProblem()\n",
    "initialStateSymbols = baseProblem.StateSymbolsInitial()\n",
    "problem = baseProblem\n",
    "tfSym = baseProblem.TimeFinalSymbol\n",
    "if scale :\n",
    "    originalProblem = problem\n",
    "    newSvs = Problem.CreateBarVariables(problem.StateSymbols, problem.TimeSymbol) \n",
    "    problem = baseProblem.ScaleStateVariables(newSvs, {problem.StateSymbols[0]: newSvs[0] * initialStateSymbols[0], \n",
    "                                                       problem.StateSymbols[1]: newSvs[1] * initialStateSymbols[2], \n",
    "                                                       problem.StateSymbols[2]: newSvs[2] * initialStateSymbols[2], \n",
    "                                                       problem.StateSymbols[3]: newSvs[3]}) #type: ignore\n",
    "    if scaleTime :\n",
    "        tau = sy.Symbol(r'\\tau', real=True)\n",
    "        problem = problem.ScaleTime(tau, sy.Symbol(r'\\tau_0', real=True), sy.Symbol(r'\\tau_f', real=True), tau*problem.TimeFinalSymbol)  \n",
    "        jh.t = problem._timeSymbol # needed for cleaner printed equations\n",
    "\n",
    "rs = problem.StateSymbols[0]\n",
    "us = problem.StateSymbols[1]\n",
    "vs = problem.StateSymbols[2]\n",
    "longitudes = problem.StateSymbols[3]\n",
    "\n",
    "jh.t = problem._timeSymbol\n",
    "\n",
    "# register constants\n",
    "constantsSubsDict = problem.SubstitutionDictionary\n",
    "constantsSubsDict[baseProblem.Isp] = isp\n",
    "constantsSubsDict[baseProblem.MassInitial] = m0\n",
    "constantsSubsDict[baseProblem.Gravity] = g\n",
    "constantsSubsDict[baseProblem.Mu]= mu\n",
    "constantsSubsDict[baseProblem.Thrust] = thrust\n",
    "\n",
    "# register initial state values\n",
    "constantsSubsDict.update(zip(initialStateSymbols, [r0, u0, v0, lon0]))\n",
    "if scale :\n",
    "    # and reset the real initial values using tau_0 instead of time\n",
    "    initialValuesAtTau0 = SafeSubs(initialStateSymbols, {baseProblem.TimeInitialSymbol: problem.TimeInitialSymbol})\n",
    "    constantsSubsDict.update(zip(initialValuesAtTau0, [r0, u0, v0, lon0]))\n",
    "\n",
    "    r0 = r0/r0\n",
    "    u0 = u0/v0\n",
    "    v0 = v0/v0\n",
    "    lon0 = lon0/1.0\n",
    "    # add the scaled initial values (at tau_0).  We should NOT need to add these at t_0\n",
    "    initialScaledStateValues = problem.StateSymbolsInitial()\n",
    "    constantsSubsDict.update(zip(initialScaledStateValues, [r0, u0, v0, lon0])) \n",
    "    \n",
    "lambdifyFunctionMap = {'sqrt': poenv.sqrt, 'sin': poenv.sin, 'cos':poenv.cos} #TODO: MORE!!!!"
   ]
  },
  {
   "cell_type": "code",
   "execution_count": null,
   "metadata": {},
   "outputs": [],
   "source": [
    "jh.printMarkdown(\"Now we start setting up our pyomo problem. There is a wrapper class that takes a symbolic problem and turns it into a numerical problem.  It is still a prototype, but this kind of wrapping is I think the way to go.\")\n",
    "\n",
    "#%%\n",
    "from pyeq2orb.Numerical.ScalingHelpers import scaledEquationOfMotionHolder\n",
    "simpleThrustCallbackHelperScaled = OdeLambdifyHelper(tau, problem.StateSymbols, [equ.rhs for equ in problem.EquationsOfMotionAsEquations], [*problem.ControlSymbols, tfSym], constantsSubsDict)\n",
    "\n",
    "from pyeq2orb.Numerical.LambdifyHelpers import LambdifyHelperBoundaryConditions\n",
    "tau0 = sy.Symbol(r'tau_0')\n",
    "tauf = sy.Symbol(r'tau_f')\n",
    "bcCallbackHelper = LambdifyHelperBoundaryConditions(tau, tau0, tauf, [*problem.StateSymbolsInitial(), *[x.subs(tau, tau0) for x in problem.ControlSymbols]], [*problem.StateSymbolsFinal(), *[x.subs(tau, tauf) for x in problem.ControlSymbols]], problem.BoundaryConditions, [tfSym], constantsSubsDict)\n",
    "bcCallbacks = bcCallbackHelper.CreateCallbackForBoundaryConditionsWithFullStateAsList(modulesDict=lambdifyFunctionMap)\n",
    "\n",
    "\n",
    "n=200\n",
    "tSpace = np.linspace(0.0, 1.0, n)\n",
    "\n",
    "model = poenv.ConcreteModel()\n",
    "model.t = podae.ContinuousSet(initialize=np.linspace(0.0, 1.0, n), domain=poenv.NonNegativeReals)\n",
    "for k,v in lambdifyFunctionMap.items():\n",
    "    simpleThrustCallbackHelperScaled.FunctionRedirectionDictionary[k] = v\n",
    "listOfEomCallback = simpleThrustCallbackHelperScaled.CreateListOfEomCallbacks()\n",
    "\n",
    "model = poenv.ConcreteModel()\n",
    "model.t = podae.ContinuousSet(initialize=tSpace, domain=poenv.NonNegativeReals)\n",
    "\n",
    "velBound = float(1.5*abs(v0))\n",
    "model.r = poenv.Var(model.t, bounds=(0.9, 8.0), initialize=float(r0))\n",
    "model.u = poenv.Var(model.t, bounds=(-1.0*velBound, velBound), initialize=float(u0))\n",
    "model.v = poenv.Var(model.t, bounds=(-1.0*velBound, velBound), initialize=float(v0))\n",
    "model.lon = poenv.Var(model.t, bounds=(lon0, 29.0*2.0*math.pi), initialize=float(lon0))\n",
    "model.control = poenv.Var(model.t, bounds=(-1.0*math.pi/2.2, math.pi/2.2))\n",
    "model.tf = poenv.Var(bounds=(tfOrg-2, tfOrg+2), initialize=float(tfOrg))\n",
    "\n",
    "model.r[0].fix(float(r0))\n",
    "model.u[0].fix(float(u0))\n",
    "model.v[0].fix(float(v0))\n",
    "model.lon[0].fix(float(lon0))\n",
    "\n",
    "model.rDot = podae.DerivativeVar(model.r, wrt=model.t)\n",
    "model.uDot = podae.DerivativeVar(model.u, wrt=model.t)\n",
    "model.vDot = podae.DerivativeVar(model.v, wrt=model.t)\n",
    "model.lonDot = podae.DerivativeVar(model.lon, wrt=model.t)"
   ]
  },
  {
   "cell_type": "code",
   "execution_count": null,
   "metadata": {},
   "outputs": [],
   "source": [
    "jh.printMarkdown(\"Here, we create a helper function to map the state that pyomo can give to the callbacks and functions that the numerical problem type provides.\")\n",
    "\n",
    "def mapPyomoStateToProblemState(m, t, expression) :\n",
    "    return expression(t, [m.r[t], m.u[t], m.v[t], m.lon[t]], m.control[t], m.tf)\n",
    "\n",
    "jh.printMarkdown(\"With this, we can set up our equations of motions, our terminal constraints, and the objective function.\")\n",
    "\n",
    "# model.rEom = poenv.Constraint(model.t, rule =lambda m, t2: m.rDot[t2] == mapPyomoStateToProblemState(m, t2, lambda state : asNumericalProblem.SingleEquationOfMotionWithTInState(state, 0)))\n",
    "# model.uEom = poenv.Constraint(model.t, rule =lambda m, t2: m.uDot[t2] == mapPyomoStateToProblemState(m, t2, lambda state : asNumericalProblem.SingleEquationOfMotionWithTInState(state, 1)))\n",
    "# model.vEom = poenv.Constraint(model.t, rule =lambda m, t2: m.vDot[t2] == mapPyomoStateToProblemState(m, t2, lambda state : asNumericalProblem.SingleEquationOfMotionWithTInState(state, 2)))\n",
    "# model.lonEom = poenv.Constraint(model.t, rule =lambda m, t2: m.lonDot[t2] == mapPyomoStateToProblemState(m, t2, lambda state : asNumericalProblem.SingleEquationOfMotionWithTInState(state, 3)))\n",
    "\n",
    "\n",
    "model.rEom = poenv.Constraint(model.t, rule =lambda m, t2: m.rDot[t2] == mapPyomoStateToProblemState(m, t2, listOfEomCallback[0]))\n",
    "model.uEom = poenv.Constraint(model.t, rule =lambda m, t2: m.uDot[t2] == mapPyomoStateToProblemState(m, t2, listOfEomCallback[1]))\n",
    "model.vEom = poenv.Constraint(model.t, rule =lambda m, t2: m.vDot[t2] == mapPyomoStateToProblemState(m, t2, listOfEomCallback[2]))\n",
    "model.lonEom = poenv.Constraint(model.t, rule =lambda m, t2: m.lonDot[t2] == mapPyomoStateToProblemState(m, t2, listOfEomCallback[3]))\n",
    "\n",
    "\n",
    "def mapPyomoStateToProblemStateBc(m, t, expression) :\n",
    "    t0 = t.first()\n",
    "    tf = t.last()\n",
    "    val = expression(t0, m.r[t0], m.u[t0], m.v[t0], m.lon[t0], m.control[t0],   tf, m.r[tf], m.u[tf], m.v[tf], m.lon[tf], m.control[tf], m.tf)\n",
    "    return val[0]\n",
    "\n",
    "model.bc1 = poenv.Constraint(rule = lambda mod1 : 0.0 == mapPyomoStateToProblemStateBc(mod1, model.t, bcCallbacks[0]))\n",
    "model.bc2 = poenv.Constraint(rule = lambda mod1 : 0.0 == mapPyomoStateToProblemStateBc(mod1, model.t, bcCallbacks[1]))\n",
    "\n",
    "def singlePyomoArrayToTerminalCostCallback(m, t) : # keep it simple for this problem, but making a proper lambidified expression of the terminal cost would be good\n",
    "    return  m.r[t]# expr(m.tf, [t, m.r[t], m.u[t], m.v[t], m.lon[t], m.control[t]])\n",
    "finalRadiusCallback = lambda m : singlePyomoArrayToTerminalCostCallback(m, 1.0)\n",
    "model.radiusObjective = poenv.Objective(expr = finalRadiusCallback, sense=poenv.maximize)\n"
   ]
  },
  {
   "cell_type": "code",
   "execution_count": null,
   "metadata": {},
   "outputs": [],
   "source": [
    "jh.printMarkdown(\"Next, we setup our initial values and run a simulation to get an initial guess for the problem.\")\n",
    "\n",
    "\n",
    "model.var_input = poenv.Suffix(direction=poenv.Suffix.LOCAL)\n",
    "model.var_input[model.control] = {0: 0.03}\n",
    "model.var_input[model.tf] = {0: tfOrg}\n",
    "\n",
    "sim = podae.Simulator(model, package='scipy') \n",
    "tSim, profiles = sim.simulate(numpoints=n, varying_inputs=model.var_input, integrator='dop853', initcon=np.array([r0,u0, v0, lon0], dtype=float))"
   ]
  },
  {
   "cell_type": "code",
   "execution_count": null,
   "metadata": {},
   "outputs": [],
   "source": [
    "jh.printMarkdown(\"Simulating the problem is required before solving it.  One thing I am planning to look into is initializing a problem if it is simulated in some other way (such as from the results of an indirect solver).  But now we can solve it.  IPOPT is, as far as I know, the best solver I have access to that can solve this kind of nonlinear programming problem.\")\n",
    "\n",
    "#poenv.TransformationFactory('dae.finite_difference').apply_to(model, wrt=model.t, nfe=n, scheme='BACKWARD')\n",
    "poenv.TransformationFactory('dae.collocation').apply_to(model, wrt=model.t, nfe=n,ncp=3, scheme='LAGRANGE-RADAU')\n",
    "#['LAGRANGE-RADAU', 'LAGRANGE-LEGENDRE']\n",
    "sim.initialize_model()\n",
    "solver = poenv.SolverFactory('cyipopt')\n",
    "sol = solver.solve(model, tee=True)\n",
    "#print(sol)"
   ]
  },
  {
   "cell_type": "code",
   "execution_count": null,
   "metadata": {},
   "outputs": [],
   "source": [
    "jh.printMarkdown(\"With our solution, we can plot it as well as inspect the final variables.\")\n",
    "\n",
    "def plotPyomoSolution(model, stateSymbols):\n",
    "    tSpace =np.array( [t for t in model.t]) * model.tf.value\n",
    "    rSym = np.array([model.r[t]() for t in model.t])\n",
    "    uSym = np.array([model.u[t]() for t in model.t])\n",
    "    vSym = np.array([model.v[t]() for t in model.t])\n",
    "    lonSim = np.array([model.lon[t]() for t in model.t])\n",
    "    controls = np.array([model.control[t]() for t in model.t])\n",
    "    print(\"control 0 = \" + str(controls[0]))\n",
    "    plt.title(\"Thrust Angle\")\n",
    "    plt.plot(tSpace/86400, controls*180.0/math.pi, label=\"Thrust Angle (deg)\")\n",
    "    plt.tight_layout()\n",
    "    plt.grid(alpha=0.5)\n",
    "    plt.legend(framealpha=1, shadow=True)\n",
    "    plt.show()    \n",
    "    ansAsDict = OrderedDict()\n",
    "    ansAsDict[stateSymbols[0]]= rSym\n",
    "    ansAsDict[stateSymbols[1]]= uSym\n",
    "    ansAsDict[stateSymbols[2]]= vSym\n",
    "    ansAsDict[stateSymbols[3]]=  lonSim\n",
    "\n",
    "    return [tSpace, ansAsDict]\n",
    "[tArray, solutionDictionary] = plotPyomoSolution(model, problem.StateSymbols)\n",
    "unscaledResults = problem.DescaleResults(solutionDictionary, baseProblem.StateSymbols)\n",
    "baseProblem.PlotSolution(tArray, unscaledResults, \"Leo to Geo\")\n",
    "\n",
    "print(\"Tf = \" + str(model.tf.value/86400))\n",
    "jh.showEquation(\"r_f\", unscaledResults[baseProblem.StateSymbols[0]][-1]) \n",
    "jh.showEquation(\"u_f\", unscaledResults[baseProblem.StateSymbols[1]][-1]) \n",
    "jh.showEquation(\"v_f\", unscaledResults[baseProblem.StateSymbols[2]][-1])     \n",
    "\n",
    "xyz = np.zeros((len(tArray), 3))\n",
    "for i in range(0, len(unscaledResults[baseProblem.StateSymbols[0]])) :\n",
    "    r = unscaledResults[baseProblem.StateSymbols[0]][i]\n",
    "    theta = unscaledResults[baseProblem.StateSymbols[3]][i]\n",
    "    x = r*math.cos(theta)\n",
    "    y = r*math.sin(theta)\n",
    "    xyz[i,0] = x\n",
    "    xyz[i,1] = y\n",
    "    xyz[i,2] = 0\n",
    "\n",
    "import plotly.express as px\n",
    "from pandas import DataFrame\n",
    "df = DataFrame(xyz)\n",
    "\n",
    "x = np.array(xyz[:,0])\n",
    "y = np.array(xyz[:,1])\n",
    "z = np.array(xyz[:,2])\n",
    "df = DataFrame({\"x\": x, \"y\":y, \"z\":z})\n",
    "fig = px.line_3d(df, x=\"x\", y=\"y\", z=\"z\")\n",
    "fig.show()\n"
   ]
  },
  {
   "cell_type": "markdown",
   "metadata": {},
   "source": [
    "These results look very similar to the indirect results as expected."
   ]
  }
 ],
 "metadata": {
  "kernelspec": {
   "display_name": "py310OptFun",
   "language": "python",
   "name": "python3"
  },
  "language_info": {
   "codemirror_mode": {
    "name": "ipython",
    "version": 3
   },
   "file_extension": ".py",
   "mimetype": "text/x-python",
   "name": "python",
   "nbconvert_exporter": "python",
   "pygments_lexer": "ipython3",
   "version": "3.10.15"
  },
  "orig_nbformat": 4
 },
 "nbformat": 4,
 "nbformat_minor": 2
}
