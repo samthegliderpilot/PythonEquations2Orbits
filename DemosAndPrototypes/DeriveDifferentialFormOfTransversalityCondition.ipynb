{
 "cells": [
  {
   "cell_type": "code",
   "execution_count": 28,
   "metadata": {},
   "outputs": [
    {
     "data": {
      "text/latex": [
       "$\\displaystyle \\phi{\\left(\\epsilon \\right)} + \\int\\limits_{t_{0}}^{\\operatorname{t_{f}}{\\left(\\epsilon \\right)}} \\left(H{\\left(t,x{\\left(t,\\epsilon \\right)},u{\\left(t,\\epsilon \\right)},\\lambda{\\left(t \\right)} \\right)} - \\lambda{\\left(t \\right)} \\frac{\\partial}{\\partial t} x{\\left(t,\\epsilon \\right)}\\right)\\, dt$"
      ],
      "text/plain": [
       "\\phi(\\epsilon) + Integral(H(t, x(t, \\epsilon), u(t, \\epsilon), \\lambda(t)) - \\lambda(t)*Derivative(x(t, \\epsilon), t), (t, t_0, t_f(\\epsilon)))"
      ]
     },
     "metadata": {},
     "output_type": "display_data"
    },
    {
     "data": {
      "text/latex": [
       "$\\displaystyle \\left(H{\\left(t^{*}_{f},x{\\left(t^{*}_{f},0 \\right)},u{\\left(t^{*}_{f},0 \\right)},\\lambda{\\left(t^{*}_{f} \\right)} \\right)} - \\lambda{\\left(t^{*}_{f} \\right)} \\frac{d}{d t^{*}_{f}} x{\\left(t^{*}_{f},0 \\right)}\\right) \\left. \\frac{d}{d \\epsilon} \\operatorname{t_{f}}{\\left(\\epsilon \\right)} \\right|_{\\substack{ \\epsilon=0 }} + \\int\\limits_{t_{0}}^{t^{*}_{f}} \\left(- \\lambda{\\left(t \\right)} \\left. \\frac{\\partial^{2}}{\\partial t\\partial \\epsilon} x{\\left(t,\\epsilon \\right)} \\right|_{\\substack{ \\epsilon=0 }} + \\frac{d}{d u{\\left(t,0 \\right)}} H{\\left(t,x{\\left(t,0 \\right)},u{\\left(t,0 \\right)},\\lambda{\\left(t \\right)} \\right)} \\left. \\frac{\\partial}{\\partial \\epsilon} u{\\left(t,\\epsilon \\right)} \\right|_{\\substack{ \\epsilon=0 }} + \\frac{d}{d x{\\left(t,0 \\right)}} H{\\left(t,x{\\left(t,0 \\right)},u{\\left(t,0 \\right)},\\lambda{\\left(t \\right)} \\right)} \\left. \\frac{\\partial}{\\partial \\epsilon} x{\\left(t,\\epsilon \\right)} \\right|_{\\substack{ \\epsilon=0 }}\\right)\\, dt + \\left. \\frac{d}{d \\epsilon} \\phi{\\left(\\epsilon \\right)} \\right|_{\\substack{ \\epsilon=0 }}$"
      ],
      "text/plain": [
       "(H(t_f^*, x(t_f^*, 0), u(t_f^*, 0), \\lambda(t_f^*)) - \\lambda(t_f^*)*Derivative(x(t_f^*, 0), t_f^*))*Subs(Derivative(t_f(\\epsilon), \\epsilon), \\epsilon, 0) + Integral(-\\lambda(t)*Subs(Derivative(x(t, \\epsilon), \\epsilon, t), \\epsilon, 0) + Derivative(H(t, x(t, 0), u(t, 0), \\lambda(t)), u(t, 0))*Subs(Derivative(u(t, \\epsilon), \\epsilon), \\epsilon, 0) + Derivative(H(t, x(t, 0), u(t, 0), \\lambda(t)), x(t, 0))*Subs(Derivative(x(t, \\epsilon), \\epsilon), \\epsilon, 0), (t, t_0, t_f^*)) + Subs(Derivative(\\phi(\\epsilon), \\epsilon), \\epsilon, 0)"
      ]
     },
     "metadata": {},
     "output_type": "display_data"
    },
    {
     "data": {
      "text/latex": [
       "$\\displaystyle \\frac{\\partial}{\\partial u{\\left(t,\\epsilon \\right)}} H{\\left(t,x{\\left(t,\\epsilon \\right)},u{\\left(t,\\epsilon \\right)},\\lambda{\\left(t \\right)} \\right)}$"
      ],
      "text/plain": [
       "Derivative(H(t, x(t, \\epsilon), u(t, \\epsilon), \\lambda(t)), u(t, \\epsilon))"
      ]
     },
     "metadata": {},
     "output_type": "display_data"
    },
    {
     "data": {
      "text/latex": [
       "$\\displaystyle \\left(H{\\left(t^{*}_{f},x{\\left(t^{*}_{f},0 \\right)},u{\\left(t^{*}_{f},0 \\right)},\\lambda{\\left(t^{*}_{f} \\right)} \\right)} - \\lambda{\\left(t^{*}_{f} \\right)} \\frac{d}{d t^{*}_{f}} x{\\left(t^{*}_{f},0 \\right)}\\right) \\left. \\frac{d}{d \\epsilon} \\operatorname{t_{f}}{\\left(\\epsilon \\right)} \\right|_{\\substack{ \\epsilon=0 }} + \\int\\limits_{t_{0}}^{t^{*}_{f}} \\left(- \\lambda{\\left(t \\right)} \\left. \\frac{\\partial^{2}}{\\partial t\\partial \\epsilon} x{\\left(t,\\epsilon \\right)} \\right|_{\\substack{ \\epsilon=0 }} + \\frac{d}{d u{\\left(t,0 \\right)}} H{\\left(t,x{\\left(t,0 \\right)},u{\\left(t,0 \\right)},\\lambda{\\left(t \\right)} \\right)} \\left. \\frac{\\partial}{\\partial \\epsilon} u{\\left(t,\\epsilon \\right)} \\right|_{\\substack{ \\epsilon=0 }} + \\frac{d}{d x{\\left(t,0 \\right)}} H{\\left(t,x{\\left(t,0 \\right)},u{\\left(t,0 \\right)},\\lambda{\\left(t \\right)} \\right)} \\left. \\frac{\\partial}{\\partial \\epsilon} x{\\left(t,\\epsilon \\right)} \\right|_{\\substack{ \\epsilon=0 }}\\right)\\, dt + \\left. \\frac{d}{d \\epsilon} \\phi{\\left(\\epsilon \\right)} \\right|_{\\substack{ \\epsilon=0 }}$"
      ],
      "text/plain": [
       "(H(t_f^*, x(t_f^*, 0), u(t_f^*, 0), \\lambda(t_f^*)) - \\lambda(t_f^*)*Derivative(x(t_f^*, 0), t_f^*))*Subs(Derivative(t_f(\\epsilon), \\epsilon), \\epsilon, 0) + Integral(-\\lambda(t)*Subs(Derivative(x(t, \\epsilon), \\epsilon, t), \\epsilon, 0) + Derivative(H(t, x(t, 0), u(t, 0), \\lambda(t)), u(t, 0))*Subs(Derivative(u(t, \\epsilon), \\epsilon), \\epsilon, 0) + Derivative(H(t, x(t, 0), u(t, 0), \\lambda(t)), x(t, 0))*Subs(Derivative(x(t, \\epsilon), \\epsilon), \\epsilon, 0), (t, t_0, t_f^*)) + Subs(Derivative(\\phi(\\epsilon), \\epsilon), \\epsilon, 0)"
      ]
     },
     "metadata": {},
     "output_type": "display_data"
    }
   ],
   "source": [
    "import sympy as sy\n",
    "from IPython.display import display\n",
    "t = sy.Symbol('t', real=True)\n",
    "t0 = sy.Symbol('t_0', real=True)\n",
    "tf = sy.Symbol('t_f', real=True)\n",
    "eps = sy.Symbol(r'\\epsilon', real=True)\n",
    "\n",
    "x = sy.Function('x', real=True)(t, eps)\n",
    "xDot = sy.diff(x, t)\n",
    "u = sy.Function('u', real=True)(t, eps)\n",
    "lmd = sy.Function(r'\\lambda', real=True)(t)\n",
    "\n",
    "def subsWithTf(funcSym) :\n",
    "    return funcSym.subs(t, tf)\n",
    "\n",
    "f = sy.Function('f', real=True)(t, x, u)\n",
    "L = sy.Function('L', real=True)(t, x, u)\n",
    "termCost = sy.Function(r'\\phi')(eps)\n",
    "J = termCost + sy.Integral(L, (t, t0, tf))\n",
    "H = L + lmd*f\n",
    "HAsSym = sy.Function('H')(t, x, u, lmd)\n",
    "JExtended = termCost + sy.Integral(HAsSym-lmd*xDot, (t, t0, tf))\n",
    "#tAsFunc = sy.Function('t')(eps)\n",
    "tfAsFunc = sy.Function('t_f')\n",
    "tfOpt = sy.Symbol('t_f^*')\n",
    "tfOfEps = tfAsFunc(eps)\n",
    "JOfEps = termCost.subs(t, tfOfEps) + sy.Integral((HAsSym-lmd*xDot), (t, t0, tf)).subs(tf, tfOfEps)\n",
    "display(JOfEps)\n",
    "#clean up\n",
    "Hu = sy.Function(\"H_u\")(t, x, u, lmd)\n",
    "dHdu = HAsSym.diff(u)\n",
    "\n",
    "djdEps = JOfEps.diff(eps).subs(dHdu, Hu).subs(eps, 0).subs(tfAsFunc(0), tfOpt)\n",
    "display(djdEps)\n",
    "\n",
    "\n",
    "display(dHdu)\n",
    "djCleaner = djdEps.subs(dHdu, Hu)\n",
    "display(djCleaner)"
   ]
  }
 ],
 "metadata": {
  "interpreter": {
   "hash": "d3a7bff9b0ece80a6a4bcaffb870b1f82d9a6c892aab1bd79f7423714be328f3"
  },
  "kernelspec": {
   "display_name": "Python 3.8.12 ('base')",
   "language": "python",
   "name": "python3"
  },
  "language_info": {
   "codemirror_mode": {
    "name": "ipython",
    "version": 3
   },
   "file_extension": ".py",
   "mimetype": "text/x-python",
   "name": "python",
   "nbconvert_exporter": "python",
   "pygments_lexer": "ipython3",
   "version": "3.8.12"
  },
  "orig_nbformat": 4
 },
 "nbformat": 4,
 "nbformat_minor": 2
}
