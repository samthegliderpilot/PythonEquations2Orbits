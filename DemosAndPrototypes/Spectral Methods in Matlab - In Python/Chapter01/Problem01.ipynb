{
 "cells": [
  {
   "cell_type": "markdown",
   "id": "f4e05251",
   "metadata": {},
   "source": [
    "### 1.1 \n",
    "Derive the entries of the pentadiagonal circulant matrix like we did for the order 2 matrix.\n",
    "\n",
    "We have the 4th order formula:\n",
    "$$\\frac{dy}{dx} = \\frac{y(x-2h)-8y(x-h)+8y(x+h)-y(x+2h)}{12}$$\n",
    "\n",
    "We make the polynomial:\n",
    "\n",
    "$$ p_j(x) = u_{j-2}a_{-2}(x)+u_{j-1}a_{-1}(x)u_{j}a_{0}(x)+u_{j+1}a_{1}(x)+u_{j+2}a_{2}(x)$$\n",
    "\n",
    "also noting that\n",
    "\n",
    "$p_j(x_{j-2}) = u_{j-2}$, $p_j(x_{j-1}) = u_{j-1}$, $p_j(x_{j}) = u_{j}$, $p_j(x_{j+1}) = u_{j+1}$, and $p_j(x_{j+2}) = u_{j+2}$\n",
    "\n",
    "\n",
    "All in all, this webpage kind of gives us the answer, but writing it out and actually working through it is important.\n",
    "https://pythonnumericalmethods.studentorg.berkeley.edu/notebooks/chapter20.02-Finite-Difference-Approximating-Derivatives.html\n",
    "\n"
   ]
  },
  {
   "cell_type": "code",
   "execution_count": 19,
   "id": "41350bc5",
   "metadata": {},
   "outputs": [
    {
     "data": {
      "text/latex": [
       "$\\displaystyle 2.0 h \\frac{d}{d x} f{\\left(x \\right)} + f{\\left(x - 2.0 \\right)}$"
      ],
      "text/plain": [
       "2.0*h*Derivative(f(x), x) + f(x - 2.0)"
      ]
     },
     "metadata": {},
     "output_type": "display_data"
    },
    {
     "data": {
      "text/latex": [
       "$\\displaystyle 3.0 h \\frac{d}{d x} f{\\left(x \\right)} + f{\\left(x - 2.0 \\right)} + f{\\left(x - 1.0 \\right)}$"
      ],
      "text/plain": [
       "3.0*h*Derivative(f(x), x) + f(x - 2.0) + f(x - 1.0)"
      ]
     },
     "metadata": {},
     "output_type": "display_data"
    },
    {
     "data": {
      "text/latex": [
       "$\\displaystyle 2.0 h \\frac{d}{d x} f{\\left(x \\right)} + f{\\left(x - 2.0 \\right)} + f{\\left(x - 1.0 \\right)} + f{\\left(x + 1.0 \\right)}$"
      ],
      "text/plain": [
       "2.0*h*Derivative(f(x), x) + f(x - 2.0) + f(x - 1.0) + f(x + 1.0)"
      ]
     },
     "metadata": {},
     "output_type": "display_data"
    },
    {
     "data": {
      "text/latex": [
       "$\\displaystyle f{\\left(x - 2.0 \\right)} + f{\\left(x - 1.0 \\right)} + f{\\left(x + 1.0 \\right)} + f{\\left(x + 2.0 \\right)}$"
      ],
      "text/plain": [
       "f(x - 2.0) + f(x - 1.0) + f(x + 1.0) + f(x + 2.0)"
      ]
     },
     "metadata": {},
     "output_type": "display_data"
    },
    {
     "data": {
      "text/latex": [
       "$\\displaystyle f{\\left(x - 2.0 \\right)} + f{\\left(x - 1.0 \\right)} + f{\\left(x + 1.0 \\right)} + f{\\left(x + 2.0 \\right)}$"
      ],
      "text/plain": [
       "f(x - 2.0) + f(x - 1.0) + f(x + 1.0) + f(x + 2.0)"
      ]
     },
     "metadata": {},
     "output_type": "display_data"
    }
   ],
   "source": [
    "import sympy as sy\n",
    "from IPython.display import display\n",
    "x = sy.Symbol('x', real=True)\n",
    "\n",
    "xjm2 = sy.Symbol('x_{j-2}', real=True)\n",
    "xjm1 = sy.Symbol('x_{j-1}', real=True)\n",
    "xj0 = sy.Symbol('x_{j}', real=True)\n",
    "xjp1 = sy.Symbol('x_{j+1}', real=True)\n",
    "xjp2 = sy.Symbol('x_{j+2}', real=True)\n",
    "\n",
    "ujm2 = sy.Symbol('u_{j-2}', real=True)\n",
    "ujm1 = sy.Symbol('u_{j-1}', real=True)\n",
    "uj0 = sy.Symbol('u_{j}', real=True)\n",
    "ujp1 = sy.Symbol('u_{j+1}', real=True)\n",
    "ujp2 = sy.Symbol('u_{j+2}', real=True)\n",
    "\n",
    "am2 = sy.Function('a_{-2}', real=True)(x)\n",
    "am1 = sy.Function('a_{-1}', real=True)(x)\n",
    "a0 = sy.Function('a_{j}', real=True)(x)\n",
    "ap1 = sy.Function('a_{1}', real=True)(x)\n",
    "ap2 = sy.Function('a_{2}', real=True)(x)\n",
    "\n",
    "p = ujm2*am2 + ujm1*am1 + uj0*a0 + ujp1*ap1 + ujp2*ap2\n",
    "\n",
    "pOfX = sy.Function(\"p\", real=True)(x)\n",
    "pjxm1 = ujm1\n",
    "\n",
    "def centralDifferenceOfOrder(x, order, h):\n",
    "    f = sy.Function('f', real=True)\n",
    "    dfdx = f(x).diff(x)\n",
    "    \n",
    "    sums = 0\n",
    "    half = order/2\n",
    "    for i in range(0, order+1):\n",
    "        n = i-half\n",
    "        if n == 0:\n",
    "            continue\n",
    "        #val = sy.solve(sy.Eq(f(x+n), n*h*dfdx), dfdx)[0]\n",
    "        val = f(x+n)- n*h*dfdx\n",
    "        sums = sums +val\n",
    "        display(sums)\n",
    "    return sums\n",
    "h= sy.Symbol(\"h\", integer=True, real=True)\n",
    "display(centralDifferenceOfOrder(x, 4, h))"
   ]
  },
  {
   "cell_type": "code",
   "execution_count": 24,
   "id": "652f15ab",
   "metadata": {},
   "outputs": [
    {
     "data": {
      "text/latex": [
       "$\\displaystyle \\left[\\begin{matrix}1 & 0 & 0\\\\1 & - h & \\frac{h^{2}}{2}\\\\1 & h & \\frac{h^{2}}{2}\\end{matrix}\\right]$"
      ],
      "text/plain": [
       "Matrix([\n",
       "[1,  0,      0],\n",
       "[1, -h, h**2/2],\n",
       "[1,  h, h**2/2]])"
      ]
     },
     "metadata": {},
     "output_type": "display_data"
    },
    {
     "name": "stdout",
     "output_type": "stream",
     "text": [
      "The second-order accurate approximation for the first derivative is: \n"
     ]
    },
    {
     "data": {
      "text/latex": [
       "$\\displaystyle \\frac{F_{i+1} - F_{i-1}}{2 h}$"
      ],
      "text/plain": [
       "(F_{i+1} - F_{i-1})/(2*h)"
      ]
     },
     "metadata": {},
     "output_type": "display_data"
    }
   ],
   "source": [
    "from __future__ import print_function\n",
    "\n",
    "from sympy import *\n",
    "\n",
    "x, x0, h = symbols('x, x_i, h')\n",
    "\n",
    "Fi, Fim1, Fip1 = symbols('F_{i}, F_{i-1}, F_{i+1}')\n",
    "\n",
    "n = 3 # there are the coefficients c_0=Fi,  c_1=dF/h,  c_2=d**2F/h**2\n",
    "\n",
    "c = symbols('c:3')\n",
    "\n",
    "# define a polynomial of degree n\n",
    "\n",
    "def P(x, x0, c, n):\n",
    "\n",
    "   return sum( ((1/factorial(i))*c[i] * (x-x0)**i for i in range(n)) )\n",
    "\n",
    "# now we make a matrix consisting of the coefficients\n",
    "\n",
    "# of the c_i in the nth degree polynomial P\n",
    "\n",
    "# coefficients of c_i evaluated at x_i\n",
    "\n",
    "m11 = P(x0 , x0, c, n).diff(c[0])\n",
    "\n",
    "m12 = P(x0 , x0, c, n).diff(c[1])\n",
    "\n",
    "m13 = P(x0 , x0, c, n).diff(c[2])\n",
    "\n",
    "# coefficients of c_i evaluated at x_i - h\n",
    "\n",
    "m21 = P(x0-h, x0, c, n).diff(c[0])\n",
    "\n",
    "m22 = P(x0-h, x0, c, n).diff(c[1])\n",
    "\n",
    "m23 = P(x0-h, x0, c, n).diff(c[2])\n",
    "\n",
    "# coefficients of c_i evaluated at x_i + h\n",
    "\n",
    "m31 = P(x0+h, x0, c, n).diff(c[0])\n",
    "\n",
    "m32 = P(x0+h, x0, c, n).diff(c[1])\n",
    "\n",
    "m33 = P(x0+h, x0, c, n).diff(c[2])\n",
    "\n",
    "# matrix of the coefficients is 3x3 in this case\n",
    "\n",
    "M = Matrix([[m11, m12, m13], [m21, m22, m23], [m31, m32, m33]])\n",
    "display(M)\n",
    "# matrix of the function values...actually a vector of right hand sides\n",
    "\n",
    "R = Matrix([[Fi], [Fim1], [Fip1]])\n",
    "\n",
    "# matrix form of the three equations for the c_i is M*X = R\n",
    "\n",
    "# solution directly inverting the 3x3 matrix M:\n",
    "\n",
    "X =  M.inv() * R\n",
    "\n",
    "# note that all three coefficients make up the solution\n",
    "\n",
    "# the first derivative is coefficient c_1 which is X[1].\n",
    "\n",
    "print(\"The second-order accurate approximation for the first derivative is: \")\n",
    "\n",
    "\n",
    "display(together(X[1]))"
   ]
  }
 ],
 "metadata": {
  "kernelspec": {
   "display_name": "py310OptFun",
   "language": "python",
   "name": "python3"
  },
  "language_info": {
   "codemirror_mode": {
    "name": "ipython",
    "version": 3
   },
   "file_extension": ".py",
   "mimetype": "text/x-python",
   "name": "python",
   "nbconvert_exporter": "python",
   "pygments_lexer": "ipython3",
   "version": "3.10.15"
  }
 },
 "nbformat": 4,
 "nbformat_minor": 5
}
