{
 "cells": [
  {
   "cell_type": "code",
   "execution_count": 2,
   "metadata": {},
   "outputs": [
    {
     "data": {
      "application/vnd.jupyter.widget-view+json": {
       "model_id": "68828afdc7da4fb88b74913c98216f83",
       "version_major": 2,
       "version_minor": 0
      },
      "text/plain": [
       "RFBOutputContext()"
      ]
     },
     "metadata": {},
     "output_type": "display_data"
    }
   ],
   "source": [
    "%gui qt\n",
    "import vispy.app\n",
    "vispy.app.use_app('ipynb_webgl')\n",
    "from vispy import plot as vp\n",
    "fig = vp.Fig(show=False)\n",
    "fig1 = fig[0, 0]\n",
    "fig1.plot(range(10000),marker_size=0)\n",
    "fig.show(run=True)"
   ]
  },
  {
   "cell_type": "code",
   "execution_count": null,
   "metadata": {},
   "outputs": [],
   "source": [
    "from czml3.examples import simple\n",
    "from czml3.widget import CZMLWidget\n",
    "CZMLWidget(simple)"
   ]
  }
 ],
 "metadata": {
  "kernelspec": {
   "display_name": "Python 3 (ipykernel)",
   "language": "python",
   "name": "python3"
  },
  "language_info": {
   "codemirror_mode": {
    "name": "ipython",
    "version": 3
   },
   "file_extension": ".py",
   "mimetype": "text/x-python",
   "name": "python",
   "nbconvert_exporter": "python",
   "pygments_lexer": "ipython3",
   "version": "3.8.13"
  },
  "vscode": {
   "interpreter": {
    "hash": "c11be2252a29b1061c5ed3399b19a7961633b5ac10e84658cb3159dc3098bc91"
   }
  }
 },
 "nbformat": 4,
 "nbformat_minor": 2
}
