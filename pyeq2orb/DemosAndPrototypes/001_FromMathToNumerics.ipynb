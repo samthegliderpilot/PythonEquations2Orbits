{
 "cells": [
  {
   "cell_type": "code",
   "execution_count": 1,
   "metadata": {},
   "outputs": [
    {
     "data": {
      "text/markdown": [
       "# Creating a NLP Solver for Optimal Control Problems"
      ],
      "text/plain": [
       "<IPython.core.display.Markdown object>"
      ]
     },
     "metadata": {},
     "output_type": "display_data"
    },
    {
     "data": {
      "text/markdown": [
       "I've always found it challenging to take a paper in a journal or a professional pdf found online, and turn it into something that can be used to actually crank out numbers. Part of me making this library is also me learning how to solve a NLP."
      ],
      "text/plain": [
       "<IPython.core.display.Markdown object>"
      ]
     },
     "metadata": {},
     "output_type": "display_data"
    },
    {
     "data": {
      "text/markdown": [
       "I want to thank Matthew Kelly for writing several very helpful PDF's, especially \"An Introduction to Trajectory Optimization: How to Do Your Own Direct Collocation\".  This problem is from that paper. To start, we are going to define this simple problem, and then run a trapezoidal rule NLP solver.  You can find that paper here. https://epubs.siam.org/doi/pdf/10.1137/16M1062569"
      ],
      "text/plain": [
       "<IPython.core.display.Markdown object>"
      ]
     },
     "metadata": {},
     "output_type": "display_data"
    }
   ],
   "source": [
    "from IPython.display import display\n",
    "import scipyPaperPrinter as jh\n",
    "import sympy as sy\n",
    "# import os\n",
    "# import sys\n",
    "# thisFile = os.path.abspath(\"\")#os.path.abspath(__file__)\n",
    "# sys.path.append(os.path.abspath(thisFile + '..\\\\..\\\\..\\\\'))\n",
    "\n",
    "jh.printMarkdown(\"# Creating a NLP Solver for Optimal Control Problems\")\n",
    "\n",
    "firstParagraph = \"\" \\\n",
    "+ \"I've always found it challenging to take a paper in a journal or a professional pdf \" \\\n",
    "+ \"found online, and turn it into something that can be used to actually crank out numbers. \" \\\n",
    "+ \"Part of me making this library is also me learning how to solve a NLP.\"\n",
    "\n",
    "jh.printMarkdown(firstParagraph)\n",
    "\n",
    "secondParagraph = \"\" \\\n",
    "+ \"I want to thank Matthew Kelly for writing several very helpful PDF's, especially \\\"An Introduction to Trajectory Optimization: How to Do Your Own Direct Collocation\\\".  This problem is from that paper. \" \\\n",
    "+ \"To start, we are going to define this simple problem, and then run a trapezoidal rule NLP solver.  You can find that paper here. \" \\\n",
    "+ 'https://epubs.siam.org/doi/pdf/10.1137/16M1062569'\n",
    "\n",
    "jh.printMarkdown(secondParagraph)"
   ]
  },
  {
   "cell_type": "code",
   "execution_count": 2,
   "metadata": {},
   "outputs": [
    {
     "data": {
      "text/markdown": [
       "First we will define our problem. This is a 1 dimensional \"block moving\" problem from [An Introduction to Trajectory Optimization: How to Do Your Own Direct Collocation](https://epubs.siam.org/doi/pdf/10.1137/16M1062569). I highly recommend reading that paper.  I will be referring to it a great deal in the coming examples."
      ],
      "text/plain": [
       "<IPython.core.display.Markdown object>"
      ]
     },
     "metadata": {},
     "output_type": "display_data"
    },
    {
     "data": {
      "text/markdown": [
       "The problem has a block moving from 0 to 1 distance units at some speed.  Our control is the force applied to the block. The dynamics are"
      ],
      "text/plain": [
       "<IPython.core.display.Markdown object>"
      ]
     },
     "metadata": {},
     "output_type": "display_data"
    },
    {
     "data": {
      "text/latex": [
       "$\\displaystyle v{\\left(t \\right)}$"
      ],
      "text/plain": [
       "v(t)"
      ]
     },
     "metadata": {},
     "output_type": "display_data"
    },
    {
     "data": {
      "text/latex": [
       "$\\displaystyle \\frac{d}{d t} x = v$"
      ],
      "text/plain": [
       "Eq(Derivative(x, t), v)"
      ]
     },
     "metadata": {},
     "output_type": "display_data"
    },
    {
     "data": {
      "text/latex": [
       "$\\displaystyle \\frac{d}{d t} v = u$"
      ],
      "text/plain": [
       "Eq(Derivative(v, t), u)"
      ]
     },
     "metadata": {},
     "output_type": "display_data"
    },
    {
     "data": {
      "text/markdown": [
       "Over the following time range and with the following boundary conditions:"
      ],
      "text/plain": [
       "<IPython.core.display.Markdown object>"
      ]
     },
     "metadata": {},
     "output_type": "display_data"
    },
    {
     "data": {
      "text/latex": [
       "$\\displaystyle t_{initial} = 0$"
      ],
      "text/plain": [
       "Eq(t_{initial}, 0)"
      ]
     },
     "metadata": {},
     "output_type": "display_data"
    },
    {
     "data": {
      "text/latex": [
       "$\\displaystyle t_{final} = 1$"
      ],
      "text/plain": [
       "Eq(t_{final}, 1)"
      ]
     },
     "metadata": {},
     "output_type": "display_data"
    },
    {
     "data": {
      "text/latex": [
       "$\\displaystyle x(0) = 0$"
      ],
      "text/plain": [
       "Eq(x(0), 0)"
      ]
     },
     "metadata": {},
     "output_type": "display_data"
    },
    {
     "data": {
      "text/latex": [
       "$\\displaystyle x(1) = 1$"
      ],
      "text/plain": [
       "Eq(x(1), 1)"
      ]
     },
     "metadata": {},
     "output_type": "display_data"
    },
    {
     "data": {
      "text/latex": [
       "$\\displaystyle v_{x(0)} = 0$"
      ],
      "text/plain": [
       "Eq(v_x(0), 0)"
      ]
     },
     "metadata": {},
     "output_type": "display_data"
    },
    {
     "data": {
      "text/latex": [
       "$\\displaystyle v_{x(1)} = 0$"
      ],
      "text/plain": [
       "Eq(v_x(1), 0)"
      ]
     },
     "metadata": {},
     "output_type": "display_data"
    },
    {
     "data": {
      "text/markdown": [
       "And we want to minimize the force, which for convenience will be minimizing the square of the control"
      ],
      "text/plain": [
       "<IPython.core.display.Markdown object>"
      ]
     },
     "metadata": {},
     "output_type": "display_data"
    },
    {
     "data": {
      "text/latex": [
       "$\\displaystyle \\int\\limits_{0}^{1} u^{2}{\\left(t \\right)}\\, dt$"
      ],
      "text/plain": [
       "Integral(u(t)**2, (t, 0, 1))"
      ]
     },
     "metadata": {},
     "output_type": "display_data"
    },
    {
     "data": {
      "text/markdown": [
       "This can be solved with calculus of variation techniques. But because we can find a complete solution, it makes a great first test problem. This is a problem in the Lagrange form as it is only an integral. We are going to use the helper type wrapping this problem."
      ],
      "text/plain": [
       "<IPython.core.display.Markdown object>"
      ]
     },
     "metadata": {},
     "output_type": "display_data"
    }
   ],
   "source": [
    "thirdParagraph = \"\" \\\n",
    "+ \"First we will define our problem. This is a 1 dimensional \\\"block moving\\\" problem from [An Introduction to Trajectory Optimization: How to Do Your Own Direct Collocation](https://epubs.siam.org/doi/pdf/10.1137/16M1062569). \" \\\n",
    "+ \"I highly recommend reading that paper.  I will be referring to it a great deal in the coming examples.\"\n",
    "\n",
    "jh.printMarkdown(thirdParagraph)\n",
    "\n",
    "fourthParagraph = \\\n",
    "\"The problem has a block moving from 0 to 1 distance units at some speed.  Our control is the force applied to the block. The dynamics are\"\n",
    "jh.printMarkdown(fourthParagraph)\n",
    "\n",
    "tSy = sy.Symbol('t')\n",
    "xSy = sy.Function('x')(tSy)\n",
    "vSy = sy.Function('v')(tSy)\n",
    "uSy = sy.Function('u')(tSy)\n",
    "xDotSy = sy.diff(xSy, tSy)\n",
    "vxDotSy = sy.diff(vSy, tSy)\n",
    "display(vSy)\n",
    "jh.showEquation(xDotSy, vSy)\n",
    "jh.showEquation(vxDotSy, uSy)\n",
    "\n",
    "fifthParagraph = \\\n",
    "\"Over the following time range and with the following boundary conditions:\"\n",
    "jh.printMarkdown(fifthParagraph)\n",
    "\n",
    "jh.showEquation(\"t_{initial}\", 0)\n",
    "jh.showEquation(\"t_{final}\", 1)\n",
    "jh.showEquation(\"x(0)\", 0)\n",
    "jh.showEquation(\"x(1)\", 1)\n",
    "jh.showEquation(\"v_x(0)\", 0)\n",
    "jh.showEquation(\"v_x(1)\", 0)\n",
    "\n",
    "sixthParagraph = \\\n",
    "\"And we want to minimize the force, which for convenience will be minimizing the square of the control\"\n",
    "jh.printMarkdown(sixthParagraph)\n",
    "\n",
    "display(sy.integrate(uSy**2, (tSy, 0, 1)))\n",
    "\n",
    "seventhParagraph = \\\n",
    "\"This can be solved with calculus of variation techniques. \" \\\n",
    "+ \"But because we can find a complete solution, it makes a great first test problem. \" \\\n",
    "+ \"This is a problem in the Lagrange form as it is only an integral. We are going to use \"\\\n",
    "+ \"the helper type wrapping this problem.\"\n",
    "\n",
    "jh.printMarkdown(seventhParagraph)"
   ]
  },
  {
   "cell_type": "code",
   "execution_count": 4,
   "metadata": {},
   "outputs": [
    {
     "ename": "ImportError",
     "evalue": "attempted relative import with no known parent package",
     "output_type": "error",
     "traceback": [
      "\u001b[1;31m---------------------------------------------------------------------------\u001b[0m",
      "\u001b[1;31mImportError\u001b[0m                               Traceback (most recent call last)",
      "\u001b[1;32mc:\\src\\PythonEquations2Orbits\\pyeq2orb\\DemosAndPrototypes\\001_FromMathToNumerics.ipynb Cell 3\u001b[0m line \u001b[0;36m6\n\u001b[0;32m      <a href='vscode-notebook-cell:/c%3A/src/PythonEquations2Orbits/pyeq2orb/DemosAndPrototypes/001_FromMathToNumerics.ipynb#W2sZmlsZQ%3D%3D?line=0'>1</a>\u001b[0m \u001b[39m# import sys\u001b[39;00m\n\u001b[0;32m      <a href='vscode-notebook-cell:/c%3A/src/PythonEquations2Orbits/pyeq2orb/DemosAndPrototypes/001_FromMathToNumerics.ipynb#W2sZmlsZQ%3D%3D?line=1'>2</a>\u001b[0m \u001b[39m# sys.path.append(\"..\") # treating this as a jupyter-like cell requires adding one directory up\u001b[39;00m\n\u001b[0;32m      <a href='vscode-notebook-cell:/c%3A/src/PythonEquations2Orbits/pyeq2orb/DemosAndPrototypes/001_FromMathToNumerics.ipynb#W2sZmlsZQ%3D%3D?line=2'>3</a>\u001b[0m \u001b[39m# sys.path.append(\"../pyeq2orb\") # and this line is needed for running like a normal python script\u001b[39;00m\n\u001b[0;32m      <a href='vscode-notebook-cell:/c%3A/src/PythonEquations2Orbits/pyeq2orb/DemosAndPrototypes/001_FromMathToNumerics.ipynb#W2sZmlsZQ%3D%3D?line=3'>4</a>\u001b[0m \u001b[39m# these two appends do not conflict with eachother\u001b[39;00m\n\u001b[0;32m      <a href='vscode-notebook-cell:/c%3A/src/PythonEquations2Orbits/pyeq2orb/DemosAndPrototypes/001_FromMathToNumerics.ipynb#W2sZmlsZQ%3D%3D?line=4'>5</a>\u001b[0m \u001b[39mimport\u001b[39;00m \u001b[39mmatplotlib\u001b[39;00m\u001b[39m.\u001b[39;00m\u001b[39mpyplot\u001b[39;00m \u001b[39mas\u001b[39;00m \u001b[39mplt\u001b[39;00m\n\u001b[1;32m----> <a href='vscode-notebook-cell:/c%3A/src/PythonEquations2Orbits/pyeq2orb/DemosAndPrototypes/001_FromMathToNumerics.ipynb#W2sZmlsZQ%3D%3D?line=5'>6</a>\u001b[0m \u001b[39mfrom\u001b[39;00m \u001b[39m.\u001b[39;00m\u001b[39mpyeq2orb\u001b[39;00m\u001b[39m.\u001b[39;00m\u001b[39mProblems\u001b[39;00m \u001b[39mimport\u001b[39;00m OneDimensionalMinimalWorkProblem \u001b[39mas\u001b[39;00m OneDWorkProblemModule\n\u001b[0;32m      <a href='vscode-notebook-cell:/c%3A/src/PythonEquations2Orbits/pyeq2orb/DemosAndPrototypes/001_FromMathToNumerics.ipynb#W2sZmlsZQ%3D%3D?line=6'>7</a>\u001b[0m \u001b[39mfrom\u001b[39;00m \u001b[39m.\u001b[39;00m\u001b[39mpyeq2orb\u001b[39;00m\u001b[39m.\u001b[39;00m\u001b[39mSolvers\u001b[39;00m\u001b[39m.\u001b[39;00m\u001b[39mScipyDiscretizationMinimizeWrapper\u001b[39;00m \u001b[39mimport\u001b[39;00m ScipyDiscretizationMinimizeWrapper\n\u001b[0;32m      <a href='vscode-notebook-cell:/c%3A/src/PythonEquations2Orbits/pyeq2orb/DemosAndPrototypes/001_FromMathToNumerics.ipynb#W2sZmlsZQ%3D%3D?line=8'>9</a>\u001b[0m n \u001b[39m=\u001b[39m \u001b[39m9\u001b[39m \u001b[39m# coarse enough to see a small difference from the analytical solution\u001b[39;00m\n",
      "\u001b[1;31mImportError\u001b[0m: attempted relative import with no known parent package"
     ]
    }
   ],
   "source": [
    "# import sys\n",
    "# sys.path.append(\"..\") # treating this as a jupyter-like cell requires adding one directory up\n",
    "# sys.path.append(\"../pyeq2orb\") # and this line is needed for running like a normal python script\n",
    "# these two appends do not conflict with eachother\n",
    "import matplotlib.pyplot as plt\n",
    "from pyeq2orb.Problems import OneDimensionalMinimalWorkProblem as OneDWorkProblemModule\n",
    "from pyeq2orb.Solvers.ScipyDiscretizationMinimizeWrapper import ScipyDiscretizationMinimizeWrapper\n",
    "\n",
    "n = 9 # coarse enough to see a small difference from the analytical solution\n",
    "oneDWorkProblem = OneDWorkProblemModule.OneDWorkProblem()\n",
    "scipySolver = ScipyDiscretizationMinimizeWrapper(oneDWorkProblem)\n",
    "ans = scipySolver.ScipyOptimize(n)\n",
    "plotableNumericalAnswer = scipySolver.ConvertScipyOptimizerOutputToDictionary(ans)\n",
    "\n",
    "print(ans.success)\n",
    "print(ans.message)\n",
    "\n",
    "t = oneDWorkProblem.CreateTimeRange(n)\n",
    "analyticalAnswerEvaluator = OneDWorkProblemModule.AnalyticalAnswerToProblem()\n",
    "analyticalAnswer = analyticalAnswerEvaluator.EvaluateAnswer(oneDWorkProblem, t)\n",
    "\n",
    "fig = plt.figure()\n",
    "oneDWorkProblem.AddResultsToFigure(fig, t, analyticalAnswer, \"Analytical Answer\")\n",
    "oneDWorkProblem.AddResultsToFigure(fig, t, plotableNumericalAnswer, \"Numerical Answer\")\n",
    "plt.show()"
   ]
  },
  {
   "cell_type": "markdown",
   "metadata": {},
   "source": [
    "By using only 9 points we keep the problem fast, but we also see some small deviation between the analytical and numerical solution."
   ]
  }
 ],
 "metadata": {
  "kernelspec": {
   "display_name": "Python 3.8.13 ('Py38OptFun')",
   "language": "python",
   "name": "python3"
  },
  "language_info": {
   "codemirror_mode": {
    "name": "ipython",
    "version": 3
   },
   "file_extension": ".py",
   "mimetype": "text/x-python",
   "name": "python",
   "nbconvert_exporter": "python",
   "pygments_lexer": "ipython3",
   "version": "3.9.16"
  },
  "orig_nbformat": 4,
  "vscode": {
   "interpreter": {
    "hash": "c11be2252a29b1061c5ed3399b19a7961633b5ac10e84658cb3159dc3098bc91"
   }
  }
 },
 "nbformat": 4,
 "nbformat_minor": 2
}
