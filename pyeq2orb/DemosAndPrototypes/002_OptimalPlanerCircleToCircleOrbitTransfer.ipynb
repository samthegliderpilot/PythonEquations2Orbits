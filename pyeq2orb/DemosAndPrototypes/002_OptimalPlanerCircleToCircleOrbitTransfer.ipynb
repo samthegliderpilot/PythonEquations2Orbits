{
 "cells": [
  {
   "cell_type": "markdown",
   "metadata": {},
   "source": [
    "# Optimal Planer Circle to Circle Orbit Transfer\n",
    "This problem was recreated from Optimal Control with Aerospace Applications by James M. Longuski, Jose J. Guzman and John E. Prussing.  Thank you all for this (and Jose, sorry for not figuring out accents in Markdown, and we should talk about the difficulties you had in Appendix C.  A rule of thumb that works for pure numerical methods fails for indirect methods and I think that caused problems for you).\n",
    "\n",
    "We are going to solve the optimal continuous thrust transfer between 2 circular orbits in the same orbit plane.  The specifics of the problem are posed as transfer from a low-Earth orbit to a Geo orbit.  We will start with the equations of motion, constants and constraints, and go through deriving the optimal control conditions that we can solve (the indirect method).  Then, we will solve the problem using direct methods leveraging the python library pyomo.\n",
    "\n",
    "Note that included in this folder are two files, one for the indirect method and one for the direct (pyomo) method that are a single script. If you want to start editing things, I highly recommend playing with those instead of this juypter notebook.\n",
    "\n",
    "## The Indirect Method\n",
    "\n",
    "We start with importing all of the python libraries that we need for the indirect methods."
   ]
  },
  {
   "cell_type": "code",
   "execution_count": null,
   "metadata": {},
   "outputs": [],
   "source": [
    "import sys\n",
    "import os\n",
    "sys.path.insert(1, os.path.dirname(os.path.dirname(sys.path[0]))) # need to import 2 directories up\n",
    "# these two appends do not conflict with eachother\n",
    "\n",
    "from IPython.display import display\n",
    "from scipy.integrate import solve_ivp\n",
    "import matplotlib.pyplot as plt\n",
    "import numpy as np\n",
    "import sympy as sy\n",
    "import math\n",
    "from scipy.optimize import fsolve\n",
    "from pyeq2orb.SymbolicOptimizerProblem import SymbolicProblem\n",
    "from pyeq2orb.ScaledSymbolicProblem import ScaledSymbolicProblem\n",
    "from pyeq2orb.Problems.ContinuousThrustCircularOrbitTransfer import ContinuousThrustCircularOrbitTransferProblem\n",
    "from pyeq2orb.Numerical import ScipyCallbackCreators\n",
    "from pyeq2orb.Numerical.LambdifyModule import LambdifyHelper\n",
    "from pyeq2orb.Utilities.SolutionDictionaryFunctions import GetValueFromStateDictionaryAtIndex\n",
    "import scipyPaperPrinter as jh\n",
    "from datetime import datetime\n",
    "print(str(datetime.now()))\n",
    "# constants\n",
    "g = 9.80665\n",
    "mu = 3.986004418e14  \n",
    "thrust = 20.0\n",
    "isp = 6000.0\n",
    "m0 = 1500.0\n",
    "\n",
    "# initial values\n",
    "r0 = 6678000.0\n",
    "u0 = 0.0\n",
    "v0 = sy.sqrt(mu/r0) # circular\n",
    "lon0 = 0.0\n",
    "# I know from many previous runs that this is the time needed to go from LEO to GEO.\n",
    "# However, below works well wrapped in another fsolve to control the final time for a desired radius.\n",
    "tfVal  = 3600*3.97152*24 \n",
    "tfOrg = tfVal"
   ]
  },
  {
   "cell_type": "markdown",
   "metadata": {},
   "source": [
    "We have a few choices to make.  Scaling the problem often leads to better convergence behavior.  This problem is set up to scale or not with a changing of this boolean.  There are 2 things we can scale.  The orbital elements, and/or the time.  I haven't really looked at scaling the time without scaling the elements too, but there's no reason why you can.\n",
    "\n",
    "We also start defining our problem here."
   ]
  },
  {
   "cell_type": "code",
   "execution_count": null,
   "metadata": {},
   "outputs": [],
   "source": [
    "# these are options to switch to try different things\n",
    "scaleElements = False\n",
    "scaleTime = scaleElements and True\n",
    "\n",
    "# make the time array\n",
    "tArray = np.linspace(0.0, tfOrg, 1200)\n",
    "if scaleTime:\n",
    "    tfVal = 1.0\n",
    "    tArray = np.linspace(0.0, 1.0, 1200)"
   ]
  },
  {
   "cell_type": "code",
   "execution_count": null,
   "metadata": {},
   "outputs": [],
   "source": [
    "baseProblem = ContinuousThrustCircularOrbitTransferProblem()\n",
    "\n",
    "initialStateValues = baseProblem.CreateVariablesAtTime0(baseProblem.StateVariables)\n",
    "problem = baseProblem\n",
    "\n",
    "if scaleElements :\n",
    "    newSvs = ScaledSymbolicProblem.CreateBarVariables(problem.StateVariables, problem.TimeSymbol) \n",
    "    #TODO this next bit could be cleaner...\n",
    "    problem = ScaledSymbolicProblem(baseProblem, newSvs, {problem.StateVariables[0]: initialStateValues[0], \n",
    "                                                          problem.StateVariables[1]: initialStateValues[2], \n",
    "                                                          problem.StateVariables[2]: initialStateValues[2], \n",
    "                                                          problem.StateVariables[3]: 1} , scaleTime)\n",
    "\n",
    "stateAtTf = SymbolicProblem.SafeSubs(problem.StateVariables, {problem.TimeSymbol: problem.TimeFinalSymbol})\n",
    "\n",
    "# register constants (this dictionary gets shared around)\n",
    "constantsSubsDict = problem.SubstitutionDictionary\n",
    "constantsSubsDict[baseProblem.Isp] = isp\n",
    "constantsSubsDict[baseProblem.MassInitial] = m0\n",
    "constantsSubsDict[baseProblem.Gravity] = g\n",
    "constantsSubsDict[baseProblem.Mu]= mu\n",
    "constantsSubsDict[baseProblem.Thrust] = thrust\n",
    "\n",
    "# register initial state values\n",
    "constantsSubsDict.update(zip(initialStateValues, [r0, u0, v0, lon0]))\n",
    "if scaleElements :\n",
    "    # and reset the real initial values using tau_0 instead of time\n",
    "    initialValuesAtTau0 = SymbolicProblem.SafeSubs(initialStateValues, {baseProblem.TimeInitialSymbol: problem.TimeInitialSymbol})\n",
    "    constantsSubsDict.update(zip(initialValuesAtTau0, [r0, u0, v0, lon0]))\n",
    "\n",
    "    r0= r0/r0\n",
    "    u0=u0/v0\n",
    "    v0=v0/v0\n",
    "    lon0=lon0/1.0\n",
    "    # add the scaled initial values (at tau_0).  We should NOT need to add these at t_0\n",
    "    initialScaledStateValues = problem.CreateVariablesAtTime0(problem.StateVariables)\n",
    "    constantsSubsDict.update(zip(initialScaledStateValues, [r0, u0, v0, lon0]))     \n",
    "\n",
    "\n",
    "    \n",
    "problem.Lambdas.extend(problem.CreateCoVector(problem.StateVariables, r'\\lambda', problem.TimeSymbol)) # preemptively making the costate values\n"
   ]
  },
  {
   "cell_type": "markdown",
   "metadata": {},
   "source": [
    "There is a non-trivial amount of code in both the ContinuousThrustCircularOrbitTransferProblem and in the ScaledSymbolicProblem.  Because I like to keep the equations symbolic as I go, I end up registering the various constants in the system in a dictionary.\n",
    "\n",
    "At this point, let's state our problem.  We want to find the optimal continuous thrust transfer between 2 coplanar circular orbits.  For this particular problem, we pose it as maximizing the final radius and constraining the final orbit to be a circle (we do not constrain the final longitude)."
   ]
  },
  {
   "cell_type": "code",
   "execution_count": null,
   "metadata": {},
   "outputs": [],
   "source": [
    "jh.t = problem._timeSymbol # needed for cleaner printed equations\n",
    "\n",
    "jh.printMarkdown(\"With a given final time, maximize:\")\n",
    "jh.showEquation(\"J\", baseProblem.CostFunction, False)\n",
    "jh.printMarkdown(\"We will find the optimal thrust vector $\\\\alpha(t)$ to achieve this transfer.\")\n",
    "\n",
    "jh.printMarkdown(\"With the following equations of motion:\")\n",
    "for sv,eq in baseProblem.EquationsOfMotion.items() :\n",
    "    jh.showEquation(sv, eq)\n",
    "\n",
    "jh.printMarkdown(\"There are known initial values.  Additionally, we have the following constraints.  The orbit must be circular resulting in $v(t_f)$ obeying a specific equation and $u(t_f)=0$.\")\n",
    "for bc in baseProblem.BoundaryConditions :\n",
    "    jh.showEquation(0, bc, False)\n",
    "\n"
   ]
  },
  {
   "cell_type": "markdown",
   "metadata": {},
   "source": [
    "Now we go through the fairly standard sequence of deriving the optimality conditions.  However, there is enough that makes me hesitate turning this into a standard reusable function.  Almost all optimization problems will require some code to be written and although being concise is good, shorter is not always better than readable.  Better to make it a clear demo.  We create the costate time-varying symbols, adjoin them to the equations of motion, and use the optimal control conditions to derive their equations of motion and derive additional constraints."
   ]
  },
  {
   "cell_type": "code",
   "execution_count": null,
   "metadata": {},
   "outputs": [],
   "source": [
    "# this next block does most of the problem, pretty standard optimal control actions\n",
    "lambdas = problem.Lambdas\n",
    "hamiltonian = problem.CreateHamiltonian(lambdas)\n",
    "jh.showEquation(\"H\", hamiltonian)\n",
    "lambdaDotExpressions = problem.CreateLambdaDotCondition(hamiltonian)\n",
    "for i in range(0, 4):\n",
    "    jh.showEquation(lambdas[i].diff(problem.TimeSymbol), lambdaDotExpressions[i, 0])\n",
    "# NOTE that this call adds the lambdas to the integration state!\n",
    "problem.EquationsOfMotion.update(zip(lambdas, lambdaDotExpressions))\n",
    "\n",
    "dHdu = problem.CreateHamiltonianControlExpressions(hamiltonian)[0]\n",
    "jh.showEquation('\\\\frac{\\\\partial{H}}{\\\\partial{u}}=0', dHdu)\n",
    "jh.printMarkdown(\"Note that because time is explicitly in the Hamiltonian, the partial and total derivatives of H with respect to the controls are not equivalent.  Also the Hamiltonian along the optimal solution will not be constant\")\n",
    "jh.printMarkdown(\"We can use this equation to make an expression for the control variable.\")\n",
    "\n",
    "controlSolved = sy.solve(dHdu, problem.ControlVariables[0])[0] # something that may be different for other problems is when there are multiple control variables\n",
    "jh.showEquation(problem.ControlVariables[0], controlSolved)\n",
    "\n",
    "# update ALL equations of motion with the new expression for the control variable\n",
    "SymbolicProblem.SafeSubs(problem.EquationsOfMotion, {problem.ControlVariables[0]: controlSolved})\n",
    "# the trig simplification needs the deep=True for this problem to make the equations even cleaner\n",
    "for (key, value) in problem.EquationsOfMotion.items() :\n",
    "    problem.EquationsOfMotion[key] = value.trigsimp(deep=True).simplify() # some simplification to make numerical code more stable later, and that is why this code forces us to do things somewhat manually.  There are often special things like this that we ought to do that you can't really automate.\n",
    "    jh.showEquation(key.diff(problem.TimeSymbol), problem.EquationsOfMotion[key])\n",
    "jh.printMarkdown(\"Note the use of the deep parameter when we do the trig simplification.  It is little things like that that require each problem to be a little unique.\")\n"
   ]
  },
  {
   "cell_type": "markdown",
   "metadata": {},
   "source": [
    "We have another choice to make; the transversality condition.  In optimal control theory, the transversality condition provides another optimality condition that we can solve for.  It is a necessary condition both in the \"necessary and sufficient\" context, but also to provide enough non-trivial boundary conditions to solve for.  \n",
    "\n",
    "The first of the two forms is the adjoined method.  Here, the transversality condition is created by by creating additional final (not time varying) scalers that multiply the constraints and get combined with the terminal cost.  The second way is the differential form of the transversality condition that doesn't add in additional variables to solve for.  Really, neither is better or worse (especially for this problem), and I'm just going to pick the differential form.\n",
    "\n",
    "Long story short, we get additional NECESSARY boundary conditions for solving for the alpha that makes the cost stationary if we add in an error variation to the cost."
   ]
  },
  {
   "cell_type": "code",
   "execution_count": null,
   "metadata": {},
   "outputs": [],
   "source": [
    "# your choice of the nu vector here controls which transversality condition we use\n",
    "#nus = [sy.Symbol('B_{u_f}'), sy.Symbol('B_{v_f}')]\n",
    "nus = []\n",
    "\n",
    "# make the transversality conditions\n",
    "if len(nus) != 0:\n",
    "    transversalityCondition = problem.TransversalityConditionsByAugmentation(nus)\n",
    "else:\n",
    "    transversalityCondition = problem.TransversalityConditionInTheDifferentialForm(hamiltonian, sy.Symbol(r'dt_f'))\n",
    "# and add them to the problem\n",
    "problem.BoundaryConditions.extend(transversalityCondition)\n",
    "jh.printMarkdown(\"Note that the implementation of the scaled problem actually derives the transversality conditions for the unscaled problem, and then after the condition is derived, the substituted variables are entered.  This way there is the opportunity for values to get canceled out.\")\n",
    "jh.printMarkdown(\"The transversality conditions are:\")\n",
    "for xvers in transversalityCondition :\n",
    "    jh.showEquation(0, xvers)\n",
    "\n",
    "#TODO: This is a bad order of operations bug.  The final-time BC cannot be present in the base problem's BC's when the transversality conditions are made\n",
    "if scaleTime : # add BC if we are working with the final time (not all solvers need this, but when the same number of BC's and variables are required by the solver [like fsolve does] then...)\n",
    "    problem.BoundaryConditions.append(baseProblem.TimeFinalSymbol-tfOrg)\n",
    "\n",
    "jh.printMarkdown(\"Despite this being a maximization problem, the differential form of the transversality condition will NOT multiply the terminal cost by -1 to make the maximization problem a minimization problem.  I have not been able to find any reasonable justification for that other than 'it works' for numerical solvers.  This is one of the necessary optimality conditions that only finds a stationary point.  It doesn't matter if we are finding a minimum or maximum, the terminal cost doesn't gets its sign flipped.\")"
   ]
  },
  {
   "cell_type": "markdown",
   "metadata": {},
   "source": [
    "Note that the final value for the costate value associated with the longitude is 0, as is its equation of motion.  We will remove it from consideration."
   ]
  },
  {
   "cell_type": "code",
   "execution_count": null,
   "metadata": {},
   "outputs": [],
   "source": [
    "# lambda_lon is always 0, so do that cleanup\n",
    "del problem.EquationsOfMotion[lambdas[3]]\n",
    "problem.BoundaryConditions.remove(transversalityCondition[-1])\n",
    "lmdTheta = lambdas.pop()\n",
    "problem.IntegrationSymbols.pop()\n",
    "constantsSubsDict[lmdTheta]=0\n",
    "constantsSubsDict[lmdTheta.subs(problem.TimeSymbol, problem.TimeFinalSymbol)]=0\n",
    "constantsSubsDict[lmdTheta.subs(problem.TimeSymbol, problem.TimeInitialSymbol)]=0"
   ]
  },
  {
   "cell_type": "markdown",
   "metadata": {},
   "source": [
    "The next line of code is making our initial guesses for the costate variables.  The general process is based on the intuition that the thrust should be going forward in the direction of the velocity.  Solving the control angle to be 0 at $t_0$ gives us 0 for one of them and about 1 for the other.  However from experience, setting one of the costate values to 0 usually has problems, so we set it to a low number.  Those 2 costate variables lets us solve for the third, giving us our first guess that is hopefully close enough."
   ]
  },
  {
   "cell_type": "code",
   "execution_count": null,
   "metadata": {},
   "outputs": [],
   "source": [
    "initialFSolveStateGuess = ContinuousThrustCircularOrbitTransferProblem.CreateInitialLambdaGuessForLeoToGeo(problem, controlSolved)\n",
    "if scaleTime :\n",
    "    initialFSolveStateGuess.append(tfOrg)"
   ]
  },
  {
   "cell_type": "markdown",
   "metadata": {},
   "source": [
    "We now start the transformation to a numerical algorithm that we can solve.  Note that if you change which form of the transversality condition you are using, different values will get substituted here."
   ]
  },
  {
   "cell_type": "code",
   "execution_count": null,
   "metadata": {},
   "outputs": [],
   "source": [
    "otherArgs = []\n",
    "if scaleTime :\n",
    "    otherArgs.append(baseProblem.TimeFinalSymbol)\n",
    "if len(nus) > 0 :\n",
    "    otherArgs.extend(nus)\n",
    "stateAndLambdas = []\n",
    "stateAndLambdas.extend(problem.StateVariables)\n",
    "stateAndLambdas.extend(lambdas)\n",
    "odeState = [problem.TimeSymbol, stateAndLambdas, otherArgs]\n",
    "\n",
    "lambdifyHelper = LambdifyHelper(problem.TimeSymbol, stateAndLambdas, problem.EquationsOfMotion.values(), otherArgs, problem.SubstitutionDictionary)"
   ]
  },
  {
   "cell_type": "markdown",
   "metadata": {},
   "source": [
    "Lambdify is the function that saves a ton of time and possible errors.  This turns our symbolic expressions into code that runs at normal or faster speeds (using libraries like numpy for additional performance) instead of substituting in values when we go to evaluate the equations of motion which would be very slow.  "
   ]
  },
  {
   "cell_type": "code",
   "execution_count": null,
   "metadata": {},
   "outputs": [],
   "source": [
    "# this next block is for when we are using the adjoined form of the transversality condition.  However it is also REALLY useful to just have \n",
    "# the equations of motion in a form that we can evaluate ourselves.\n",
    "odeIntEomCallback = lambdifyHelper.CreateSimpleCallbackForSolveIvp()\n",
    "if len(nus) > 0 :\n",
    "    # run a test solution to get a better guess for the final nu values, this is a good technique, but \n",
    "    # it is still a custom-to-this-problem piece of code because it is still initial-guess work\n",
    "    initialFSolveStateGuess.append(initialFSolveStateGuess[1])\n",
    "    initialFSolveStateGuess.append(initialFSolveStateGuess[2])  \n",
    "    argsForOde = []\n",
    "    if scaleTime :\n",
    "        argsForOde.append(tfOrg)\n",
    "    argsForOde.append(initialFSolveStateGuess[1])\n",
    "    argsForOde.append(initialFSolveStateGuess[2])  \n",
    "    print(\"solving ivp for final ajoined variable guess\")\n",
    "    testSolution = solve_ivp(odeIntEomCallback, [tArray[0], tArray[-1]], [r0, u0, v0, lon0, *initialFSolveStateGuess[0:3]], args=tuple(argsForOde), t_eval=tArray, dense_output=True, method=\"LSODA\", rtol=1.49012e-8, atol=1.49012e-11)  \n",
    "    #testSolution = odeint(odeIntEomCallback, [r0, u0, v0, lon0, *initialFSolveStateGuess[0:3]], tArray, args=tuple(argsForOde))\n",
    "    finalValues = ScipyCallbackCreators.GetFinalStateFromIntegratorResults(testSolution)\n",
    "    initialFSolveStateGuess[-2] = finalValues[5]\n",
    "    initialFSolveStateGuess[-1] = finalValues[6]"
   ]
  },
  {
   "cell_type": "markdown",
   "metadata": {},
   "source": [
    "Now we create the boundary condition evaluation callback.  Note that making this callback general is difficult.  I'm using scipy's solveIvp for the integration of the eqations of motion, but what if you want to use some other routine?  Some of the initial values and final values that are passed to the fsolve boundary condition values, and some of those values also need to get placed into the initial values for the equations of motion... it is can't be easily generalized for most problems, but it doesn't really change for this problem.\n",
    "\n",
    "That being said, streamlining this part of the process is something I am continuing to think about."
   ]
  },
  {
   "cell_type": "code",
   "execution_count": null,
   "metadata": {},
   "outputs": [],
   "source": [
    "stateForBoundaryConditions = []\n",
    "stateForBoundaryConditions.extend(SymbolicProblem.SafeSubs(problem.IntegrationSymbols, {problem.TimeSymbol: problem.TimeInitialSymbol}))\n",
    "stateForBoundaryConditions.extend(SymbolicProblem.SafeSubs(problem.IntegrationSymbols, {problem.TimeSymbol: problem.TimeFinalSymbol}))\n",
    "stateForBoundaryConditions.extend(lambdas)\n",
    "stateForBoundaryConditions.extend(otherArgs)\n",
    "boundaryConditionHelper = LambdifyHelper(None, stateForBoundaryConditions, problem.BoundaryConditions, None, problem.SubstitutionDictionary)\n",
    "\n",
    "\n",
    "fSolveCallback = ContinuousThrustCircularOrbitTransferProblem.createSolveIvpSingleShootingCallbackForFSolve(problem, problem.IntegrationSymbols, [r0, u0, v0, lon0], tArray, odeIntEomCallback, problem.BoundaryConditions, SymbolicProblem.SafeSubs(lambdas, {problem.TimeSymbol: problem.TimeInitialSymbol}), otherArgs)"
   ]
  },
  {
   "cell_type": "code",
   "execution_count": null,
   "metadata": {},
   "outputs": [],
   "source": [
    "print(initialFSolveStateGuess)\n",
    "fSolveSol = fsolve(fSolveCallback, initialFSolveStateGuess, epsfcn=0.00001, full_output=True) # just to speed things up and see how the initial one works\n",
    "print(fSolveSol)"
   ]
  },
  {
   "cell_type": "markdown",
   "metadata": {},
   "source": [
    "Yay, it says it converged.  Let's see what we have."
   ]
  },
  {
   "cell_type": "code",
   "execution_count": null,
   "metadata": {},
   "outputs": [],
   "source": [
    "solution = solve_ivp(odeIntEomCallback, [tArray[0], tArray[-1]], [r0, u0, v0, lon0, *fSolveSol[0][0:3]], args=tuple(fSolveSol[0][3:len(fSolveSol[0])]), t_eval=tArray, dense_output=True, method=\"LSODA\", rtol=1.49012e-8, atol=1.49012e-11)\n",
    "solutionDictionary = ScipyCallbackCreators.ConvertEitherIntegratorResultsToDictionary(problem.IntegrationSymbols, solution)\n",
    "unscaledResults = solutionDictionary\n",
    "unscaledTArray = tArray\n",
    "unscaledResults = problem.DescaleResults(solutionDictionary)\n",
    "if scaleTime:\n",
    "    unscaledTArray=tfOrg*tArray\n",
    "\n",
    "if scaleElements:    \n",
    "    finalState = GetValueFromStateDictionaryAtIndex(solutionDictionary, -1)\n",
    "    jh.showEquation(stateAtTf[0], finalState[problem.StateVariables[0]], False)\n",
    "    jh.showEquation(stateAtTf[1], finalState[problem.StateVariables[1]], False)\n",
    "    jh.showEquation(stateAtTf[2], finalState[problem.StateVariables[2]], False)\n",
    "    jh.showEquation(stateAtTf[3], (finalState[problem.StateVariables[3]]%(2*math.pi))*180.0/(2*math.pi), False)\n",
    "\n",
    "baseProblem.PlotSolution(tArray*tfOrg, unscaledResults, \"Test\")\n",
    "jh.showEquation(baseProblem.StateVariables[0].subs(problem.TimeSymbol, problem.TimeFinalSymbol), unscaledResults[baseProblem.StateVariables[0]][-1], False)\n",
    "jh.showEquation(baseProblem.StateVariables[1].subs(problem.TimeSymbol, problem.TimeFinalSymbol), unscaledResults[baseProblem.StateVariables[1]][-1], False)\n",
    "jh.showEquation(baseProblem.StateVariables[2].subs(problem.TimeSymbol, problem.TimeFinalSymbol), unscaledResults[baseProblem.StateVariables[2]][-1], False)\n",
    "jh.showEquation(baseProblem.StateVariables[3].subs(problem.TimeSymbol, problem.TimeFinalSymbol), (unscaledResults[baseProblem.StateVariables[3]][-1]%(2*math.pi))*180.0/(2*math.pi), False)\n",
    "\n",
    "[hamltVals, dhduValus, d2hdu2Valus] = problem.EvaluateHamiltonianAndItsFirstTwoDerivatives(solutionDictionary, tArray, hamiltonian, {problem.ControlVariables[0]: controlSolved}, {baseProblem.TimeFinalSymbol: tfOrg})\n",
    "plt.title(\"Hamlitonion and its derivatives\")\n",
    "plt.plot(tArray/86400, hamltVals, label=\"Hamiltonian\")\n",
    "plt.plot(tArray/86400, dhduValus, label=r'$\\frac{dH}{du}$')\n",
    "plt.plot(tArray/86400, d2hdu2Valus, label=r'$\\frac{d^2H}{du^2}$')\n",
    "\n",
    "plt.tight_layout()\n",
    "plt.grid(alpha=0.5)\n",
    "plt.legend(framealpha=1, shadow=True)\n",
    "plt.show()   "
   ]
  },
  {
   "cell_type": "markdown",
   "metadata": {},
   "source": [
    "The second derivative of the Hamiltonian is negative which satisfies the sufficient condition for a maximization problem.  The plots are also identical to the plots from Dr. Gusman's outputs.  All in all, we can be very confident that this solution is indeed an optimal one."
   ]
  },
  {
   "cell_type": "markdown",
   "metadata": {},
   "source": [
    "# Direct Method\n",
    "\n",
    "For the direct method, it will start similar to the previous one.  We have to make our problem class, register the constants, etc...  Note that compared to the indirect version, this routine has not been as well tested and refined."
   ]
  },
  {
   "cell_type": "code",
   "execution_count": 6,
   "metadata": {},
   "outputs": [],
   "source": [
    "import __init__\n",
    "import sys\n",
    "sys.path.append(\"..\") # treating this as a jupyter-like cell requires adding one directory up\n",
    "sys.path.append(\"../pyeq2orb\") # and this line is needed for running like a normal python script\n",
    "# these two appends do not conflict with eachother\n",
    "import math\n",
    "import sympy as sy\n",
    "import numpy as np\n",
    "import matplotlib.pyplot as plt\n",
    "from collections import OrderedDict\n",
    "\n",
    "# to get pyomo to work on windows, must also install this library:\n",
    "# conda install -c conda-forge pynumero_libraries\n",
    "\n",
    "from pyeq2orb.SymbolicOptimizerProblem import SymbolicProblem\n",
    "from pyeq2orb.ScaledSymbolicProblem import ScaledSymbolicProblem\n",
    "from pyeq2orb.Problems.ContinuousThrustCircularOrbitTransfer import ContinuousThrustCircularOrbitTransferProblem\n",
    "from pyeq2orb.Numerical import ScipyCallbackCreators\n",
    "import scipyPaperPrinter as jh\n",
    "import pyomo.environ as poenv\n",
    "import pyomo.dae as podae\n",
    "from matplotlib.figure import Figure\n",
    "from pyeq2orb.NumericalProblemFromSymbolic import NumericalProblemFromSymbolicProblem\n",
    "\n",
    "# constants\n",
    "g = 9.80665\n",
    "mu = 3.986004418e14  \n",
    "thrust = 20.0\n",
    "isp = 6000.0\n",
    "m0 = 1500.0\n",
    "\n",
    "# initial values\n",
    "r0 = 6678000.0\n",
    "u0 = 0.0\n",
    "v0 = sy.sqrt(mu/r0) # circular\n",
    "lon0 = 0.0\n",
    "# I know from many previous runs that this is the time needed to go from LEO to GEO.\n",
    "# However, below works well wrapped in another fsolve to control the final time for a desired radius.\n",
    "tfVal  = 3600*3.97152*24\n",
    "tfOrg = tfVal\n",
    "\n",
    "# these are options to switch to try different things\n",
    "scale = True\n",
    "scaleTime = True\n",
    "\n",
    "baseProblem = ContinuousThrustCircularOrbitTransferProblem()\n",
    "initialStateValues = baseProblem.CreateVariablesAtTime0(baseProblem.StateVariables)\n",
    "problem = baseProblem\n",
    "\n",
    "if scale :\n",
    "    newSvs = ScaledSymbolicProblem.CreateBarVariables(problem.StateVariables, problem.TimeSymbol) \n",
    "    problem = ScaledSymbolicProblem(baseProblem, newSvs, {problem.StateVariables[0]: initialStateValues[0], \n",
    "                                                          problem.StateVariables[1]: initialStateValues[2], \n",
    "                                                          problem.StateVariables[2]: initialStateValues[2], \n",
    "                                                          problem.StateVariables[3]: 1.0} , scaleTime)\n",
    "rs = problem.StateVariables[0]\n",
    "us = problem.StateVariables[1]\n",
    "vs = problem.StateVariables[2]\n",
    "lons = problem.StateVariables[3]\n",
    "\n",
    "jh.t = problem._timeSymbol\n",
    "\n",
    "# register constants\n",
    "constantsSubsDict = problem.SubstitutionDictionary\n",
    "constantsSubsDict[baseProblem.Isp] = isp\n",
    "constantsSubsDict[baseProblem.MassInitial] = m0\n",
    "constantsSubsDict[baseProblem.Gravity] = g\n",
    "constantsSubsDict[baseProblem.Mu]= mu\n",
    "constantsSubsDict[baseProblem.Thrust] = thrust\n",
    "\n",
    "# register initial state values\n",
    "constantsSubsDict.update(zip(initialStateValues, [r0, u0, v0, lon0]))\n",
    "if scale :\n",
    "    # and reset the real initial values using tau_0 instead of time\n",
    "    initialValuesAtTau0 = SymbolicProblem.SafeSubs(initialStateValues, {baseProblem.TimeInitialSymbol: problem.TimeInitialSymbol})\n",
    "    constantsSubsDict.update(zip(initialValuesAtTau0, [r0, u0, v0, lon0]))\n",
    "\n",
    "    r0= r0/r0\n",
    "    u0=u0/v0\n",
    "    v0=v0/v0\n",
    "    lon0=lon0/1.0\n",
    "    # add the scaled initial values (at tau_0).  We should NOT need to add these at t_0\n",
    "    initialScaledStateValues = problem.CreateVariablesAtTime0(problem.StateVariables)\n",
    "    constantsSubsDict.update(zip(initialScaledStateValues, [r0, u0, v0, lon0])) "
   ]
  },
  {
   "cell_type": "code",
   "execution_count": 4,
   "metadata": {},
   "outputs": [
    {
     "data": {
      "text/markdown": [
       "Now we start setting up our pyomo problem. There is a wrapper class that takes a symbolic problem and turns it into a numerical problem.  It is still a prototype, but this kind of wrapping is I think the way to go."
      ],
      "text/plain": [
       "<IPython.core.display.Markdown object>"
      ]
     },
     "metadata": {},
     "output_type": "display_data"
    },
    {
     "data": {
      "text/markdown": [
       "And here is where we start setting up pyomo. In terms of using pyomo, this is all pretty standard so far..."
      ],
      "text/plain": [
       "<IPython.core.display.Markdown object>"
      ]
     },
     "metadata": {},
     "output_type": "display_data"
    },
    {
     "name": "stdout",
     "output_type": "stream",
     "text": [
      "WARNING (W1002): Setting Var 'r[0.0]' to a numeric value `6678000.0` outside\n",
      "the bounds (0.9, 8.0).\n",
      "    See also https://pyomo.readthedocs.io/en/stable/errors.html#w1002\n",
      "WARNING (W1002): Setting Var 'r[0.0]' to a numeric value `6678000.0` outside\n",
      "the bounds (0.9, 8.0).\n",
      "    See also https://pyomo.readthedocs.io/en/stable/errors.html#w1002\n"
     ]
    }
   ],
   "source": [
    "jh.printMarkdown(\"Now we start setting up our pyomo problem. There is a wrapper class that takes a symbolic problem and turns it into a numerical problem.  It is still a prototype, but this kind of wrapping is I think the way to go.\")\n",
    "\n",
    "lambdiafyFunctionMap = {'sqrt': poenv.sqrt, 'sin': poenv.sin, 'cos':poenv.cos} #TODO: MOOOORE!!!!\n",
    "asNumericalProblem = NumericalProblemFromSymbolicProblem(problem, lambdiafyFunctionMap)\n",
    "\n",
    "n=200\n",
    "tSpace = np.linspace(0.0, 1.0, n)\n",
    "\n",
    "jh.printMarkdown(\"And here is where we start setting up pyomo. In terms of using pyomo, this is all pretty standard so far...\")\n",
    "model = poenv.ConcreteModel()\n",
    "model.t = podae.ContinuousSet(initialize=tSpace, domain=poenv.NonNegativeReals)\n",
    "\n",
    "velBound = float(1.5*abs(v0))\n",
    "model.r = poenv.Var(model.t, bounds=(0.9, 8.0), initialize=float(r0))\n",
    "model.u = poenv.Var(model.t, bounds=(-1.0*velBound, velBound), initialize=float(u0))\n",
    "model.v = poenv.Var(model.t, bounds=(-1.0*velBound, velBound), initialize=float(v0))\n",
    "model.lon = poenv.Var(model.t, bounds=(lon0, 29.0*2.0*math.pi), initialize=float(lon0))\n",
    "model.control = poenv.Var(model.t, bounds=(-1.0*math.pi/2.2, math.pi/2.2))\n",
    "model.tf = poenv.Var(bounds=(tfOrg-2, tfOrg+2), initialize=float(tfOrg))\n",
    "\n",
    "model.r[0].fix(float(r0))\n",
    "model.u[0].fix(float(u0))\n",
    "model.v[0].fix(float(v0))\n",
    "model.lon[0].fix(float(lon0))\n",
    "\n",
    "model.rDot = podae.DerivativeVar(model.r, wrt=model.t)\n",
    "model.uDot = podae.DerivativeVar(model.u, wrt=model.t)\n",
    "model.vDot = podae.DerivativeVar(model.v, wrt=model.t)\n",
    "model.lonDot = podae.DerivativeVar(model.lon, wrt=model.t)"
   ]
  },
  {
   "cell_type": "code",
   "execution_count": 5,
   "metadata": {},
   "outputs": [
    {
     "data": {
      "text/markdown": [
       "Here, we create a helper function to map the state that pyomo can give to the callbacks and functions that the numerical problem type provides."
      ],
      "text/plain": [
       "<IPython.core.display.Markdown object>"
      ]
     },
     "metadata": {},
     "output_type": "display_data"
    },
    {
     "data": {
      "text/markdown": [
       "With this, we can set up our equations of motions, our terminal constraints, and the objective function."
      ],
      "text/plain": [
       "<IPython.core.display.Markdown object>"
      ]
     },
     "metadata": {},
     "output_type": "display_data"
    },
    {
     "name": "stdout",
     "output_type": "stream",
     "text": [
      "ERROR: Rule failed when generating expression for Constraint rEom with index\n",
      "0.0: TypeError: _lambdifygenerated() takes 6 positional arguments but 7 were\n",
      "given\n",
      "ERROR: Constructing component 'rEom' from data=None failed: TypeError:\n",
      "_lambdifygenerated() takes 6 positional arguments but 7 were given\n"
     ]
    },
    {
     "ename": "TypeError",
     "evalue": "_lambdifygenerated() takes 6 positional arguments but 7 were given",
     "output_type": "error",
     "traceback": [
      "\u001b[1;31m---------------------------------------------------------------------------\u001b[0m",
      "\u001b[1;31mTypeError\u001b[0m                                 Traceback (most recent call last)",
      "Cell \u001b[1;32mIn[5], line 8\u001b[0m\n\u001b[0;32m      4\u001b[0m     \u001b[39mreturn\u001b[39;00m callableExpression([t, m\u001b[39m.\u001b[39mr[t], m\u001b[39m.\u001b[39mu[t], m\u001b[39m.\u001b[39mv[t], m\u001b[39m.\u001b[39mlon[t], m\u001b[39m.\u001b[39mcontrol[t], m\u001b[39m.\u001b[39mtf])\n\u001b[0;32m      6\u001b[0m jh\u001b[39m.\u001b[39mprintMarkdown(\u001b[39m\"\u001b[39m\u001b[39mWith this, we can set up our equations of motions, our terminal constraints, and the objective function.\u001b[39m\u001b[39m\"\u001b[39m)\n\u001b[1;32m----> 8\u001b[0m model\u001b[39m.\u001b[39mrEom \u001b[39m=\u001b[39m poenv\u001b[39m.\u001b[39mConstraint(model\u001b[39m.\u001b[39mt, rule \u001b[39m=\u001b[39m\u001b[39mlambda\u001b[39;00m m, t2: m\u001b[39m.\u001b[39mrDot[t2] \u001b[39m==\u001b[39m mapPyomoStateToProblemState(m, t2, \u001b[39mlambda\u001b[39;00m state : asNumericalProblem\u001b[39m.\u001b[39mSingleEquationOfMotionWithTInState(state, \u001b[39m0\u001b[39m)))\n\u001b[0;32m      9\u001b[0m model\u001b[39m.\u001b[39muEom \u001b[39m=\u001b[39m poenv\u001b[39m.\u001b[39mConstraint(model\u001b[39m.\u001b[39mt, rule \u001b[39m=\u001b[39m\u001b[39mlambda\u001b[39;00m m, t2: m\u001b[39m.\u001b[39muDot[t2] \u001b[39m==\u001b[39m mapPyomoStateToProblemState(m, t2, \u001b[39mlambda\u001b[39;00m state : asNumericalProblem\u001b[39m.\u001b[39mSingleEquationOfMotionWithTInState(state, \u001b[39m1\u001b[39m)))\n\u001b[0;32m     10\u001b[0m model\u001b[39m.\u001b[39mvEom \u001b[39m=\u001b[39m poenv\u001b[39m.\u001b[39mConstraint(model\u001b[39m.\u001b[39mt, rule \u001b[39m=\u001b[39m\u001b[39mlambda\u001b[39;00m m, t2: m\u001b[39m.\u001b[39mvDot[t2] \u001b[39m==\u001b[39m mapPyomoStateToProblemState(m, t2, \u001b[39mlambda\u001b[39;00m state : asNumericalProblem\u001b[39m.\u001b[39mSingleEquationOfMotionWithTInState(state, \u001b[39m2\u001b[39m)))\n",
      "File \u001b[1;32mc:\\Programs\\miniconda3\\envs\\py39optfun\\lib\\site-packages\\pyomo\\core\\base\\block.py:580\u001b[0m, in \u001b[0;36m_BlockData.__setattr__\u001b[1;34m(self, name, val)\u001b[0m\n\u001b[0;32m    575\u001b[0m \u001b[39mif\u001b[39;00m name \u001b[39mnot\u001b[39;00m \u001b[39min\u001b[39;00m \u001b[39mself\u001b[39m\u001b[39m.\u001b[39m\u001b[39m__dict__\u001b[39m:\n\u001b[0;32m    576\u001b[0m     \u001b[39mif\u001b[39;00m \u001b[39misinstance\u001b[39m(val, Component):\n\u001b[0;32m    577\u001b[0m         \u001b[39m#\u001b[39;00m\n\u001b[0;32m    578\u001b[0m         \u001b[39m# Pyomo components are added with the add_component method.\u001b[39;00m\n\u001b[0;32m    579\u001b[0m         \u001b[39m#\u001b[39;00m\n\u001b[1;32m--> 580\u001b[0m         \u001b[39mself\u001b[39;49m\u001b[39m.\u001b[39;49madd_component(name, val)\n\u001b[0;32m    581\u001b[0m     \u001b[39melse\u001b[39;00m:\n\u001b[0;32m    582\u001b[0m         \u001b[39m#\u001b[39;00m\n\u001b[0;32m    583\u001b[0m         \u001b[39m# Other Python objects are added with the standard __setattr__\u001b[39;00m\n\u001b[0;32m    584\u001b[0m         \u001b[39m# method.\u001b[39;00m\n\u001b[0;32m    585\u001b[0m         \u001b[39m#\u001b[39;00m\n\u001b[0;32m    586\u001b[0m         \u001b[39msuper\u001b[39m(_BlockData, \u001b[39mself\u001b[39m)\u001b[39m.\u001b[39m\u001b[39m__setattr__\u001b[39m(name, val)\n",
      "File \u001b[1;32mc:\\Programs\\miniconda3\\envs\\py39optfun\\lib\\site-packages\\pyomo\\core\\base\\block.py:1185\u001b[0m, in \u001b[0;36m_BlockData.add_component\u001b[1;34m(self, name, val)\u001b[0m\n\u001b[0;32m   1177\u001b[0m     logger\u001b[39m.\u001b[39mdebug(\n\u001b[0;32m   1178\u001b[0m         \u001b[39m\"\u001b[39m\u001b[39mConstructing \u001b[39m\u001b[39m%s\u001b[39;00m\u001b[39m \u001b[39m\u001b[39m'\u001b[39m\u001b[39m%s\u001b[39;00m\u001b[39m'\u001b[39m\u001b[39m on \u001b[39m\u001b[39m%s\u001b[39;00m\u001b[39m from data=\u001b[39m\u001b[39m%s\u001b[39;00m\u001b[39m\"\u001b[39m,\n\u001b[0;32m   1179\u001b[0m         val\u001b[39m.\u001b[39m\u001b[39m__class__\u001b[39m\u001b[39m.\u001b[39m\u001b[39m__name__\u001b[39m,\n\u001b[1;32m   (...)\u001b[0m\n\u001b[0;32m   1182\u001b[0m         \u001b[39mstr\u001b[39m(data),\n\u001b[0;32m   1183\u001b[0m     )\n\u001b[0;32m   1184\u001b[0m \u001b[39mtry\u001b[39;00m:\n\u001b[1;32m-> 1185\u001b[0m     val\u001b[39m.\u001b[39;49mconstruct(data)\n\u001b[0;32m   1186\u001b[0m \u001b[39mexcept\u001b[39;00m:\n\u001b[0;32m   1187\u001b[0m     err \u001b[39m=\u001b[39m sys\u001b[39m.\u001b[39mexc_info()[\u001b[39m1\u001b[39m]\n",
      "File \u001b[1;32mc:\\Programs\\miniconda3\\envs\\py39optfun\\lib\\site-packages\\pyomo\\core\\base\\constraint.py:813\u001b[0m, in \u001b[0;36mConstraint.construct\u001b[1;34m(self, data)\u001b[0m\n\u001b[0;32m    810\u001b[0m     \u001b[39melse\u001b[39;00m:\n\u001b[0;32m    811\u001b[0m         \u001b[39m# Bypass the index validation and create the member directly\u001b[39;00m\n\u001b[0;32m    812\u001b[0m         \u001b[39mfor\u001b[39;00m index \u001b[39min\u001b[39;00m \u001b[39mself\u001b[39m\u001b[39m.\u001b[39mindex_set():\n\u001b[1;32m--> 813\u001b[0m             \u001b[39mself\u001b[39m\u001b[39m.\u001b[39m_setitem_when_not_present(index, rule(block, index))\n\u001b[0;32m    814\u001b[0m \u001b[39mexcept\u001b[39;00m \u001b[39mException\u001b[39;00m:\n\u001b[0;32m    815\u001b[0m     err \u001b[39m=\u001b[39m sys\u001b[39m.\u001b[39mexc_info()[\u001b[39m1\u001b[39m]\n",
      "File \u001b[1;32mc:\\Programs\\miniconda3\\envs\\py39optfun\\lib\\site-packages\\pyomo\\core\\base\\initializer.py:313\u001b[0m, in \u001b[0;36mIndexedCallInitializer.__call__\u001b[1;34m(self, parent, idx)\u001b[0m\n\u001b[0;32m    311\u001b[0m     \u001b[39mreturn\u001b[39;00m \u001b[39mself\u001b[39m\u001b[39m.\u001b[39m_fcn(parent, \u001b[39m*\u001b[39midx)\n\u001b[0;32m    312\u001b[0m \u001b[39melse\u001b[39;00m:\n\u001b[1;32m--> 313\u001b[0m     \u001b[39mreturn\u001b[39;00m \u001b[39mself\u001b[39;49m\u001b[39m.\u001b[39;49m_fcn(parent, idx)\n",
      "Cell \u001b[1;32mIn[5], line 8\u001b[0m, in \u001b[0;36m<lambda>\u001b[1;34m(m, t2)\u001b[0m\n\u001b[0;32m      4\u001b[0m     \u001b[39mreturn\u001b[39;00m callableExpression([t, m\u001b[39m.\u001b[39mr[t], m\u001b[39m.\u001b[39mu[t], m\u001b[39m.\u001b[39mv[t], m\u001b[39m.\u001b[39mlon[t], m\u001b[39m.\u001b[39mcontrol[t], m\u001b[39m.\u001b[39mtf])\n\u001b[0;32m      6\u001b[0m jh\u001b[39m.\u001b[39mprintMarkdown(\u001b[39m\"\u001b[39m\u001b[39mWith this, we can set up our equations of motions, our terminal constraints, and the objective function.\u001b[39m\u001b[39m\"\u001b[39m)\n\u001b[1;32m----> 8\u001b[0m model\u001b[39m.\u001b[39mrEom \u001b[39m=\u001b[39m poenv\u001b[39m.\u001b[39mConstraint(model\u001b[39m.\u001b[39mt, rule \u001b[39m=\u001b[39m\u001b[39mlambda\u001b[39;00m m, t2: m\u001b[39m.\u001b[39mrDot[t2] \u001b[39m==\u001b[39m mapPyomoStateToProblemState(m, t2, \u001b[39mlambda\u001b[39;49;00m state : asNumericalProblem\u001b[39m.\u001b[39;49mSingleEquationOfMotionWithTInState(state, \u001b[39m0\u001b[39;49m)))\n\u001b[0;32m      9\u001b[0m model\u001b[39m.\u001b[39muEom \u001b[39m=\u001b[39m poenv\u001b[39m.\u001b[39mConstraint(model\u001b[39m.\u001b[39mt, rule \u001b[39m=\u001b[39m\u001b[39mlambda\u001b[39;00m m, t2: m\u001b[39m.\u001b[39muDot[t2] \u001b[39m==\u001b[39m mapPyomoStateToProblemState(m, t2, \u001b[39mlambda\u001b[39;00m state : asNumericalProblem\u001b[39m.\u001b[39mSingleEquationOfMotionWithTInState(state, \u001b[39m1\u001b[39m)))\n\u001b[0;32m     10\u001b[0m model\u001b[39m.\u001b[39mvEom \u001b[39m=\u001b[39m poenv\u001b[39m.\u001b[39mConstraint(model\u001b[39m.\u001b[39mt, rule \u001b[39m=\u001b[39m\u001b[39mlambda\u001b[39;00m m, t2: m\u001b[39m.\u001b[39mvDot[t2] \u001b[39m==\u001b[39m mapPyomoStateToProblemState(m, t2, \u001b[39mlambda\u001b[39;00m state : asNumericalProblem\u001b[39m.\u001b[39mSingleEquationOfMotionWithTInState(state, \u001b[39m2\u001b[39m)))\n",
      "Cell \u001b[1;32mIn[5], line 4\u001b[0m, in \u001b[0;36mmapPyomoStateToProblemState\u001b[1;34m(m, t, callableExpression)\u001b[0m\n\u001b[0;32m      3\u001b[0m \u001b[39mdef\u001b[39;00m \u001b[39mmapPyomoStateToProblemState\u001b[39m(m, t, callableExpression) :\n\u001b[1;32m----> 4\u001b[0m     \u001b[39mreturn\u001b[39;00m callableExpression([t, m\u001b[39m.\u001b[39;49mr[t], m\u001b[39m.\u001b[39;49mu[t], m\u001b[39m.\u001b[39;49mv[t], m\u001b[39m.\u001b[39;49mlon[t], m\u001b[39m.\u001b[39;49mcontrol[t], m\u001b[39m.\u001b[39;49mtf])\n",
      "Cell \u001b[1;32mIn[5], line 8\u001b[0m, in \u001b[0;36m<lambda>\u001b[1;34m(state)\u001b[0m\n\u001b[0;32m      4\u001b[0m     \u001b[39mreturn\u001b[39;00m callableExpression([t, m\u001b[39m.\u001b[39mr[t], m\u001b[39m.\u001b[39mu[t], m\u001b[39m.\u001b[39mv[t], m\u001b[39m.\u001b[39mlon[t], m\u001b[39m.\u001b[39mcontrol[t], m\u001b[39m.\u001b[39mtf])\n\u001b[0;32m      6\u001b[0m jh\u001b[39m.\u001b[39mprintMarkdown(\u001b[39m\"\u001b[39m\u001b[39mWith this, we can set up our equations of motions, our terminal constraints, and the objective function.\u001b[39m\u001b[39m\"\u001b[39m)\n\u001b[1;32m----> 8\u001b[0m model\u001b[39m.\u001b[39mrEom \u001b[39m=\u001b[39m poenv\u001b[39m.\u001b[39mConstraint(model\u001b[39m.\u001b[39mt, rule \u001b[39m=\u001b[39m\u001b[39mlambda\u001b[39;00m m, t2: m\u001b[39m.\u001b[39mrDot[t2] \u001b[39m==\u001b[39m mapPyomoStateToProblemState(m, t2, \u001b[39mlambda\u001b[39;00m state : asNumericalProblem\u001b[39m.\u001b[39;49mSingleEquationOfMotionWithTInState(state, \u001b[39m0\u001b[39;49m)))\n\u001b[0;32m      9\u001b[0m model\u001b[39m.\u001b[39muEom \u001b[39m=\u001b[39m poenv\u001b[39m.\u001b[39mConstraint(model\u001b[39m.\u001b[39mt, rule \u001b[39m=\u001b[39m\u001b[39mlambda\u001b[39;00m m, t2: m\u001b[39m.\u001b[39muDot[t2] \u001b[39m==\u001b[39m mapPyomoStateToProblemState(m, t2, \u001b[39mlambda\u001b[39;00m state : asNumericalProblem\u001b[39m.\u001b[39mSingleEquationOfMotionWithTInState(state, \u001b[39m1\u001b[39m)))\n\u001b[0;32m     10\u001b[0m model\u001b[39m.\u001b[39mvEom \u001b[39m=\u001b[39m poenv\u001b[39m.\u001b[39mConstraint(model\u001b[39m.\u001b[39mt, rule \u001b[39m=\u001b[39m\u001b[39mlambda\u001b[39;00m m, t2: m\u001b[39m.\u001b[39mvDot[t2] \u001b[39m==\u001b[39m mapPyomoStateToProblemState(m, t2, \u001b[39mlambda\u001b[39;00m state : asNumericalProblem\u001b[39m.\u001b[39mSingleEquationOfMotionWithTInState(state, \u001b[39m2\u001b[39m)))\n",
      "File \u001b[1;32mc:\\src\\PythonEquationsToOrbits\\pyeq2orb\\NumericalProblemFromSymbolic.py:90\u001b[0m, in \u001b[0;36mNumericalProblemFromSymbolicProblem.SingleEquationOfMotionWithTInState\u001b[1;34m(self, state, indexOfEom)\u001b[0m\n\u001b[0;32m     88\u001b[0m \u001b[39m@inherit_docstrings\u001b[39m\n\u001b[0;32m     89\u001b[0m \u001b[39mdef\u001b[39;00m \u001b[39mSingleEquationOfMotionWithTInState\u001b[39m(\u001b[39mself\u001b[39m, state, indexOfEom) :\n\u001b[1;32m---> 90\u001b[0m     \u001b[39mreturn\u001b[39;00m \u001b[39mself\u001b[39;49m\u001b[39m.\u001b[39;49m_equationOfMotionList[indexOfEom](state[\u001b[39m0\u001b[39;49m], \u001b[39m*\u001b[39;49mstate[\u001b[39m1\u001b[39;49m:])\n",
      "\u001b[1;31mTypeError\u001b[0m: _lambdifygenerated() takes 6 positional arguments but 7 were given"
     ]
    }
   ],
   "source": [
    "jh.printMarkdown(\"Here, we create a helper function to map the state that pyomo can give to the callbacks and functions that the numerical problem type provides.\")\n",
    "\n",
    "def mapPyomoStateToProblemState(m, t, callableExpression) :\n",
    "    return callableExpression([t, m.r[t], m.u[t], m.v[t], m.lon[t], m.control[t], m.tf])\n",
    "\n",
    "jh.printMarkdown(\"With this, we can set up our equations of motions, our terminal constraints, and the objective function.\")\n",
    "\n",
    "model.rEom = poenv.Constraint(model.t, rule =lambda m, t2: m.rDot[t2] == mapPyomoStateToProblemState(m, t2, lambda state : asNumericalProblem.SingleEquationOfMotionWithTInState(state, 0)))\n",
    "model.uEom = poenv.Constraint(model.t, rule =lambda m, t2: m.uDot[t2] == mapPyomoStateToProblemState(m, t2, lambda state : asNumericalProblem.SingleEquationOfMotionWithTInState(state, 1)))\n",
    "model.vEom = poenv.Constraint(model.t, rule =lambda m, t2: m.vDot[t2] == mapPyomoStateToProblemState(m, t2, lambda state : asNumericalProblem.SingleEquationOfMotionWithTInState(state, 2)))\n",
    "model.lonEom = poenv.Constraint(model.t, rule =lambda m, t2: m.lonDot[t2] == mapPyomoStateToProblemState(m, t2, lambda state : asNumericalProblem.SingleEquationOfMotionWithTInState(state, 3)))\n",
    "\n",
    "model.bc1 = poenv.Constraint(rule = lambda mod1 : 0 == mapPyomoStateToProblemState(mod1, 1.0, asNumericalProblem.BoundaryConditionCallbacks[0]))\n",
    "model.bc2 = poenv.Constraint(rule = lambda mod1 : 0 == mapPyomoStateToProblemState(mod1, 1.0, asNumericalProblem.BoundaryConditionCallbacks[1]))\n",
    "\n",
    "def singlePyomoArrayToTerminalCostCallback(m, t, expr) :\n",
    "    return expr(m.tf, [t, m.r[t], m.u[t], m.v[t], m.lon[t], m.control[t]])\n",
    "finalRadiusCallback = lambda m : singlePyomoArrayToTerminalCostCallback(m, 1.0, asNumericalProblem.TerminalCost)\n",
    "model.radiusObjective = poenv.Objective(expr = finalRadiusCallback, sense=poenv.maximize)"
   ]
  },
  {
   "cell_type": "code",
   "execution_count": null,
   "metadata": {},
   "outputs": [],
   "source": [
    "jh.printMarkdown(\"Next, we setup our initial values and run a simulation to get an initial guess for the problem.\")\n",
    "\n",
    "model.var_input = poenv.Suffix(direction=poenv.Suffix.LOCAL)\n",
    "model.var_input[model.control] = {0: 0.03}\n",
    "model.var_input[model.tf] = {0: tfOrg}\n",
    "\n",
    "sim = podae.Simulator(model, package='scipy') \n",
    "tsim, profiles = sim.simulate(numpoints=n, varying_inputs=model.var_input, integrator='dop853', initcon=np.array([r0,u0, v0, lon0], dtype=float))"
   ]
  },
  {
   "cell_type": "code",
   "execution_count": null,
   "metadata": {},
   "outputs": [],
   "source": [
    "jh.printMarkdown(\"Simulating the problem is required before solving it.  One thing I am planning to look into is initializing a problem if it is simulated in some other way (such as from the results of an indirect solver).  But now we can solve it.  IPOPT is, as far as I know, the best solver I have access to that can solve this kind of nonlinear programming problem.\")\n",
    "\n",
    "poenv.TransformationFactory('dae.collocation').apply_to(model, wrt=model.t, nfe=n,ncp=3, scheme='LAGRANGE-RADAU')\n",
    "sim.initialize_model()\n",
    "solver = poenv.SolverFactory('cyipopt')\n",
    "solver.solve(model, tee=True)"
   ]
  },
  {
   "cell_type": "code",
   "execution_count": null,
   "metadata": {},
   "outputs": [],
   "source": [
    "jh.printMarkdown(\"With our solution, we can plot it as well as inspect the final variables.\")\n",
    "\n",
    "def plotPyomoSolution(model, stateSymbols):\n",
    "    tSpace =np.array( [t for t in model.t]) * model.tf.value\n",
    "    rSym = np.array([model.r[t]() for t in model.t])\n",
    "    uSym = np.array([model.u[t]() for t in model.t])\n",
    "    vSym = np.array([model.v[t]() for t in model.t])\n",
    "    lonSim = np.array([model.lon[t]() for t in model.t])\n",
    "    controls = np.array([model.control[t]() for t in model.t])\n",
    "    print(\"control 0 = \" + str(controls[0]))\n",
    "    plt.title(\"Thrust Angle\")\n",
    "    plt.plot(tSpace/86400, controls*180.0/math.pi, label=\"Thrust Angle (deg)\")\n",
    "    plt.tight_layout()\n",
    "    plt.grid(alpha=0.5)\n",
    "    plt.legend(framealpha=1, shadow=True)\n",
    "    plt.show()    \n",
    "    ansAsDict = OrderedDict()\n",
    "    ansAsDict[stateSymbols[0]]= rSym\n",
    "    ansAsDict[stateSymbols[1]]= uSym\n",
    "    ansAsDict[stateSymbols[2]]= vSym\n",
    "    ansAsDict[stateSymbols[3]]=  lonSim\n",
    "\n",
    "    return [tSpace, ansAsDict]\n",
    "\n",
    "[tArray, solutionDictionary] = plotPyomoSolution(model, problem.StateVariables)\n",
    "unscaledResults = problem.DescaleResults(solutionDictionary)\n",
    "baseProblem.PlotSolution(tArray, unscaledResults, \"Leo to Geo\")\n",
    "\n",
    "print(\"Tf = \" + str(model.tf.value/86400))\n",
    "jh.showEquation(\"r_f\", unscaledResults[baseProblem.StateVariables[0]][-1]) \n",
    "jh.showEquation(\"u_f\", unscaledResults[baseProblem.StateVariables[1]][-1]) \n",
    "jh.showEquation(\"v_f\", unscaledResults[baseProblem.StateVariables[2]][-1])    \n",
    "\n",
    "xyz = np.zeros((len(tArray), 3))\n",
    "for i in range(0, len(unscaledResults[baseProblem.StateVariables[0]])) :\n",
    "    r = unscaledResults[baseProblem.StateVariables[0]][i]\n",
    "    theta = unscaledResults[baseProblem.StateVariables[3]][i]\n",
    "    x = r*math.cos(theta)\n",
    "    y = r*math.sin(theta)\n",
    "    xyz[i,0] = x\n",
    "    xyz[i,1] = y\n",
    "    xyz[i,2] = 0\n",
    "\n",
    "import plotly.express as px\n",
    "from pandas import DataFrame\n",
    "df = DataFrame(xyz)\n",
    "\n",
    "x = np.array(xyz[:,0])\n",
    "y = np.array(xyz[:,1])\n",
    "z = np.array(xyz[:,2])\n",
    "df = DataFrame({\"x\": x, \"y\":y, \"z\":z})\n",
    "fig = px.line_3d(df, x=\"x\", y=\"y\", z=\"z\")\n",
    "fig.show()\n",
    "print(str(datetime.now()))"
   ]
  },
  {
   "cell_type": "markdown",
   "metadata": {},
   "source": [
    "These results look very similar to the indirect results as expected."
   ]
  }
 ],
 "metadata": {
  "kernelspec": {
   "display_name": "Python 3.9.13 64-bit",
   "language": "python",
   "name": "python3"
  },
  "language_info": {
   "codemirror_mode": {
    "name": "ipython",
    "version": 3
   },
   "file_extension": ".py",
   "mimetype": "text/x-python",
   "name": "python",
   "nbconvert_exporter": "python",
   "pygments_lexer": "ipython3",
   "version": "3.9.17"
  },
  "orig_nbformat": 4,
  "vscode": {
   "interpreter": {
    "hash": "278c831daabb7f66c946c17fd3cc6d92e704d472fe74a9e57946bf2027d8a33f"
   }
  }
 },
 "nbformat": 4,
 "nbformat_minor": 2
}
