{
 "cells": [
  {
   "cell_type": "markdown",
   "metadata": {},
   "source": [
    "# Optimal Planer Circle to Circle Orbit Transfer\n",
    "This problem was recreated from Optimal Control with Aerospace Applications by James M. Longuski, Jose J. Guzman and John E. Prussing.  Thank you all for this (and Jose, sorry for not figuring out accents in Markdown, and we should talk about the difficulties you had in Appendix C.  A rule of thumb that works for pure numerical methods fails for indirect methods and I think that caused problems for you).\n",
    "\n",
    "We are going to solve the optimal continuous thrust transfer between 2 circular orbits in the same orbit plane.  The specifics of the problem are posed as transfer from a low-Earth orbit to a Geo orbit.  We will start with the equations of motion, constants and constraints, and go through deriving the optimal control conditions that we can solve (the indirect method).  Then, we will solve the problem using direct methods leveraging the python library pyomo.\n",
    "\n",
    "Note that included in this folder are two files, one for the indirect method and one for the direct (pyomo) method that are a single script. If you want to start editing things, I highly recommend playing with those instead of this juypter notebook.\n",
    "\n",
    "## The Indirect Method\n",
    "\n",
    "We start with importing all of the python libraries that we need for the indirect methods."
   ]
  },
  {
   "cell_type": "code",
   "execution_count": 1,
   "metadata": {},
   "outputs": [
    {
     "name": "stdout",
     "output_type": "stream",
     "text": [
      "2024-01-02 18:34:16.240590\n"
     ]
    }
   ],
   "source": [
    "import sys\n",
    "import os\n",
    "sys.path.insert(1, os.path.dirname(os.path.dirname(sys.path[0]))) # need to import 2 directories up\n",
    "# these two appends do not conflict with each-other\n",
    "\n",
    "from IPython.display import display\n",
    "from scipy.integrate import solve_ivp\n",
    "import matplotlib.pyplot as plt\n",
    "import numpy as np\n",
    "import sympy as sy\n",
    "import math\n",
    "from scipy.optimize import fsolve\n",
    "from pyeq2orb.SymbolicOptimizerProblem import SymbolicProblem\n",
    "from pyeq2orb.ScaledSymbolicProblem import ScaledSymbolicProblem\n",
    "from pyeq2orb.Problems.ContinuousThrustCircularOrbitTransfer import ContinuousThrustCircularOrbitTransferProblem\n",
    "from pyeq2orb.Numerical import ScipyCallbackCreators\n",
    "from pyeq2orb.Numerical.LambdifyHelpers import LambdifyHelper, OdeLambdifyHelperWithBoundaryConditions\n",
    "from pyeq2orb.Utilities.SolutionDictionaryFunctions import GetValueFromStateDictionaryAtIndex\n",
    "import scipyPaperPrinter as jh\n",
    "from datetime import datetime\n",
    "print(str(datetime.now()))\n",
    "# constants\n",
    "g = 9.80665\n",
    "mu = 3.986004418e14  \n",
    "thrust = 20.0\n",
    "isp = 6000.0\n",
    "m0 = 1500.0\n",
    "\n",
    "# initial values\n",
    "r0 = 6678000.0\n",
    "u0 = 0.0\n",
    "v0 = sy.sqrt(mu/r0) # circular\n",
    "lon0 = 0.0\n",
    "# I know from many previous runs that this is the time needed to go from LEO to GEO.\n",
    "# However, below works well wrapped in another fsolve to control the final time for a desired radius.\n",
    "tfVal  = 3600*3.97152*24 \n",
    "tfOrg = tfVal"
   ]
  },
  {
   "cell_type": "markdown",
   "metadata": {},
   "source": [
    "We have a few choices to make.  Scaling the problem often leads to better convergence behavior.  This problem is set up to scale or not with a changing of this boolean.  There are 2 things we can scale.  The orbital elements, and/or the time.  I haven't really looked at scaling the time without scaling the elements too, but there's no reason why you can.\n",
    "\n",
    "We also start defining our problem here."
   ]
  },
  {
   "cell_type": "code",
   "execution_count": 2,
   "metadata": {},
   "outputs": [],
   "source": [
    "# these are options to switch to try different things\n",
    "scaleElements = False\n",
    "scaleTime = scaleElements and True\n",
    "\n",
    "# make the time array\n",
    "tArray = np.linspace(0.0, tfOrg, 1200)\n",
    "if scaleTime:\n",
    "    tfVal = 1.0\n",
    "    tArray = np.linspace(0.0, 1.0, 1200)"
   ]
  },
  {
   "cell_type": "code",
   "execution_count": 3,
   "metadata": {},
   "outputs": [
    {
     "ename": "TypeError",
     "evalue": "descriptor '__init__' requires a 'super' object but received a 'ContinuousThrustCircularOrbitTransferProblem'",
     "output_type": "error",
     "traceback": [
      "\u001b[1;31m---------------------------------------------------------------------------\u001b[0m",
      "\u001b[1;31mTypeError\u001b[0m                                 Traceback (most recent call last)",
      "Cell \u001b[1;32mIn[3], line 1\u001b[0m\n\u001b[1;32m----> 1\u001b[0m baseProblem \u001b[38;5;241m=\u001b[39m \u001b[43mContinuousThrustCircularOrbitTransferProblem\u001b[49m\u001b[43m(\u001b[49m\u001b[43m)\u001b[49m\n\u001b[0;32m      3\u001b[0m initialStateValues \u001b[38;5;241m=\u001b[39m baseProblem\u001b[38;5;241m.\u001b[39mCreateVariablesAtTime0(baseProblem\u001b[38;5;241m.\u001b[39mStateVariables)\n\u001b[0;32m      4\u001b[0m problem \u001b[38;5;241m=\u001b[39m baseProblem\n",
      "File \u001b[1;32mc:\\src\\PythonEquations2Orbits\\pyeq2orb\\Problems\\ContinuousThrustCircularOrbitTransfer.py:20\u001b[0m, in \u001b[0;36mContinuousThrustCircularOrbitTransferProblem.__init__\u001b[1;34m(self)\u001b[0m\n\u001b[0;32m     17\u001b[0m \u001b[38;5;28;01mdef\u001b[39;00m \u001b[38;5;21m__init__\u001b[39m(\u001b[38;5;28mself\u001b[39m) :\n\u001b[0;32m     18\u001b[0m \u001b[38;5;250m    \u001b[39m\u001b[38;5;124;03m\"\"\"Initializes a new instance.  The equations of motion will be set in the order [r, u, v, longitude].\u001b[39;00m\n\u001b[0;32m     19\u001b[0m \u001b[38;5;124;03m    \"\"\"\u001b[39;00m\n\u001b[1;32m---> 20\u001b[0m     \u001b[38;5;28;43msuper\u001b[39;49m\u001b[43m(\u001b[49m\u001b[43m)\u001b[49m\u001b[38;5;241;43m.\u001b[39;49m\u001b[38;5;21;43m__init__\u001b[39;49m\u001b[43m(\u001b[49m\u001b[43m)\u001b[49m\n\u001b[0;32m     22\u001b[0m     \u001b[38;5;28mself\u001b[39m\u001b[38;5;241m.\u001b[39m_constantSymbols \u001b[38;5;241m=\u001b[39m []\n\u001b[0;32m     23\u001b[0m     mu \u001b[38;5;241m=\u001b[39m sy\u001b[38;5;241m.\u001b[39mSymbol(\u001b[38;5;124mr\u001b[39m\u001b[38;5;124m'\u001b[39m\u001b[38;5;124m\\\u001b[39m\u001b[38;5;124mmu\u001b[39m\u001b[38;5;124m'\u001b[39m, real\u001b[38;5;241m=\u001b[39m\u001b[38;5;28;01mTrue\u001b[39;00m, positive\u001b[38;5;241m=\u001b[39m\u001b[38;5;28;01mTrue\u001b[39;00m)\n",
      "File \u001b[1;32mc:\\src\\PythonEquations2Orbits\\pyeq2orb\\SymbolicOptimizerProblem.py:22\u001b[0m, in \u001b[0;36mSymbolicProblem.__init__\u001b[1;34m(self)\u001b[0m\n\u001b[0;32m     19\u001b[0m \u001b[38;5;28;01mdef\u001b[39;00m \u001b[38;5;21m__init__\u001b[39m(\u001b[38;5;28mself\u001b[39m) :\n\u001b[0;32m     20\u001b[0m \u001b[38;5;250m    \u001b[39m\u001b[38;5;124;03m\"\"\"Initialize a new instance. \u001b[39;00m\n\u001b[0;32m     21\u001b[0m \u001b[38;5;124;03m    \"\"\"\u001b[39;00m\n\u001b[1;32m---> 22\u001b[0m     \u001b[38;5;28;43msuper\u001b[39;49m\u001b[38;5;241;43m.\u001b[39;49m\u001b[38;5;21;43m__init__\u001b[39;49m\u001b[43m(\u001b[49m\u001b[38;5;28;43mself\u001b[39;49m\u001b[43m)\u001b[49m\n\u001b[0;32m     23\u001b[0m     \u001b[38;5;66;03m# self._stateVariables = []\u001b[39;00m\n\u001b[0;32m     24\u001b[0m     \u001b[38;5;66;03m# self._controlVariables = []\u001b[39;00m\n\u001b[0;32m     25\u001b[0m     \u001b[38;5;66;03m# self._terminalCost = 0\u001b[39;00m\n\u001b[1;32m   (...)\u001b[0m\n\u001b[0;32m     31\u001b[0m     \u001b[38;5;66;03m# self._timeFinalSymbol= None\u001b[39;00m\n\u001b[0;32m     32\u001b[0m     \u001b[38;5;66;03m# self._substitutionDictionary = OrderedDict()\u001b[39;00m\n\u001b[0;32m     33\u001b[0m     \u001b[38;5;28mself\u001b[39m\u001b[38;5;241m.\u001b[39m_costateSymbols \u001b[38;5;241m=\u001b[39m []\n",
      "\u001b[1;31mTypeError\u001b[0m: descriptor '__init__' requires a 'super' object but received a 'ContinuousThrustCircularOrbitTransferProblem'"
     ]
    }
   ],
   "source": [
    "baseProblem = ContinuousThrustCircularOrbitTransferProblem()\n",
    "\n",
    "initialStateValues = baseProblem.CreateVariablesAtTime0(baseProblem.StateVariables)\n",
    "problem = baseProblem\n",
    "\n",
    "if scaleElements :\n",
    "    newSvs = ScaledSymbolicProblem.CreateBarVariables(problem.StateVariables, problem.TimeSymbol) \n",
    "    #TODO this next bit could be cleaner...\n",
    "    problem = ScaledSymbolicProblem(baseProblem, newSvs, {problem.StateVariables[0]: initialStateValues[0], \n",
    "                                                          problem.StateVariables[1]: initialStateValues[2], \n",
    "                                                          problem.StateVariables[2]: initialStateValues[2], \n",
    "                                                          problem.StateVariables[3]: 1} , scaleTime)\n",
    "\n",
    "stateAtTf = SafeSubs(problem.StateVariables, {problem.TimeSymbol: problem.TimeFinalSymbol})\n",
    "\n",
    "# register constants (this dictionary gets shared around)\n",
    "constantsSubsDict = problem.SubstitutionDictionary\n",
    "constantsSubsDict[baseProblem.Isp] = isp\n",
    "constantsSubsDict[baseProblem.MassInitial] = m0\n",
    "constantsSubsDict[baseProblem.Gravity] = g\n",
    "constantsSubsDict[baseProblem.Mu]= mu\n",
    "constantsSubsDict[baseProblem.Thrust] = thrust\n",
    "\n",
    "# register initial state values\n",
    "constantsSubsDict.update(zip(initialStateValues, [r0, u0, v0, lon0]))\n",
    "if scaleElements :\n",
    "    # and reset the real initial values using tau_0 instead of time\n",
    "    initialValuesAtTau0 = SafeSubs(initialStateValues, {baseProblem.TimeInitialSymbol: problem.TimeInitialSymbol})\n",
    "    constantsSubsDict.update(zip(initialValuesAtTau0, [r0, u0, v0, lon0]))\n",
    "\n",
    "    r0= r0/r0\n",
    "    u0=u0/v0\n",
    "    v0=v0/v0\n",
    "    lon0=lon0/1.0\n",
    "    # add the scaled initial values (at tau_0).  We should NOT need to add these at t_0\n",
    "    initialScaledStateValues = problem.CreateVariablesAtTime0(problem.StateVariables)\n",
    "    constantsSubsDict.update(zip(initialScaledStateValues, [r0, u0, v0, lon0]))     \n",
    "\n",
    "\n",
    "    \n",
    "problem.Lambdas.extend(problem.CreateCoVector(problem.StateVariables, r'\\lambda', problem.TimeSymbol)) # preemptively making the costate values\n"
   ]
  },
  {
   "cell_type": "markdown",
   "metadata": {},
   "source": [
    "There is a non-trivial amount of code in both the ContinuousThrustCircularOrbitTransferProblem and in the ScaledSymbolicProblem.  Because I like to keep the equations symbolic as I go, I end up registering the various constants in the system in a dictionary.\n",
    "\n",
    "At this point, let's state our problem.  We want to find the optimal continuous thrust transfer between 2 coplanar circular orbits.  For this particular problem, we pose it as maximizing the final radius and constraining the final orbit to be a circle (we do not constrain the final longitude)."
   ]
  },
  {
   "cell_type": "code",
   "execution_count": null,
   "metadata": {},
   "outputs": [
    {
     "data": {
      "text/markdown": [
       "With a given final time, maximize:"
      ],
      "text/plain": [
       "<IPython.core.display.Markdown object>"
      ]
     },
     "metadata": {},
     "output_type": "display_data"
    },
    {
     "data": {
      "text/latex": [
       "$\\displaystyle J = r{\\left(t_{f} \\right)}$"
      ],
      "text/plain": [
       "Eq(J, r(t_f))"
      ]
     },
     "metadata": {},
     "output_type": "display_data"
    },
    {
     "data": {
      "text/markdown": [
       "We will find the optimal thrust vector $\\alpha(t)$ to achieve this transfer."
      ],
      "text/plain": [
       "<IPython.core.display.Markdown object>"
      ]
     },
     "metadata": {},
     "output_type": "display_data"
    },
    {
     "data": {
      "text/markdown": [
       "With the following equations of motion:"
      ],
      "text/plain": [
       "<IPython.core.display.Markdown object>"
      ]
     },
     "metadata": {},
     "output_type": "display_data"
    },
    {
     "data": {
      "text/latex": [
       "$\\displaystyle r = u$"
      ],
      "text/plain": [
       "Eq(r, u)"
      ]
     },
     "metadata": {},
     "output_type": "display_data"
    },
    {
     "data": {
      "text/latex": [
       "$\\displaystyle u = \\frac{T \\sin{\\left(\\alpha \\right)}}{m_{0} - \\frac{T t}{I_{sp} g}} - \\frac{\\mu}{r^{2}} + \\frac{v^{2}}{r}$"
      ],
      "text/plain": [
       "Eq(u, T*sin(\\alpha)/(m_0 - T*t/(I_{sp}*g)) - \\mu/r**2 + v**2/r)"
      ]
     },
     "metadata": {},
     "output_type": "display_data"
    },
    {
     "data": {
      "text/latex": [
       "$\\displaystyle v = \\frac{T \\cos{\\left(\\alpha \\right)}}{m_{0} - \\frac{T t}{I_{sp} g}} - \\frac{u v}{r}$"
      ],
      "text/plain": [
       "Eq(v, T*cos(\\alpha)/(m_0 - T*t/(I_{sp}*g)) - u*v/r)"
      ]
     },
     "metadata": {},
     "output_type": "display_data"
    },
    {
     "data": {
      "text/latex": [
       "$\\displaystyle \\theta = \\frac{v}{r}$"
      ],
      "text/plain": [
       "Eq(\\theta, v/r)"
      ]
     },
     "metadata": {},
     "output_type": "display_data"
    },
    {
     "data": {
      "text/markdown": [
       "There are known initial values.  Additionally, we have the following constraints.  The orbit must be circular resulting in $v(t_f)$ obeying a specific equation and $u(t_f)=0$."
      ],
      "text/plain": [
       "<IPython.core.display.Markdown object>"
      ]
     },
     "metadata": {},
     "output_type": "display_data"
    },
    {
     "data": {
      "text/latex": [
       "$\\displaystyle 0 = u{\\left(t_{f} \\right)}$"
      ],
      "text/plain": [
       "Eq(0, u(t_f))"
      ]
     },
     "metadata": {},
     "output_type": "display_data"
    },
    {
     "data": {
      "text/latex": [
       "$\\displaystyle 0 = - \\frac{\\sqrt{\\mu}}{\\sqrt{r{\\left(t_{f} \\right)}}} + v{\\left(t_{f} \\right)}$"
      ],
      "text/plain": [
       "Eq(0, -sqrt(\\mu)/sqrt(r(t_f)) + v(t_f))"
      ]
     },
     "metadata": {},
     "output_type": "display_data"
    }
   ],
   "source": [
    "jh.t = problem._timeSymbol # needed for cleaner printed equations\n",
    "\n",
    "jh.printMarkdown(\"With a given final time, maximize:\")\n",
    "jh.showEquation(\"J\", baseProblem.CostFunction, False)\n",
    "jh.printMarkdown(\"We will find the optimal thrust vector $\\\\alpha(t)$ to achieve this transfer.\")\n",
    "\n",
    "jh.printMarkdown(\"With the following equations of motion:\")\n",
    "for sv,eq in baseProblem.EquationsOfMotion.items() :\n",
    "    jh.showEquation(sv, eq)\n",
    "\n",
    "jh.printMarkdown(\"There are known initial values.  Additionally, we have the following constraints.  The orbit must be circular resulting in $v(t_f)$ obeying a specific equation and $u(t_f)=0$.\")\n",
    "for bc in baseProblem.BoundaryConditions :\n",
    "    jh.showEquation(0, bc, False)\n",
    "\n"
   ]
  },
  {
   "cell_type": "markdown",
   "metadata": {},
   "source": [
    "Now we go through the fairly standard sequence of deriving the optimality conditions.  However, there is enough that makes me hesitate turning this into a standard reusable function.  Almost all optimization problems will require some code to be written and although being concise is good, shorter is not always better than readable.  Better to make it a clear demo.  We create the costate time-varying symbols, adjoin them to the equations of motion, and use the optimal control conditions to derive their equations of motion and derive additional constraints."
   ]
  },
  {
   "cell_type": "code",
   "execution_count": null,
   "metadata": {},
   "outputs": [
    {
     "data": {
      "text/latex": [
       "$\\displaystyle H = \\frac{\\lambda_{\\theta} v}{r} + \\lambda_{r} u + \\lambda_{u} \\left(\\frac{T \\sin{\\left(\\alpha \\right)}}{m_{0} - \\frac{T t}{I_{sp} g}} - \\frac{\\mu}{r^{2}} + \\frac{v^{2}}{r}\\right) + \\lambda_{v} \\left(\\frac{T \\cos{\\left(\\alpha \\right)}}{m_{0} - \\frac{T t}{I_{sp} g}} - \\frac{u v}{r}\\right)$"
      ],
      "text/plain": [
       "Eq(H, \\lambda_{\\theta}*v/r + \\lambda_{r}*u + \\lambda_{u}*(T*sin(\\alpha)/(m_0 - T*t/(I_{sp}*g)) - \\mu/r**2 + v**2/r) + \\lambda_{v}*(T*cos(\\alpha)/(m_0 - T*t/(I_{sp}*g)) - u*v/r))"
      ]
     },
     "metadata": {},
     "output_type": "display_data"
    },
    {
     "data": {
      "text/latex": [
       "$\\displaystyle \\frac{d}{d t} \\lambda_{r} = \\frac{\\lambda_{\\theta} v}{r^{2}} - \\lambda_{u} \\left(\\frac{2 \\mu}{r^{3}} - \\frac{v^{2}}{r^{2}}\\right) - \\frac{\\lambda_{v} u v}{r^{2}}$"
      ],
      "text/plain": [
       "Eq(Derivative(\\lambda_{r}, t), \\lambda_{\\theta}*v/r**2 - \\lambda_{u}*(2*\\mu/r**3 - v**2/r**2) - \\lambda_{v}*u*v/r**2)"
      ]
     },
     "metadata": {},
     "output_type": "display_data"
    },
    {
     "data": {
      "text/latex": [
       "$\\displaystyle \\frac{d}{d t} \\lambda_{u} = - \\lambda_{r} + \\frac{\\lambda_{v} v}{r}$"
      ],
      "text/plain": [
       "Eq(Derivative(\\lambda_{u}, t), -\\lambda_{r} + \\lambda_{v}*v/r)"
      ]
     },
     "metadata": {},
     "output_type": "display_data"
    },
    {
     "data": {
      "text/latex": [
       "$\\displaystyle \\frac{d}{d t} \\lambda_{v} = - \\frac{\\lambda_{\\theta}}{r} - \\frac{2 \\lambda_{u} v}{r} + \\frac{\\lambda_{v} u}{r}$"
      ],
      "text/plain": [
       "Eq(Derivative(\\lambda_{v}, t), -\\lambda_{\\theta}/r - 2*\\lambda_{u}*v/r + \\lambda_{v}*u/r)"
      ]
     },
     "metadata": {},
     "output_type": "display_data"
    },
    {
     "data": {
      "text/latex": [
       "$\\displaystyle \\frac{d}{d t} \\lambda_{\\theta} = 0$"
      ],
      "text/plain": [
       "Eq(Derivative(\\lambda_{\\theta}, t), 0)"
      ]
     },
     "metadata": {},
     "output_type": "display_data"
    },
    {
     "data": {
      "text/latex": [
       "$\\displaystyle \\frac{\\partial{H}}{\\partial{u}}=0 = \\frac{T \\lambda_{u} \\cos{\\left(\\alpha \\right)}}{m_{0} - \\frac{T t}{I_{sp} g}} - \\frac{T \\lambda_{v} \\sin{\\left(\\alpha \\right)}}{m_{0} - \\frac{T t}{I_{sp} g}}$"
      ],
      "text/plain": [
       "Eq(\\frac{\\partial{H}}{\\partial{u}}=0, T*\\lambda_{u}*cos(\\alpha)/(m_0 - T*t/(I_{sp}*g)) - T*\\lambda_{v}*sin(\\alpha)/(m_0 - T*t/(I_{sp}*g)))"
      ]
     },
     "metadata": {},
     "output_type": "display_data"
    },
    {
     "data": {
      "text/markdown": [
       "Note that because time is explicitly in the Hamiltonian, the partial and total derivatives of H with respect to the controls are not equivalent.  Also the Hamiltonian along the optimal solution will not be constant"
      ],
      "text/plain": [
       "<IPython.core.display.Markdown object>"
      ]
     },
     "metadata": {},
     "output_type": "display_data"
    },
    {
     "data": {
      "text/markdown": [
       "We can use this equation to make an expression for the control variable."
      ],
      "text/plain": [
       "<IPython.core.display.Markdown object>"
      ]
     },
     "metadata": {},
     "output_type": "display_data"
    },
    {
     "data": {
      "text/latex": [
       "$\\displaystyle \\alpha = 2 \\operatorname{atan}{\\left(\\frac{- \\lambda_{v} + \\sqrt{\\lambda_{u}^{2} + \\lambda_{v}^{2}}}{\\lambda_{u}} \\right)}$"
      ],
      "text/plain": [
       "Eq(\\alpha, 2*atan((-\\lambda_{v} + sqrt(\\lambda_{u}**2 + \\lambda_{v}**2))/\\lambda_{u}))"
      ]
     },
     "metadata": {},
     "output_type": "display_data"
    },
    {
     "data": {
      "text/latex": [
       "$\\displaystyle \\frac{d}{d t} r = u$"
      ],
      "text/plain": [
       "Eq(Derivative(r, t), u)"
      ]
     },
     "metadata": {},
     "output_type": "display_data"
    },
    {
     "data": {
      "text/latex": [
       "$\\displaystyle \\frac{d}{d t} u = \\frac{T \\lambda_{u} \\left(- \\lambda_{v} + \\sqrt{\\lambda_{u}^{2} + \\lambda_{v}^{2}}\\right)}{\\left(m_{0} - \\frac{T t}{I_{sp} g}\\right) \\left(\\lambda_{u}^{2} + \\lambda_{v}^{2} - \\lambda_{v} \\sqrt{\\lambda_{u}^{2} + \\lambda_{v}^{2}}\\right)} - \\frac{\\mu}{r^{2}} + \\frac{v^{2}}{r}$"
      ],
      "text/plain": [
       "Eq(Derivative(u, t), T*\\lambda_{u}*(-\\lambda_{v} + sqrt(\\lambda_{u}**2 + \\lambda_{v}**2))/((m_0 - T*t/(I_{sp}*g))*(\\lambda_{u}**2 + \\lambda_{v}**2 - \\lambda_{v}*sqrt(\\lambda_{u}**2 + \\lambda_{v}**2))) - \\mu/r**2 + v**2/r)"
      ]
     },
     "metadata": {},
     "output_type": "display_data"
    },
    {
     "data": {
      "text/latex": [
       "$\\displaystyle \\frac{d}{d t} v = \\frac{I_{sp} T \\lambda_{v} g r \\left(- \\lambda_{v} + \\sqrt{\\lambda_{u}^{2} + \\lambda_{v}^{2}}\\right) - u v \\left(I_{sp} g m_{0} - T t\\right) \\left(\\lambda_{u}^{2} + \\lambda_{v}^{2} - \\lambda_{v} \\sqrt{\\lambda_{u}^{2} + \\lambda_{v}^{2}}\\right)}{r \\left(I_{sp} g m_{0} - T t\\right) \\left(\\lambda_{u}^{2} + \\lambda_{v}^{2} - \\lambda_{v} \\sqrt{\\lambda_{u}^{2} + \\lambda_{v}^{2}}\\right)}$"
      ],
      "text/plain": [
       "Eq(Derivative(v, t), (I_{sp}*T*\\lambda_{v}*g*r*(-\\lambda_{v} + sqrt(\\lambda_{u}**2 + \\lambda_{v}**2)) - u*v*(I_{sp}*g*m_0 - T*t)*(\\lambda_{u}**2 + \\lambda_{v}**2 - \\lambda_{v}*sqrt(\\lambda_{u}**2 + \\lambda_{v}**2)))/(r*(I_{sp}*g*m_0 - T*t)*(\\lambda_{u}**2 + \\lambda_{v}**2 - \\lambda_{v}*sqrt(\\lambda_{u}**2 + \\lambda_{v}**2))))"
      ]
     },
     "metadata": {},
     "output_type": "display_data"
    },
    {
     "data": {
      "text/latex": [
       "$\\displaystyle \\frac{d}{d t} \\theta = \\frac{v}{r}$"
      ],
      "text/plain": [
       "Eq(Derivative(\\theta, t), v/r)"
      ]
     },
     "metadata": {},
     "output_type": "display_data"
    },
    {
     "data": {
      "text/latex": [
       "$\\displaystyle \\frac{d}{d t} \\lambda_{r} = \\frac{- \\lambda_{u} \\left(2 \\mu - r v^{2}\\right) + r v \\left(\\lambda_{\\theta} - \\lambda_{v} u\\right)}{r^{3}}$"
      ],
      "text/plain": [
       "Eq(Derivative(\\lambda_{r}, t), (-\\lambda_{u}*(2*\\mu - r*v**2) + r*v*(\\lambda_{\\theta} - \\lambda_{v}*u))/r**3)"
      ]
     },
     "metadata": {},
     "output_type": "display_data"
    },
    {
     "data": {
      "text/latex": [
       "$\\displaystyle \\frac{d}{d t} \\lambda_{u} = - \\lambda_{r} + \\frac{\\lambda_{v} v}{r}$"
      ],
      "text/plain": [
       "Eq(Derivative(\\lambda_{u}, t), -\\lambda_{r} + \\lambda_{v}*v/r)"
      ]
     },
     "metadata": {},
     "output_type": "display_data"
    },
    {
     "data": {
      "text/latex": [
       "$\\displaystyle \\frac{d}{d t} \\lambda_{v} = \\frac{- \\lambda_{\\theta} - 2 \\lambda_{u} v + \\lambda_{v} u}{r}$"
      ],
      "text/plain": [
       "Eq(Derivative(\\lambda_{v}, t), (-\\lambda_{\\theta} - 2*\\lambda_{u}*v + \\lambda_{v}*u)/r)"
      ]
     },
     "metadata": {},
     "output_type": "display_data"
    },
    {
     "data": {
      "text/latex": [
       "$\\displaystyle \\frac{d}{d t} \\lambda_{\\theta} = 0$"
      ],
      "text/plain": [
       "Eq(Derivative(\\lambda_{\\theta}, t), 0)"
      ]
     },
     "metadata": {},
     "output_type": "display_data"
    },
    {
     "data": {
      "text/markdown": [
       "Note the use of the deep parameter when we do the trig simplification.  It is little things like that that require each problem to be a little unique."
      ],
      "text/plain": [
       "<IPython.core.display.Markdown object>"
      ]
     },
     "metadata": {},
     "output_type": "display_data"
    }
   ],
   "source": [
    "# this next block does most of the problem, pretty standard optimal control actions\n",
    "lambdas = problem.Lambdas\n",
    "hamiltonian = problem.CreateHamiltonian(lambdas)\n",
    "jh.showEquation(\"H\", hamiltonian)\n",
    "lambdaDotExpressions = problem.CreateLambdaDotCondition(hamiltonian)\n",
    "for i in range(0, 4):\n",
    "    jh.showEquation(lambdas[i].diff(problem.TimeSymbol), lambdaDotExpressions[i, 0])\n",
    "# NOTE that this call adds the lambdas to the integration state!\n",
    "problem.EquationsOfMotion.update(zip(lambdas, lambdaDotExpressions))\n",
    "\n",
    "dHdu = problem.CreateHamiltonianControlExpressions(hamiltonian)[0]\n",
    "jh.showEquation('\\\\frac{\\\\partial{H}}{\\\\partial{u}}=0', dHdu)\n",
    "jh.printMarkdown(\"Note that because time is explicitly in the Hamiltonian, the partial and total derivatives of H with respect to the controls are not equivalent.  Also the Hamiltonian along the optimal solution will not be constant\")\n",
    "jh.printMarkdown(\"We can use this equation to make an expression for the control variable.\")\n",
    "\n",
    "controlSolved = sy.solve(dHdu, problem.ControlVariables[0])[0] # something that may be different for other problems is when there are multiple control variables\n",
    "jh.showEquation(problem.ControlVariables[0], controlSolved)\n",
    "\n",
    "# update ALL equations of motion with the new expression for the control variable\n",
    "SafeSubs(problem.EquationsOfMotion, {problem.ControlVariables[0]: controlSolved})\n",
    "# the trig simplification needs the deep=True for this problem to make the equations even cleaner\n",
    "for (key, value) in problem.EquationsOfMotion.items() :\n",
    "    problem.EquationsOfMotion[key] = value.trigsimp(deep=True).simplify() # some simplification to make numerical code more stable later, and that is why this code forces us to do things somewhat manually.  There are often special things like this that we ought to do that you can't really automate.\n",
    "    jh.showEquation(key.diff(problem.TimeSymbol), problem.EquationsOfMotion[key])\n",
    "jh.printMarkdown(\"Note the use of the deep parameter when we do the trig simplification.  It is little things like that that require each problem to be a little unique.\")\n"
   ]
  },
  {
   "cell_type": "markdown",
   "metadata": {},
   "source": [
    "We have another choice to make; the transversality condition.  In optimal control theory, the transversality condition provides another optimality condition that we can solve for.  It is a necessary condition both in the \"necessary and sufficient\" context, but also to provide enough non-trivial boundary conditions to solve for.  \n",
    "\n",
    "The first of the two forms is the adjoined method.  Here, the transversality condition is created by by creating additional final (not time varying) scalers that multiply the constraints and get combined with the terminal cost.  The second way is the differential form of the transversality condition that doesn't add in additional variables to solve for.  Really, neither is better or worse (especially for this problem), and I'm just going to pick the differential form.\n",
    "\n",
    "Long story short, we get additional NECESSARY boundary conditions for solving for the alpha that makes the cost stationary if we add in an error variation to the cost."
   ]
  },
  {
   "cell_type": "code",
   "execution_count": null,
   "metadata": {},
   "outputs": [
    {
     "data": {
      "text/markdown": [
       "Note that the implementation of the scaled problem actually derives the transversality conditions for the unscaled problem, and then after the condition is derived, the substituted variables are entered.  This way there is the opportunity for values to get canceled out."
      ],
      "text/plain": [
       "<IPython.core.display.Markdown object>"
      ]
     },
     "metadata": {},
     "output_type": "display_data"
    },
    {
     "data": {
      "text/markdown": [
       "The transversality conditions are:"
      ],
      "text/plain": [
       "<IPython.core.display.Markdown object>"
      ]
     },
     "metadata": {},
     "output_type": "display_data"
    },
    {
     "data": {
      "text/latex": [
       "$\\displaystyle 0 = - \\lambda_{r} + \\frac{\\lambda_{v} \\sqrt{\\mu}}{2 r^{\\frac{3}{2}}} + 1$"
      ],
      "text/plain": [
       "Eq(0, -\\lambda_{r} + \\lambda_{v}*sqrt(\\mu)/(2*r**(3/2)) + 1)"
      ]
     },
     "metadata": {},
     "output_type": "display_data"
    },
    {
     "data": {
      "text/latex": [
       "$\\displaystyle 0 = - \\lambda_{\\theta}$"
      ],
      "text/plain": [
       "Eq(0, -\\lambda_{\\theta})"
      ]
     },
     "metadata": {},
     "output_type": "display_data"
    },
    {
     "data": {
      "text/markdown": [
       "Despite this being a maximization problem, the differential form of the transversality condition will NOT multiply the terminal cost by -1 to make the maximization problem a minimization problem.  I have not been able to find any reasonable justification for that other than 'it works' for numerical solvers.  This is one of the necessary optimality conditions that only finds a stationary point.  It doesn't matter if we are finding a minimum or maximum, the terminal cost doesn't gets its sign flipped."
      ],
      "text/plain": [
       "<IPython.core.display.Markdown object>"
      ]
     },
     "metadata": {},
     "output_type": "display_data"
    }
   ],
   "source": [
    "# your choice of the nu vector here controls which transversality condition we use\n",
    "#nus = [sy.Symbol('B_{u_f}'), sy.Symbol('B_{v_f}')]\n",
    "nus = []\n",
    "\n",
    "# make the transversality conditions\n",
    "if len(nus) != 0:\n",
    "    transversalityCondition = problem.TransversalityConditionsByAugmentation(nus)\n",
    "else:\n",
    "    transversalityCondition = problem.TransversalityConditionInTheDifferentialForm(hamiltonian, sy.Symbol(r'dt_f'))\n",
    "# and add them to the problem\n",
    "problem.BoundaryConditions.extend(transversalityCondition)\n",
    "jh.printMarkdown(\"Note that the implementation of the scaled problem actually derives the transversality conditions for the unscaled problem, and then after the condition is derived, the substituted variables are entered.  This way there is the opportunity for values to get canceled out.\")\n",
    "jh.printMarkdown(\"The transversality conditions are:\")\n",
    "for xvers in transversalityCondition :\n",
    "    jh.showEquation(0, xvers)\n",
    "\n",
    "#TODO: This is a bad order of operations bug.  The final-time BC cannot be present in the base problem's BC's when the transversality conditions are made\n",
    "if scaleTime : # add BC if we are working with the final time (not all solvers need this, but when the same number of BC's and variables are required by the solver [like fsolve does] then...)\n",
    "    problem.BoundaryConditions.append(baseProblem.TimeFinalSymbol-tfOrg)\n",
    "\n",
    "jh.printMarkdown(\"Despite this being a maximization problem, the differential form of the transversality condition will NOT multiply the terminal cost by -1 to make the maximization problem a minimization problem.  I have not been able to find any reasonable justification for that other than 'it works' for numerical solvers.  This is one of the necessary optimality conditions that only finds a stationary point.  It doesn't matter if we are finding a minimum or maximum, the terminal cost doesn't gets its sign flipped.\")"
   ]
  },
  {
   "cell_type": "markdown",
   "metadata": {},
   "source": [
    "Note that the final value for the costate value associated with the longitude is 0, as is its equation of motion.  We will remove it from consideration."
   ]
  },
  {
   "cell_type": "code",
   "execution_count": null,
   "metadata": {},
   "outputs": [],
   "source": [
    "# lambda_lon is always 0, so do that cleanup\n",
    "del problem.EquationsOfMotion[lambdas[3]]\n",
    "problem.BoundaryConditions.remove(transversalityCondition[-1])\n",
    "lmdTheta = lambdas.pop()\n",
    "problem.IntegrationSymbols.pop()\n",
    "constantsSubsDict[lmdTheta]=0\n",
    "constantsSubsDict[lmdTheta.subs(problem.TimeSymbol, problem.TimeFinalSymbol)]=0\n",
    "constantsSubsDict[lmdTheta.subs(problem.TimeSymbol, problem.TimeInitialSymbol)]=0"
   ]
  },
  {
   "cell_type": "markdown",
   "metadata": {},
   "source": [
    "The next line of code is making our initial guesses for the costate variables.  The general process is based on the intuition that the thrust should be going forward in the direction of the velocity.  Solving the control angle to be 0 at $t_0$ gives us 0 for one of them and about 1 for the other.  However from experience, setting one of the costate values to 0 usually has problems, so we set it to a low number.  Those 2 costate variables lets us solve for the third, giving us our first guess that is hopefully close enough."
   ]
  },
  {
   "cell_type": "code",
   "execution_count": null,
   "metadata": {},
   "outputs": [],
   "source": [
    "initialFSolveStateGuess = ContinuousThrustCircularOrbitTransferProblem.CreateInitialLambdaGuessForLeoToGeo(problem, controlSolved)\n",
    "if scaleTime :\n",
    "    initialFSolveStateGuess.append(tfOrg)"
   ]
  },
  {
   "cell_type": "markdown",
   "metadata": {},
   "source": [
    "We now start the transformation to a numerical algorithm that we can solve.  Note that if you change which form of the transversality condition you are using, different values will get substituted here."
   ]
  },
  {
   "cell_type": "code",
   "execution_count": null,
   "metadata": {},
   "outputs": [],
   "source": [
    "otherArgs = []\n",
    "if scaleTime :\n",
    "    otherArgs.append(baseProblem.TimeFinalSymbol)\n",
    "if len(nus) > 0 :\n",
    "    otherArgs.extend(nus)\n",
    "stateAndLambdas = []\n",
    "stateAndLambdas.extend(problem.StateVariables)\n",
    "stateAndLambdas.extend(lambdas)\n",
    "odeState = [problem.TimeSymbol, stateAndLambdas, otherArgs]\n",
    "\n",
    "lambdifyHelper = OdeLambdifyHelperWithBoundaryConditions(problem.TimeSymbol, problem.TimeInitialSymbol, problem.TimeFinalSymbol, problem.EquationsOfMotionAsEquations, problem.BoundaryConditions, otherArgs, problem.SubstitutionDictionary)\n"
   ]
  },
  {
   "cell_type": "markdown",
   "metadata": {},
   "source": [
    "Lambdify is the function that saves a ton of time and possible errors.  This turns our symbolic expressions into code that runs at normal or faster speeds (using libraries like numpy for additional performance) instead of substituting in values when we go to evaluate the equations of motion which would be very slow.  "
   ]
  },
  {
   "cell_type": "code",
   "execution_count": null,
   "metadata": {},
   "outputs": [],
   "source": [
    "# this next block is for when we are using the adjoined form of the transversality condition.  However it is also REALLY useful to just have \n",
    "# the equations of motion in a form that we can evaluate ourselves.\n",
    "odeIntEomCallback = lambdifyHelper.CreateSimpleCallbackForSolveIvp()\n",
    "if len(nus) > 0 :\n",
    "    # run a test solution to get a better guess for the final nu values, this is a good technique, but \n",
    "    # it is still a custom-to-this-problem piece of code because it is still initial-guess work\n",
    "    initialFSolveStateGuess.append(initialFSolveStateGuess[1])\n",
    "    initialFSolveStateGuess.append(initialFSolveStateGuess[2])  \n",
    "    argsForOde = []\n",
    "    if scaleTime :\n",
    "        argsForOde.append(tfOrg)\n",
    "    argsForOde.append(initialFSolveStateGuess[1])\n",
    "    argsForOde.append(initialFSolveStateGuess[2])  \n",
    "    print(\"solving ivp for final ajoined variable guess\")\n",
    "    testSolution = solve_ivp(odeIntEomCallback, [tArray[0], tArray[-1]], [r0, u0, v0, lon0, *initialFSolveStateGuess[0:3]], args=tuple(argsForOde), t_eval=tArray, dense_output=True, method=\"LSODA\", rtol=1.49012e-8, atol=1.49012e-11)  \n",
    "    #testSolution = odeint(odeIntEomCallback, [r0, u0, v0, lon0, *initialFSolveStateGuess[0:3]], tArray, args=tuple(argsForOde))\n",
    "    finalValues = ScipyCallbackCreators.GetFinalStateFromIntegratorResults(testSolution)\n",
    "    initialFSolveStateGuess[-2] = finalValues[5]\n",
    "    initialFSolveStateGuess[-1] = finalValues[6]"
   ]
  },
  {
   "cell_type": "markdown",
   "metadata": {},
   "source": [
    "Now we create the boundary condition evaluation callback.  Note that making this callback general is difficult.  I'm using scipy's solveIvp for the integration of the eqations of motion, but what if you want to use some other routine?  Some of the initial values and final values that are passed to the fsolve boundary condition values, and some of those values also need to get placed into the initial values for the equations of motion... it is can't be easily generalized for most problems, but it doesn't really change for this problem.\n",
    "\n",
    "That being said, streamlining this part of the process is something I am continuing to think about."
   ]
  },
  {
   "cell_type": "code",
   "execution_count": null,
   "metadata": {},
   "outputs": [],
   "source": [
    "stateForBoundaryConditions = []\n",
    "stateForBoundaryConditions.extend(SafeSubs(problem.IntegrationSymbols, {problem.TimeSymbol: problem.TimeInitialSymbol}))\n",
    "stateForBoundaryConditions.extend(SafeSubs(problem.IntegrationSymbols, {problem.TimeSymbol: problem.TimeFinalSymbol}))\n",
    "stateForBoundaryConditions.extend(lambdas)\n",
    "stateForBoundaryConditions.extend(otherArgs)\n",
    "\n",
    "fSolveCallback = ContinuousThrustCircularOrbitTransferProblem.createSolveIvpSingleShootingCallbackForFSolve(problem, problem.IntegrationSymbols, [r0, u0, v0, lon0], tArray, odeIntEomCallback, problem.BoundaryConditions, SafeSubs(lambdas, {problem.TimeSymbol: problem.TimeInitialSymbol}), otherArgs)"
   ]
  },
  {
   "cell_type": "code",
   "execution_count": null,
   "metadata": {},
   "outputs": [
    {
     "name": "stdout",
     "output_type": "stream",
     "text": [
      "[0.0011569091762708, 0.00010000000130634948, 1.0]\n",
      "(array([   26.22754265,  1277.07962758, 23647.71906124]), {'nfev': 79, 'fjac': array([[-9.99970746e-01, -7.62548671e-03, -5.99436585e-04],\n",
      "       [ 7.62544945e-03, -9.99970924e-01,  6.44205089e-05],\n",
      "       [ 5.99910393e-04, -5.98476509e-05, -9.99999818e-01]]), 'r': array([-2.52184098e+03,  1.85013533e+00, -3.37806333e+00, -1.80516270e-01,\n",
      "        1.35966329e-01, -1.25506481e-04]), 'qtf': array([-3.00931567e-04,  9.27589209e-05, -1.16254530e-07]), 'fvec': array([ 3.01630022e-04, -9.04614672e-05,  3.02619477e-07])}, 1, 'The solution converged.')\n"
     ]
    }
   ],
   "source": [
    "print(initialFSolveStateGuess)\n",
    "fSolveSol = fsolve(fSolveCallback, initialFSolveStateGuess, epsfcn=0.00001, full_output=True) # just to speed things up and see how the initial one works\n",
    "print(fSolveSol)"
   ]
  },
  {
   "cell_type": "markdown",
   "metadata": {},
   "source": [
    "Yay, it says it converged.  Let's see what we have."
   ]
  },
  {
   "cell_type": "code",
   "execution_count": null,
   "metadata": {},
   "outputs": [
    {
     "data": {
      "image/png": "[encoded data removed]",
      "text/plain": [
       "<Figure size 640x480 with 1 Axes>"
      ]
     },
     "metadata": {},
     "output_type": "display_data"
    },
    {
     "data": {
      "image/png": "[encoded data removed]",
      "text/plain": [
       "<Figure size 640x480 with 1 Axes>"
      ]
     },
     "metadata": {},
     "output_type": "display_data"
    },
    {
     "data": {
      "image/png": "[encoded data removed]",
      "text/plain": [
       "<Figure size 640x480 with 1 Axes>"
      ]
     },
     "metadata": {},
     "output_type": "display_data"
    },
    {
     "data": {
      "image/png": "[encoded data removed]",
      "text/plain": [
       "<Figure size 640x480 with 1 Axes>"
      ]
     },
     "metadata": {},
     "output_type": "display_data"
    },
    {
     "name": "stderr",
     "output_type": "stream",
     "text": [
      "No artists with labels found to put in legend.  Note that artists whose label start with an underscore are ignored when legend() is called with no argument.\n"
     ]
    },
    {
     "data": {
      "image/png": "[encoded data removed]",
      "text/plain": [
       "<Figure size 640x480 with 1 Axes>"
      ]
     },
     "metadata": {},
     "output_type": "display_data"
    },
    {
     "data": {
      "text/latex": [
       "$\\displaystyle r{\\left(t_{f} \\right)} = 42162089.1906473$"
      ],
      "text/plain": [
       "Eq(r(t_f), 42162089.1906473)"
      ]
     },
     "metadata": {},
     "output_type": "display_data"
    },
    {
     "data": {
      "text/latex": [
       "$\\displaystyle u{\\left(t_{f} \\right)} = 0.000301630022403243$"
      ],
      "text/plain": [
       "Eq(u(t_f), 0.000301630022403243)"
      ]
     },
     "metadata": {},
     "output_type": "display_data"
    },
    {
     "data": {
      "text/latex": [
       "$\\displaystyle v{\\left(t_{f} \\right)} = 3074.73586567063$"
      ],
      "text/plain": [
       "Eq(v(t_f), 3074.73586567063)"
      ]
     },
     "metadata": {},
     "output_type": "display_data"
    },
    {
     "data": {
      "text/latex": [
       "$\\displaystyle \\theta{\\left(t_{f} \\right)} = 100.151647534735$"
      ],
      "text/plain": [
       "Eq(\\theta(t_f), 100.151647534735)"
      ]
     },
     "metadata": {},
     "output_type": "display_data"
    },
    {
     "data": {
      "image/png": "[encoded data removed]",
      "text/plain": [
       "<Figure size 640x480 with 1 Axes>"
      ]
     },
     "metadata": {},
     "output_type": "display_data"
    }
   ],
   "source": [
    "solution = solve_ivp(odeIntEomCallback, [tArray[0], tArray[-1]], [r0, u0, v0, lon0, *fSolveSol[0][0:3]], args=tuple(fSolveSol[0][3:len(fSolveSol[0])]), t_eval=tArray, dense_output=True, method=\"LSODA\", rtol=1.49012e-8, atol=1.49012e-11)\n",
    "solutionDictionary = ScipyCallbackCreators.ConvertEitherIntegratorResultsToDictionary(problem.IntegrationSymbols, solution)\n",
    "unscaledResults = solutionDictionary\n",
    "unscaledTArray = tArray\n",
    "unscaledResults = problem.DescaleResults(solutionDictionary)\n",
    "if scaleTime:\n",
    "    unscaledTArray=tfOrg*tArray\n",
    "\n",
    "if scaleElements:    \n",
    "    finalState = GetValueFromStateDictionaryAtIndex(solutionDictionary, -1)\n",
    "    jh.showEquation(stateAtTf[0], finalState[problem.StateVariables[0]], False)\n",
    "    jh.showEquation(stateAtTf[1], finalState[problem.StateVariables[1]], False)\n",
    "    jh.showEquation(stateAtTf[2], finalState[problem.StateVariables[2]], False)\n",
    "    jh.showEquation(stateAtTf[3], (finalState[problem.StateVariables[3]]%(2*math.pi))*180.0/(2*math.pi), False)\n",
    "\n",
    "baseProblem.PlotSolution(tArray*tfOrg, unscaledResults, \"Test\")\n",
    "jh.showEquation(baseProblem.StateVariables[0].subs(problem.TimeSymbol, problem.TimeFinalSymbol), unscaledResults[baseProblem.StateVariables[0]][-1], False)\n",
    "jh.showEquation(baseProblem.StateVariables[1].subs(problem.TimeSymbol, problem.TimeFinalSymbol), unscaledResults[baseProblem.StateVariables[1]][-1], False)\n",
    "jh.showEquation(baseProblem.StateVariables[2].subs(problem.TimeSymbol, problem.TimeFinalSymbol), unscaledResults[baseProblem.StateVariables[2]][-1], False)\n",
    "jh.showEquation(baseProblem.StateVariables[3].subs(problem.TimeSymbol, problem.TimeFinalSymbol), (unscaledResults[baseProblem.StateVariables[3]][-1]%(2*math.pi))*180.0/(2*math.pi), False)\n",
    "\n",
    "[hamltVals, dhduValus, d2hdu2Valus] = problem.EvaluateHamiltonianAndItsFirstTwoDerivatives(solutionDictionary, tArray, hamiltonian, {problem.ControlVariables[0]: controlSolved}, {baseProblem.TimeFinalSymbol: tfOrg})\n",
    "plt.title(\"Hamlitonion and its derivatives\")\n",
    "plt.plot(tArray/86400, hamltVals, label=\"Hamiltonian\")\n",
    "plt.plot(tArray/86400, dhduValus, label=r'$\\frac{dH}{du}$')\n",
    "plt.plot(tArray/86400, d2hdu2Valus, label=r'$\\frac{d^2H}{du^2}$')\n",
    "\n",
    "plt.tight_layout()\n",
    "plt.grid(alpha=0.5)\n",
    "plt.legend(framealpha=1, shadow=True)\n",
    "plt.show()   "
   ]
  },
  {
   "cell_type": "markdown",
   "metadata": {},
   "source": [
    "The second derivative of the Hamiltonian is negative which satisfies the sufficient condition for a maximization problem.  The plots are also identical to the plots from Dr. Gusman's outputs.  All in all, we can be very confident that this solution is indeed an optimal one."
   ]
  },
  {
   "cell_type": "markdown",
   "metadata": {},
   "source": [
    "# Direct Method\n",
    "\n",
    "For the direct method, it will start similar to the previous one.  We have to make our problem class, register the constants, etc...  Note that compared to the indirect version, this routine has not been as well tested and refined."
   ]
  },
  {
   "cell_type": "code",
   "execution_count": null,
   "metadata": {},
   "outputs": [],
   "source": [
    "import __init__\n",
    "import sys\n",
    "sys.path.append(\"..\") # treating this as a jupyter-like cell requires adding one directory up\n",
    "sys.path.append(\"../pyeq2orb\") # and this line is needed for running like a normal python script\n",
    "# these two appends do not conflict with eachother\n",
    "import math\n",
    "import sympy as sy\n",
    "import numpy as np\n",
    "import matplotlib.pyplot as plt\n",
    "from collections import OrderedDict\n",
    "\n",
    "# to get pyomo to work on windows, must also install this library:\n",
    "# conda install -c conda-forge pynumero_libraries\n",
    "\n",
    "from pyeq2orb.SymbolicOptimizerProblem import SymbolicProblem\n",
    "from pyeq2orb.ScaledSymbolicProblem import ScaledSymbolicProblem\n",
    "from pyeq2orb.Problems.ContinuousThrustCircularOrbitTransfer import ContinuousThrustCircularOrbitTransferProblem\n",
    "from pyeq2orb.Numerical import ScipyCallbackCreators\n",
    "import scipyPaperPrinter as jh\n",
    "import pyomo.environ as poenv\n",
    "import pyomo.dae as podae\n",
    "from matplotlib.figure import Figure\n",
    "from pyeq2orb.NumericalProblemFromSymbolic import NumericalProblemFromSymbolicProblem\n",
    "\n",
    "# constants\n",
    "g = 9.80665\n",
    "mu = 3.986004418e14  \n",
    "thrust = 20.0\n",
    "isp = 6000.0\n",
    "m0 = 1500.0\n",
    "\n",
    "# initial values\n",
    "r0 = 6678000.0\n",
    "u0 = 0.0\n",
    "v0 = sy.sqrt(mu/r0) # circular\n",
    "lon0 = 0.0\n",
    "# I know from many previous runs that this is the time needed to go from LEO to GEO.\n",
    "# However, below works well wrapped in another fsolve to control the final time for a desired radius.\n",
    "tfVal  = 3600*3.97152*24\n",
    "tfOrg = tfVal\n",
    "\n",
    "# these are options to switch to try different things\n",
    "scale = True\n",
    "scaleTime = True\n",
    "\n",
    "baseProblem = ContinuousThrustCircularOrbitTransferProblem()\n",
    "initialStateValues = baseProblem.CreateVariablesAtTime0(baseProblem.StateVariables)\n",
    "problem = baseProblem\n",
    "\n",
    "if scale :\n",
    "    newSvs = ScaledSymbolicProblem.CreateBarVariables(problem.StateVariables, problem.TimeSymbol) \n",
    "    problem = ScaledSymbolicProblem(baseProblem, newSvs, {problem.StateVariables[0]: initialStateValues[0], \n",
    "                                                          problem.StateVariables[1]: initialStateValues[2], \n",
    "                                                          problem.StateVariables[2]: initialStateValues[2], \n",
    "                                                          problem.StateVariables[3]: 1.0} , scaleTime)\n",
    "rs = problem.StateVariables[0]\n",
    "us = problem.StateVariables[1]\n",
    "vs = problem.StateVariables[2]\n",
    "lons = problem.StateVariables[3]\n",
    "\n",
    "jh.t = problem._timeSymbol\n",
    "\n",
    "# register constants\n",
    "constantsSubsDict = problem.SubstitutionDictionary\n",
    "constantsSubsDict[baseProblem.Isp] = isp\n",
    "constantsSubsDict[baseProblem.MassInitial] = m0\n",
    "constantsSubsDict[baseProblem.Gravity] = g\n",
    "constantsSubsDict[baseProblem.Mu]= mu\n",
    "constantsSubsDict[baseProblem.Thrust] = thrust\n",
    "\n",
    "# register initial state values\n",
    "constantsSubsDict.update(zip(initialStateValues, [r0, u0, v0, lon0]))\n",
    "if scale :\n",
    "    # and reset the real initial values using tau_0 instead of time\n",
    "    initialValuesAtTau0 = SafeSubs(initialStateValues, {baseProblem.TimeInitialSymbol: problem.TimeInitialSymbol})\n",
    "    constantsSubsDict.update(zip(initialValuesAtTau0, [r0, u0, v0, lon0]))\n",
    "\n",
    "    r0= r0/r0\n",
    "    u0=u0/v0\n",
    "    v0=v0/v0\n",
    "    lon0=lon0/1.0\n",
    "    # add the scaled initial values (at tau_0).  We should NOT need to add these at t_0\n",
    "    initialScaledStateValues = problem.CreateVariablesAtTime0(problem.StateVariables)\n",
    "    constantsSubsDict.update(zip(initialScaledStateValues, [r0, u0, v0, lon0])) "
   ]
  },
  {
   "cell_type": "code",
   "execution_count": null,
   "metadata": {},
   "outputs": [
    {
     "data": {
      "text/markdown": [
       "Now we start setting up our pyomo problem. There is a wrapper class that takes a symbolic problem and turns it into a numerical problem.  It is still a prototype, but this kind of wrapping is I think the way to go."
      ],
      "text/plain": [
       "<IPython.core.display.Markdown object>"
      ]
     },
     "metadata": {},
     "output_type": "display_data"
    },
    {
     "data": {
      "text/markdown": [
       "And here is where we start setting up pyomo. In terms of using pyomo, this is all pretty standard so far..."
      ],
      "text/plain": [
       "<IPython.core.display.Markdown object>"
      ]
     },
     "metadata": {},
     "output_type": "display_data"
    }
   ],
   "source": [
    "jh.printMarkdown(\"Now we start setting up our pyomo problem. There is a wrapper class that takes a symbolic problem and turns it into a numerical problem.  It is still a prototype, but this kind of wrapping is I think the way to go.\")\n",
    "\n",
    "lambdiafyFunctionMap = {'sqrt': poenv.sqrt, 'sin': poenv.sin, 'cos':poenv.cos} #TODO: MOOOORE!!!!\n",
    "asNumericalProblem = NumericalProblemFromSymbolicProblem(problem, lambdiafyFunctionMap)\n",
    "\n",
    "n=200\n",
    "tSpace = np.linspace(0.0, 1.0, n)\n",
    "\n",
    "jh.printMarkdown(\"And here is where we start setting up pyomo. In terms of using pyomo, this is all pretty standard so far...\")\n",
    "model = poenv.ConcreteModel()\n",
    "model.t = podae.ContinuousSet(initialize=tSpace, domain=poenv.NonNegativeReals)\n",
    "\n",
    "velBound = float(1.5*abs(v0))\n",
    "model.r = poenv.Var(model.t, bounds=(0.9, 8.0), initialize=float(r0))\n",
    "model.u = poenv.Var(model.t, bounds=(-1.0*velBound, velBound), initialize=float(u0))\n",
    "model.v = poenv.Var(model.t, bounds=(-1.0*velBound, velBound), initialize=float(v0))\n",
    "model.lon = poenv.Var(model.t, bounds=(lon0, 29.0*2.0*math.pi), initialize=float(lon0))\n",
    "model.control = poenv.Var(model.t, bounds=(-1.0*math.pi/2.2, math.pi/2.2))\n",
    "model.tf = poenv.Var(bounds=(tfOrg-2, tfOrg+2), initialize=float(tfOrg))\n",
    "\n",
    "model.r[0].fix(float(r0))\n",
    "model.u[0].fix(float(u0))\n",
    "model.v[0].fix(float(v0))\n",
    "model.lon[0].fix(float(lon0))\n",
    "\n",
    "model.rDot = podae.DerivativeVar(model.r, wrt=model.t)\n",
    "model.uDot = podae.DerivativeVar(model.u, wrt=model.t)\n",
    "model.vDot = podae.DerivativeVar(model.v, wrt=model.t)\n",
    "model.lonDot = podae.DerivativeVar(model.lon, wrt=model.t)"
   ]
  },
  {
   "cell_type": "code",
   "execution_count": null,
   "metadata": {},
   "outputs": [
    {
     "data": {
      "text/markdown": [
       "Here, we create a helper function to map the state that pyomo can give to the callbacks and functions that the numerical problem type provides."
      ],
      "text/plain": [
       "<IPython.core.display.Markdown object>"
      ]
     },
     "metadata": {},
     "output_type": "display_data"
    },
    {
     "data": {
      "text/markdown": [
       "With this, we can set up our equations of motions, our terminal constraints, and the objective function."
      ],
      "text/plain": [
       "<IPython.core.display.Markdown object>"
      ]
     },
     "metadata": {},
     "output_type": "display_data"
    }
   ],
   "source": [
    "jh.printMarkdown(\"Here, we create a helper function to map the state that pyomo can give to the callbacks and functions that the numerical problem type provides.\")\n",
    "\n",
    "def mapPyomoStateToProblemState(m, t, callableExpression) :\n",
    "    return callableExpression([t, m.r[t], m.u[t], m.v[t], m.lon[t], m.control[t], m.tf])\n",
    "\n",
    "jh.printMarkdown(\"With this, we can set up our equations of motions, our terminal constraints, and the objective function.\")\n",
    "\n",
    "model.rEom = poenv.Constraint(model.t, rule =lambda m, t2: m.rDot[t2] == mapPyomoStateToProblemState(m, t2, lambda state : asNumericalProblem.SingleEquationOfMotionWithTInState(state, 0)))\n",
    "model.uEom = poenv.Constraint(model.t, rule =lambda m, t2: m.uDot[t2] == mapPyomoStateToProblemState(m, t2, lambda state : asNumericalProblem.SingleEquationOfMotionWithTInState(state, 1)))\n",
    "model.vEom = poenv.Constraint(model.t, rule =lambda m, t2: m.vDot[t2] == mapPyomoStateToProblemState(m, t2, lambda state : asNumericalProblem.SingleEquationOfMotionWithTInState(state, 2)))\n",
    "model.lonEom = poenv.Constraint(model.t, rule =lambda m, t2: m.lonDot[t2] == mapPyomoStateToProblemState(m, t2, lambda state : asNumericalProblem.SingleEquationOfMotionWithTInState(state, 3)))\n",
    "\n",
    "model.bc1 = poenv.Constraint(rule = lambda mod1 : 0 == mapPyomoStateToProblemState(mod1, 1.0, asNumericalProblem.BoundaryConditionCallbacks[0]))\n",
    "model.bc2 = poenv.Constraint(rule = lambda mod1 : 0 == mapPyomoStateToProblemState(mod1, 1.0, asNumericalProblem.BoundaryConditionCallbacks[1]))\n",
    "\n",
    "def singlePyomoArrayToTerminalCostCallback(m, t, expr) :\n",
    "    return expr(m.tf, [t, m.r[t], m.u[t], m.v[t], m.lon[t], m.control[t]])\n",
    "finalRadiusCallback = lambda m : singlePyomoArrayToTerminalCostCallback(m, 1.0, asNumericalProblem.TerminalCost)\n",
    "model.radiusObjective = poenv.Objective(expr = finalRadiusCallback, sense=poenv.maximize)"
   ]
  },
  {
   "cell_type": "code",
   "execution_count": null,
   "metadata": {},
   "outputs": [
    {
     "data": {
      "text/markdown": [
       "Next, we setup our initial values and run a simulation to get an initial guess for the problem."
      ],
      "text/plain": [
       "<IPython.core.display.Markdown object>"
      ]
     },
     "metadata": {},
     "output_type": "display_data"
    }
   ],
   "source": [
    "jh.printMarkdown(\"Next, we setup our initial values and run a simulation to get an initial guess for the problem.\")\n",
    "\n",
    "model.var_input = poenv.Suffix(direction=poenv.Suffix.LOCAL)\n",
    "model.var_input[model.control] = {0: 0.03}\n",
    "model.var_input[model.tf] = {0: tfOrg}\n",
    "\n",
    "sim = podae.Simulator(model, package='scipy') \n",
    "tsim, profiles = sim.simulate(numpoints=n, varying_inputs=model.var_input, integrator='dop853', initcon=np.array([r0,u0, v0, lon0], dtype=float))"
   ]
  },
  {
   "cell_type": "code",
   "execution_count": null,
   "metadata": {},
   "outputs": [
    {
     "data": {
      "text/markdown": [
       "Simulating the problem is required before solving it.  One thing I am planning to look into is initializing a problem if it is simulated in some other way (such as from the results of an indirect solver).  But now we can solve it.  IPOPT is, as far as I know, the best solver I have access to that can solve this kind of nonlinear programming problem."
      ],
      "text/plain": [
       "<IPython.core.display.Markdown object>"
      ]
     },
     "metadata": {},
     "output_type": "display_data"
    },
    {
     "name": "stdout",
     "output_type": "stream",
     "text": [
      "\n",
      "******************************************************************************\n",
      "This program contains Ipopt, a library for large-scale nonlinear optimization.\n",
      " Ipopt is released as open source code under the Eclipse Public License (EPL).\n",
      "         For more information visit https://github.com/coin-or/Ipopt\n",
      "******************************************************************************\n",
      "\n",
      "This is Ipopt version 3.14.10, running with linear solver MUMPS 5.2.1.\n",
      "\n",
      "Number of nonzeros in equality constraint Jacobian...:    22800\n",
      "Number of nonzeros in inequality constraint Jacobian.:        0\n",
      "Number of nonzeros in Lagrangian Hessian.............:     6003\n",
      "\n",
      "Total number of variables............................:     5406\n",
      "                     variables with only lower bounds:        0\n",
      "                variables with lower and upper bounds:     3002\n",
      "                     variables with only upper bounds:        0\n",
      "Total number of equality constraints.................:     4806\n",
      "Total number of inequality constraints...............:        0\n",
      "        inequality constraints with only lower bounds:        0\n",
      "   inequality constraints with lower and upper bounds:        0\n",
      "        inequality constraints with only upper bounds:        0\n",
      "\n",
      "iter    objective    inf_pr   inf_du lg(mu)  ||d||  lg(rg) alpha_du alpha_pr  ls\n",
      "   0 -6.6118421e+00 3.97e+02 3.01e-04  -1.0 0.00e+00    -  0.00e+00 0.00e+00   0\n",
      "   1 -6.8183491e+00 3.71e+01 3.67e+01  -1.0 3.97e+02    -  4.90e-01 9.07e-01h  1\n",
      "   2 -6.8190337e+00 3.49e+01 2.06e+04  -1.0 3.71e+01   2.0 4.17e-03 5.89e-02h  1\n",
      "   3 -6.8122667e+00 1.95e+01 3.40e+04  -1.0 3.58e+01   1.5 2.40e-03 4.40e-01h  1\n",
      "   4 -6.8127989e+00 1.46e+01 1.44e+05  -1.0 1.96e+01   2.9 3.26e-03 2.53e-01h  1\n",
      "   5 -6.7806599e+00 8.83e+00 1.57e+05  -1.0 1.58e+01   2.4 2.92e-03 3.94e-01h  1\n",
      "   6 -6.7164966e+00 5.35e+00 1.59e+05  -1.0 1.40e+01   1.9 4.06e-03 3.94e-01h  1\n",
      "   7 -6.6544965e+00 2.26e+00 1.97e+05  -1.0 2.11e+01   1.4 2.44e-01 5.87e-01h  1\n",
      "   8 -6.6348208e+00 2.17e+00 1.45e+05  -1.0 1.75e+01   0.9 3.19e-03 4.71e-01h  1\n",
      "   9 -6.6069148e+00 2.50e+00 1.41e+05  -1.0 1.33e+01   0.5 3.83e-01 4.92e-01h  1\n",
      "iter    objective    inf_pr   inf_du lg(mu)  ||d||  lg(rg) alpha_du alpha_pr  ls\n",
      "  10 -6.5015270e+00 1.17e+00 9.20e+04  -1.0 1.33e+01  -0.0 2.91e-01 1.00e+00h  1\n",
      "  11 -6.4800505e+00 2.17e+00 4.21e+04  -1.0 5.09e+00   1.3 1.62e-01 5.41e-01f  1\n",
      "  12 -6.4791471e+00 2.17e+00 4.20e+04  -1.0 2.07e+01    -  2.75e-01 2.61e-03h  1\n",
      "  13 -6.4473843e+00 1.90e+00 3.68e+04  -1.0 1.38e+01    -  9.74e-01 1.25e-01h  4\n",
      "  14 -6.4014689e+00 1.42e+00 2.76e+04  -1.0 1.09e+01    -  1.00e+00 2.50e-01h  3\n",
      "  15 -6.3439115e+00 6.52e-01 1.24e+04  -1.0 6.45e+00    -  5.73e-01 5.44e-01h  1\n",
      "  16 -6.2848454e+00 1.00e-01 3.26e+03  -1.0 2.48e+00    -  5.64e-02 1.00e+00f  1\n",
      "  17 -6.2823522e+00 1.03e-02 1.26e+01  -1.0 2.03e-01   1.7 1.00e+00 1.00e+00h  1\n",
      "  18 -6.2777294e+00 6.26e-04 1.10e+02  -1.0 4.98e-01    -  1.00e+00 1.00e+00h  1\n",
      "  19 -6.2778057e+00 2.07e-06 4.63e-02  -1.0 2.66e-03   1.3 1.00e+00 1.00e+00h  1\n",
      "iter    objective    inf_pr   inf_du lg(mu)  ||d||  lg(rg) alpha_du alpha_pr  ls\n",
      "  20 -6.2778331e+00 8.02e-08 3.66e-03  -2.5 6.02e-04   0.8 1.00e+00 1.00e+00h  1\n",
      "  21 -6.3804835e+00 3.95e-01 1.48e-01  -3.8 1.27e+01    -  3.81e-01 4.90e-01f  1\n",
      "  22 -6.3591058e+00 1.52e-01 5.45e-02  -3.8 3.39e+00    -  3.68e-01 1.00e+00h  1\n",
      "  23 -6.3225970e+00 4.33e-01 5.46e-03  -3.8 1.91e+00    -  1.00e+00 1.00e+00h  1\n",
      "  24 -6.3151321e+00 8.16e-02 9.36e-04  -3.8 5.15e-01    -  1.00e+00 1.00e+00h  1\n",
      "  25 -6.3134381e+00 3.01e-04 6.36e-06  -3.8 9.38e-02    -  1.00e+00 1.00e+00h  1\n",
      "  26 -6.3134969e+00 1.77e-04 2.23e-04  -5.7 5.02e-01    -  8.48e-01 1.00e+00h  1\n",
      "  27 -6.3135160e+00 1.01e-06 2.03e-08  -5.7 8.59e-01    -  1.00e+00 1.00e+00h  1\n",
      "  28 -6.3135172e+00 4.39e-08 9.68e-08  -8.6 2.55e-02    -  9.95e-01 1.00e+00h  1\n",
      "  29 -6.3135173e+00 6.42e-11 2.24e-14  -8.6 2.98e-04    -  1.00e+00 1.00e+00h  1\n",
      "\n",
      "Number of Iterations....: 29\n",
      "\n",
      "                                   (scaled)                 (unscaled)\n",
      "Objective...............:  -6.3135172504721142e+00   -6.3135172504721142e+00\n",
      "Dual infeasibility......:   2.2409965358036730e-14    2.2409965358036730e-14\n",
      "Constraint violation....:   4.2807133146710185e-12    6.4162009039137047e-11\n",
      "Variable bound violation:   5.0826289225369692e-05    5.0826289225369692e-05\n",
      "Complementarity.........:   2.5060904981896947e-09    2.5060904981896947e-09\n",
      "Overall NLP error.......:   2.5060904981896947e-09    2.5060904981896947e-09\n",
      "\n",
      "\n",
      "Number of objective function evaluations             = 38\n",
      "Number of objective gradient evaluations             = 30\n",
      "Number of equality constraint evaluations            = 38\n",
      "Number of inequality constraint evaluations          = 0\n",
      "Number of equality constraint Jacobian evaluations   = 30\n",
      "Number of inequality constraint Jacobian evaluations = 0\n",
      "Number of Lagrangian Hessian evaluations             = 29\n",
      "Total seconds in IPOPT                               = 1.089\n",
      "\n",
      "EXIT: Optimal Solution Found.\n",
      "WARNING (W1002): Setting Var 'tf' to a numeric value `343141.32805082627`\n",
      "    outside the bounds (343137.328, 343141.328).\n",
      "    See also https://pyomo.readthedocs.io/en/stable/errors.html#w1002\n"
     ]
    },
    {
     "data": {
      "text/plain": [
       "{'Problem': [{'Name': 'unknown', 'Lower bound': -6.313517250472114, 'Upper bound': inf, 'Number of objectives': 1, 'Number of constraints': 4806, 'Number of variables': 5406, 'Number of binary variables': 0, 'Number of integer variables': 0, 'Number of continuous variables': 5406, 'Sense': 'maximize'}], 'Solver': [{'Name': 'cyipopt', 'Status': 'ok', 'Return code': 0, 'Message': b'Algorithm terminated successfully at a locally optimal point, satisfying the convergence tolerances (can be specified by options).', 'Wallclock time': 1.282948900000001, 'Termination condition': 'optimal'}]}"
      ]
     },
     "execution_count": 18,
     "metadata": {},
     "output_type": "execute_result"
    }
   ],
   "source": [
    "jh.printMarkdown(\"Simulating the problem is required before solving it.  One thing I am planning to look into is initializing a problem if it is simulated in some other way (such as from the results of an indirect solver).  But now we can solve it.  IPOPT is, as far as I know, the best solver I have access to that can solve this kind of nonlinear programming problem.\")\n",
    "\n",
    "poenv.TransformationFactory('dae.collocation').apply_to(model, wrt=model.t, nfe=n,ncp=3, scheme='LAGRANGE-RADAU')\n",
    "sim.initialize_model()\n",
    "solver = poenv.SolverFactory('cyipopt')\n",
    "solver.solve(model, tee=True)"
   ]
  },
  {
   "cell_type": "code",
   "execution_count": null,
   "metadata": {},
   "outputs": [
    {
     "data": {
      "text/markdown": [
       "With our solution, we can plot it as well as inspect the final variables."
      ],
      "text/plain": [
       "<IPython.core.display.Markdown object>"
      ]
     },
     "metadata": {},
     "output_type": "display_data"
    },
    {
     "name": "stdout",
     "output_type": "stream",
     "text": [
      "control 0 = 4.379828737893024e-17\n"
     ]
    },
    {
     "data": {
      "image/png": "[encoded data removed]",
      "text/plain": [
       "<Figure size 640x480 with 1 Axes>"
      ]
     },
     "metadata": {},
     "output_type": "display_data"
    },
    {
     "data": {
      "image/png": "[encoded data removed]",
      "text/plain": [
       "<Figure size 640x480 with 1 Axes>"
      ]
     },
     "metadata": {},
     "output_type": "display_data"
    },
    {
     "data": {
      "image/png": "[encoded data removed]",
      "text/plain": [
       "<Figure size 640x480 with 1 Axes>"
      ]
     },
     "metadata": {},
     "output_type": "display_data"
    },
    {
     "name": "stdout",
     "output_type": "stream",
     "text": [
      "Tf = 3.9715431487364152\n"
     ]
    },
    {
     "data": {
      "text/latex": [
       "$\\displaystyle r_{f} = 42161668.1986528$"
      ],
      "text/plain": [
       "Eq(r_f, 42161668.1986528)"
      ]
     },
     "metadata": {},
     "output_type": "display_data"
    },
    {
     "data": {
      "text/latex": [
       "$\\displaystyle u_{f} = 1.3295357807946 \\cdot 10^{-26}$"
      ],
      "text/plain": [
       "Eq(u_f, 1.3295357807946e-26)"
      ]
     },
     "metadata": {},
     "output_type": "display_data"
    },
    {
     "data": {
      "text/latex": [
       "$\\displaystyle v_{f} = 3074.75130699517$"
      ],
      "text/plain": [
       "Eq(v_f, 3074.75130699517)"
      ]
     },
     "metadata": {},
     "output_type": "display_data"
    },
    {
     "data": {
      "application/vnd.plotly.v1+json": {
       "config": {
        "plotlyServerURL": "https://plot.ly"
       },
       "data": [
        {
         "hovertemplate": "x=%{x}<br>y=%{y}<br>z=%{z}<extra></extra>",
         "legendgroup": "",
         "line": {
          "color": "#636efa",
          "dash": "solid"
         },
         "marker": {
          "symbol": "circle"
         },
         "mode": "lines",
         "name": "",
         "scene": "scene",
         "showlegend": false,
         "type": "scatter3d",
         "x": [
          6678000,
          6360779.247059981,
          1870786.4550882934,
          -2752926.327306901,
          -4481118.41474808,
          -6691893.539245939,
          -4608249.044660117,
          -2926771.812381366,
          3292257.09497139,
          6326655.723345623,
          6785398.001068255,
          4372561.652834529,
          64236.03150851965,
          -1955150.682948951,
          -6473525.058387533,
          -6494006.991815834,
          -5555706.966430795,
          -63644.39498252977,
          4252479.885392536,
          5651241.876806563,
          6625306.280070629,
          3918467.339266944,
          2104999.9659676845,
          -4001562.0802051974,
          -6694521.597157703,
          -7016548.040317286,
          -4425793.542816979,
          -194356.8845403256,
          1792046.5769920694,
          6468681.955879989,
          6902120.861317598,
          6180779.679849617,
          1175523.6835944243,
          -3279175.23831599,
          -4909382.894535408,
          -7154471.388528953,
          -5485891.605246052,
          -4013846.5130127184,
          1988140.1449681043,
          5699109.609440992,
          6694688.569141045,
          6435121.020672592,
          3267440.5653003943,
          1400498.2245181473,
          -4501636.574167472,
          -7020321.791880113,
          -7329255.551703506,
          -4973276.629820506,
          -964727.0376164553,
          993458.2873798801,
          6119417.292779925,
          7402739.120407237,
          7126273.164895092,
          3289958.279991679,
          -1068883.4730250032,
          -2948395.0150053003,
          -7064494.727329411,
          -7270872.580872664,
          -6551269.364905391,
          -1807146.1097220457,
          2570212.743546307,
          4293535.325410404,
          7483281.656484242,
          6901344.0160288885,
          5885705.526730039,
          629584.6781403908,
          -3644021.1233541835,
          -5213154.014525632,
          -7687433.005374307,
          -6604240.227450834,
          -5425203.900134194,
          41820.409401640485,
          4199729.280581731,
          5670211.945226623,
          7766237.924031188,
          6452385.78140753,
          5872782.6552189,
          3509965.109279261,
          1448646.996026733,
          503099.3623830917,
          -2468420.192349574,
          -4422366.553212883,
          -5857675.510125806,
          -7891161.05687255,
          -6614523.989647152,
          -5399832.809362289,
          40959.432682321676,
          4164233.761309757,
          5648030.3300833255,
          7969554.503655298,
          6965026.842129645,
          5861654.967493755,
          636697.1785863434,
          -3547814.3953396683,
          -5129216.270315183,
          -8015605.045349798,
          -7553538.011038461,
          -6676563.875635299,
          -1914598.300178754,
          2317669.7133929604,
          4036273.606678848,
          7739732.752412097,
          8056047.061975235,
          7508673.192924487,
          3507097.419486218,
          -621951.0943200882,
          -2441112.735985727,
          -7016782.046995822,
          -8333619.158310574,
          -8252028.759880298,
          -5494276.558461745,
          -1761628.7248101195,
          68777.23093545272,
          5428395.627426017,
          7861389.990645936,
          8339181.261120943,
          7269740.380264519,
          4350630.300939155,
          2696045.126575149,
          -2962863.9783227067,
          -6392404.456796785,
          -7462329.436409567,
          -8523361.705889396,
          -6970906.400878559,
          -5757559.345524872,
          -567050.0358153126,
          3492407.71711664,
          5068900.80490635,
          8340435.000374318,
          8557016.950133083,
          8043543.033948669,
          4361505.401443288,
          454975.5430957113,
          -1335794.415833096,
          -6309595.422312081,
          -8444282.747947078,
          -8836694.872091696,
          -7750819.221873715,
          -5003637.617429341,
          -3435095.182577534,
          2103104.2122211475,
          5734684.220964327,
          6990081.266381727,
          8986007.720220726,
          8300694.088166458,
          7459598.957275033,
          3141046.615609196,
          -830391.1767363532,
          -2561990.72952416,
          -7140246.001622291,
          -8938952.543838296,
          -9205913.708620202,
          -7885377.720727548,
          -5127536.954121422,
          -3583670.206508055,
          1860332.4074022295,
          5513306.077018318,
          6824377.221111423,
          9213153.192823274,
          8981275.63652417,
          8358156.972965904,
          4656575.461216093,
          909277.9916749974,
          -819206.6284645359,
          -5846264.133285282,
          -8400712.610111676,
          -9089477.706927784,
          -9284073.429508196,
          -7563279.713997113,
          -6389052.019520474,
          -1538472.1700935897,
          2382509.445001554,
          4009459.475788193,
          8096012.4490741175,
          9542800.259655394,
          9692205.90778505,
          8219625.52954022,
          5554093.098157867,
          4084654.895877256,
          -1138564.7592084093,
          -4814441.900257088,
          -6222374.152616905,
          -9334177.142949054,
          -9977140.630114982,
          -9790827.563376073,
          -7436197.086838813,
          -4367650.197584623,
          -2792488.9015883803,
          2489400.568033148,
          5972476.4732659655,
          7246424.236171706,
          9806797.54529958,
          10011873.186520912,
          9647655.50733938,
          6865742.760735612,
          3659483.3496048404,
          2071652.66083921,
          -3103847.357087177,
          -6445038.1930774655,
          -7661215.342511295,
          -10124459.371006388,
          -10368430.13661913,
          -10047810.197927777,
          -7459304.716166259,
          -4383674.650923252,
          -2834053.6311129937,
          2340908.84294612,
          5811076.216864648,
          7116957.446195767,
          9973800.874338713,
          10577831.539545814,
          10425276.911229042,
          8369275.677928245,
          5629643.567113636,
          4197739.62696445,
          -792853.9582340122,
          -4372640.830602859,
          -5802553.361578135,
          -9361442.827569656,
          -10724049.373541463,
          -10945334.431296693,
          -10101556.267912943,
          -8123141.851954853,
          -6955487.696455729,
          -2413621.589594984,
          1264400.2803671982,
          2852080.078648812,
          7321496.904198745,
          9651636.163311807,
          10348725.359087396,
          11092958.744756486,
          10219298.112119962,
          9488875.511205781,
          6023768.380844441,
          2729739.463040195,
          1182407.7260527909,
          -3720280.8735771384,
          -6898543.4655555375,
          -8094093.797657486,
          -10805994.86403994,
          -11566873.972864192,
          -11553687.37754069,
          -10146959.693623135,
          -7954859.46177453,
          -6743512.235149031,
          -2217315.038584317,
          1369589.1254215494,
          2916797.9717097683,
          7336338.785046687,
          9765384.83560871,
          10551528.562636428,
          11763345.174764454,
          11373590.209830357,
          10877275.13045003,
          8153657.45691402,
          5302371.748483877,
          3897725.089047959,
          -847044.876596337,
          -4253249.878319266,
          -5648945.356659374,
          -9395224.754534505,
          -11248389.241759855,
          -11783302.696925888,
          -12273437.471000388,
          -11470405.897905193,
          -10827573.164349409,
          -7771855.635586602,
          -4789082.629802892,
          -3350451.4669859433,
          1428977.9228357384,
          4805941.943610033,
          6178087.260401194,
          9819733.668868704,
          11583192.17001059,
          12080211.747218085,
          12478946.571936319,
          11657673.843733922,
          11023884.171160795,
          8069804.075517003,
          5217073.163362734,
          3842960.2550239847,
          -747783.9885948454,
          -4056265.9349102466,
          -5430491.023572479,
          -9251995.353718307,
          -11333896.308312135,
          -12019941.608741062,
          -13185240.20716351,
          -13026798.328473635,
          -12692324.784848412,
          -10637619.456000358,
          -8314100.17415366,
          -7120135.697614144,
          -2840317.7108705905,
          516245.11511928675,
          1986087.504657344,
          6393132.736905113,
          9137489.860622125,
          10164846.87350639,
          12564180.46669197,
          13394653.112460118,
          13502542.786721237,
          12828693.525744455,
          11431589.08054835,
          10606863.09776646,
          7288613.383315584,
          4372638.147691363,
          3012564.2422786327,
          -1427342.3541081694,
          -4587855.265454961,
          -5903782.1889207205,
          -9625782.405579168,
          -11761490.828794314,
          -12512984.042655338,
          -14067467.532961106,
          -14358942.540086921,
          -14259332.675073437,
          -13054619.810148979,
          -11389667.19348535,
          -10475795.97736394,
          -6966987.54628867,
          -3980165.7047784477,
          -2601951.1781316446,
          1860041.395191005,
          5013304.3104209015,
          6322130.669838616,
          10012674.767804043,
          12123754.811792474,
          12866271.347625261,
          14410928.03436961,
          14725308.075745508,
          14646937.633939374,
          13565097.453654984,
          12046387.048058199,
          11210907.282817006,
          7995028.839298312,
          5239774.518908658,
          3959537.5604301156,
          -246582.03928626268,
          -3308534.267866965,
          -4613272.249897963,
          -8471180.838898612,
          -10899327.988599187,
          -11835106.33976804,
          -14203099.179428147,
          -15293132.553418063,
          -15590970.784391817,
          -15793142.069652556,
          -15235304.399552194,
          -14810392.826454999,
          -12787037.277727528,
          -10737349.152410928,
          -9709545.257763697,
          -6036067.486824094,
          -3082520.285576553,
          -1748042.1265655586,
          2511689.882849178,
          5510754.974050142,
          6764077.169162985,
          10376362.40024588,
          12561320.409908505,
          13378022.04122184,
          15338729.126741964,
          16125974.506392755,
          16295735.040436331,
          16134675.202333715,
          15374305.163684655,
          14881760.572439061,
          12740641.548554612,
          10700394.632600328,
          9700795.781685563,
          6198732.818865944,
          3424746.544515022,
          2175683.4452414005,
          -1822809.7438685829,
          -4678633.578276768,
          -5891368.6092600245,
          -9498640.087984527,
          -11824104.997960089,
          -12745273.822643442,
          -15216558.818309566,
          -16541555.007033426,
          -16986797.32342288,
          -17831886.091024686,
          -17895680.71447842,
          -17777567.197811168,
          -16830138.70774653,
          -15619183.27366649,
          -14960315.192850858,
          -12404820.425901012,
          -10157259.695506226,
          -9087905.537919847,
          -5433086.548273164,
          -2599819.966200078,
          -1335334.862465445,
          2680252.1587194293,
          5525834.747689259,
          6729852.025756486,
          10298428.030001717,
          12590544.0678715,
          13497279.466243524,
          15930408.223257385,
          17242379.60781508,
          17687997.869895734,
          18567913.974419963,
          18697556.401681814,
          18621006.05920151,
          17862557.835882388,
          16846335.118334897,
          16287765.804378584,
          14105548.340551898,
          12172370.942205822,
          11248275.700828519,
          8064626.738108106,
          5561096.759024319,
          4430693.455482012,
          769499.0044358262,
          -1914097.34332213,
          -3079792.6228515,
          -6683647.706819847,
          -9171267.647596017,
          -10212601.128871769,
          -13277972.888612691,
          -15247226.40014751,
          -16031330.032219158,
          -18173443.398643374,
          -19381652.54221516,
          -19812779.432207678,
          -20772396.483501118,
          -21074736.259964127,
          -21101434.363150943,
          -20764447.15684885,
          -20125169.979391478,
          -19744370.091891028,
          -18151361.085183855,
          -16647363.159004495,
          -15904981.228801835,
          -13248933.438610386,
          -11063626.359615773,
          -10050571.511372613,
          -6658440.058012054,
          -4062391.301153644,
          -2904432.718710754,
          801763.5148967587,
          3485479.7184081124,
          4644453.784173915,
          8206253.226355393,
          10648933.361935623,
          11668204.732287928,
          14659587.540057901,
          16576576.857108789,
          17339742.686149497,
          19429805.970923424,
          20620303.59670625,
          21050785.583254587,
          22044025.415318377,
          22411264.686922602,
          22478639.670446135,
          22325078.619054213,
          21874746.373559486,
          21591891.838933714,
          20370473.520386484,
          19192639.10238781,
          18606577.20458798,
          16492531.455183407,
          14735672.187736452,
          13915909.903458634,
          11143681.396086967,
          8988401.703379927,
          8015787.577185518,
          4845689.776577106,
          2482676.649490497,
          1440399.4809363887,
          -1867199.8771617794,
          -4253346.881703839,
          -5286154.491221059,
          -8488470.20560877,
          -10729688.80725796,
          -11681940.572972644,
          -14564272.899826761,
          -16514912.61436305,
          -17325753.664140478,
          -19707254.68704797,
          -21247555.28037963,
          -21867783.725746308,
          -23605859.841684107,
          -24645121.39882404,
          -25038565.400548827,
          -26033009.522945758,
          -26512225.985835746,
          -26656762.513148263,
          -26852381.778642815,
          -26745618.62242903,
          -26633649.633173965,
          -26021362.100544553,
          -25336216.495701082,
          -24974790.691138804,
          -23591690.96558849,
          -22368995.119532403,
          -21779572.251468226,
          -19707677.51266429,
          -18020011.020090375,
          -17237633.37136933,
          -14600445.19399532,
          -12548767.164172895,
          -11620334.724477869,
          -8576298.731824555,
          -6284121.567856886,
          -5265553.864548192,
          -1997919.2656892645,
          397116.08552539774,
          1444824.8026643952,
          4741421.924962088,
          7098027.9693897925,
          8113540.765131891,
          11248433.784089584,
          13432959.200102618,
          14359500.328709934,
          17161128.74231127,
          19057938.589401778,
          19847607.89931619,
          22176042.10839993,
          23695355.737626813,
          24312182.68511755,
          26067173.157141432,
          27149308.89583007,
          27570678.02255603,
          28694458.59796156,
          29310305.929794498,
          29526773.601225376,
          30002048.34551117,
          30150387.40181186,
          30164229.523664247,
          30008633.941337805,
          29711386.605915535,
          29534374.95301545,
          28793021.6280731,
          28089589.311514076,
          27740486.53144293,
          26478049.61559622,
          25419678.19737826,
          24921827.394156635,
          23215203.823581696,
          21859982.891378798,
          21239219.050220616,
          19171340.31619565,
          17580125.398545284,
          16863104.276393097,
          14518093.581751425,
          12751404.22863743,
          11964352.11575094,
          9423973.192354156,
          7539778.694706692,
          6707614.50777227,
          4048829.3047367632,
          2101070.1288671438,
          1246830.392912382,
          -1459759.3893025946,
          -3422077.237532873,
          -4277580.066452069,
          -6968616.828581245,
          -8901889.912015509,
          -9740228.260394385,
          -12359941.49372074,
          -14226046.638867464,
          -15031158.531474564,
          -17531061.337952014,
          -19296810.356968477,
          -20054657.484552823,
          -22391853.527803253,
          -24027171.076201852,
          -24724807.823354397,
          -26858839.693446707,
          -28334967.24590383,
          -28960037.717501752,
          -30853249.921098296,
          -32144605.898533195,
          -32686481.359029688,
          -34307643.770547904,
          -35393818.232835434,
          -35844160.30815659,
          -37169086.81831207,
          -38034486.400985286,
          -38386965.050693914,
          -39397458.75169234,
          -40030528.252652906,
          -40280508.38793391,
          -40963504.60384751,
          -41356233.67248364,
          -41500591.89197119,
          -41847690.48905089,
          -41995368.04212539,
          -42032406.49365223,
          -42039671.471725136,
          -41940799.81923613,
          -41870222.033442155,
          -41538150.44972883,
          -41194459.605262965,
          -41017384.83403902,
          -40350978.48840401,
          -39767498.03860718
         ],
         "y": [
          0,
          2033118.8418568503,
          6418161.848166776,
          6108796.747670762,
          4994483.1835711375,
          -855944.4740910432,
          -4962080.539960542,
          -6117211.421137224,
          -5949257.032981723,
          -2504857.8080529873,
          -519368.63140204514,
          5222368.044634055,
          6822178.031864187,
          6544197.859949109,
          2276508.538576681,
          -2296206.6355652437,
          -4089892.344836919,
          -6923706.164519565,
          -5477351.542805012,
          -4022938.429291274,
          2077662.076146141,
          5741495.733149791,
          6630241.604110881,
          5721406.275823508,
          2065392.2615031512,
          82341.53151632345,
          -5485294.922086415,
          -7062065.829461062,
          -6839146.400048553,
          -2880598.9559093867,
          1611374.0906338964,
          3476017.128420113,
          7011303.305835496,
          6329526.301713434,
          5182294.3032781165,
          -492753.5976943374,
          -4652695.876940955,
          -5979162.099075621,
          -6941543.846164405,
          -4449016.810216537,
          -2739401.330534253,
          3331945.8236152288,
          6483444.261643718,
          7131545.956791955,
          5742844.115661339,
          2074147.2731596867,
          132858.98736754424,
          -5422932.126754929,
          -7310035.750924061,
          -7311613.029523098,
          -4148266.1385202557,
          87843.94770687995,
          2025085.999063577,
          6662110.180758237,
          7373419.18155441,
          6853043.750958632,
          2495430.489868057,
          -1894537.906257255,
          -3696117.6993925814,
          -7323522.575340174,
          -7104455.9785093,
          -6222139.972197875,
          -1179790.2826461573,
          3159815.7400313476,
          4804790.988817532,
          7600509.993226945,
          6726294.433385337,
          5612931.123884871,
          227948.20620401084,
          -3976867.1941998433,
          -5486720.461873619,
          -7733613.993342108,
          -6507564.444832632,
          -5283324.1081858855,
          238117.21450114984,
          4361875.200968013,
          5122583.377342033,
          6975136.0835786285,
          7685150.9561381135,
          7809688.409313783,
          7444526.336650086,
          6492348.426543399,
          5249871.182437162,
          -244974.79810939994,
          -4340586.969204642,
          -5790529.700273997,
          -7933709.986089941,
          -6766574.600544157,
          -5595932.269393381,
          -234107.2400248789,
          3923194.507015324,
          5450746.174528215,
          8015117.002702463,
          7244791.774245484,
          6240503.40731146,
          1219589.7320587425,
          -2991942.069894033,
          -4639809.050338254,
          -7917750.768346929,
          -7820523.510622614,
          -7094062.229564048,
          -2658741.913320919,
          1555804.6313437484,
          3334224.8713707984,
          7471873.88114836,
          8259790.355820916,
          7928336.586180541,
          4489759.022040544,
          520177.7875100929,
          -1318986.9059417995,
          -6318665.011597304,
          -8195716.348720088,
          -8386818.618269792,
          -6416124.665113968,
          -3022577.9891534466,
          -1248094.6009798704,
          4345193.399378321,
          7302853.367949203,
          8076619.7361656455,
          8028122.979013641,
          5729100.604340924,
          4262671.893325385,
          -1271399.790146859,
          -5085855.314288248,
          -6432456.367313295,
          -8625917.988279387,
          -7919816.573987114,
          -7023876.193297881,
          -2439501.0802592654,
          1665028.0851977977,
          3396629.167844316,
          7618945.493620741,
          8802393.741741061,
          8727209.918109315,
          6232525.991806847,
          2781000.3267986593,
          1040982.6397561118,
          -4402042.265105319,
          -7385716.027118939,
          -8236319.134377264,
          -8685376.527425753,
          -6872872.209650972,
          -5604853.868162452,
          -428438.58645165846,
          3555736.773637723,
          5118092.643185253,
          8541163.776043646,
          9100158.76888755,
          8787294.205847638,
          5789937.815659552,
          2229833.872310382,
          498097.1958446966,
          -4801940.326307492,
          -7684447.26605127,
          -8517167.763909707,
          -9062840.305979421,
          -7448213.958061898,
          -6282066.29683926,
          -1368409.4897304247,
          2602578.5624676617,
          4232003.9222371355,
          8197495.814842665,
          9426288.66616259,
          9452014.477160858,
          7531365.952287565,
          4560866.428237773,
          2985394.186060306,
          -2377387.303807219,
          -5895085.60991797,
          -7153053.467200596,
          -9473214.319009941,
          -9306597.695498208,
          -8736797.106930804,
          -5239419.94668306,
          -1600270.014410495,
          110309.76224954549,
          5250804.115172315,
          8075856.4210440805,
          8932732.315829583,
          9818161.649854563,
          8675132.573154885,
          7745680.210438021,
          3497169.5942324065,
          -284826.18447022804,
          -1958451.3451491222,
          -6671327.686846714,
          -8987334.782499984,
          -9595867.304823644,
          -9691021.965035152,
          -8049485.946538624,
          -6940162.280269865,
          -2329694.721864645,
          1497320.1924012124,
          3135483.77829847,
          7565102.981490497,
          9594623.829480778,
          10080381.493067518,
          9877626.238771161,
          8149435.2447742345,
          7037474.763363605,
          2511143.2820347785,
          -1233801.77824452,
          -2849030.311612358,
          -7313102.596980413,
          -9482743.617605291,
          -10056346.562759575,
          -10193973.549131904,
          -8718057.095447136,
          -7703985.400804037,
          -3396446.2927323575,
          308297.0314628828,
          1943780.8313518066,
          6639221.573990935,
          9148270.482983286,
          9915004.505532626,
          10812022.942688212,
          9969587.55934429,
          9231094.266285209,
          5668597.438907598,
          2269476.644590198,
          679468.0867425997,
          -4284579.5761536965,
          -7375770.766351956,
          -8484949.2682903,
          -10703763.79891364,
          -10906697.214540485,
          -10608718.63492128,
          -8231513.385591089,
          -5384080.150496555,
          -3932271.767472957,
          1047573.8991865834,
          4590303.24582472,
          6007746.988701927,
          9585105.934452973,
          11051686.719580634,
          11348446.294066321,
          10863233.705591502,
          9231557.326781007,
          8224552.337870349,
          4143257.9440072877,
          661817.2940966983,
          -899977.9721106223,
          -5600774.7364968,
          -8425317.061030801,
          -9421340.690219332,
          -11372276.583945423,
          -11512944.524381522,
          -11227514.19252513,
          -9028209.690597765,
          -6390525.174072956,
          -5033055.505531319,
          -274477.81180808885,
          3260297.4564162707,
          4732005.545949822,
          8752045.880777873,
          10802607.936627233,
          11417366.828571888,
          12123899.056534324,
          11443668.253333986,
          10846680.351888455,
          7910635.053631855,
          4993889.491148005,
          3578794.8219304034,
          -1150811.6973012679,
          -4517309.174479321,
          -5891478.461741252,
          -9560084.705766175,
          -11348742.387761671,
          -11853566.870695883,
          -12244609.275746781,
          -11372099.517932959,
          -10702080.234382572,
          -7585928.817782168,
          -4590785.797395357,
          -3155630.732254235,
          1584512.1829504964,
          4925512.377856741,
          6286434.316250339,
          9939181.736407815,
          11779265.130646637,
          12331845.937243314,
          12994247.406141456,
          12432731.582213685,
          11923245.477429176,
          9363750.51594432,
          6756777.066299628,
          5468572.689605016,
          1028039.0856522458,
          -2306835.1188450754,
          -3730631.6042791763,
          -7854704.091809216,
          -10274948.570111128,
          -11133081.266000591,
          -12905099.474941049,
          -13211153.879364192,
          -13077284.157803455,
          -11617153.839755004,
          -9661398.147389269,
          -8605514.965411533,
          -4652864.565596791,
          -1411010.0593001114,
          45454.1736568683,
          4571570.422116231,
          7566939.005822577,
          8748589.505978802,
          11807636.214419035,
          13262496.118496487,
          13674004.841172928,
          14038053.496832853,
          13415943.826831173,
          12920475.563798422,
          10542423.493983345,
          8157367.448572945,
          6976505.901461422,
          2853591.3183317436,
          -334862.6970002395,
          -1733039.247645652,
          -5985324.527052036,
          -8737275.894698467,
          -9809778.545646053,
          -12538088.382593632,
          -13779284.80846601,
          -14106122.89379733,
          -14238631.673590982,
          -13480952.627058625,
          -12934318.553385876,
          -10426820.285693007,
          -7978365.722129659,
          -6777845.955958918,
          -2624262.2759054247,
          562974.137301025,
          1957155.1455216692,
          6199289.706046716,
          8969286.02445342,
          10063048.608984876,
          12938751.696512043,
          14386790.677188199,
          14834872.757946093,
          15479547.370358301,
          15208494.82744478,
          14899563.758106364,
          13205760.957035182,
          11359779.266062502,
          10411473.89202896,
          6949072.238668094,
          4107148.3257799335,
          2809586.5706219394,
          -1384375.558305724,
          -4385463.865875987,
          -5652500.167845454,
          -9354783.898484092,
          -11640050.171787078,
          -12506528.224199057,
          -14632089.649295295,
          -15528149.405510863,
          -15737969.638458252,
          -15657564.399557838,
          -14900476.602628516,
          -14393022.327874474,
          -12140036.407284003,
          -9964347.594205933,
          -8894579.67375029,
          -5146628.845275712,
          -2193441.3987601963,
          -872079.6176680663,
          3305911.2270744983,
          6224461.362803456,
          7442119.236342062,
          10961881.022652132,
          13119971.373595173,
          13940376.631580949,
          15988609.138076613,
          16919015.280003127,
          17172784.83163085,
          17356758.735943455,
          16909993.377912056,
          16566689.91409905,
          14923165.431428514,
          13244441.391133228,
          12396390.718838412,
          9322003.213587562,
          6787692.445193512,
          5619710.898090471,
          1767492.3593517866,
          -1096140.2356297194,
          -2343727.1153564486,
          -6186977.033298586,
          -8797947.993808435,
          -9871778.712480895,
          -12924622.974038579,
          -14750120.840373173,
          -15430407.477264324,
          -17065598.954966966,
          -17728970.446526907,
          -17875185.5709843,
          -17755847.599586178,
          -17122946.285499997,
          -16706999.182712879,
          -14868226.434449842,
          -13080123.055681735,
          -12192748.131663809,
          -9028006.669523412,
          -6458838.095584452,
          -5283029.924164403,
          -1431171.3389268422,
          1416200.2640204336,
          2655065.295811365,
          6477272.732164353,
          9095006.493140422,
          10182084.468005441,
          13336559.25754235,
          15310885.129106926,
          16080439.872471072,
          18109112.413703967,
          19173789.900099542,
          19527384.75444379,
          20190563.044444446,
          20238450.723604947,
          20146307.588263024,
          19414737.263912782,
          18482764.558085978,
          17975347.832107577,
          15998342.605843874,
          14241104.434809675,
          13397083.592121338,
          10463523.937749723,
          8124577.181191293,
          7058232.537537875,
          3556341.334872767,
          938419.7427978583,
          -213596.15190489512,
          -3839164.1621936616,
          -6406311.916893121,
          -7499305.383631814,
          -10793860.712101866,
          -12988186.303403404,
          -13884868.022824068,
          -16433566.807223698,
          -17977714.587926205,
          -18564489.909628086,
          -20043797.972386032,
          -20741641.927426536,
          -20944123.636672065,
          -21167907.705814313,
          -20933928.34068433,
          -20728363.26667333,
          -19677042.340547234,
          -18549672.816304553,
          -17966454.55911211,
          -15788086.280330587,
          -13920666.057223277,
          -13037794.17840767,
          -10017533.858880287,
          -7647710.634136213,
          -6575513.943585171,
          -3081314.1694906857,
          -487702.1678155021,
          650663.8228681488,
          4230052.823427691,
          6771501.277773811,
          7858365.156721128,
          11166974.904804183,
          13416831.163775235,
          14353306.399109459,
          17103674.429837424,
          18878876.58174688,
          19591963.997559737,
          21581681.979910664,
          22762385.899952043,
          23206750.01074567,
          24319848.307156373,
          24847007.09605623,
          25003171.47544753,
          25202016.333186347,
          25069733.266550303,
          24940398.290667344,
          24253119.073524505,
          23499030.74424202,
          23104833.785012964,
          21612100.10867619,
          20308248.4331589,
          19683955.443511162,
          17507848.6477269,
          15753464.410819428,
          14945019.771945195,
          12240248.869421516,
          10155610.052853327,
          9217445.962509656,
          6162596.736135387,
          3882430.4736625105,
          2874524.05504667,
          -337353.7745784318,
          -2670714.5979351136,
          -3685817.8696234515,
          -6856550.890000214,
          -9099912.888111632,
          -10060051.471373802,
          -12995766.883793218,
          -15012055.445280638,
          -15858551.087254612,
          -18379702.11637056,
          -20045448.176620305,
          -20726428.18092357,
          -22678451.1807666,
          -23891589.917042207,
          -24365386.789994176,
          -25629290.200556558,
          -26316543.299678635,
          -26554799.217343755,
          -27056312.92348627,
          -27179008.92452898,
          -27168955.533102944,
          -26884501.73219826,
          -26441570.715537563,
          -26186948.001073766,
          -25144870.735554047,
          -24172072.661996495,
          -23692343.128306013,
          -21968636.895353872,
          -20533825.21952623,
          -19861697.368825465,
          -17570695.505118553,
          -15765835.887200642,
          -14943506.931407833,
          -12225163.755122427,
          -10156554.565526266,
          -9231355.781380901,
          -6237408.429955802,
          -4015802.3860095777,
          -3035980.6007510275,
          82801.32553033698,
          2350736.113199269,
          3339528.4985418487,
          6443457.537030919,
          8661481.67553607,
          9618687.264118124,
          12585972.715166887,
          14672200.004475355,
          15563811.451786384,
          18294177.528286777,
          20182830.06532774,
          20981946.438572135,
          23397632.549518105,
          25039124.20406553,
          25725839.091571007,
          27770735.58357001,
          29130632.9857815,
          29691490.23483738,
          31329124.39292502,
          32386464.457167774,
          32813678.406792182,
          34024618.71597295,
          34769940.68451238,
          35060522.83435886,
          35839593.477502525,
          36272917.37529199,
          36427797.522229984,
          36781331.422109626,
          36910202.95540713,
          36933385.668029636,
          36876601.3004394,
          36714222.78851526,
          36611976.62908831,
          36166423.87750513,
          35729787.00284961,
          35509821.82609516,
          34700711.889017165,
          34008617.0045983,
          33679228.274589434,
          32532844.871112674,
          31604482.288981915,
          31174123.072605997,
          29717934.52281622,
          28574407.252588503,
          28052714.515912436,
          26319163.50378866,
          24985778.126621325,
          24384233.94392083,
          22410947.482111964,
          20915962.393538896,
          20247096.946006212,
          18074207.07593971,
          16447091.150025278,
          15723845.998422794,
          13392461.14780896,
          11663168.38747256,
          10898657.256376244,
          8450316.834575908,
          6649032.877106749,
          5856454.624745674,
          3332913.549759523,
          1489934.6777236857,
          682524.9935361497,
          -1874393.108711412,
          -3728769.478209757,
          -4537788.6132997405,
          -7086367.458763395,
          -8921990.378990415,
          -9719481.418549106,
          -12218363.70059874,
          -14005440.551537933
         ],
         "z": [
          0,
          0,
          0,
          0,
          0,
          0,
          0,
          0,
          0,
          0,
          0,
          0,
          0,
          0,
          0,
          0,
          0,
          0,
          0,
          0,
          0,
          0,
          0,
          0,
          0,
          0,
          0,
          0,
          0,
          0,
          0,
          0,
          0,
          0,
          0,
          0,
          0,
          0,
          0,
          0,
          0,
          0,
          0,
          0,
          0,
          0,
          0,
          0,
          0,
          0,
          0,
          0,
          0,
          0,
          0,
          0,
          0,
          0,
          0,
          0,
          0,
          0,
          0,
          0,
          0,
          0,
          0,
          0,
          0,
          0,
          0,
          0,
          0,
          0,
          0,
          0,
          0,
          0,
          0,
          0,
          0,
          0,
          0,
          0,
          0,
          0,
          0,
          0,
          0,
          0,
          0,
          0,
          0,
          0,
          0,
          0,
          0,
          0,
          0,
          0,
          0,
          0,
          0,
          0,
          0,
          0,
          0,
          0,
          0,
          0,
          0,
          0,
          0,
          0,
          0,
          0,
          0,
          0,
          0,
          0,
          0,
          0,
          0,
          0,
          0,
          0,
          0,
          0,
          0,
          0,
          0,
          0,
          0,
          0,
          0,
          0,
          0,
          0,
          0,
          0,
          0,
          0,
          0,
          0,
          0,
          0,
          0,
          0,
          0,
          0,
          0,
          0,
          0,
          0,
          0,
          0,
          0,
          0,
          0,
          0,
          0,
          0,
          0,
          0,
          0,
          0,
          0,
          0,
          0,
          0,
          0,
          0,
          0,
          0,
          0,
          0,
          0,
          0,
          0,
          0,
          0,
          0,
          0,
          0,
          0,
          0,
          0,
          0,
          0,
          0,
          0,
          0,
          0,
          0,
          0,
          0,
          0,
          0,
          0,
          0,
          0,
          0,
          0,
          0,
          0,
          0,
          0,
          0,
          0,
          0,
          0,
          0,
          0,
          0,
          0,
          0,
          0,
          0,
          0,
          0,
          0,
          0,
          0,
          0,
          0,
          0,
          0,
          0,
          0,
          0,
          0,
          0,
          0,
          0,
          0,
          0,
          0,
          0,
          0,
          0,
          0,
          0,
          0,
          0,
          0,
          0,
          0,
          0,
          0,
          0,
          0,
          0,
          0,
          0,
          0,
          0,
          0,
          0,
          0,
          0,
          0,
          0,
          0,
          0,
          0,
          0,
          0,
          0,
          0,
          0,
          0,
          0,
          0,
          0,
          0,
          0,
          0,
          0,
          0,
          0,
          0,
          0,
          0,
          0,
          0,
          0,
          0,
          0,
          0,
          0,
          0,
          0,
          0,
          0,
          0,
          0,
          0,
          0,
          0,
          0,
          0,
          0,
          0,
          0,
          0,
          0,
          0,
          0,
          0,
          0,
          0,
          0,
          0,
          0,
          0,
          0,
          0,
          0,
          0,
          0,
          0,
          0,
          0,
          0,
          0,
          0,
          0,
          0,
          0,
          0,
          0,
          0,
          0,
          0,
          0,
          0,
          0,
          0,
          0,
          0,
          0,
          0,
          0,
          0,
          0,
          0,
          0,
          0,
          0,
          0,
          0,
          0,
          0,
          0,
          0,
          0,
          0,
          0,
          0,
          0,
          0,
          0,
          0,
          0,
          0,
          0,
          0,
          0,
          0,
          0,
          0,
          0,
          0,
          0,
          0,
          0,
          0,
          0,
          0,
          0,
          0,
          0,
          0,
          0,
          0,
          0,
          0,
          0,
          0,
          0,
          0,
          0,
          0,
          0,
          0,
          0,
          0,
          0,
          0,
          0,
          0,
          0,
          0,
          0,
          0,
          0,
          0,
          0,
          0,
          0,
          0,
          0,
          0,
          0,
          0,
          0,
          0,
          0,
          0,
          0,
          0,
          0,
          0,
          0,
          0,
          0,
          0,
          0,
          0,
          0,
          0,
          0,
          0,
          0,
          0,
          0,
          0,
          0,
          0,
          0,
          0,
          0,
          0,
          0,
          0,
          0,
          0,
          0,
          0,
          0,
          0,
          0,
          0,
          0,
          0,
          0,
          0,
          0,
          0,
          0,
          0,
          0,
          0,
          0,
          0,
          0,
          0,
          0,
          0,
          0,
          0,
          0,
          0,
          0,
          0,
          0,
          0,
          0,
          0,
          0,
          0,
          0,
          0,
          0,
          0,
          0,
          0,
          0,
          0,
          0,
          0,
          0,
          0,
          0,
          0,
          0,
          0,
          0,
          0,
          0,
          0,
          0,
          0,
          0,
          0,
          0,
          0,
          0,
          0,
          0,
          0,
          0,
          0,
          0,
          0,
          0,
          0,
          0,
          0,
          0,
          0,
          0,
          0,
          0,
          0,
          0,
          0,
          0,
          0,
          0,
          0,
          0,
          0,
          0,
          0,
          0,
          0,
          0,
          0,
          0,
          0,
          0,
          0,
          0,
          0,
          0,
          0,
          0,
          0,
          0,
          0,
          0,
          0,
          0,
          0,
          0,
          0,
          0,
          0,
          0,
          0,
          0,
          0,
          0,
          0,
          0,
          0,
          0,
          0,
          0,
          0,
          0,
          0,
          0,
          0,
          0,
          0,
          0,
          0,
          0,
          0,
          0,
          0,
          0,
          0,
          0,
          0,
          0,
          0,
          0,
          0,
          0,
          0,
          0,
          0,
          0,
          0,
          0,
          0,
          0,
          0
         ]
        }
       ],
       "layout": {
        "legend": {
         "tracegroupgap": 0
        },
        "margin": {
         "t": 60
        },
        "scene": {
         "domain": {
          "x": [
           0,
           1
          ],
          "y": [
           0,
           1
          ]
         },
         "xaxis": {
          "title": {
           "text": "x"
          }
         },
         "yaxis": {
          "title": {
           "text": "y"
          }
         },
         "zaxis": {
          "title": {
           "text": "z"
          }
         }
        },
        "template": {
         "data": {
          "bar": [
           {
            "error_x": {
             "color": "#2a3f5f"
            },
            "error_y": {
             "color": "#2a3f5f"
            },
            "marker": {
             "line": {
              "color": "#E5ECF6",
              "width": 0.5
             },
             "pattern": {
              "fillmode": "overlay",
              "size": 10,
              "solidity": 0.2
             }
            },
            "type": "bar"
           }
          ],
          "barpolar": [
           {
            "marker": {
             "line": {
              "color": "#E5ECF6",
              "width": 0.5
             },
             "pattern": {
              "fillmode": "overlay",
              "size": 10,
              "solidity": 0.2
             }
            },
            "type": "barpolar"
           }
          ],
          "carpet": [
           {
            "aaxis": {
             "endlinecolor": "#2a3f5f",
             "gridcolor": "white",
             "linecolor": "white",
             "minorgridcolor": "white",
             "startlinecolor": "#2a3f5f"
            },
            "baxis": {
             "endlinecolor": "#2a3f5f",
             "gridcolor": "white",
             "linecolor": "white",
             "minorgridcolor": "white",
             "startlinecolor": "#2a3f5f"
            },
            "type": "carpet"
           }
          ],
          "choropleth": [
           {
            "colorbar": {
             "outlinewidth": 0,
             "ticks": ""
            },
            "type": "choropleth"
           }
          ],
          "contour": [
           {
            "colorbar": {
             "outlinewidth": 0,
             "ticks": ""
            },
            "colorscale": [
             [
              0,
              "#0d0887"
             ],
             [
              0.1111111111111111,
              "#46039f"
             ],
             [
              0.2222222222222222,
              "#7201a8"
             ],
             [
              0.3333333333333333,
              "#9c179e"
             ],
             [
              0.4444444444444444,
              "#bd3786"
             ],
             [
              0.5555555555555556,
              "#d8576b"
             ],
             [
              0.6666666666666666,
              "#ed7953"
             ],
             [
              0.7777777777777778,
              "#fb9f3a"
             ],
             [
              0.8888888888888888,
              "#fdca26"
             ],
             [
              1,
              "#f0f921"
             ]
            ],
            "type": "contour"
           }
          ],
          "contourcarpet": [
           {
            "colorbar": {
             "outlinewidth": 0,
             "ticks": ""
            },
            "type": "contourcarpet"
           }
          ],
          "heatmap": [
           {
            "colorbar": {
             "outlinewidth": 0,
             "ticks": ""
            },
            "colorscale": [
             [
              0,
              "#0d0887"
             ],
             [
              0.1111111111111111,
              "#46039f"
             ],
             [
              0.2222222222222222,
              "#7201a8"
             ],
             [
              0.3333333333333333,
              "#9c179e"
             ],
             [
              0.4444444444444444,
              "#bd3786"
             ],
             [
              0.5555555555555556,
              "#d8576b"
             ],
             [
              0.6666666666666666,
              "#ed7953"
             ],
             [
              0.7777777777777778,
              "#fb9f3a"
             ],
             [
              0.8888888888888888,
              "#fdca26"
             ],
             [
              1,
              "#f0f921"
             ]
            ],
            "type": "heatmap"
           }
          ],
          "heatmapgl": [
           {
            "colorbar": {
             "outlinewidth": 0,
             "ticks": ""
            },
            "colorscale": [
             [
              0,
              "#0d0887"
             ],
             [
              0.1111111111111111,
              "#46039f"
             ],
             [
              0.2222222222222222,
              "#7201a8"
             ],
             [
              0.3333333333333333,
              "#9c179e"
             ],
             [
              0.4444444444444444,
              "#bd3786"
             ],
             [
              0.5555555555555556,
              "#d8576b"
             ],
             [
              0.6666666666666666,
              "#ed7953"
             ],
             [
              0.7777777777777778,
              "#fb9f3a"
             ],
             [
              0.8888888888888888,
              "#fdca26"
             ],
             [
              1,
              "#f0f921"
             ]
            ],
            "type": "heatmapgl"
           }
          ],
          "histogram": [
           {
            "marker": {
             "pattern": {
              "fillmode": "overlay",
              "size": 10,
              "solidity": 0.2
             }
            },
            "type": "histogram"
           }
          ],
          "histogram2d": [
           {
            "colorbar": {
             "outlinewidth": 0,
             "ticks": ""
            },
            "colorscale": [
             [
              0,
              "#0d0887"
             ],
             [
              0.1111111111111111,
              "#46039f"
             ],
             [
              0.2222222222222222,
              "#7201a8"
             ],
             [
              0.3333333333333333,
              "#9c179e"
             ],
             [
              0.4444444444444444,
              "#bd3786"
             ],
             [
              0.5555555555555556,
              "#d8576b"
             ],
             [
              0.6666666666666666,
              "#ed7953"
             ],
             [
              0.7777777777777778,
              "#fb9f3a"
             ],
             [
              0.8888888888888888,
              "#fdca26"
             ],
             [
              1,
              "#f0f921"
             ]
            ],
            "type": "histogram2d"
           }
          ],
          "histogram2dcontour": [
           {
            "colorbar": {
             "outlinewidth": 0,
             "ticks": ""
            },
            "colorscale": [
             [
              0,
              "#0d0887"
             ],
             [
              0.1111111111111111,
              "#46039f"
             ],
             [
              0.2222222222222222,
              "#7201a8"
             ],
             [
              0.3333333333333333,
              "#9c179e"
             ],
             [
              0.4444444444444444,
              "#bd3786"
             ],
             [
              0.5555555555555556,
              "#d8576b"
             ],
             [
              0.6666666666666666,
              "#ed7953"
             ],
             [
              0.7777777777777778,
              "#fb9f3a"
             ],
             [
              0.8888888888888888,
              "#fdca26"
             ],
             [
              1,
              "#f0f921"
             ]
            ],
            "type": "histogram2dcontour"
           }
          ],
          "mesh3d": [
           {
            "colorbar": {
             "outlinewidth": 0,
             "ticks": ""
            },
            "type": "mesh3d"
           }
          ],
          "parcoords": [
           {
            "line": {
             "colorbar": {
              "outlinewidth": 0,
              "ticks": ""
             }
            },
            "type": "parcoords"
           }
          ],
          "pie": [
           {
            "automargin": true,
            "type": "pie"
           }
          ],
          "scatter": [
           {
            "fillpattern": {
             "fillmode": "overlay",
             "size": 10,
             "solidity": 0.2
            },
            "type": "scatter"
           }
          ],
          "scatter3d": [
           {
            "line": {
             "colorbar": {
              "outlinewidth": 0,
              "ticks": ""
             }
            },
            "marker": {
             "colorbar": {
              "outlinewidth": 0,
              "ticks": ""
             }
            },
            "type": "scatter3d"
           }
          ],
          "scattercarpet": [
           {
            "marker": {
             "colorbar": {
              "outlinewidth": 0,
              "ticks": ""
             }
            },
            "type": "scattercarpet"
           }
          ],
          "scattergeo": [
           {
            "marker": {
             "colorbar": {
              "outlinewidth": 0,
              "ticks": ""
             }
            },
            "type": "scattergeo"
           }
          ],
          "scattergl": [
           {
            "marker": {
             "colorbar": {
              "outlinewidth": 0,
              "ticks": ""
             }
            },
            "type": "scattergl"
           }
          ],
          "scattermapbox": [
           {
            "marker": {
             "colorbar": {
              "outlinewidth": 0,
              "ticks": ""
             }
            },
            "type": "scattermapbox"
           }
          ],
          "scatterpolar": [
           {
            "marker": {
             "colorbar": {
              "outlinewidth": 0,
              "ticks": ""
             }
            },
            "type": "scatterpolar"
           }
          ],
          "scatterpolargl": [
           {
            "marker": {
             "colorbar": {
              "outlinewidth": 0,
              "ticks": ""
             }
            },
            "type": "scatterpolargl"
           }
          ],
          "scatterternary": [
           {
            "marker": {
             "colorbar": {
              "outlinewidth": 0,
              "ticks": ""
             }
            },
            "type": "scatterternary"
           }
          ],
          "surface": [
           {
            "colorbar": {
             "outlinewidth": 0,
             "ticks": ""
            },
            "colorscale": [
             [
              0,
              "#0d0887"
             ],
             [
              0.1111111111111111,
              "#46039f"
             ],
             [
              0.2222222222222222,
              "#7201a8"
             ],
             [
              0.3333333333333333,
              "#9c179e"
             ],
             [
              0.4444444444444444,
              "#bd3786"
             ],
             [
              0.5555555555555556,
              "#d8576b"
             ],
             [
              0.6666666666666666,
              "#ed7953"
             ],
             [
              0.7777777777777778,
              "#fb9f3a"
             ],
             [
              0.8888888888888888,
              "#fdca26"
             ],
             [
              1,
              "#f0f921"
             ]
            ],
            "type": "surface"
           }
          ],
          "table": [
           {
            "cells": {
             "fill": {
              "color": "#EBF0F8"
             },
             "line": {
              "color": "white"
             }
            },
            "header": {
             "fill": {
              "color": "#C8D4E3"
             },
             "line": {
              "color": "white"
             }
            },
            "type": "table"
           }
          ]
         },
         "layout": {
          "annotationdefaults": {
           "arrowcolor": "#2a3f5f",
           "arrowhead": 0,
           "arrowwidth": 1
          },
          "autotypenumbers": "strict",
          "coloraxis": {
           "colorbar": {
            "outlinewidth": 0,
            "ticks": ""
           }
          },
          "colorscale": {
           "diverging": [
            [
             0,
             "#8e0152"
            ],
            [
             0.1,
             "#c51b7d"
            ],
            [
             0.2,
             "#de77ae"
            ],
            [
             0.3,
             "#f1b6da"
            ],
            [
             0.4,
             "#fde0ef"
            ],
            [
             0.5,
             "#f7f7f7"
            ],
            [
             0.6,
             "#e6f5d0"
            ],
            [
             0.7,
             "#b8e186"
            ],
            [
             0.8,
             "#7fbc41"
            ],
            [
             0.9,
             "#4d9221"
            ],
            [
             1,
             "#276419"
            ]
           ],
           "sequential": [
            [
             0,
             "#0d0887"
            ],
            [
             0.1111111111111111,
             "#46039f"
            ],
            [
             0.2222222222222222,
             "#7201a8"
            ],
            [
             0.3333333333333333,
             "#9c179e"
            ],
            [
             0.4444444444444444,
             "#bd3786"
            ],
            [
             0.5555555555555556,
             "#d8576b"
            ],
            [
             0.6666666666666666,
             "#ed7953"
            ],
            [
             0.7777777777777778,
             "#fb9f3a"
            ],
            [
             0.8888888888888888,
             "#fdca26"
            ],
            [
             1,
             "#f0f921"
            ]
           ],
           "sequentialminus": [
            [
             0,
             "#0d0887"
            ],
            [
             0.1111111111111111,
             "#46039f"
            ],
            [
             0.2222222222222222,
             "#7201a8"
            ],
            [
             0.3333333333333333,
             "#9c179e"
            ],
            [
             0.4444444444444444,
             "#bd3786"
            ],
            [
             0.5555555555555556,
             "#d8576b"
            ],
            [
             0.6666666666666666,
             "#ed7953"
            ],
            [
             0.7777777777777778,
             "#fb9f3a"
            ],
            [
             0.8888888888888888,
             "#fdca26"
            ],
            [
             1,
             "#f0f921"
            ]
           ]
          },
          "colorway": [
           "#636efa",
           "#EF553B",
           "#00cc96",
           "#ab63fa",
           "#FFA15A",
           "#19d3f3",
           "#FF6692",
           "#B6E880",
           "#FF97FF",
           "#FECB52"
          ],
          "font": {
           "color": "#2a3f5f"
          },
          "geo": {
           "bgcolor": "white",
           "lakecolor": "white",
           "landcolor": "#E5ECF6",
           "showlakes": true,
           "showland": true,
           "subunitcolor": "white"
          },
          "hoverlabel": {
           "align": "left"
          },
          "hovermode": "closest",
          "mapbox": {
           "style": "light"
          },
          "paper_bgcolor": "white",
          "plot_bgcolor": "#E5ECF6",
          "polar": {
           "angularaxis": {
            "gridcolor": "white",
            "linecolor": "white",
            "ticks": ""
           },
           "bgcolor": "#E5ECF6",
           "radialaxis": {
            "gridcolor": "white",
            "linecolor": "white",
            "ticks": ""
           }
          },
          "scene": {
           "xaxis": {
            "backgroundcolor": "#E5ECF6",
            "gridcolor": "white",
            "gridwidth": 2,
            "linecolor": "white",
            "showbackground": true,
            "ticks": "",
            "zerolinecolor": "white"
           },
           "yaxis": {
            "backgroundcolor": "#E5ECF6",
            "gridcolor": "white",
            "gridwidth": 2,
            "linecolor": "white",
            "showbackground": true,
            "ticks": "",
            "zerolinecolor": "white"
           },
           "zaxis": {
            "backgroundcolor": "#E5ECF6",
            "gridcolor": "white",
            "gridwidth": 2,
            "linecolor": "white",
            "showbackground": true,
            "ticks": "",
            "zerolinecolor": "white"
           }
          },
          "shapedefaults": {
           "line": {
            "color": "#2a3f5f"
           }
          },
          "ternary": {
           "aaxis": {
            "gridcolor": "white",
            "linecolor": "white",
            "ticks": ""
           },
           "baxis": {
            "gridcolor": "white",
            "linecolor": "white",
            "ticks": ""
           },
           "bgcolor": "#E5ECF6",
           "caxis": {
            "gridcolor": "white",
            "linecolor": "white",
            "ticks": ""
           }
          },
          "title": {
           "x": 0.05
          },
          "xaxis": {
           "automargin": true,
           "gridcolor": "white",
           "linecolor": "white",
           "ticks": "",
           "title": {
            "standoff": 15
           },
           "zerolinecolor": "white",
           "zerolinewidth": 2
          },
          "yaxis": {
           "automargin": true,
           "gridcolor": "white",
           "linecolor": "white",
           "ticks": "",
           "title": {
            "standoff": 15
           },
           "zerolinecolor": "white",
           "zerolinewidth": 2
          }
         }
        }
       }
      }
     },
     "metadata": {},
     "output_type": "display_data"
    },
    {
     "name": "stdout",
     "output_type": "stream",
     "text": [
      "2023-10-17 21:49:35.935915\n"
     ]
    }
   ],
   "source": [
    "jh.printMarkdown(\"With our solution, we can plot it as well as inspect the final variables.\")\n",
    "\n",
    "def plotPyomoSolution(model, stateSymbols):\n",
    "    tSpace =np.array( [t for t in model.t]) * model.tf.value\n",
    "    rSym = np.array([model.r[t]() for t in model.t])\n",
    "    uSym = np.array([model.u[t]() for t in model.t])\n",
    "    vSym = np.array([model.v[t]() for t in model.t])\n",
    "    lonSim = np.array([model.lon[t]() for t in model.t])\n",
    "    controls = np.array([model.control[t]() for t in model.t])\n",
    "    print(\"control 0 = \" + str(controls[0]))\n",
    "    plt.title(\"Thrust Angle\")\n",
    "    plt.plot(tSpace/86400, controls*180.0/math.pi, label=\"Thrust Angle (deg)\")\n",
    "    plt.tight_layout()\n",
    "    plt.grid(alpha=0.5)\n",
    "    plt.legend(framealpha=1, shadow=True)\n",
    "    plt.show()    \n",
    "    ansAsDict = OrderedDict()\n",
    "    ansAsDict[stateSymbols[0]]= rSym\n",
    "    ansAsDict[stateSymbols[1]]= uSym\n",
    "    ansAsDict[stateSymbols[2]]= vSym\n",
    "    ansAsDict[stateSymbols[3]]=  lonSim\n",
    "\n",
    "    return [tSpace, ansAsDict]\n",
    "\n",
    "[tArray, solutionDictionary] = plotPyomoSolution(model, problem.StateVariables)\n",
    "unscaledResults = problem.DescaleResults(solutionDictionary)\n",
    "baseProblem.PlotSolution(tArray, unscaledResults, \"Leo to Geo\")\n",
    "\n",
    "print(\"Tf = \" + str(model.tf.value/86400))\n",
    "jh.showEquation(\"r_f\", unscaledResults[baseProblem.StateVariables[0]][-1]) \n",
    "jh.showEquation(\"u_f\", unscaledResults[baseProblem.StateVariables[1]][-1]) \n",
    "jh.showEquation(\"v_f\", unscaledResults[baseProblem.StateVariables[2]][-1])    \n",
    "\n",
    "xyz = np.zeros((len(tArray), 3))\n",
    "for i in range(0, len(unscaledResults[baseProblem.StateVariables[0]])) :\n",
    "    r = unscaledResults[baseProblem.StateVariables[0]][i]\n",
    "    theta = unscaledResults[baseProblem.StateVariables[3]][i]\n",
    "    x = r*math.cos(theta)\n",
    "    y = r*math.sin(theta)\n",
    "    xyz[i,0] = x\n",
    "    xyz[i,1] = y\n",
    "    xyz[i,2] = 0\n",
    "\n",
    "import plotly.express as px\n",
    "from pandas import DataFrame\n",
    "df = DataFrame(xyz)\n",
    "\n",
    "x = np.array(xyz[:,0])\n",
    "y = np.array(xyz[:,1])\n",
    "z = np.array(xyz[:,2])\n",
    "df = DataFrame({\"x\": x, \"y\":y, \"z\":z})\n",
    "fig = px.line_3d(df, x=\"x\", y=\"y\", z=\"z\")\n",
    "fig.show()\n",
    "print(str(datetime.now()))"
   ]
  },
  {
   "cell_type": "markdown",
   "metadata": {},
   "source": [
    "These results look very similar to the indirect results as expected."
   ]
  }
 ],
 "metadata": {
  "kernelspec": {
   "display_name": "Python 3.9.13 64-bit",
   "language": "python",
   "name": "python3"
  },
  "language_info": {
   "codemirror_mode": {
    "name": "ipython",
    "version": 3
   },
   "file_extension": ".py",
   "mimetype": "text/x-python",
   "name": "python",
   "nbconvert_exporter": "python",
   "pygments_lexer": "ipython3",
   "version": "3.9.16"
  },
  "orig_nbformat": 4,
  "vscode": {
   "interpreter": {
    "hash": "278c831daabb7f66c946c17fd3cc6d92e704d472fe74a9e57946bf2027d8a33f"
   }
  }
 },
 "nbformat": 4,
 "nbformat_minor": 2
}
