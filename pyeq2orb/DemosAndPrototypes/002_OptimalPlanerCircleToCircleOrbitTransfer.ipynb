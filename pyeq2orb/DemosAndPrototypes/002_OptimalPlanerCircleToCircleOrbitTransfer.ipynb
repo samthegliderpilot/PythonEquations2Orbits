{
 "cells": [
  {
   "cell_type": "markdown",
   "metadata": {},
   "source": [
    "# Optimal Planer Circle to Circle Orbit Transfer\n",
    "This problem was recreated from Optimal Control with Aerospace Applications by James M. Longuski, Jose J. Guzman and John E. Prussing.  Thank you all for this (and Jose, sorry for not figuring out accents in Markdown, and we should talk about the difficulties you had in Appendix C.  A rule of thumb that works for pure numerical methods fails for indirect methods and I think that caused problems for you).\n",
    "\n",
    "We are going to solve the optimal continuous thrust transfer between 2 circular orbits in the same orbit plane.  The specifics of the problem are posed as transfer from a low-Earth orbit to a Geo orbit.  We will start with the equations of motion, constants and constraints, and go through deriving the optimal control conditions that we can solve (the indirect method).  Then, we will solve the problem using direct methods leveraging the python library pyomo.\n",
    "\n",
    "Note that included in this folder are two files, one for the indirect method and one for the direct (pyomo) method that are a single script. If you want to start editing things, I highly recommend playing with those instead of this juypter notebook.\n",
    "\n",
    "## The Indirect Method\n",
    "\n",
    "We start with importing all of the python libraries that we need for the indirect methods."
   ]
  },
  {
   "cell_type": "code",
   "execution_count": 1,
   "metadata": {},
   "outputs": [
    {
     "name": "stdout",
     "output_type": "stream",
     "text": [
      "2022-11-10 23:47:40.104573\n"
     ]
    }
   ],
   "source": [
    "import sys\n",
    "import os\n",
    "sys.path.insert(1, os.path.dirname(os.path.dirname(sys.path[0]))) # need to import 2 directories up\n",
    "# these two appends do not conflict with eachother\n",
    "\n",
    "from IPython.display import display\n",
    "from scipy.integrate import solve_ivp\n",
    "import matplotlib.pyplot as plt\n",
    "import numpy as np\n",
    "import sympy as sy\n",
    "import math\n",
    "from scipy.optimize import fsolve\n",
    "from pyeq2orb.SymbolicOptimizerProblem import SymbolicProblem\n",
    "from pyeq2orb.ScaledSymbolicProblem import ScaledSymbolicProblem\n",
    "from pyeq2orb.Problems.ContinuousThrustCircularOrbitTransfer import ContinuousThrustCircularOrbitTransferProblem\n",
    "from pyeq2orb.Numerical import ScipyCallbackCreators\n",
    "from pyeq2orb.Numerical.LambdifyModule import LambdifyHelper\n",
    "from pyeq2orb.Utilities.SolutionDictionaryFunctions import GetValueFromStateDictionaryAtIndex\n",
    "import scipyPaperPrinter as jh\n",
    "from datetime import datetime\n",
    "print(str(datetime.now()))\n",
    "# constants\n",
    "g = 9.80665\n",
    "mu = 3.986004418e14  \n",
    "thrust = 20.0\n",
    "isp = 6000.0\n",
    "m0 = 1500.0\n",
    "\n",
    "# initial values\n",
    "r0 = 6678000.0\n",
    "u0 = 0.0\n",
    "v0 = sy.sqrt(mu/r0) # circular\n",
    "lon0 = 0.0\n",
    "# I know from many previous runs that this is the time needed to go from LEO to GEO.\n",
    "# However, below works well wrapped in another fsolve to control the final time for a desired radius.\n",
    "tfVal  = 3600*3.97152*24 \n",
    "tfOrg = tfVal"
   ]
  },
  {
   "cell_type": "markdown",
   "metadata": {},
   "source": [
    "We have a few choices to make.  Scaling the problem often leads to better convergence behavior.  This problem is set up to scale or not with a changing of this boolean.  There are 2 things we can scale.  The orbital elements, and/or the time.  I haven't really looked at scaling the time without scaling the elements too, but there's no reason why you can.\n",
    "\n",
    "We also start defining our problem here."
   ]
  },
  {
   "cell_type": "code",
   "execution_count": 2,
   "metadata": {},
   "outputs": [],
   "source": [
    "# these are options to switch to try different things\n",
    "scaleElements = True\n",
    "scaleTime = scaleElements and True\n",
    "\n",
    "# make the time array\n",
    "tArray = np.linspace(0.0, tfOrg, 1200)\n",
    "if scaleTime:\n",
    "    tfVal = 1.0\n",
    "    tArray = np.linspace(0.0, 1.0, 1200)"
   ]
  },
  {
   "cell_type": "code",
   "execution_count": 3,
   "metadata": {},
   "outputs": [],
   "source": [
    "baseProblem = ContinuousThrustCircularOrbitTransferProblem()\n",
    "\n",
    "initialStateValues = baseProblem.CreateVariablesAtTime0(baseProblem.StateVariables)\n",
    "problem = baseProblem\n",
    "\n",
    "if scaleElements :\n",
    "    newSvs = ScaledSymbolicProblem.CreateBarVariables(problem.StateVariables, problem.TimeSymbol) \n",
    "    #TODO this next bit could be cleaner...\n",
    "    problem = ScaledSymbolicProblem(baseProblem, newSvs, {problem.StateVariables[0]: initialStateValues[0], \n",
    "                                                          problem.StateVariables[1]: initialStateValues[2], \n",
    "                                                          problem.StateVariables[2]: initialStateValues[2], \n",
    "                                                          problem.StateVariables[3]: 1} , scaleTime)\n",
    "\n",
    "stateAtTf = SymbolicProblem.SafeSubs(problem.StateVariables, {problem.TimeSymbol: problem.TimeFinalSymbol})\n",
    "\n",
    "# register constants (this dictionary gets shared around)\n",
    "constantsSubsDict = problem.SubstitutionDictionary\n",
    "constantsSubsDict[baseProblem.Isp] = isp\n",
    "constantsSubsDict[baseProblem.MassInitial] = m0\n",
    "constantsSubsDict[baseProblem.Gravity] = g\n",
    "constantsSubsDict[baseProblem.Mu]= mu\n",
    "constantsSubsDict[baseProblem.Thrust] = thrust\n",
    "\n",
    "# register initial state values\n",
    "constantsSubsDict.update(zip(initialStateValues, [r0, u0, v0, lon0]))\n",
    "if scaleElements :\n",
    "    # and reset the real initial values using tau_0 instead of time\n",
    "    initialValuesAtTau0 = SymbolicProblem.SafeSubs(initialStateValues, {baseProblem.TimeInitialSymbol: problem.TimeInitialSymbol})\n",
    "    constantsSubsDict.update(zip(initialValuesAtTau0, [r0, u0, v0, lon0]))\n",
    "\n",
    "    r0= r0/r0\n",
    "    u0=u0/v0\n",
    "    v0=v0/v0\n",
    "    lon0=lon0/1.0\n",
    "    # add the scaled initial values (at tau_0).  We should NOT need to add these at t_0\n",
    "    initialScaledStateValues = problem.CreateVariablesAtTime0(problem.StateVariables)\n",
    "    constantsSubsDict.update(zip(initialScaledStateValues, [r0, u0, v0, lon0]))     \n",
    "\n",
    "\n",
    "    \n",
    "problem.Lambdas.extend(problem.CreateCoVector(problem.StateVariables, r'\\lambda', problem.TimeSymbol)) # preemptively making the costate values\n"
   ]
  },
  {
   "cell_type": "markdown",
   "metadata": {},
   "source": [
    "There is a non-trivial amount of code in both the ContinuousThrustCircularOrbitTransferProblem and in the ScaledSymbolicProblem.  Because I like to keep the equations symbolic as I go, I end up registering the various constants in the system in a dictionary.\n",
    "\n",
    "At this point, let's state our problem.  We want to find the optimal continuous thrust transfer between 2 coplanar circular orbits.  For this particular problem, we pose it as maximizing the final radius and constraining the final orbit to be a circle (we do not constrain the final longitude)."
   ]
  },
  {
   "cell_type": "code",
   "execution_count": 4,
   "metadata": {},
   "outputs": [
    {
     "data": {
      "text/markdown": [
       "With a given final time, maximize:"
      ],
      "text/plain": [
       "<IPython.core.display.Markdown object>"
      ]
     },
     "metadata": {},
     "output_type": "display_data"
    },
    {
     "data": {
      "text/latex": [
       "$\\displaystyle J = r{\\left(t_{f} \\right)}$"
      ],
      "text/plain": [
       "Eq(J, r(t_f))"
      ]
     },
     "metadata": {},
     "output_type": "display_data"
    },
    {
     "data": {
      "text/markdown": [
       "We will find the optimal thrust vector $\\alpha(t)$ to achieve this transfer."
      ],
      "text/plain": [
       "<IPython.core.display.Markdown object>"
      ]
     },
     "metadata": {},
     "output_type": "display_data"
    },
    {
     "data": {
      "text/markdown": [
       "With the following equations of motion:"
      ],
      "text/plain": [
       "<IPython.core.display.Markdown object>"
      ]
     },
     "metadata": {},
     "output_type": "display_data"
    },
    {
     "data": {
      "text/latex": [
       "$\\displaystyle r = u$"
      ],
      "text/plain": [
       "Eq(r, u)"
      ]
     },
     "metadata": {},
     "output_type": "display_data"
    },
    {
     "data": {
      "text/latex": [
       "$\\displaystyle u = \\frac{T \\sin{\\left(\\alpha \\right)}}{m_{0} - \\frac{T t}{I_{sp} g}} - \\frac{\\mu}{r^{2}} + \\frac{v^{2}}{r}$"
      ],
      "text/plain": [
       "Eq(u, T*sin(\\alpha)/(m_0 - T*t/(I_{sp}*g)) - \\mu/r**2 + v**2/r)"
      ]
     },
     "metadata": {},
     "output_type": "display_data"
    },
    {
     "data": {
      "text/latex": [
       "$\\displaystyle v = \\frac{T \\cos{\\left(\\alpha \\right)}}{m_{0} - \\frac{T t}{I_{sp} g}} - \\frac{u v}{r}$"
      ],
      "text/plain": [
       "Eq(v, T*cos(\\alpha)/(m_0 - T*t/(I_{sp}*g)) - u*v/r)"
      ]
     },
     "metadata": {},
     "output_type": "display_data"
    },
    {
     "data": {
      "text/latex": [
       "$\\displaystyle \\theta = \\frac{v}{r}$"
      ],
      "text/plain": [
       "Eq(\\theta, v/r)"
      ]
     },
     "metadata": {},
     "output_type": "display_data"
    },
    {
     "data": {
      "text/markdown": [
       "There are known initial values.  Additionally, we have the following constraints.  The orbit must be circular resulting in $v(t_f)$ obeying a specific equation and $u(t_f)=0$."
      ],
      "text/plain": [
       "<IPython.core.display.Markdown object>"
      ]
     },
     "metadata": {},
     "output_type": "display_data"
    },
    {
     "data": {
      "text/latex": [
       "$\\displaystyle 0 = u{\\left(t_{f} \\right)}$"
      ],
      "text/plain": [
       "Eq(0, u(t_f))"
      ]
     },
     "metadata": {},
     "output_type": "display_data"
    },
    {
     "data": {
      "text/latex": [
       "$\\displaystyle 0 = - \\frac{\\sqrt{\\mu}}{\\sqrt{r{\\left(t_{f} \\right)}}} + v{\\left(t_{f} \\right)}$"
      ],
      "text/plain": [
       "Eq(0, -sqrt(\\mu)/sqrt(r(t_f)) + v(t_f))"
      ]
     },
     "metadata": {},
     "output_type": "display_data"
    }
   ],
   "source": [
    "jh.t = problem._timeSymbol # needed for cleaner printed equations\n",
    "\n",
    "jh.printMarkdown(\"With a given final time, maximize:\")\n",
    "jh.showEquation(\"J\", baseProblem.CostFunction, False)\n",
    "jh.printMarkdown(\"We will find the optimal thrust vector $\\\\alpha(t)$ to achieve this transfer.\")\n",
    "\n",
    "jh.printMarkdown(\"With the following equations of motion:\")\n",
    "for sv,eq in baseProblem.EquationsOfMotion.items() :\n",
    "    jh.showEquation(sv, eq)\n",
    "\n",
    "jh.printMarkdown(\"There are known initial values.  Additionally, we have the following constraints.  The orbit must be circular resulting in $v(t_f)$ obeying a specific equation and $u(t_f)=0$.\")\n",
    "for bc in baseProblem.BoundaryConditions :\n",
    "    jh.showEquation(0, bc, False)\n",
    "\n"
   ]
  },
  {
   "cell_type": "markdown",
   "metadata": {},
   "source": [
    "Now we go through the fairly standard sequence of deriving the optimality conditions.  However, there is enough that makes me hesitate turning this into a standard reusable function.  Almost all optimization problems will require some code to be written and although being concise is good, shorter is not always better than readable.  Better to make it a clear demo.  We create the costate time-varying symbols, adjoin them to the equations of motion, and use the optimal control conditions to derive their equations of motion and derive additional constraints."
   ]
  },
  {
   "cell_type": "code",
   "execution_count": 5,
   "metadata": {},
   "outputs": [
    {
     "data": {
      "text/latex": [
       "$\\displaystyle H = \\frac{\\bar{u} \\lambda_{\\bar{r}} t_{f} v{_0}}{r{_0}} + \\frac{\\lambda_{\\bar{u}} t_{f} \\left(\\frac{T \\sin{\\left(\\alpha \\right)}}{m_{0} - \\frac{T \\tau t_{f}}{I_{sp} g}} + \\frac{\\bar{v}^{2} v{_0}^{2}}{\\bar{r} r{_0}} - \\frac{\\mu}{\\bar{r}^{2} r{_0}^{2}}\\right)}{v{_0}} + \\frac{\\lambda_{\\bar{v}} t_{f} \\left(\\frac{T \\cos{\\left(\\alpha \\right)}}{m_{0} - \\frac{T \\tau t_{f}}{I_{sp} g}} - \\frac{\\bar{u} \\bar{v} v{_0}^{2}}{\\bar{r} r{_0}}\\right)}{v{_0}} + \\frac{\\bar{v} \\lambda_{\\bar{\\theta}} t_{f} v{_0}}{\\bar{r} r{_0}}$"
      ],
      "text/plain": [
       "Eq(H, \\bar{u}*\\lambda_{\\bar{r}}*t_f*v{_0}/r{_0} + \\lambda_{\\bar{u}}*t_f*(T*sin(\\alpha)/(m_0 - T*\\tau*t_f/(I_{sp}*g)) + \\bar{v}**2*v{_0}**2/(\\bar{r}*r{_0}) - \\mu/(\\bar{r}**2*r{_0}**2))/v{_0} + \\lambda_{\\bar{v}}*t_f*(T*cos(\\alpha)/(m_0 - T*\\tau*t_f/(I_{sp}*g)) - \\bar{u}*\\bar{v}*v{_0}**2/(\\bar{r}*r{_0}))/v{_0} + \\bar{v}*\\lambda_{\\bar{\\theta}}*t_f*v{_0}/(\\bar{r}*r{_0}))"
      ]
     },
     "metadata": {},
     "output_type": "display_data"
    },
    {
     "data": {
      "text/latex": [
       "$\\displaystyle \\dot{\\lambda_{\\bar{r}}} = - \\frac{\\lambda_{\\bar{u}} t_{f} \\left(- \\frac{\\bar{v}^{2} v{_0}^{2}}{\\bar{r}^{2} r{_0}} + \\frac{2 \\mu}{\\bar{r}^{3} r{_0}^{2}}\\right)}{v{_0}} - \\frac{\\bar{u} \\bar{v} \\lambda_{\\bar{v}} t_{f} v{_0}}{\\bar{r}^{2} r{_0}} + \\frac{\\bar{v} \\lambda_{\\bar{\\theta}} t_{f} v{_0}}{\\bar{r}^{2} r{_0}}$"
      ],
      "text/plain": [
       "Eq(\\dot{\\lambda_{\\bar{r}}}, -\\lambda_{\\bar{u}}*t_f*(-\\bar{v}**2*v{_0}**2/(\\bar{r}**2*r{_0}) + 2*\\mu/(\\bar{r}**3*r{_0}**2))/v{_0} - \\bar{u}*\\bar{v}*\\lambda_{\\bar{v}}*t_f*v{_0}/(\\bar{r}**2*r{_0}) + \\bar{v}*\\lambda_{\\bar{\\theta}}*t_f*v{_0}/(\\bar{r}**2*r{_0}))"
      ]
     },
     "metadata": {},
     "output_type": "display_data"
    },
    {
     "data": {
      "text/latex": [
       "$\\displaystyle \\dot{\\lambda_{\\bar{u}}} = - \\frac{\\lambda_{\\bar{r}} t_{f} v{_0}}{r{_0}} + \\frac{\\bar{v} \\lambda_{\\bar{v}} t_{f} v{_0}}{\\bar{r} r{_0}}$"
      ],
      "text/plain": [
       "Eq(\\dot{\\lambda_{\\bar{u}}}, -\\lambda_{\\bar{r}}*t_f*v{_0}/r{_0} + \\bar{v}*\\lambda_{\\bar{v}}*t_f*v{_0}/(\\bar{r}*r{_0}))"
      ]
     },
     "metadata": {},
     "output_type": "display_data"
    },
    {
     "data": {
      "text/latex": [
       "$\\displaystyle \\dot{\\lambda_{\\bar{v}}} = \\frac{\\bar{u} \\lambda_{\\bar{v}} t_{f} v{_0}}{\\bar{r} r{_0}} - \\frac{2 \\bar{v} \\lambda_{\\bar{u}} t_{f} v{_0}}{\\bar{r} r{_0}} - \\frac{\\lambda_{\\bar{\\theta}} t_{f} v{_0}}{\\bar{r} r{_0}}$"
      ],
      "text/plain": [
       "Eq(\\dot{\\lambda_{\\bar{v}}}, \\bar{u}*\\lambda_{\\bar{v}}*t_f*v{_0}/(\\bar{r}*r{_0}) - 2*\\bar{v}*\\lambda_{\\bar{u}}*t_f*v{_0}/(\\bar{r}*r{_0}) - \\lambda_{\\bar{\\theta}}*t_f*v{_0}/(\\bar{r}*r{_0}))"
      ]
     },
     "metadata": {},
     "output_type": "display_data"
    },
    {
     "data": {
      "text/latex": [
       "$\\displaystyle \\dot{\\lambda_{\\bar{\\theta}}} = 0$"
      ],
      "text/plain": [
       "Eq(\\dot{\\lambda_{\\bar{\\theta}}}, 0)"
      ]
     },
     "metadata": {},
     "output_type": "display_data"
    },
    {
     "data": {
      "text/latex": [
       "$\\displaystyle \\frac{\\partial{H}}{\\partial{u}}=0 = \\frac{T \\lambda_{\\bar{u}} t_{f} \\cos{\\left(\\alpha \\right)}}{v{_0} \\left(m_{0} - \\frac{T \\tau t_{f}}{I_{sp} g}\\right)} - \\frac{T \\lambda_{\\bar{v}} t_{f} \\sin{\\left(\\alpha \\right)}}{v{_0} \\left(m_{0} - \\frac{T \\tau t_{f}}{I_{sp} g}\\right)}$"
      ],
      "text/plain": [
       "Eq(\\frac{\\partial{H}}{\\partial{u}}=0, T*\\lambda_{\\bar{u}}*t_f*cos(\\alpha)/(v{_0}*(m_0 - T*\\tau*t_f/(I_{sp}*g))) - T*\\lambda_{\\bar{v}}*t_f*sin(\\alpha)/(v{_0}*(m_0 - T*\\tau*t_f/(I_{sp}*g))))"
      ]
     },
     "metadata": {},
     "output_type": "display_data"
    },
    {
     "data": {
      "text/markdown": [
       "Note that because time is explicitly in the Hamiltonian, the partial and total derivatives of H with respect to the controls are not equivalent.  Also the Hamiltonian along the optimal solution will not be constant"
      ],
      "text/plain": [
       "<IPython.core.display.Markdown object>"
      ]
     },
     "metadata": {},
     "output_type": "display_data"
    },
    {
     "data": {
      "text/markdown": [
       "We can use this equation to make an expression for the control variable."
      ],
      "text/plain": [
       "<IPython.core.display.Markdown object>"
      ]
     },
     "metadata": {},
     "output_type": "display_data"
    },
    {
     "data": {
      "text/latex": [
       "$\\displaystyle \\alpha = 2 \\operatorname{atan}{\\left(\\frac{- \\lambda_{\\bar{v}} + \\sqrt{\\lambda_{\\bar{u}}^{2} + \\lambda_{\\bar{v}}^{2}}}{\\lambda_{\\bar{u}}} \\right)}$"
      ],
      "text/plain": [
       "Eq(\\alpha, 2*atan((-\\lambda_{\\bar{v}} + sqrt(\\lambda_{\\bar{u}}**2 + \\lambda_{\\bar{v}}**2))/\\lambda_{\\bar{u}}))"
      ]
     },
     "metadata": {},
     "output_type": "display_data"
    },
    {
     "data": {
      "text/latex": [
       "$\\displaystyle \\dot{\\bar{r}} = \\frac{\\bar{u} t_{f} v{_0}}{r{_0}}$"
      ],
      "text/plain": [
       "Eq(\\dot{\\bar{r}}, \\bar{u}*t_f*v{_0}/r{_0})"
      ]
     },
     "metadata": {},
     "output_type": "display_data"
    },
    {
     "data": {
      "text/latex": [
       "$\\displaystyle \\dot{\\bar{u}} = \\frac{t_{f} \\left(\\frac{T \\lambda_{\\bar{u}} \\left(- \\lambda_{\\bar{v}} + \\sqrt{\\lambda_{\\bar{u}}^{2} + \\lambda_{\\bar{v}}^{2}}\\right)}{\\left(m_{0} - \\frac{T \\tau t_{f}}{I_{sp} g}\\right) \\left(\\lambda_{\\bar{u}}^{2} + \\lambda_{\\bar{v}}^{2} - \\lambda_{\\bar{v}} \\sqrt{\\lambda_{\\bar{u}}^{2} + \\lambda_{\\bar{v}}^{2}}\\right)} + \\frac{\\bar{v}^{2} v{_0}^{2}}{\\bar{r} r{_0}} - \\frac{\\mu}{\\bar{r}^{2} r{_0}^{2}}\\right)}{v{_0}}$"
      ],
      "text/plain": [
       "Eq(\\dot{\\bar{u}}, t_f*(T*\\lambda_{\\bar{u}}*(-\\lambda_{\\bar{v}} + sqrt(\\lambda_{\\bar{u}}**2 + \\lambda_{\\bar{v}}**2))/((m_0 - T*\\tau*t_f/(I_{sp}*g))*(\\lambda_{\\bar{u}}**2 + \\lambda_{\\bar{v}}**2 - \\lambda_{\\bar{v}}*sqrt(\\lambda_{\\bar{u}}**2 + \\lambda_{\\bar{v}}**2))) + \\bar{v}**2*v{_0}**2/(\\bar{r}*r{_0}) - \\mu/(\\bar{r}**2*r{_0}**2))/v{_0})"
      ]
     },
     "metadata": {},
     "output_type": "display_data"
    },
    {
     "data": {
      "text/latex": [
       "$\\displaystyle \\dot{\\bar{v}} = \\frac{t_{f} \\left(I_{sp} T \\bar{r} \\lambda_{\\bar{v}} g r{_0} \\left(- \\lambda_{\\bar{v}} + \\sqrt{\\lambda_{\\bar{u}}^{2} + \\lambda_{\\bar{v}}^{2}}\\right) - \\bar{u} \\bar{v} v{_0}^{2} \\left(I_{sp} g m_{0} - T \\tau t_{f}\\right) \\left(\\lambda_{\\bar{u}}^{2} + \\lambda_{\\bar{v}}^{2} - \\lambda_{\\bar{v}} \\sqrt{\\lambda_{\\bar{u}}^{2} + \\lambda_{\\bar{v}}^{2}}\\right)\\right)}{\\bar{r} r{_0} v{_0} \\left(I_{sp} g m_{0} - T \\tau t_{f}\\right) \\left(\\lambda_{\\bar{u}}^{2} + \\lambda_{\\bar{v}}^{2} - \\lambda_{\\bar{v}} \\sqrt{\\lambda_{\\bar{u}}^{2} + \\lambda_{\\bar{v}}^{2}}\\right)}$"
      ],
      "text/plain": [
       "Eq(\\dot{\\bar{v}}, t_f*(I_{sp}*T*\\bar{r}*\\lambda_{\\bar{v}}*g*r{_0}*(-\\lambda_{\\bar{v}} + sqrt(\\lambda_{\\bar{u}}**2 + \\lambda_{\\bar{v}}**2)) - \\bar{u}*\\bar{v}*v{_0}**2*(I_{sp}*g*m_0 - T*\\tau*t_f)*(\\lambda_{\\bar{u}}**2 + \\lambda_{\\bar{v}}**2 - \\lambda_{\\bar{v}}*sqrt(\\lambda_{\\bar{u}}**2 + \\lambda_{\\bar{v}}**2)))/(\\bar{r}*r{_0}*v{_0}*(I_{sp}*g*m_0 - T*\\tau*t_f)*(\\lambda_{\\bar{u}}**2 + \\lambda_{\\bar{v}}**2 - \\lambda_{\\bar{v}}*sqrt(\\lambda_{\\bar{u}}**2 + \\lambda_{\\bar{v}}**2))))"
      ]
     },
     "metadata": {},
     "output_type": "display_data"
    },
    {
     "data": {
      "text/latex": [
       "$\\displaystyle \\dot{\\bar{\\theta}} = \\frac{\\bar{v} t_{f} v{_0}}{\\bar{r} r{_0}}$"
      ],
      "text/plain": [
       "Eq(\\dot{\\bar{\\theta}}, \\bar{v}*t_f*v{_0}/(\\bar{r}*r{_0}))"
      ]
     },
     "metadata": {},
     "output_type": "display_data"
    },
    {
     "data": {
      "text/latex": [
       "$\\displaystyle \\dot{\\lambda_{\\bar{r}}} = \\frac{t_{f} \\left(\\bar{r} \\bar{v} r{_0} v{_0}^{2} \\left(- \\bar{u} \\lambda_{\\bar{v}} + \\lambda_{\\bar{\\theta}}\\right) - \\lambda_{\\bar{u}} \\left(- \\bar{r} \\bar{v}^{2} r{_0} v{_0}^{2} + 2 \\mu\\right)\\right)}{\\bar{r}^{3} r{_0}^{2} v{_0}}$"
      ],
      "text/plain": [
       "Eq(\\dot{\\lambda_{\\bar{r}}}, t_f*(\\bar{r}*\\bar{v}*r{_0}*v{_0}**2*(-\\bar{u}*\\lambda_{\\bar{v}} + \\lambda_{\\bar{\\theta}}) - \\lambda_{\\bar{u}}*(-\\bar{r}*\\bar{v}**2*r{_0}*v{_0}**2 + 2*\\mu))/(\\bar{r}**3*r{_0}**2*v{_0}))"
      ]
     },
     "metadata": {},
     "output_type": "display_data"
    },
    {
     "data": {
      "text/latex": [
       "$\\displaystyle \\dot{\\lambda_{\\bar{u}}} = \\frac{t_{f} v{_0} \\left(- \\bar{r} \\lambda_{\\bar{r}} + \\bar{v} \\lambda_{\\bar{v}}\\right)}{\\bar{r} r{_0}}$"
      ],
      "text/plain": [
       "Eq(\\dot{\\lambda_{\\bar{u}}}, t_f*v{_0}*(-\\bar{r}*\\lambda_{\\bar{r}} + \\bar{v}*\\lambda_{\\bar{v}})/(\\bar{r}*r{_0}))"
      ]
     },
     "metadata": {},
     "output_type": "display_data"
    },
    {
     "data": {
      "text/latex": [
       "$\\displaystyle \\dot{\\lambda_{\\bar{v}}} = \\frac{t_{f} v{_0} \\left(\\bar{u} \\lambda_{\\bar{v}} - 2 \\bar{v} \\lambda_{\\bar{u}} - \\lambda_{\\bar{\\theta}}\\right)}{\\bar{r} r{_0}}$"
      ],
      "text/plain": [
       "Eq(\\dot{\\lambda_{\\bar{v}}}, t_f*v{_0}*(\\bar{u}*\\lambda_{\\bar{v}} - 2*\\bar{v}*\\lambda_{\\bar{u}} - \\lambda_{\\bar{\\theta}})/(\\bar{r}*r{_0}))"
      ]
     },
     "metadata": {},
     "output_type": "display_data"
    },
    {
     "data": {
      "text/latex": [
       "$\\displaystyle \\dot{\\lambda_{\\bar{\\theta}}} = 0$"
      ],
      "text/plain": [
       "Eq(\\dot{\\lambda_{\\bar{\\theta}}}, 0)"
      ]
     },
     "metadata": {},
     "output_type": "display_data"
    },
    {
     "data": {
      "text/markdown": [
       "Note the use of the deep parameter when we do the trig simplification.  It is little things like that that require each problem to be a little unique."
      ],
      "text/plain": [
       "<IPython.core.display.Markdown object>"
      ]
     },
     "metadata": {},
     "output_type": "display_data"
    }
   ],
   "source": [
    "# this next block does most of the problem, pretty standard optimal control actions\n",
    "lambdas = problem.Lambdas\n",
    "hamiltonian = problem.CreateHamiltonian(lambdas)\n",
    "jh.showEquation(\"H\", hamiltonian)\n",
    "lambdaDotExpressions = problem.CreateLambdaDotCondition(hamiltonian)\n",
    "for i in range(0, 4):\n",
    "    jh.showEquation(lambdas[i].diff(problem.TimeSymbol), lambdaDotExpressions[i, 0])\n",
    "# NOTE that this call adds the lambdas to the integration state!\n",
    "problem.EquationsOfMotion.update(zip(lambdas, lambdaDotExpressions))\n",
    "\n",
    "dHdu = problem.CreateHamiltonianControlExpressions(hamiltonian)[0]\n",
    "jh.showEquation('\\\\frac{\\\\partial{H}}{\\\\partial{u}}=0', dHdu)\n",
    "jh.printMarkdown(\"Note that because time is explicitly in the Hamiltonian, the partial and total derivatives of H with respect to the controls are not equivalent.  Also the Hamiltonian along the optimal solution will not be constant\")\n",
    "jh.printMarkdown(\"We can use this equation to make an expression for the control variable.\")\n",
    "\n",
    "controlSolved = sy.solve(dHdu, problem.ControlVariables[0])[0] # something that may be different for other problems is when there are multiple control variables\n",
    "jh.showEquation(problem.ControlVariables[0], controlSolved)\n",
    "\n",
    "# update ALL equations of motion with the new expression for the control variable\n",
    "SymbolicProblem.SafeSubs(problem.EquationsOfMotion, {problem.ControlVariables[0]: controlSolved})\n",
    "# the trig simplification needs the deep=True for this problem to make the equations even cleaner\n",
    "for (key, value) in problem.EquationsOfMotion.items() :\n",
    "    problem.EquationsOfMotion[key] = value.trigsimp(deep=True).simplify() # some simplification to make numerical code more stable later, and that is why this code forces us to do things somewhat manually.  There are often special things like this that we ought to do that you can't really automate.\n",
    "    jh.showEquation(key.diff(problem.TimeSymbol), problem.EquationsOfMotion[key])\n",
    "jh.printMarkdown(\"Note the use of the deep parameter when we do the trig simplification.  It is little things like that that require each problem to be a little unique.\")\n"
   ]
  },
  {
   "cell_type": "markdown",
   "metadata": {},
   "source": [
    "We have another choice to make; the transversality condition.  In optimal control theory, the transversality condition provides another optimality condition that we can solve for.  It is a necessary condition both in the \"necessary and sufficient\" context, but also to provide enough non-trivial boundary conditions to solve for.  \n",
    "\n",
    "The first of the two forms is the adjoined method.  Here, the transversality condition is created by by creating additional final (not time varying) scalers that multiply the constraints and get combined with the terminal cost.  The second way is the differential form of the transversality condition that doesn't add in additional variables to solve for.  Really, neither is better or worse (especially for this problem), and I'm just going to pick the differential form.\n",
    "\n",
    "Long story short, we get additional NECESSARY boundary conditions for solving for the alpha that makes the cost stationary if we add in an error variation to the cost."
   ]
  },
  {
   "cell_type": "code",
   "execution_count": 6,
   "metadata": {},
   "outputs": [
    {
     "data": {
      "text/markdown": [
       "Note that the implementation of the scaled problem actually derives the transversality conditions for the unscaled problem, and then after the condition is derived, the substituted variables are entered.  This way there is the opportunity for values to get canceled out."
      ],
      "text/plain": [
       "<IPython.core.display.Markdown object>"
      ]
     },
     "metadata": {},
     "output_type": "display_data"
    },
    {
     "data": {
      "text/markdown": [
       "The transversality conditions are:"
      ],
      "text/plain": [
       "<IPython.core.display.Markdown object>"
      ]
     },
     "metadata": {},
     "output_type": "display_data"
    },
    {
     "data": {
      "text/latex": [
       "$\\displaystyle 0 = - \\lambda_{\\bar{r}} + 1 + \\frac{\\lambda_{\\bar{v}} \\sqrt{\\mu}}{2 \\bar{r}^{\\frac{3}{2}} r{_0}^{\\frac{3}{2}}}$"
      ],
      "text/plain": [
       "Eq(0, -\\lambda_{\\bar{r}} + 1 + \\lambda_{\\bar{v}}*sqrt(\\mu)/(2*\\bar{r}**(3/2)*r{_0}**(3/2)))"
      ]
     },
     "metadata": {},
     "output_type": "display_data"
    },
    {
     "data": {
      "text/latex": [
       "$\\displaystyle 0 = - \\lambda_{\\bar{\\theta}}$"
      ],
      "text/plain": [
       "Eq(0, -\\lambda_{\\bar{\\theta}})"
      ]
     },
     "metadata": {},
     "output_type": "display_data"
    },
    {
     "data": {
      "text/markdown": [
       "Despite this being a maximization problem, the differential form of the transversality condition will NOT multiply the terminal cost by -1 to make the maximization problem a minimization problem.  I have not been able to find any reasonable justification for that other than 'it works' for numerical solvers.  This is one of the necessary optimality conditions that only finds a stationary point.  It doesn't matter if we are finding a minimum or maximum, the terminal cost doesn't gets its sign flipped."
      ],
      "text/plain": [
       "<IPython.core.display.Markdown object>"
      ]
     },
     "metadata": {},
     "output_type": "display_data"
    }
   ],
   "source": [
    "# your choice of the nu vector here controls which transversality condition we use\n",
    "#nus = [sy.Symbol('B_{u_f}'), sy.Symbol('B_{v_f}')]\n",
    "nus = []\n",
    "\n",
    "# make the transversality conditions\n",
    "if len(nus) != 0:\n",
    "    transversalityCondition = problem.TransversalityConditionsByAugmentation(nus)\n",
    "else:\n",
    "    transversalityCondition = problem.TransversalityConditionInTheDifferentialForm(hamiltonian, sy.Symbol(r'dt_f'))\n",
    "# and add them to the problem\n",
    "problem.BoundaryConditions.extend(transversalityCondition)\n",
    "jh.printMarkdown(\"Note that the implementation of the scaled problem actually derives the transversality conditions for the unscaled problem, and then after the condition is derived, the substituted variables are entered.  This way there is the opportunity for values to get canceled out.\")\n",
    "jh.printMarkdown(\"The transversality conditions are:\")\n",
    "for xvers in transversalityCondition :\n",
    "    jh.showEquation(0, xvers)\n",
    "\n",
    "#TODO: This is a bad order of operations bug.  The final-time BC cannot be present in the base problem's BC's when the transversality conditions are made\n",
    "if scaleTime : # add BC if we are working with the final time (not all solvers need this, but when the same number of BC's and variables are required by the solver [like fsolve does] then...)\n",
    "    problem.BoundaryConditions.append(baseProblem.TimeFinalSymbol-tfOrg)\n",
    "\n",
    "jh.printMarkdown(\"Despite this being a maximization problem, the differential form of the transversality condition will NOT multiply the terminal cost by -1 to make the maximization problem a minimization problem.  I have not been able to find any reasonable justification for that other than 'it works' for numerical solvers.  This is one of the necessary optimality conditions that only finds a stationary point.  It doesn't matter if we are finding a minimum or maximum, the terminal cost doesn't gets its sign flipped.\")"
   ]
  },
  {
   "cell_type": "markdown",
   "metadata": {},
   "source": [
    "Note that the final value for the costate value associated with the longitude is 0, as is its equation of motion.  We will remove it from consideration."
   ]
  },
  {
   "cell_type": "code",
   "execution_count": 7,
   "metadata": {},
   "outputs": [],
   "source": [
    "# lambda_lon is always 0, so do that cleanup\n",
    "del problem.EquationsOfMotion[lambdas[3]]\n",
    "problem.BoundaryConditions.remove(transversalityCondition[-1])\n",
    "lmdTheta = lambdas.pop()\n",
    "problem.IntegrationSymbols.pop()\n",
    "constantsSubsDict[lmdTheta]=0\n",
    "constantsSubsDict[lmdTheta.subs(problem.TimeSymbol, problem.TimeFinalSymbol)]=0\n",
    "constantsSubsDict[lmdTheta.subs(problem.TimeSymbol, problem.TimeInitialSymbol)]=0"
   ]
  },
  {
   "cell_type": "markdown",
   "metadata": {},
   "source": [
    "The next line of code is making our initial guesses for the costate variables.  The general process is based on the intuition that the thrust should be going forward in the direction of the velocity.  Solving the control angle to be 0 at $t_0$ gives us 0 for one of them and about 1 for the other.  However from experience, setting one of the costate values to 0 usually has problems, so we set it to a low number.  Those 2 costate variables lets us solve for the third, giving us our first guess that is hopefully close enough."
   ]
  },
  {
   "cell_type": "code",
   "execution_count": 8,
   "metadata": {},
   "outputs": [],
   "source": [
    "initialFSolveStateGuess = ContinuousThrustCircularOrbitTransferProblem.CreateInitialLambdaGuessForLeoToGeo(problem, controlSolved)\n",
    "if scaleTime :\n",
    "    initialFSolveStateGuess.append(tfOrg)"
   ]
  },
  {
   "cell_type": "markdown",
   "metadata": {},
   "source": [
    "We now start the transformation to a numerical algorithm that we can solve.  Note that if you change which form of the transversality condition you are using, different values will get substituted here."
   ]
  },
  {
   "cell_type": "code",
   "execution_count": 9,
   "metadata": {},
   "outputs": [],
   "source": [
    "otherArgs = []\n",
    "if scaleTime :\n",
    "    otherArgs.append(baseProblem.TimeFinalSymbol)\n",
    "if len(nus) > 0 :\n",
    "    otherArgs.extend(nus)\n",
    "stateAndLambdas = []\n",
    "stateAndLambdas.extend(problem.StateVariables)\n",
    "stateAndLambdas.extend(lambdas)\n",
    "odeState = [problem.TimeSymbol, stateAndLambdas, otherArgs]\n",
    "\n",
    "lambdifyHelper = LambdifyHelper(problem.TimeSymbol, stateAndLambdas, problem.EquationsOfMotion.values(), otherArgs, problem.SubstitutionDictionary)"
   ]
  },
  {
   "cell_type": "markdown",
   "metadata": {},
   "source": [
    "Lambdify is the function that saves a ton of time and possible errors.  This turns our symbolic expressions into code that runs at normal or faster speeds (using libraries like numpy for additional performance) instead of substituting in values when we go to evaluate the equations of motion which would be very slow.  "
   ]
  },
  {
   "cell_type": "code",
   "execution_count": 10,
   "metadata": {},
   "outputs": [],
   "source": [
    "# this next block is for when we are using the adjoined form of the transversality condition.  However it is also REALLY useful to just have \n",
    "# the equations of motion in a form that we can evaluate ourselves.\n",
    "odeIntEomCallback = lambdifyHelper.CreateSimpleCallbackForSolveIvp()\n",
    "if len(nus) > 0 :\n",
    "    # run a test solution to get a better guess for the final nu values, this is a good technique, but \n",
    "    # it is still a custom-to-this-problem piece of code because it is still initial-guess work\n",
    "    initialFSolveStateGuess.append(initialFSolveStateGuess[1])\n",
    "    initialFSolveStateGuess.append(initialFSolveStateGuess[2])  \n",
    "    argsForOde = []\n",
    "    if scaleTime :\n",
    "        argsForOde.append(tfOrg)\n",
    "    argsForOde.append(initialFSolveStateGuess[1])\n",
    "    argsForOde.append(initialFSolveStateGuess[2])  \n",
    "    print(\"solving ivp for final ajoined variable guess\")\n",
    "    testSolution = solve_ivp(odeIntEomCallback, [tArray[0], tArray[-1]], [r0, u0, v0, lon0, *initialFSolveStateGuess[0:3]], args=tuple(argsForOde), t_eval=tArray, dense_output=True, method=\"LSODA\", rtol=1.49012e-8, atol=1.49012e-11)  \n",
    "    #testSolution = odeint(odeIntEomCallback, [r0, u0, v0, lon0, *initialFSolveStateGuess[0:3]], tArray, args=tuple(argsForOde))\n",
    "    finalValues = ScipyCallbackCreators.GetFinalStateFromIntegratorResults(testSolution)\n",
    "    initialFSolveStateGuess[-2] = finalValues[5]\n",
    "    initialFSolveStateGuess[-1] = finalValues[6]"
   ]
  },
  {
   "cell_type": "markdown",
   "metadata": {},
   "source": [
    "Now we create the boundary condition evaluation callback.  Note that making this callback general is difficult.  I'm using scipy's solveIvp for the integration of the eqations of motion, but what if you want to use some other routine?  Some of the initial values and final values that are passed to the fsolve boundary condition values, and some of those values also need to get placed into the initial values for the equations of motion... it is can't be easily generalized for most problems, but it doesn't really change for this problem.\n",
    "\n",
    "That being said, streamlining this part of the process is something I am continuing to think about."
   ]
  },
  {
   "cell_type": "code",
   "execution_count": 11,
   "metadata": {},
   "outputs": [],
   "source": [
    "stateForBoundaryConditions = []\n",
    "stateForBoundaryConditions.extend(SymbolicProblem.SafeSubs(problem.IntegrationSymbols, {problem.TimeSymbol: problem.TimeInitialSymbol}))\n",
    "stateForBoundaryConditions.extend(SymbolicProblem.SafeSubs(problem.IntegrationSymbols, {problem.TimeSymbol: problem.TimeFinalSymbol}))\n",
    "stateForBoundaryConditions.extend(lambdas)\n",
    "stateForBoundaryConditions.extend(otherArgs)\n",
    "boundaryConditionHelper = LambdifyHelper(None, stateForBoundaryConditions, problem.BoundaryConditions, None, problem.SubstitutionDictionary)\n",
    "\n",
    "\n",
    "fSolveCallback = ContinuousThrustCircularOrbitTransferProblem.createSolveIvpSingleShootingCallbackForFSolve(problem, problem.IntegrationSymbols, [r0, u0, v0, lon0], tArray, odeIntEomCallback, problem.BoundaryConditions, SymbolicProblem.SafeSubs(lambdas, {problem.TimeSymbol: problem.TimeInitialSymbol}), otherArgs)"
   ]
  },
  {
   "cell_type": "code",
   "execution_count": 12,
   "metadata": {},
   "outputs": [
    {
     "name": "stdout",
     "output_type": "stream",
     "text": [
      "(array([1.49570385e+01, 8.42567956e-01, 1.56018665e+01, 3.43139328e+05]), {'nfev': 37, 'fjac': array([[-9.97150767e-01, -7.54322338e-02, -5.70535546e-04,\n",
      "        -5.65639811e-10],\n",
      "       [ 7.54305912e-02, -9.97147931e-01,  2.49592240e-03,\n",
      "        -1.12973459e-08],\n",
      "       [ 7.57181264e-04, -2.44577485e-03, -9.99996621e-01,\n",
      "        -4.50641535e-04],\n",
      "       [-3.41505499e-07,  1.11347564e-06,  4.50640030e-04,\n",
      "        -9.99999898e-01]]), 'r': array([-1.93966474e+03,  2.03055009e+03,  3.01485475e+01,  1.68984477e-02,\n",
      "       -3.32250875e+02,  1.76562581e+02, -1.32120805e-02, -7.54468001e-03,\n",
      "       -4.60550056e-04, -9.99999894e-01]), 'qtf': array([ 5.03972538e-04,  1.54775985e-04,  6.41930110e-07, -2.91314024e-10]), 'fvec': array([-4.90861273e-04, -1.92351897e-04, -5.43153472e-07,  0.00000000e+00])}, 1, 'The solution converged.')\n"
     ]
    }
   ],
   "source": [
    "fSolveSol = fsolve(fSolveCallback, initialFSolveStateGuess, epsfcn=0.00001, full_output=True) # just to speed things up and see how the initial one works\n",
    "print(fSolveSol)"
   ]
  },
  {
   "cell_type": "markdown",
   "metadata": {},
   "source": [
    "Yay, it says it converged.  Let's see what we have."
   ]
  },
  {
   "cell_type": "code",
   "execution_count": 13,
   "metadata": {},
   "outputs": [
    {
     "data": {
      "text/latex": [
       "$\\displaystyle \\bar{r}{\\left(\\tau_{f} \\right)} = 6.31357929400275$"
      ],
      "text/plain": [
       "Eq(\\bar{r}(\\tau_f), 6.31357929400275)"
      ]
     },
     "metadata": {},
     "output_type": "display_data"
    },
    {
     "data": {
      "text/latex": [
       "$\\displaystyle \\bar{u}{\\left(\\tau_{f} \\right)} = -6.35350079493072 \\cdot 10^{-8}$"
      ],
      "text/plain": [
       "Eq(\\bar{u}(\\tau_f), -6.35350079493072e-8)"
      ]
     },
     "metadata": {},
     "output_type": "display_data"
    },
    {
     "data": {
      "text/latex": [
       "$\\displaystyle \\bar{v}{\\left(\\tau_{f} \\right)} = 0.397980829801359$"
      ],
      "text/plain": [
       "Eq(\\bar{v}(\\tau_f), 0.397980829801359)"
      ]
     },
     "metadata": {},
     "output_type": "display_data"
    },
    {
     "data": {
      "text/latex": [
       "$\\displaystyle \\bar{\\theta}{\\left(\\tau_{f} \\right)} = 100.151661230683$"
      ],
      "text/plain": [
       "Eq(\\bar{\\theta}(\\tau_f), 100.151661230683)"
      ]
     },
     "metadata": {},
     "output_type": "display_data"
    },
    {
     "data": {
      "image/png": "[encoded data removed]",
      "text/plain": [
       "<Figure size 640x480 with 1 Axes>"
      ]
     },
     "metadata": {},
     "output_type": "display_data"
    },
    {
     "data": {
      "image/png": "[encoded data removed]",
      "text/plain": [
       "<Figure size 640x480 with 1 Axes>"
      ]
     },
     "metadata": {},
     "output_type": "display_data"
    },
    {
     "data": {
      "image/png": "[encoded data removed]",
      "text/plain": [
       "<Figure size 640x480 with 1 Axes>"
      ]
     },
     "metadata": {},
     "output_type": "display_data"
    },
    {
     "data": {
      "image/png": "[encoded data removed]",
      "text/plain": [
       "<Figure size 640x480 with 1 Axes>"
      ]
     },
     "metadata": {},
     "output_type": "display_data"
    },
    {
     "name": "stderr",
     "output_type": "stream",
     "text": [
      "No artists with labels found to put in legend.  Note that artists whose label start with an underscore are ignored when legend() is called with no argument.\n"
     ]
    },
    {
     "data": {
      "image/png": "[encoded data removed]",
      "text/plain": [
       "<Figure size 640x480 with 1 Axes>"
      ]
     },
     "metadata": {},
     "output_type": "display_data"
    },
    {
     "data": {
      "text/latex": [
       "$\\displaystyle r{\\left(t \\right)} = 42162082.5253504$"
      ],
      "text/plain": [
       "Eq(r(t), 42162082.5253504)"
      ]
     },
     "metadata": {},
     "output_type": "display_data"
    },
    {
     "data": {
      "text/latex": [
       "$\\displaystyle \\text{False}$"
      ],
      "text/plain": [
       "False"
      ]
     },
     "metadata": {},
     "output_type": "display_data"
    },
    {
     "data": {
      "text/latex": [
       "$\\displaystyle v{\\left(t \\right)} = 3074.7360068188$"
      ],
      "text/plain": [
       "Eq(v(t), 3074.7360068188)"
      ]
     },
     "metadata": {},
     "output_type": "display_data"
    },
    {
     "data": {
      "text/latex": [
       "$\\displaystyle \\theta{\\left(t \\right)} = 100.151661230683$"
      ],
      "text/plain": [
       "Eq(\\theta(t), 100.151661230683)"
      ]
     },
     "metadata": {},
     "output_type": "display_data"
    },
    {
     "data": {
      "image/png": "[encoded data removed]",
      "text/plain": [
       "<Figure size 640x480 with 1 Axes>"
      ]
     },
     "metadata": {},
     "output_type": "display_data"
    }
   ],
   "source": [
    "solution = solve_ivp(odeIntEomCallback, [tArray[0], tArray[-1]], [r0, u0, v0, lon0, *fSolveSol[0][0:3]], args=tuple(fSolveSol[0][3:len(fSolveSol[0])]), t_eval=tArray, dense_output=True, method=\"LSODA\", rtol=1.49012e-8, atol=1.49012e-11)\n",
    "solutionDictionary = ScipyCallbackCreators.ConvertEitherIntegratorResultsToDictionary(problem.IntegrationSymbols, solution)\n",
    "unscaledResults = solutionDictionary\n",
    "unscaledTArray = tArray\n",
    "unscaledResults = problem.DescaleResults(solutionDictionary)\n",
    "if scaleTime:\n",
    "    unscaledTArray=tfOrg*tArray\n",
    "\n",
    "if scaleElements:    \n",
    "    finalState = GetValueFromStateDictionaryAtIndex(solutionDictionary, -1)\n",
    "    jh.showEquation(stateAtTf[0], finalState[problem.StateVariables[0]], False)\n",
    "    jh.showEquation(stateAtTf[1], finalState[problem.StateVariables[1]], False)\n",
    "    jh.showEquation(stateAtTf[2], finalState[problem.StateVariables[2]], False)\n",
    "    jh.showEquation(stateAtTf[3], (finalState[problem.StateVariables[3]]%(2*math.pi))*180.0/(2*math.pi), False)\n",
    "\n",
    "baseProblem.PlotSolution(tArray*tfOrg, unscaledResults, \"Test\")\n",
    "jh.showEquation(baseProblem.StateVariables[0].subs(problem.TimeSymbol, problem.TimeFinalSymbol), unscaledResults[baseProblem.StateVariables[0]][-1], False)\n",
    "jh.showEquation(baseProblem.StateVariables[1].subs(problem.TimeSymbol, problem.TimeFinalSymbol), unscaledResults[baseProblem.StateVariables[1]][-1], False)\n",
    "jh.showEquation(baseProblem.StateVariables[2].subs(problem.TimeSymbol, problem.TimeFinalSymbol), unscaledResults[baseProblem.StateVariables[2]][-1], False)\n",
    "jh.showEquation(baseProblem.StateVariables[3].subs(problem.TimeSymbol, problem.TimeFinalSymbol), (unscaledResults[baseProblem.StateVariables[3]][-1]%(2*math.pi))*180.0/(2*math.pi), False)\n",
    "\n",
    "[hamltVals, dhduValus, d2hdu2Valus] = problem.EvaluateHamiltonianAndItsFirstTwoDerivatives(solutionDictionary, tArray, hamiltonian, {problem.ControlVariables[0]: controlSolved}, {baseProblem.TimeFinalSymbol: tfOrg})\n",
    "plt.title(\"Hamlitonion and its derivatives\")\n",
    "plt.plot(tArray/86400, hamltVals, label=\"Hamiltonian\")\n",
    "plt.plot(tArray/86400, dhduValus, label=r'$\\frac{dH}{du}$')\n",
    "plt.plot(tArray/86400, d2hdu2Valus, label=r'$\\frac{d^2H}{du^2}$')\n",
    "\n",
    "plt.tight_layout()\n",
    "plt.grid(alpha=0.5)\n",
    "plt.legend(framealpha=1, shadow=True)\n",
    "plt.show()   "
   ]
  },
  {
   "cell_type": "markdown",
   "metadata": {},
   "source": [
    "The second derivative of the Hamiltonian is negative which satisfies the sufficient condition for a maximization problem.  The plots are also identical to the plots from Dr. Gusman's outputs.  All in all, we can be very confident that this solution is indeed an optimal one."
   ]
  },
  {
   "cell_type": "markdown",
   "metadata": {},
   "source": [
    "# Direct Method\n",
    "\n",
    "For the direct method, it will start similar to the previous one.  We have to make our problem class, register the constants, etc...  Note that compared to the indirect version, this routine has not been as well tested and refined."
   ]
  },
  {
   "cell_type": "code",
   "execution_count": 14,
   "metadata": {},
   "outputs": [],
   "source": [
    "import __init__\n",
    "import sys\n",
    "sys.path.append(\"..\") # treating this as a jupyter-like cell requires adding one directory up\n",
    "sys.path.append(\"../pyeq2orb\") # and this line is needed for running like a normal python script\n",
    "# these two appends do not conflict with eachother\n",
    "import math\n",
    "import sympy as sy\n",
    "import numpy as np\n",
    "import matplotlib.pyplot as plt\n",
    "from collections import OrderedDict\n",
    "\n",
    "# to get pyomo to work on windows, must also install this library:\n",
    "# conda install -c conda-forge pynumero_libraries\n",
    "\n",
    "from pyeq2orb.SymbolicOptimizerProblem import SymbolicProblem\n",
    "from pyeq2orb.ScaledSymbolicProblem import ScaledSymbolicProblem\n",
    "from pyeq2orb.Problems.ContinuousThrustCircularOrbitTransfer import ContinuousThrustCircularOrbitTransferProblem\n",
    "from pyeq2orb.Numerical import ScipyCallbackCreators\n",
    "import scipyPaperPrinter as jh\n",
    "import pyomo.environ as poenv\n",
    "import pyomo.dae as podae\n",
    "from matplotlib.figure import Figure\n",
    "from pyeq2orb.NumericalProblemFromSymbolic import NumericalProblemFromSymbolicProblem\n",
    "\n",
    "# constants\n",
    "g = 9.80665\n",
    "mu = 3.986004418e14  \n",
    "thrust = 20.0\n",
    "isp = 6000.0\n",
    "m0 = 1500.0\n",
    "\n",
    "# initial values\n",
    "r0 = 6678000.0\n",
    "u0 = 0.0\n",
    "v0 = sy.sqrt(mu/r0) # circular\n",
    "lon0 = 0.0\n",
    "# I know from many previous runs that this is the time needed to go from LEO to GEO.\n",
    "# However, below works well wrapped in another fsolve to control the final time for a desired radius.\n",
    "tfVal  = 3600*3.97152*24\n",
    "tfOrg = tfVal\n",
    "\n",
    "# these are options to switch to try different things\n",
    "scale = True\n",
    "scaleTime = True\n",
    "\n",
    "baseProblem = ContinuousThrustCircularOrbitTransferProblem()\n",
    "initialStateValues = baseProblem.CreateVariablesAtTime0(baseProblem.StateVariables)\n",
    "problem = baseProblem\n",
    "\n",
    "if scale :\n",
    "    newSvs = ScaledSymbolicProblem.CreateBarVariables(problem.StateVariables, problem.TimeSymbol) \n",
    "    problem = ScaledSymbolicProblem(baseProblem, newSvs, {problem.StateVariables[0]: initialStateValues[0], \n",
    "                                                          problem.StateVariables[1]: initialStateValues[2], \n",
    "                                                          problem.StateVariables[2]: initialStateValues[2], \n",
    "                                                          problem.StateVariables[3]: 1.0} , scaleTime)\n",
    "rs = problem.StateVariables[0]\n",
    "us = problem.StateVariables[1]\n",
    "vs = problem.StateVariables[2]\n",
    "lons = problem.StateVariables[3]\n",
    "\n",
    "jh.t = problem._timeSymbol\n",
    "\n",
    "# register constants\n",
    "constantsSubsDict = problem.SubstitutionDictionary\n",
    "constantsSubsDict[baseProblem.Isp] = isp\n",
    "constantsSubsDict[baseProblem.MassInitial] = m0\n",
    "constantsSubsDict[baseProblem.Gravity] = g\n",
    "constantsSubsDict[baseProblem.Mu]= mu\n",
    "constantsSubsDict[baseProblem.Thrust] = thrust\n",
    "\n",
    "# register initial state values\n",
    "constantsSubsDict.update(zip(initialStateValues, [r0, u0, v0, lon0]))\n",
    "if scale :\n",
    "    # and reset the real initial values using tau_0 instead of time\n",
    "    initialValuesAtTau0 = SymbolicProblem.SafeSubs(initialStateValues, {baseProblem.TimeInitialSymbol: problem.TimeInitialSymbol})\n",
    "    constantsSubsDict.update(zip(initialValuesAtTau0, [r0, u0, v0, lon0]))\n",
    "\n",
    "    r0= r0/r0\n",
    "    u0=u0/v0\n",
    "    v0=v0/v0\n",
    "    lon0=lon0/1.0\n",
    "    # add the scaled initial values (at tau_0).  We should NOT need to add these at t_0\n",
    "    initialScaledStateValues = problem.CreateVariablesAtTime0(problem.StateVariables)\n",
    "    constantsSubsDict.update(zip(initialScaledStateValues, [r0, u0, v0, lon0])) "
   ]
  },
  {
   "cell_type": "code",
   "execution_count": 15,
   "metadata": {},
   "outputs": [
    {
     "data": {
      "text/markdown": [
       "Now we start setting up our pyomo problem. There is a wrapper class that takes a symbolic problem and turns it into a numerical problem.  It is still a prototype, but this kind of wrapping is I think the way to go."
      ],
      "text/plain": [
       "<IPython.core.display.Markdown object>"
      ]
     },
     "metadata": {},
     "output_type": "display_data"
    },
    {
     "data": {
      "text/markdown": [
       "And here is where we start setting up pyomo. In terms of using pyomo, this is all pretty standard so far..."
      ],
      "text/plain": [
       "<IPython.core.display.Markdown object>"
      ]
     },
     "metadata": {},
     "output_type": "display_data"
    }
   ],
   "source": [
    "jh.printMarkdown(\"Now we start setting up our pyomo problem. There is a wrapper class that takes a symbolic problem and turns it into a numerical problem.  It is still a prototype, but this kind of wrapping is I think the way to go.\")\n",
    "\n",
    "lambdiafyFunctionMap = {'sqrt': poenv.sqrt, 'sin': poenv.sin, 'cos':poenv.cos} #TODO: MOOOORE!!!!\n",
    "asNumericalProblem = NumericalProblemFromSymbolicProblem(problem, lambdiafyFunctionMap)\n",
    "\n",
    "n=200\n",
    "tSpace = np.linspace(0.0, 1.0, n)\n",
    "\n",
    "jh.printMarkdown(\"And here is where we start setting up pyomo. In terms of using pyomo, this is all pretty standard so far...\")\n",
    "model = poenv.ConcreteModel()\n",
    "model.t = podae.ContinuousSet(initialize=tSpace, domain=poenv.NonNegativeReals)\n",
    "\n",
    "velBound = float(1.5*abs(v0))\n",
    "model.r = poenv.Var(model.t, bounds=(0.9, 8.0), initialize=float(r0))\n",
    "model.u = poenv.Var(model.t, bounds=(-1.0*velBound, velBound), initialize=float(u0))\n",
    "model.v = poenv.Var(model.t, bounds=(-1.0*velBound, velBound), initialize=float(v0))\n",
    "model.lon = poenv.Var(model.t, bounds=(lon0, 29.0*2.0*math.pi), initialize=float(lon0))\n",
    "model.control = poenv.Var(model.t, bounds=(-1.0*math.pi/2.2, math.pi/2.2))\n",
    "model.tf = poenv.Var(bounds=(tfOrg-2, tfOrg+2), initialize=float(tfOrg))\n",
    "\n",
    "model.r[0].fix(float(r0))\n",
    "model.u[0].fix(float(u0))\n",
    "model.v[0].fix(float(v0))\n",
    "model.lon[0].fix(float(lon0))\n",
    "\n",
    "model.rDot = podae.DerivativeVar(model.r, wrt=model.t)\n",
    "model.uDot = podae.DerivativeVar(model.u, wrt=model.t)\n",
    "model.vDot = podae.DerivativeVar(model.v, wrt=model.t)\n",
    "model.lonDot = podae.DerivativeVar(model.lon, wrt=model.t)"
   ]
  },
  {
   "cell_type": "code",
   "execution_count": 16,
   "metadata": {},
   "outputs": [
    {
     "data": {
      "text/markdown": [
       "Here, we create a helper function to map the state that pyomo can give to the callbacks and functions that the numerical problem type provides."
      ],
      "text/plain": [
       "<IPython.core.display.Markdown object>"
      ]
     },
     "metadata": {},
     "output_type": "display_data"
    },
    {
     "data": {
      "text/markdown": [
       "With this, we can set up our equations of motions, our terminal constraints, and the objective function."
      ],
      "text/plain": [
       "<IPython.core.display.Markdown object>"
      ]
     },
     "metadata": {},
     "output_type": "display_data"
    }
   ],
   "source": [
    "jh.printMarkdown(\"Here, we create a helper function to map the state that pyomo can give to the callbacks and functions that the numerical problem type provides.\")\n",
    "\n",
    "def mapPyomoStateToProblemState(m, t, callableExpression) :\n",
    "    return callableExpression([t, m.r[t], m.u[t], m.v[t], m.lon[t], m.control[t], m.tf])\n",
    "\n",
    "jh.printMarkdown(\"With this, we can set up our equations of motions, our terminal constraints, and the objective function.\")\n",
    "\n",
    "model.rEom = poenv.Constraint(model.t, rule =lambda m, t2: m.rDot[t2] == mapPyomoStateToProblemState(m, t2, lambda state : asNumericalProblem.SingleEquationOfMotionWithTInState(state, 0)))\n",
    "model.uEom = poenv.Constraint(model.t, rule =lambda m, t2: m.uDot[t2] == mapPyomoStateToProblemState(m, t2, lambda state : asNumericalProblem.SingleEquationOfMotionWithTInState(state, 1)))\n",
    "model.vEom = poenv.Constraint(model.t, rule =lambda m, t2: m.vDot[t2] == mapPyomoStateToProblemState(m, t2, lambda state : asNumericalProblem.SingleEquationOfMotionWithTInState(state, 2)))\n",
    "model.lonEom = poenv.Constraint(model.t, rule =lambda m, t2: m.lonDot[t2] == mapPyomoStateToProblemState(m, t2, lambda state : asNumericalProblem.SingleEquationOfMotionWithTInState(state, 3)))\n",
    "\n",
    "model.bc1 = poenv.Constraint(rule = lambda mod1 : 0 == mapPyomoStateToProblemState(mod1, 1.0, asNumericalProblem.BoundaryConditionCallbacks[0]))\n",
    "model.bc2 = poenv.Constraint(rule = lambda mod1 : 0 == mapPyomoStateToProblemState(mod1, 1.0, asNumericalProblem.BoundaryConditionCallbacks[1]))\n",
    "\n",
    "def singlePyomoArrayToTerminalCostCallback(m, t, expr) :\n",
    "    return expr(m.tf, [t, m.r[t], m.u[t], m.v[t], m.lon[t], m.control[t]])\n",
    "finalRadiusCallback = lambda m : singlePyomoArrayToTerminalCostCallback(m, 1.0, asNumericalProblem.TerminalCost)\n",
    "model.radiusObjective = poenv.Objective(expr = finalRadiusCallback, sense=poenv.maximize)"
   ]
  },
  {
   "cell_type": "code",
   "execution_count": 17,
   "metadata": {},
   "outputs": [
    {
     "data": {
      "text/markdown": [
       "Next, we setup our initial values and run a simulation to get an initial guess for the problem."
      ],
      "text/plain": [
       "<IPython.core.display.Markdown object>"
      ]
     },
     "metadata": {},
     "output_type": "display_data"
    }
   ],
   "source": [
    "jh.printMarkdown(\"Next, we setup our initial values and run a simulation to get an initial guess for the problem.\")\n",
    "\n",
    "model.var_input = poenv.Suffix(direction=poenv.Suffix.LOCAL)\n",
    "model.var_input[model.control] = {0: 0.03}\n",
    "model.var_input[model.tf] = {0: tfOrg}\n",
    "\n",
    "sim = podae.Simulator(model, package='scipy') \n",
    "tsim, profiles = sim.simulate(numpoints=n, varying_inputs=model.var_input, integrator='dop853', initcon=np.array([r0,u0, v0, lon0], dtype=float))"
   ]
  },
  {
   "cell_type": "code",
   "execution_count": 18,
   "metadata": {},
   "outputs": [
    {
     "data": {
      "text/markdown": [
       "Simulating the problem is required before solving it.  One thing I am planning to look into is initializing a problem if it is simulated in some other way (such as from the results of an indirect solver).  But now we can solve it.  IPOPT is, as far as I know, the best solver I have access to that can solve this kind of nonlinear programming problem."
      ],
      "text/plain": [
       "<IPython.core.display.Markdown object>"
      ]
     },
     "metadata": {},
     "output_type": "display_data"
    },
    {
     "name": "stdout",
     "output_type": "stream",
     "text": [
      "\n",
      "******************************************************************************\n",
      "This program contains Ipopt, a library for large-scale nonlinear optimization.\n",
      " Ipopt is released as open source code under the Eclipse Public License (EPL).\n",
      "         For more information visit https://github.com/coin-or/Ipopt\n",
      "******************************************************************************\n",
      "\n",
      "This is Ipopt version 3.14.10, running with linear solver MUMPS 5.2.1.\n",
      "\n",
      "Number of nonzeros in equality constraint Jacobian...:    22800\n",
      "Number of nonzeros in inequality constraint Jacobian.:        0\n",
      "Number of nonzeros in Lagrangian Hessian.............:     6603\n",
      "\n",
      "Total number of variables............................:     5406\n",
      "                     variables with only lower bounds:        0\n",
      "                variables with lower and upper bounds:     3002\n",
      "                     variables with only upper bounds:        0\n",
      "Total number of equality constraints.................:     4806\n",
      "Total number of inequality constraints...............:        0\n",
      "        inequality constraints with only lower bounds:        0\n",
      "   inequality constraints with lower and upper bounds:        0\n",
      "        inequality constraints with only upper bounds:        0\n",
      "\n",
      "iter    objective    inf_pr   inf_du lg(mu)  ||d||  lg(rg) alpha_du alpha_pr  ls\n",
      "   0 -6.6118421e+00 3.97e+02 3.01e-04  -1.0 0.00e+00    -  0.00e+00 0.00e+00   0\n",
      "   1 -6.8183491e+00 3.71e+01 3.67e+01  -1.0 3.97e+02    -  4.90e-01 9.07e-01h  1\n",
      "   2 -6.8190337e+00 3.49e+01 2.06e+04  -1.0 3.71e+01   2.0 4.17e-03 5.89e-02h  1\n",
      "   3 -6.8122667e+00 1.95e+01 3.40e+04  -1.0 3.58e+01   1.5 2.40e-03 4.40e-01h  1\n",
      "   4 -6.8127989e+00 1.46e+01 1.44e+05  -1.0 1.96e+01   2.9 3.26e-03 2.53e-01h  1\n",
      "   5 -6.7806599e+00 8.83e+00 1.57e+05  -1.0 1.58e+01   2.4 2.92e-03 3.94e-01h  1\n",
      "   6 -6.7164966e+00 5.35e+00 1.59e+05  -1.0 1.40e+01   1.9 4.06e-03 3.94e-01h  1\n",
      "   7 -6.6544965e+00 2.26e+00 1.97e+05  -1.0 2.11e+01   1.4 2.44e-01 5.87e-01h  1\n",
      "   8 -6.6348208e+00 2.17e+00 1.45e+05  -1.0 1.75e+01   0.9 3.19e-03 4.71e-01h  1\n",
      "   9 -6.6069148e+00 2.50e+00 1.41e+05  -1.0 1.33e+01   0.5 3.83e-01 4.92e-01h  1\n",
      "iter    objective    inf_pr   inf_du lg(mu)  ||d||  lg(rg) alpha_du alpha_pr  ls\n",
      "  10 -6.5015270e+00 1.17e+00 9.20e+04  -1.0 1.33e+01  -0.0 2.91e-01 1.00e+00h  1\n",
      "  11 -6.4800505e+00 2.17e+00 4.21e+04  -1.0 5.09e+00   1.3 1.62e-01 5.41e-01f  1\n",
      "  12 -6.4791471e+00 2.17e+00 4.20e+04  -1.0 2.07e+01    -  2.75e-01 2.61e-03h  1\n",
      "  13 -6.4473843e+00 1.90e+00 3.68e+04  -1.0 1.38e+01    -  9.74e-01 1.25e-01h  4\n",
      "  14 -6.4014689e+00 1.42e+00 2.76e+04  -1.0 1.09e+01    -  1.00e+00 2.50e-01h  3\n",
      "  15 -6.3439115e+00 6.52e-01 1.24e+04  -1.0 6.45e+00    -  5.73e-01 5.44e-01h  1\n",
      "  16 -6.2848454e+00 1.00e-01 3.26e+03  -1.0 2.48e+00    -  5.64e-02 1.00e+00f  1\n",
      "  17 -6.2823522e+00 1.03e-02 1.26e+01  -1.0 2.03e-01   1.7 1.00e+00 1.00e+00h  1\n",
      "  18 -6.2777294e+00 6.26e-04 1.10e+02  -1.0 4.98e-01    -  1.00e+00 1.00e+00h  1\n",
      "  19 -6.2778057e+00 2.07e-06 4.63e-02  -1.0 2.66e-03   1.3 1.00e+00 1.00e+00h  1\n",
      "iter    objective    inf_pr   inf_du lg(mu)  ||d||  lg(rg) alpha_du alpha_pr  ls\n",
      "  20 -6.2778331e+00 8.02e-08 3.66e-03  -2.5 6.02e-04   0.8 1.00e+00 1.00e+00h  1\n",
      "  21 -6.3804835e+00 3.95e-01 1.48e-01  -3.8 1.27e+01    -  3.81e-01 4.90e-01f  1\n",
      "  22 -6.3591058e+00 1.52e-01 5.45e-02  -3.8 3.39e+00    -  3.68e-01 1.00e+00h  1\n",
      "  23 -6.3225970e+00 4.33e-01 5.46e-03  -3.8 1.91e+00    -  1.00e+00 1.00e+00h  1\n",
      "  24 -6.3151321e+00 8.16e-02 9.36e-04  -3.8 5.15e-01    -  1.00e+00 1.00e+00h  1\n",
      "  25 -6.3134381e+00 3.01e-04 6.36e-06  -3.8 9.38e-02    -  1.00e+00 1.00e+00h  1\n",
      "  26 -6.3134969e+00 1.77e-04 2.23e-04  -5.7 5.02e-01    -  8.48e-01 1.00e+00h  1\n",
      "  27 -6.3135160e+00 1.01e-06 2.03e-08  -5.7 8.59e-01    -  1.00e+00 1.00e+00h  1\n",
      "  28 -6.3135172e+00 4.39e-08 9.68e-08  -8.6 2.55e-02    -  9.95e-01 1.00e+00h  1\n",
      "  29 -6.3135173e+00 8.51e-11 2.76e-14  -8.6 2.98e-04    -  1.00e+00 1.00e+00h  1\n",
      "\n",
      "Number of Iterations....: 29\n",
      "\n",
      "                                   (scaled)                 (unscaled)\n",
      "Objective...............:  -6.3135172504719632e+00   -6.3135172504719632e+00\n",
      "Dual infeasibility......:   2.7559578206891683e-14    2.7559578206891683e-14\n",
      "Constraint violation....:   5.6787004204257060e-12    8.5115914316702401e-11\n",
      "Variable bound violation:   5.0826289225369692e-05    5.0826289225369692e-05\n",
      "Complementarity.........:   2.5060904981896947e-09    2.5060904981896947e-09\n",
      "Overall NLP error.......:   2.5060904981896947e-09    2.5060904981896947e-09\n",
      "\n",
      "\n",
      "Number of objective function evaluations             = 38\n",
      "Number of objective gradient evaluations             = 30\n",
      "Number of equality constraint evaluations            = 38\n",
      "Number of inequality constraint evaluations          = 0\n",
      "Number of equality constraint Jacobian evaluations   = 30\n",
      "Number of inequality constraint Jacobian evaluations = 0\n",
      "Number of Lagrangian Hessian evaluations             = 29\n",
      "Total seconds in IPOPT                               = 1.111\n",
      "\n",
      "EXIT: Optimal Solution Found.\n",
      "WARNING (W1002): Setting Var 'tf' to a numeric value `343141.32805082627`\n",
      "    outside the bounds (343137.328, 343141.328).\n",
      "    See also https://pyomo.readthedocs.io/en/stable/errors.html#w1002\n"
     ]
    },
    {
     "data": {
      "text/plain": [
       "{'Problem': [{'Name': 'unknown', 'Lower bound': -6.313517250471963, 'Upper bound': inf, 'Number of objectives': 1, 'Number of constraints': 4806, 'Number of variables': 5406, 'Number of binary variables': 0, 'Number of integer variables': 0, 'Number of continuous variables': 5406, 'Sense': 'maximize'}], 'Solver': [{'Name': 'cyipopt', 'Status': 'ok', 'Return code': 0, 'Message': b'Algorithm terminated successfully at a locally optimal point, satisfying the convergence tolerances (can be specified by options).', 'Wallclock time': 1.2639545000000005, 'Termination condition': 'optimal'}]}"
      ]
     },
     "execution_count": 18,
     "metadata": {},
     "output_type": "execute_result"
    }
   ],
   "source": [
    "jh.printMarkdown(\"Simulating the problem is required before solving it.  One thing I am planning to look into is initializing a problem if it is simulated in some other way (such as from the results of an indirect solver).  But now we can solve it.  IPOPT is, as far as I know, the best solver I have access to that can solve this kind of nonlinear programming problem.\")\n",
    "\n",
    "poenv.TransformationFactory('dae.collocation').apply_to(model, wrt=model.t, nfe=n,ncp=3, scheme='LAGRANGE-RADAU')\n",
    "sim.initialize_model()\n",
    "solver = poenv.SolverFactory('cyipopt')\n",
    "solver.solve(model, tee=True)"
   ]
  },
  {
   "cell_type": "code",
   "execution_count": 19,
   "metadata": {},
   "outputs": [
    {
     "data": {
      "text/markdown": [
       "With our solution, we can plot it as well as inspect the final variables."
      ],
      "text/plain": [
       "<IPython.core.display.Markdown object>"
      ]
     },
     "metadata": {},
     "output_type": "display_data"
    },
    {
     "name": "stdout",
     "output_type": "stream",
     "text": [
      "control 0 = 0.0\n"
     ]
    },
    {
     "data": {
      "image/png": "[encoded data removed]",
      "text/plain": [
       "<Figure size 640x480 with 1 Axes>"
      ]
     },
     "metadata": {},
     "output_type": "display_data"
    },
    {
     "data": {
      "image/png": "[encoded data removed]",
      "text/plain": [
       "<Figure size 640x480 with 1 Axes>"
      ]
     },
     "metadata": {},
     "output_type": "display_data"
    },
    {
     "data": {
      "image/png": "[encoded data removed]",
      "text/plain": [
       "<Figure size 640x480 with 1 Axes>"
      ]
     },
     "metadata": {},
     "output_type": "display_data"
    },
    {
     "name": "stdout",
     "output_type": "stream",
     "text": [
      "Tf = 3.9715431487364152\n"
     ]
    },
    {
     "data": {
      "text/latex": [
       "$\\displaystyle r_{f} = 42161668.1986518$"
      ],
      "text/plain": [
       "Eq(r_f, 42161668.1986518)"
      ]
     },
     "metadata": {},
     "output_type": "display_data"
    },
    {
     "data": {
      "text/latex": [
       "$\\displaystyle u_{f} = 4.1857978212665 \\cdot 10^{-27}$"
      ],
      "text/plain": [
       "Eq(u_f, 4.1857978212665e-27)"
      ]
     },
     "metadata": {},
     "output_type": "display_data"
    },
    {
     "data": {
      "text/latex": [
       "$\\displaystyle v_{f} = 3074.75130699521$"
      ],
      "text/plain": [
       "Eq(v_f, 3074.75130699521)"
      ]
     },
     "metadata": {},
     "output_type": "display_data"
    },
    {
     "data": {
      "application/vnd.plotly.v1+json": {
       "config": {
        "plotlyServerURL": "https://plot.ly"
       },
       "data": [
        {
         "hovertemplate": "x=%{x}<br>y=%{y}<br>z=%{z}<extra></extra>",
         "legendgroup": "",
         "line": {
          "color": "#636efa",
          "dash": "solid"
         },
         "marker": {
          "symbol": "circle"
         },
         "mode": "lines",
         "name": "",
         "scene": "scene",
         "showlegend": false,
         "type": "scatter3d",
         "x": [
          6678000,
          6360779.24705998,
          1870786.4550882843,
          -2752926.3273069137,
          -4481118.414748093,
          -6691893.539245919,
          -4608249.044660068,
          -2926771.812381309,
          3292257.094971452,
          6326655.723345644,
          6785398.001068252,
          4372561.652834441,
          64236.03150839832,
          -1955150.6829490736,
          -6473525.0583875775,
          -6494006.991815758,
          -5555706.966430664,
          -63644.394982308324,
          4252479.885392726,
          5651241.876806699,
          6625306.280070529,
          3918467.3392666653,
          2104999.965967371,
          -4001562.08020547,
          -6694521.597157793,
          -7016548.040317277,
          -4425793.542816664,
          -194356.88453989898,
          1792046.5769924812,
          6468681.955880159,
          6902120.861317464,
          6180779.679849346,
          1175523.6835938958,
          -3279175.238316471,
          -4909382.8945358135,
          -7154471.388528895,
          -5485891.605245637,
          -4013846.513012208,
          1988140.1449686708,
          5699109.609441329,
          6694688.569141235,
          6435121.020672317,
          3267440.5652998947,
          1400498.2245175831,
          -4501636.5741679445,
          -7020321.791880286,
          -7329255.551703506,
          -4973276.629819965,
          -964727.0376158059,
          993458.287380529,
          6119417.29278025,
          7402739.1204071995,
          7126273.164894865,
          3289958.2799909515,
          -1068883.4730257837,
          -2948395.015005968,
          -7064494.727329641,
          -7270872.580872454,
          -6551269.364904991,
          -1807146.1097212646,
          2570212.7435471113,
          4293535.325411103,
          7483281.656484352,
          6901344.016028469,
          5885705.526729424,
          629584.6781394156,
          -3644021.1233550333,
          -5213154.01452634,
          -7687433.005374343,
          -6604240.227450312,
          -5425203.900133465,
          41820.40940257469,
          4199729.280582467,
          5670211.94522725,
          7766237.924031122,
          6452385.781406965,
          5872782.655218245,
          3509965.1092782975,
          1448646.9960257427,
          503099.3623820904,
          -2468420.192350569,
          -4422366.553213793,
          -5857675.51012654,
          -7891161.056872526,
          -6614523.989646576,
          -5399832.8093615165,
          40959.432683336374,
          4164233.7613106617,
          5648030.330084022,
          7969554.503655279,
          6965026.842129183,
          5861654.967493098,
          636697.1785854292,
          -3547814.3953404315,
          -5129216.270315797,
          -8015605.045349944,
          -7553538.011038158,
          -6676563.875634786,
          -1914598.3001778563,
          2317669.7133937934,
          4036273.6066796,
          7739732.752412354,
          8056047.061975031,
          7508673.192924074,
          3507097.419485353,
          -621951.0943209667,
          -2441112.7359865108,
          -7016782.046996274,
          -8333619.158310645,
          -8252028.759880182,
          -5494276.558461181,
          -1761628.7248094259,
          68777.230936168,
          5428395.627426563,
          7861389.990646216,
          8339181.261121047,
          7269740.380263954,
          4350630.3009381965,
          2696045.1265741014,
          -2962863.978323837,
          -6392404.456797589,
          -7462329.436410107,
          -8523361.705889234,
          -6970906.4008778585,
          -5757559.345523976,
          -567050.035814088,
          3492407.717117877,
          5068900.80490744,
          8340435.000374621,
          8557016.950132733,
          8043543.033948069,
          4361505.4014420565,
          454975.5430942066,
          -1335794.4158346981,
          -6309595.422313293,
          -8444282.747947581,
          -8836694.872091886,
          -7750819.22187298,
          -5003637.617428091,
          -3435095.1825761357,
          2103104.2122225035,
          5734684.220965381,
          6990081.2663826505,
          8986007.72022072,
          8300694.088165766,
          7459598.95727408,
          3141046.615607585,
          -830391.1767382859,
          -2561990.729526014,
          -7140246.001623506,
          -8938952.543838745,
          -9205913.708620325,
          -7885377.720726564,
          -5127536.954119814,
          -3583670.2065063794,
          1860332.4074041657,
          5513306.077019689,
          6824377.221112567,
          9213153.1928235,
          8981275.63652353,
          8358156.972964855,
          4656575.461214295,
          909277.9916729796,
          -819206.6284665441,
          -5846264.133286652,
          -8400712.61011258,
          -9089477.70692839,
          -9284073.429507764,
          -7563279.713996143,
          -6389052.019519286,
          -1538472.170092113,
          2382509.4450031407,
          4009459.475789674,
          8096012.4490750255,
          9542800.259655586,
          9692205.907784915,
          8219625.529539055,
          5554093.098156179,
          4084654.8958752947,
          -1138564.7592106299,
          -4814441.900259274,
          -6222374.152618747,
          -9334177.142949903,
          -9977140.630114948,
          -9790827.563375624,
          -7436197.086837345,
          -4367650.197582606,
          -2792488.901586077,
          2489400.5680353544,
          5972476.47326789,
          7246424.236173343,
          9806797.545300031,
          10011873.18652036,
          9647655.507338334,
          6865742.760733022,
          3659483.3496019184,
          2071652.660836171,
          -3103847.3570900913,
          -6445038.1930796215,
          -7661215.342513154,
          -10124459.371007137,
          -10368430.136618806,
          -10047810.197927043,
          -7459304.716164424,
          -4383674.650920977,
          -2834053.631110716,
          2340908.842948435,
          5811076.216866723,
          7116957.446197683,
          9973800.874339348,
          10577831.539545557,
          10425276.911228377,
          8369275.677926652,
          5629643.567111437,
          4197739.626962109,
          -792853.958236457,
          -4372640.830605208,
          -5802553.361580427,
          -9361442.827571057,
          -10724049.373541968,
          -10945334.431296844,
          -10101556.267912135,
          -8123141.851953641,
          -6955487.696454323,
          -2413621.5895930147,
          1264400.2803690583,
          2852080.0786507674,
          7321496.904199973,
          9651636.163312443,
          10348725.359087799,
          11092958.744756073,
          10219298.112118874,
          9488875.511204442,
          6023768.380842657,
          2729739.4630384035,
          1182407.7260508293,
          -3720280.8735792334,
          -6898543.465557542,
          -8094093.797659265,
          -10805994.86404077,
          -11566873.972864324,
          -11553687.377540499,
          -10146959.69362197,
          -7954859.461772762,
          -6743512.235147046,
          -2217315.0385817327,
          1369589.1254239993,
          2916797.9717123066,
          7336338.785048653,
          9765384.835609999,
          10551528.562637374,
          11763345.174764236,
          11373590.209829165,
          10877275.130448379,
          8153657.456911045,
          5302371.748480196,
          3897725.0890441197,
          -847044.8766009688,
          -4253249.87832357,
          -5648945.356663431,
          -9395224.754537532,
          -11248389.241761822,
          -11783302.696927331,
          -12273437.470999852,
          -11470405.897903202,
          -10827573.164346814,
          -7771855.635582392,
          -4789082.629797727,
          -3350451.4669808825,
          1428977.9228411233,
          4805941.943614829,
          6178087.260405677,
          9819733.668871854,
          11583192.170012336,
          12080211.747219209,
          12478946.571935214,
          11657673.8437313,
          11023884.171157388,
          8069804.075511787,
          5217073.163356538,
          3842960.255017379,
          -747783.9886022109,
          -4056265.9349175673,
          -5430491.023579301,
          -9251995.353723869,
          -11333896.308316208,
          -12019941.60874442,
          -13185240.207164075,
          -13026798.328472134,
          -12692324.784846034,
          -10637619.45599509,
          -8314100.174146925,
          -7120135.697607007,
          -2840317.7108623236,
          516245.1151281065,
          1986087.5046660593,
          6393132.736912609,
          9137489.86062826,
          10164846.873511674,
          12564180.466694674,
          13394653.11246063,
          13502542.786720779,
          12828693.525740825,
          11431589.080542563,
          10606863.09775974,
          7288613.383306771,
          4372638.147681228,
          3012564.242268236,
          -1427342.3541185015,
          -4587855.265465139,
          -5903782.188930494,
          -9625782.405587073,
          -11761490.828800628,
          -12512984.04266072,
          -14067467.532963332,
          -14358942.54008657,
          -14259332.675071988,
          -13054619.81014435,
          -11389667.193478877,
          -10475795.977356393,
          -6966987.546278672,
          -3980165.704767856,
          -2601951.1781208054,
          1860041.3952019135,
          5013304.310431183,
          6322130.669848452,
          10012674.767811852,
          12123754.811798315,
          12866271.34763034,
          14410928.034371281,
          14725308.07574461,
          14646937.633937398,
          13565097.453649582,
          12046387.04805038,
          11210907.282808319,
          7995028.839287003,
          5239774.518895805,
          3959537.5604169145,
          -246582.03930077373,
          -3308534.26788157,
          -4613272.24991224,
          -8471180.838911183,
          -10899327.988609627,
          -11835106.339777883,
          -14203099.179434659,
          -15293132.553421732,
          -15590970.784394285,
          -15793142.069651136,
          -15235304.399548234,
          -14810392.82644993,
          -12787037.277718954,
          -10737349.152400618,
          -9709545.257752627,
          -6036067.486811161,
          -3082520.2855624044,
          -1748042.126551676,
          2511689.882863387,
          5510754.974063611,
          6764077.169176374,
          10376362.400257057,
          12561320.409917846,
          13378022.041230362,
          15338729.126746656,
          16125974.50639439,
          16295735.040436722,
          16134675.20232961,
          15374305.16367741,
          14881760.572430512,
          12740641.548542334,
          10700394.632584669,
          9700795.781669382,
          6198732.818847108,
          3424746.5444956804,
          2175683.4452218097,
          -1822809.7438892506,
          -4678633.578296832,
          -5891368.609279652,
          -9498640.08800213,
          -11824104.997976044,
          -12745273.82265835,
          -15216558.818320723,
          -16541555.0070417,
          -16986797.323429544,
          -17831886.091026634,
          -17895680.71447701,
          -17777567.197808247,
          -16830138.707739238,
          -15619183.273655923,
          -14960315.192839012,
          -12404820.425885532,
          -10157259.695488574,
          -9087905.537901387,
          -5433086.548252757,
          -2599819.9661788936,
          -1335334.8624440958,
          2680252.1587405936,
          5525834.747709623,
          6729852.0257763285,
          10298428.03002012,
          12590544.06788722,
          13497279.46625813,
          15930408.223268017,
          17242379.607823048,
          17687997.869902134,
          18567913.974421255,
          18697556.40167928,
          18621006.05919736,
          17862557.83587295,
          16846335.118321914,
          16287765.804364137,
          14105548.340533216,
          12172370.942184085,
          11248275.700805286,
          8064626.738082618,
          5561096.758996892,
          4430693.455453565,
          769499.0044065365,
          -1914097.343351986,
          -3079792.622881761,
          -6683647.706848369,
          -9171267.647623112,
          -10212601.1288981,
          -13277972.888636518,
          -15247226.400168678,
          -16031330.032239057,
          -18173443.398659155,
          -19381652.542227134,
          -19812779.432218254,
          -20772396.48350635,
          -21074736.259965368,
          -21101434.363150433,
          -20764447.156842798,
          -20125169.979381878,
          -19744370.091879822,
          -18151361.08516749,
          -16647363.158985572,
          -15904981.228781223,
          -13248933.438586019,
          -11063626.359588105,
          -10050571.511344578,
          -6658440.057981238,
          -4062391.3011223604,
          -2904432.718679176,
          801763.514929237,
          3485479.7184395986,
          4644453.78420625,
          8206253.226386014,
          10648933.361964421,
          11668204.732315782,
          14659587.540081806,
          16576576.857130157,
          17339742.686169457,
          19429805.97093856,
          20620303.59671805,
          21050785.58326444,
          22044025.41532269,
          22411264.68692267,
          22478639.670444362,
          22325078.61904663,
          21874746.373547785,
          21591891.83892004,
          20370473.520367064,
          19192639.102364656,
          18606577.204563282,
          16492531.455153689,
          14735672.187703773,
          13915909.903424773,
          11143681.396049809,
          8988401.703340182,
          8015787.577145036,
          4845689.77653549,
          2482676.649448055,
          1440399.4808929998,
          -1867199.8772047067,
          -4253346.881745769,
          -5286154.491263456,
          -8488470.205648549,
          -10729688.807297787,
          -11681940.573011784,
          -14564272.899863927,
          -16514912.61439735,
          -17325753.664173707,
          -19707254.68707797,
          -21247555.28040569,
          -21867783.725771427,
          -23605859.84170462,
          -24645121.398841,
          -25038565.400564454,
          -26033009.522956107,
          -26512225.985842265,
          -26656762.51315293,
          -26852381.778641913,
          -26745618.62242388,
          -26633649.633166976,
          -26021362.100532014,
          -25336216.495683763,
          -24974790.69112026,
          -23591690.96556425,
          -22368995.119504865,
          -21779572.251438707,
          -19707677.512630124,
          -18020011.02005371,
          -17237633.371331424,
          -14600445.193953242,
          -12548767.164129265,
          -11620334.724432696,
          -8576298.731777076,
          -6284121.567808167,
          -5265553.864499047,
          -1997919.2656392434,
          397116.0855748283,
          1444824.8027137863,
          4741421.9250116525,
          7098027.969438481,
          8113540.765180083,
          11248433.784135757,
          13432959.200147614,
          14359500.328753997,
          17161128.742352623,
          19057938.589440323,
          19847607.899353422,
          22176042.1084337,
          23695355.737656973,
          24312182.685146075,
          26067173.15716453,
          27149308.89584936,
          27570678.02257345,
          28694458.59797296,
          29310305.92980145,
          29526773.601230368,
          30002048.345509917,
          30150387.401806016,
          30164229.523656305,
          30008633.941323508,
          29711386.605896454,
          29534374.95299439,
          28793021.628045548,
          28089589.31148257,
          27740486.531409156,
          26478049.615556754,
          25419678.19733486,
          24921827.394111577,
          23215203.8235323,
          21859982.891326047,
          21239219.05016647,
          19171340.316137336,
          17580125.398483388,
          16863104.27633005,
          14518093.581685912,
          12751404.228570715,
          11964352.115683377,
          9423973.19228421,
          7539778.694636272,
          6707614.5077012945,
          4048829.304663289,
          2101070.128793879,
          1246830.3928377968,
          -1459759.3893778154,
          -3422077.2376093445,
          -4277580.066528563,
          -6968616.828658586,
          -8901889.912091406,
          -9740228.260470046,
          -12359941.493795402,
          -14226046.638942188,
          -15031158.531548798,
          -17531061.33802448,
          -19296810.35703944,
          -20054657.484623082,
          -22391853.52787289,
          -24027171.076269444,
          -24724807.823421035,
          -26858839.693510164,
          -28334967.245964766,
          -28960037.71756314,
          -30853249.921155058,
          -32144605.898587007,
          -32686481.35908147,
          -34307643.77059667,
          -35393818.23287968,
          -35844160.30819995,
          -37169086.818350144,
          -38034486.401020296,
          -38386965.05072733,
          -39397458.75172024,
          -40030528.25267706,
          -40280508.3879561,
          -40963504.60386425,
          -41356233.672496766,
          -41500591.89198264,
          -41847690.489056945,
          -41995368.04212756,
          -42032406.49365266,
          -42039671.47172004,
          -41940799.81922715,
          -41870222.033431314,
          -41538150.44971251,
          -41194459.605242446,
          -41017384.83401675,
          -40350978.488376655,
          -39767498.03857637
         ],
         "y": [
          0,
          2033118.84185685,
          6418161.848166771,
          6108796.747670743,
          4994483.183571108,
          -855944.4740910952,
          -4962080.539960578,
          -6117211.421137244,
          -5949257.032981685,
          -2504857.8080529175,
          -519368.63140197215,
          5222368.04463411,
          6822178.031864173,
          6544197.859949053,
          2276508.538576516,
          -2296206.635565424,
          -4089892.3448370807,
          -6923706.164519561,
          -5477351.542804856,
          -4022938.4292910676,
          2077662.076146394,
          5741495.733149951,
          6630241.604110954,
          5721406.27582329,
          2065392.2615028012,
          82341.53151592445,
          -5485294.922086663,
          -7062065.82946107,
          -6839146.400048439,
          -2880598.9559089667,
          1611374.0906343565,
          3476017.1284205383,
          7011303.305835552,
          6329526.301713152,
          5182294.3032776965,
          -492753.5976949974,
          -4652695.876941441,
          -5979162.099075963,
          -6941543.8461642405,
          -4449016.810216084,
          -2739401.3305337476,
          3331945.823615695,
          6483444.26164393,
          7131545.95679203,
          5742844.115660932,
          2074147.2731590327,
          132858.98736684097,
          -5422932.126755422,
          -7310035.750924145,
          -7311613.029523005,
          -4148266.138519747,
          87843.94770756339,
          2025085.999064251,
          6662110.180758552,
          7373419.181554258,
          6853043.750958306,
          2495430.4898673473,
          -1894537.9062580275,
          -3696117.699393276,
          -7323522.575340364,
          -7104455.978508999,
          -6222139.972197374,
          -1179790.282645248,
          3159815.740032164,
          4804790.988818214,
          7600509.993226989,
          6726294.433384851,
          5612931.123884193,
          227948.20620302786,
          -3976867.194200744,
          -5486720.461874364,
          -7733613.993342111,
          -6507564.444832149,
          -5283324.108185191,
          238117.21450208678,
          4361875.200968767,
          5122583.377342711,
          6975136.083579061,
          7685150.956138258,
          7809688.409313807,
          7444526.336649723,
          6492348.4265427515,
          5249871.18243632,
          -244974.79811040944,
          -4340586.969205542,
          -5790529.700274736,
          -7933709.986089935,
          -6766574.600543581,
          -5595932.269392639,
          -234107.24002397156,
          3923194.5070160422,
          5450746.174528847,
          8015117.002702501,
          7244791.774245085,
          6240503.40731094,
          1219589.7320578324,
          -2991942.069894844,
          -4639809.050339024,
          -7917750.768347157,
          -7820523.510622365,
          -7094062.229563612,
          -2658741.913320085,
          1555804.6313445996,
          3334224.871371636,
          7471873.881148725,
          8259790.355820825,
          7928336.586180282,
          4489759.022039848,
          520177.7875092652,
          -1318986.905942683,
          -6318665.011597834,
          -8195716.348720262,
          -8386818.618269806,
          -6416124.665113503,
          -3022577.9891526564,
          -1248094.600978977,
          4345193.399379175,
          7302853.367949717,
          8076619.736165946,
          8028122.9790131925,
          5729100.604340007,
          4262671.893324427,
          -1271399.7901480729,
          -5085855.314289256,
          -6432456.367314135,
          -8625917.988279484,
          -7919816.573986567,
          -7023876.193297081,
          -2439501.080258067,
          1665028.0851992443,
          3396629.167845544,
          7618945.493621353,
          8802393.741741067,
          8727209.918109002,
          6232525.9918055665,
          2781000.326797095,
          1040982.6397544792,
          -4402042.26510665,
          -7385716.027119807,
          -8236319.134377867,
          -8685376.52742542,
          -6872872.209650052,
          -5604853.868161234,
          -428438.5864501223,
          3555736.7736391015,
          5118092.6431864705,
          8541163.776044138,
          9100158.768887294,
          8787294.205847027,
          5789937.815658014,
          2229833.8723086044,
          498097.1958427352,
          -4801940.326309197,
          -7684447.266052409,
          -8517167.763910465,
          -9062840.305979047,
          -7448213.958060874,
          -6282066.296837983,
          -1368409.4897284508,
          2602578.5624695513,
          4232003.9222389925,
          8197495.814843569,
          9426288.666162694,
          9452014.477160607,
          7531365.952286457,
          4560866.428236099,
          2985394.1860585012,
          -2377387.3038090765,
          -5895085.609919288,
          -7153053.467201722,
          -9473214.319010207,
          -9306597.6954978,
          -8736797.106930101,
          -5239419.9466815265,
          -1600270.0144087146,
          110309.76225119697,
          5250804.1151738735,
          8075856.42104507,
          8932732.315830328,
          9818161.6498542,
          8675132.573153595,
          7745680.210436481,
          3497169.5942301536,
          -284826.18447278126,
          -1958451.345151637,
          -6671327.6868484495,
          -8987334.782501033,
          -9595867.304824369,
          -9691021.965034595,
          -8049485.946537152,
          -6940162.280268075,
          -2329694.7218622486,
          1497320.1924038935,
          3135483.778301162,
          7565102.981492612,
          9594623.829481717,
          10080381.493067987,
          9877626.238770127,
          8149435.244772437,
          7037474.7633615,
          2511143.282031757,
          -1233801.77824747,
          -2849030.311615081,
          -7313102.596982356,
          -9482743.617606387,
          -10056346.56276025,
          -10193973.549131358,
          -8718057.095445683,
          -7703985.400802158,
          -3396446.292730043,
          308297.0314652825,
          1943780.8313542888,
          6639221.573992578,
          9148270.482984371,
          9915004.505533375,
          10812022.942687845,
          9969587.5593431,
          9231094.266283616,
          5668597.438905172,
          2269476.6445877575,
          679468.0867402669,
          -4284579.576155725,
          -7375770.766353382,
          -8484949.268291535,
          -10703763.798914123,
          -10906697.214540273,
          -10608718.634920737,
          -8231513.385589877,
          -5384080.150495112,
          -3932271.7674714266,
          1047573.8991884529,
          4590303.245826499,
          6007746.988703534,
          9585105.934453761,
          11051686.719580801,
          11348446.29406627,
          10863233.70559057,
          9231557.326779312,
          8224552.337868417,
          4143257.944004964,
          661817.2940940672,
          -899977.9721130852,
          -5600774.736498979,
          -8425317.061032526,
          -9421340.690220803,
          -11372276.583945934,
          -11512944.524381194,
          -11227514.19252441,
          -9028209.69059599,
          -6390525.174070629,
          -5033055.505528825,
          -274477.8118050731,
          3260297.456419253,
          4732005.54595278,
          8752045.880780166,
          10802607.93662866,
          11417366.828572847,
          12123899.05653371,
          11443668.253332121,
          10846680.351886086,
          7910635.053628015,
          4993889.491143328,
          3578794.8219253547,
          -1150811.6973066719,
          -4517309.174484373,
          -5891478.461746023,
          -9560084.7057696,
          -11348742.38776384,
          -11853566.870697288,
          -12244609.275746072,
          -11372099.517930785,
          -10702080.2343798,
          -7585928.817777694,
          -4590785.797390144,
          -3155630.73224866,
          1584512.1829561228,
          4925512.377861881,
          6286434.316255455,
          9939181.736411493,
          11779265.130648924,
          12331845.937244944,
          12994247.406140666,
          12432731.58221096,
          11923245.47742574,
          9363750.515938506,
          6756777.06629245,
          5468572.689597266,
          1028039.0856438068,
          -2306835.1188532105,
          -3730631.604287099,
          -7854704.091816304,
          -10274948.57011654,
          -11133081.266005117,
          -12905099.474942802,
          -13211153.879363742,
          -13077284.157802004,
          -11617153.839750646,
          -9661398.147383105,
          -8605514.96540485,
          -4652864.565588453,
          -1411010.0592913122,
          45454.17366588535,
          4571570.422125005,
          7566939.005830427,
          8748589.505986175,
          11807636.214423904,
          13262496.118499339,
          13674004.841174753,
          14038053.496831391,
          13415943.82682731,
          12920475.563793583,
          10542423.493975757,
          8157367.448563462,
          6976505.90145137,
          2853591.318320123,
          -334862.69701166445,
          -1733039.2476569915,
          -5985324.527062037,
          -8737275.894706871,
          -9809778.545654073,
          -12538088.382599143,
          -13779284.808469001,
          -14106122.89379925,
          -14238631.67358942,
          -13480952.62705461,
          -12934318.553380841,
          -10426820.285685122,
          -7978365.722120172,
          -6777845.955948512,
          -2624262.2758938805,
          562974.1373123071,
          1957155.1455328455,
          6199289.706057298,
          8969286.024463031,
          10063048.608993763,
          12938751.696518414,
          14386790.67719233,
          14834872.757949093,
          15479547.370357601,
          15208494.827441163,
          14899563.758101512,
          13205760.957026698,
          11359779.266052056,
          10411473.892017331,
          6949072.238654271,
          4107148.3257655413,
          2809586.5706072864,
          -1384375.5583205258,
          -4385463.865889383,
          -5652500.167858469,
          -9354783.898495672,
          -11640050.171796478,
          -12506528.224207545,
          -14632089.649300514,
          -15528149.405513538,
          -15737969.638459647,
          -15657564.39955536,
          -14900476.602623278,
          -14393022.327867895,
          -12140036.407274023,
          -9964347.594193565,
          -8894579.673736766,
          -5146628.845260311,
          -2193441.398744547,
          -872079.6176513659,
          3305911.2270918144,
          6224461.362819849,
          7442119.236357879,
          10961881.022665516,
          13119971.373607188,
          13940376.6315915,
          15988609.13808331,
          16919015.28000649,
          17172784.831632793,
          17356758.735940788,
          16909993.37790603,
          16566689.9140916,
          14923165.431416843,
          13244441.391118515,
          12396390.7188226,
          9322003.213568822,
          6787692.445172738,
          5619710.8980696425,
          1767492.3593304844,
          -1096140.2356505652,
          -2343727.1153776534,
          -6186977.033318168,
          -8797947.993827045,
          -9871778.712498711,
          -12924622.974053333,
          -14750120.840385234,
          -15430407.477275098,
          -17065598.95497334,
          -17728970.44652987,
          -17875185.570985742,
          -17755847.59958277,
          -17122946.28549316,
          -16706999.182704592,
          -14868226.434436686,
          -13080123.055666074,
          -12192748.131647045,
          -9028006.669503717,
          -6458838.095561731,
          -5283029.924141127,
          -1431171.338902522,
          1416200.264045896,
          2655065.295836153,
          6477272.732188503,
          9095006.493163096,
          10182084.468027316,
          13336559.257561132,
          15310885.129123354,
          16080439.87248651,
          18109112.413714595,
          19173789.900106825,
          19527384.754449595,
          20190563.044444952,
          20238450.723601535,
          20146307.58825782,
          19414737.26390241,
          18482764.55807198,
          17975347.832092073,
          15998342.605823543,
          14241104.434786445,
          13397083.592096953,
          10463523.937721672,
          8124577.181161984,
          7058232.537507375,
          3556341.3348408476,
          938419.7427655044,
          -213596.15193667935,
          -3839164.1622255,
          -6406311.916922822,
          -7499305.383660947,
          -10793860.712129146,
          -12988186.303427462,
          -13884868.022847494,
          -16433566.807243181,
          -17977714.587943062,
          -18564489.909643095,
          -20043797.97239609,
          -20741641.92743245,
          -20944123.63667623,
          -21167907.705812827,
          -20933928.34067879,
          -20728363.266665768,
          -19677042.340534072,
          -18549672.816287562,
          -17966454.559093516,
          -15788086.28030774,
          -13920666.057197036,
          -13037794.178380249,
          -10017533.858849645,
          -7647710.63410259,
          -6575513.943551475,
          -3081314.1694548787,
          -487702.1677798165,
          650663.8229045443,
          4230052.823463719,
          6771501.277809023,
          7858365.156756459,
          11166974.90483796,
          13416831.16380696,
          14353306.399140172,
          17103674.42986498,
          18878876.581771385,
          19591963.99758283,
          21581681.97992898,
          22762385.89996692,
          23206750.010758854,
          24319848.307163924,
          24847007.09605976,
          25003171.475449327,
          25202016.33318249,
          25069733.266542528,
          24940398.2906577,
          24253119.073509935,
          23499030.744223185,
          23104833.784992527,
          21612100.10865049,
          20308248.43313033,
          19683955.443481237,
          17507848.647692423,
          15753464.410783535,
          14945019.771907656,
          12240248.869381074,
          10155610.052811153,
          9217445.962466117,
          6162596.736090173,
          3882430.473615745,
          2874524.0550004207,
          -337353.77462650905,
          -2670714.597983735,
          -3685817.869671859,
          -6856550.890046737,
          -9099912.888159068,
          -10060051.471419131,
          -12995766.883836674,
          -15012055.44532117,
          -15858551.08729468,
          -18379702.11640677,
          -20045448.176652856,
          -20726428.180954684,
          -22678451.180793293,
          -23891589.917064704,
          -24365386.790015306,
          -25629290.200572006,
          -26316543.29968982,
          -26554799.21735304,
          -27056312.923489466,
          -27179008.924527723,
          -27168955.53309977,
          -26884501.73218892,
          -26441570.715523858,
          -26186948.001058176,
          -25144870.735532638,
          -24172072.661970668,
          -23692343.128278453,
          -21968636.89532058,
          -20533825.21948934,
          -19861697.36878708,
          -17570695.50507452,
          -15765835.88715367,
          -14943506.931359673,
          -12225163.755070895,
          -10156554.56547191,
          -9231355.781325733,
          -6237408.429898494,
          -4015802.3859511223,
          -3035980.600692176,
          82801.32559087637,
          2350736.1132600247,
          3339528.4986034534,
          6443457.537092091,
          8661481.67559739,
          9618687.264179042,
          12585972.715226972,
          14672200.00453308,
          15563811.451844143,
          18294177.52834178,
          20182830.06538045,
          20981946.43862377,
          23397632.54956541,
          25039124.20410997,
          25725839.091614135,
          27770735.583608784,
          29130632.985817436,
          29691490.234871786,
          31329124.392954044,
          32386464.457192745,
          32813678.406815525,
          34024618.71599108,
          34769940.68452641,
          35060522.83437122,
          35839593.477509625,
          36272917.37529504,
          36427797.522231355,
          36781331.42210545,
          36910202.95539884,
          36933385.66801959,
          36876601.300423585,
          36714222.78849565,
          36611976.629066974,
          36166423.87747838,
          35729787.00281862,
          35509821.82606248,
          34700711.88897926,
          34008617.004556715,
          33679228.27454628,
          32532844.87106338,
          31604482.288929127,
          31174123.07255171,
          29717934.522757385,
          28574407.252526507,
          28052714.515847452,
          26319163.50372042,
          24985778.126550302,
          24384233.94384956,
          22410947.48203531,
          20915962.393461894,
          20247096.945927236,
          18074207.075858954,
          16447091.149941614,
          15723845.998338379,
          13392461.147723513,
          11663168.387385791,
          10898657.256290099,
          8450316.83448954,
          6649032.877018426,
          5856454.624657063,
          3332913.5496702367,
          1489934.6776329365,
          682524.9934453407,
          -1874393.1088021733,
          -3728769.478299067,
          -4537788.613390069,
          -7086367.458852947,
          -8921990.379080353,
          -9719481.418638635,
          -12218363.700685605,
          -14005440.551622367
         ],
         "z": [
          0,
          0,
          0,
          0,
          0,
          0,
          0,
          0,
          0,
          0,
          0,
          0,
          0,
          0,
          0,
          0,
          0,
          0,
          0,
          0,
          0,
          0,
          0,
          0,
          0,
          0,
          0,
          0,
          0,
          0,
          0,
          0,
          0,
          0,
          0,
          0,
          0,
          0,
          0,
          0,
          0,
          0,
          0,
          0,
          0,
          0,
          0,
          0,
          0,
          0,
          0,
          0,
          0,
          0,
          0,
          0,
          0,
          0,
          0,
          0,
          0,
          0,
          0,
          0,
          0,
          0,
          0,
          0,
          0,
          0,
          0,
          0,
          0,
          0,
          0,
          0,
          0,
          0,
          0,
          0,
          0,
          0,
          0,
          0,
          0,
          0,
          0,
          0,
          0,
          0,
          0,
          0,
          0,
          0,
          0,
          0,
          0,
          0,
          0,
          0,
          0,
          0,
          0,
          0,
          0,
          0,
          0,
          0,
          0,
          0,
          0,
          0,
          0,
          0,
          0,
          0,
          0,
          0,
          0,
          0,
          0,
          0,
          0,
          0,
          0,
          0,
          0,
          0,
          0,
          0,
          0,
          0,
          0,
          0,
          0,
          0,
          0,
          0,
          0,
          0,
          0,
          0,
          0,
          0,
          0,
          0,
          0,
          0,
          0,
          0,
          0,
          0,
          0,
          0,
          0,
          0,
          0,
          0,
          0,
          0,
          0,
          0,
          0,
          0,
          0,
          0,
          0,
          0,
          0,
          0,
          0,
          0,
          0,
          0,
          0,
          0,
          0,
          0,
          0,
          0,
          0,
          0,
          0,
          0,
          0,
          0,
          0,
          0,
          0,
          0,
          0,
          0,
          0,
          0,
          0,
          0,
          0,
          0,
          0,
          0,
          0,
          0,
          0,
          0,
          0,
          0,
          0,
          0,
          0,
          0,
          0,
          0,
          0,
          0,
          0,
          0,
          0,
          0,
          0,
          0,
          0,
          0,
          0,
          0,
          0,
          0,
          0,
          0,
          0,
          0,
          0,
          0,
          0,
          0,
          0,
          0,
          0,
          0,
          0,
          0,
          0,
          0,
          0,
          0,
          0,
          0,
          0,
          0,
          0,
          0,
          0,
          0,
          0,
          0,
          0,
          0,
          0,
          0,
          0,
          0,
          0,
          0,
          0,
          0,
          0,
          0,
          0,
          0,
          0,
          0,
          0,
          0,
          0,
          0,
          0,
          0,
          0,
          0,
          0,
          0,
          0,
          0,
          0,
          0,
          0,
          0,
          0,
          0,
          0,
          0,
          0,
          0,
          0,
          0,
          0,
          0,
          0,
          0,
          0,
          0,
          0,
          0,
          0,
          0,
          0,
          0,
          0,
          0,
          0,
          0,
          0,
          0,
          0,
          0,
          0,
          0,
          0,
          0,
          0,
          0,
          0,
          0,
          0,
          0,
          0,
          0,
          0,
          0,
          0,
          0,
          0,
          0,
          0,
          0,
          0,
          0,
          0,
          0,
          0,
          0,
          0,
          0,
          0,
          0,
          0,
          0,
          0,
          0,
          0,
          0,
          0,
          0,
          0,
          0,
          0,
          0,
          0,
          0,
          0,
          0,
          0,
          0,
          0,
          0,
          0,
          0,
          0,
          0,
          0,
          0,
          0,
          0,
          0,
          0,
          0,
          0,
          0,
          0,
          0,
          0,
          0,
          0,
          0,
          0,
          0,
          0,
          0,
          0,
          0,
          0,
          0,
          0,
          0,
          0,
          0,
          0,
          0,
          0,
          0,
          0,
          0,
          0,
          0,
          0,
          0,
          0,
          0,
          0,
          0,
          0,
          0,
          0,
          0,
          0,
          0,
          0,
          0,
          0,
          0,
          0,
          0,
          0,
          0,
          0,
          0,
          0,
          0,
          0,
          0,
          0,
          0,
          0,
          0,
          0,
          0,
          0,
          0,
          0,
          0,
          0,
          0,
          0,
          0,
          0,
          0,
          0,
          0,
          0,
          0,
          0,
          0,
          0,
          0,
          0,
          0,
          0,
          0,
          0,
          0,
          0,
          0,
          0,
          0,
          0,
          0,
          0,
          0,
          0,
          0,
          0,
          0,
          0,
          0,
          0,
          0,
          0,
          0,
          0,
          0,
          0,
          0,
          0,
          0,
          0,
          0,
          0,
          0,
          0,
          0,
          0,
          0,
          0,
          0,
          0,
          0,
          0,
          0,
          0,
          0,
          0,
          0,
          0,
          0,
          0,
          0,
          0,
          0,
          0,
          0,
          0,
          0,
          0,
          0,
          0,
          0,
          0,
          0,
          0,
          0,
          0,
          0,
          0,
          0,
          0,
          0,
          0,
          0,
          0,
          0,
          0,
          0,
          0,
          0,
          0,
          0,
          0,
          0,
          0,
          0,
          0,
          0,
          0,
          0,
          0,
          0,
          0,
          0,
          0,
          0,
          0,
          0,
          0,
          0,
          0,
          0,
          0,
          0,
          0,
          0,
          0,
          0,
          0,
          0,
          0,
          0,
          0,
          0,
          0,
          0,
          0,
          0,
          0,
          0,
          0,
          0,
          0,
          0,
          0,
          0,
          0,
          0,
          0,
          0,
          0,
          0,
          0,
          0,
          0,
          0,
          0,
          0,
          0,
          0,
          0,
          0,
          0,
          0,
          0,
          0,
          0,
          0
         ]
        }
       ],
       "layout": {
        "legend": {
         "tracegroupgap": 0
        },
        "margin": {
         "t": 60
        },
        "scene": {
         "domain": {
          "x": [
           0,
           1
          ],
          "y": [
           0,
           1
          ]
         },
         "xaxis": {
          "title": {
           "text": "x"
          }
         },
         "yaxis": {
          "title": {
           "text": "y"
          }
         },
         "zaxis": {
          "title": {
           "text": "z"
          }
         }
        },
        "template": {
         "data": {
          "bar": [
           {
            "error_x": {
             "color": "#2a3f5f"
            },
            "error_y": {
             "color": "#2a3f5f"
            },
            "marker": {
             "line": {
              "color": "#E5ECF6",
              "width": 0.5
             },
             "pattern": {
              "fillmode": "overlay",
              "size": 10,
              "solidity": 0.2
             }
            },
            "type": "bar"
           }
          ],
          "barpolar": [
           {
            "marker": {
             "line": {
              "color": "#E5ECF6",
              "width": 0.5
             },
             "pattern": {
              "fillmode": "overlay",
              "size": 10,
              "solidity": 0.2
             }
            },
            "type": "barpolar"
           }
          ],
          "carpet": [
           {
            "aaxis": {
             "endlinecolor": "#2a3f5f",
             "gridcolor": "white",
             "linecolor": "white",
             "minorgridcolor": "white",
             "startlinecolor": "#2a3f5f"
            },
            "baxis": {
             "endlinecolor": "#2a3f5f",
             "gridcolor": "white",
             "linecolor": "white",
             "minorgridcolor": "white",
             "startlinecolor": "#2a3f5f"
            },
            "type": "carpet"
           }
          ],
          "choropleth": [
           {
            "colorbar": {
             "outlinewidth": 0,
             "ticks": ""
            },
            "type": "choropleth"
           }
          ],
          "contour": [
           {
            "colorbar": {
             "outlinewidth": 0,
             "ticks": ""
            },
            "colorscale": [
             [
              0,
              "#0d0887"
             ],
             [
              0.1111111111111111,
              "#46039f"
             ],
             [
              0.2222222222222222,
              "#7201a8"
             ],
             [
              0.3333333333333333,
              "#9c179e"
             ],
             [
              0.4444444444444444,
              "#bd3786"
             ],
             [
              0.5555555555555556,
              "#d8576b"
             ],
             [
              0.6666666666666666,
              "#ed7953"
             ],
             [
              0.7777777777777778,
              "#fb9f3a"
             ],
             [
              0.8888888888888888,
              "#fdca26"
             ],
             [
              1,
              "#f0f921"
             ]
            ],
            "type": "contour"
           }
          ],
          "contourcarpet": [
           {
            "colorbar": {
             "outlinewidth": 0,
             "ticks": ""
            },
            "type": "contourcarpet"
           }
          ],
          "heatmap": [
           {
            "colorbar": {
             "outlinewidth": 0,
             "ticks": ""
            },
            "colorscale": [
             [
              0,
              "#0d0887"
             ],
             [
              0.1111111111111111,
              "#46039f"
             ],
             [
              0.2222222222222222,
              "#7201a8"
             ],
             [
              0.3333333333333333,
              "#9c179e"
             ],
             [
              0.4444444444444444,
              "#bd3786"
             ],
             [
              0.5555555555555556,
              "#d8576b"
             ],
             [
              0.6666666666666666,
              "#ed7953"
             ],
             [
              0.7777777777777778,
              "#fb9f3a"
             ],
             [
              0.8888888888888888,
              "#fdca26"
             ],
             [
              1,
              "#f0f921"
             ]
            ],
            "type": "heatmap"
           }
          ],
          "heatmapgl": [
           {
            "colorbar": {
             "outlinewidth": 0,
             "ticks": ""
            },
            "colorscale": [
             [
              0,
              "#0d0887"
             ],
             [
              0.1111111111111111,
              "#46039f"
             ],
             [
              0.2222222222222222,
              "#7201a8"
             ],
             [
              0.3333333333333333,
              "#9c179e"
             ],
             [
              0.4444444444444444,
              "#bd3786"
             ],
             [
              0.5555555555555556,
              "#d8576b"
             ],
             [
              0.6666666666666666,
              "#ed7953"
             ],
             [
              0.7777777777777778,
              "#fb9f3a"
             ],
             [
              0.8888888888888888,
              "#fdca26"
             ],
             [
              1,
              "#f0f921"
             ]
            ],
            "type": "heatmapgl"
           }
          ],
          "histogram": [
           {
            "marker": {
             "pattern": {
              "fillmode": "overlay",
              "size": 10,
              "solidity": 0.2
             }
            },
            "type": "histogram"
           }
          ],
          "histogram2d": [
           {
            "colorbar": {
             "outlinewidth": 0,
             "ticks": ""
            },
            "colorscale": [
             [
              0,
              "#0d0887"
             ],
             [
              0.1111111111111111,
              "#46039f"
             ],
             [
              0.2222222222222222,
              "#7201a8"
             ],
             [
              0.3333333333333333,
              "#9c179e"
             ],
             [
              0.4444444444444444,
              "#bd3786"
             ],
             [
              0.5555555555555556,
              "#d8576b"
             ],
             [
              0.6666666666666666,
              "#ed7953"
             ],
             [
              0.7777777777777778,
              "#fb9f3a"
             ],
             [
              0.8888888888888888,
              "#fdca26"
             ],
             [
              1,
              "#f0f921"
             ]
            ],
            "type": "histogram2d"
           }
          ],
          "histogram2dcontour": [
           {
            "colorbar": {
             "outlinewidth": 0,
             "ticks": ""
            },
            "colorscale": [
             [
              0,
              "#0d0887"
             ],
             [
              0.1111111111111111,
              "#46039f"
             ],
             [
              0.2222222222222222,
              "#7201a8"
             ],
             [
              0.3333333333333333,
              "#9c179e"
             ],
             [
              0.4444444444444444,
              "#bd3786"
             ],
             [
              0.5555555555555556,
              "#d8576b"
             ],
             [
              0.6666666666666666,
              "#ed7953"
             ],
             [
              0.7777777777777778,
              "#fb9f3a"
             ],
             [
              0.8888888888888888,
              "#fdca26"
             ],
             [
              1,
              "#f0f921"
             ]
            ],
            "type": "histogram2dcontour"
           }
          ],
          "mesh3d": [
           {
            "colorbar": {
             "outlinewidth": 0,
             "ticks": ""
            },
            "type": "mesh3d"
           }
          ],
          "parcoords": [
           {
            "line": {
             "colorbar": {
              "outlinewidth": 0,
              "ticks": ""
             }
            },
            "type": "parcoords"
           }
          ],
          "pie": [
           {
            "automargin": true,
            "type": "pie"
           }
          ],
          "scatter": [
           {
            "fillpattern": {
             "fillmode": "overlay",
             "size": 10,
             "solidity": 0.2
            },
            "type": "scatter"
           }
          ],
          "scatter3d": [
           {
            "line": {
             "colorbar": {
              "outlinewidth": 0,
              "ticks": ""
             }
            },
            "marker": {
             "colorbar": {
              "outlinewidth": 0,
              "ticks": ""
             }
            },
            "type": "scatter3d"
           }
          ],
          "scattercarpet": [
           {
            "marker": {
             "colorbar": {
              "outlinewidth": 0,
              "ticks": ""
             }
            },
            "type": "scattercarpet"
           }
          ],
          "scattergeo": [
           {
            "marker": {
             "colorbar": {
              "outlinewidth": 0,
              "ticks": ""
             }
            },
            "type": "scattergeo"
           }
          ],
          "scattergl": [
           {
            "marker": {
             "colorbar": {
              "outlinewidth": 0,
              "ticks": ""
             }
            },
            "type": "scattergl"
           }
          ],
          "scattermapbox": [
           {
            "marker": {
             "colorbar": {
              "outlinewidth": 0,
              "ticks": ""
             }
            },
            "type": "scattermapbox"
           }
          ],
          "scatterpolar": [
           {
            "marker": {
             "colorbar": {
              "outlinewidth": 0,
              "ticks": ""
             }
            },
            "type": "scatterpolar"
           }
          ],
          "scatterpolargl": [
           {
            "marker": {
             "colorbar": {
              "outlinewidth": 0,
              "ticks": ""
             }
            },
            "type": "scatterpolargl"
           }
          ],
          "scatterternary": [
           {
            "marker": {
             "colorbar": {
              "outlinewidth": 0,
              "ticks": ""
             }
            },
            "type": "scatterternary"
           }
          ],
          "surface": [
           {
            "colorbar": {
             "outlinewidth": 0,
             "ticks": ""
            },
            "colorscale": [
             [
              0,
              "#0d0887"
             ],
             [
              0.1111111111111111,
              "#46039f"
             ],
             [
              0.2222222222222222,
              "#7201a8"
             ],
             [
              0.3333333333333333,
              "#9c179e"
             ],
             [
              0.4444444444444444,
              "#bd3786"
             ],
             [
              0.5555555555555556,
              "#d8576b"
             ],
             [
              0.6666666666666666,
              "#ed7953"
             ],
             [
              0.7777777777777778,
              "#fb9f3a"
             ],
             [
              0.8888888888888888,
              "#fdca26"
             ],
             [
              1,
              "#f0f921"
             ]
            ],
            "type": "surface"
           }
          ],
          "table": [
           {
            "cells": {
             "fill": {
              "color": "#EBF0F8"
             },
             "line": {
              "color": "white"
             }
            },
            "header": {
             "fill": {
              "color": "#C8D4E3"
             },
             "line": {
              "color": "white"
             }
            },
            "type": "table"
           }
          ]
         },
         "layout": {
          "annotationdefaults": {
           "arrowcolor": "#2a3f5f",
           "arrowhead": 0,
           "arrowwidth": 1
          },
          "autotypenumbers": "strict",
          "coloraxis": {
           "colorbar": {
            "outlinewidth": 0,
            "ticks": ""
           }
          },
          "colorscale": {
           "diverging": [
            [
             0,
             "#8e0152"
            ],
            [
             0.1,
             "#c51b7d"
            ],
            [
             0.2,
             "#de77ae"
            ],
            [
             0.3,
             "#f1b6da"
            ],
            [
             0.4,
             "#fde0ef"
            ],
            [
             0.5,
             "#f7f7f7"
            ],
            [
             0.6,
             "#e6f5d0"
            ],
            [
             0.7,
             "#b8e186"
            ],
            [
             0.8,
             "#7fbc41"
            ],
            [
             0.9,
             "#4d9221"
            ],
            [
             1,
             "#276419"
            ]
           ],
           "sequential": [
            [
             0,
             "#0d0887"
            ],
            [
             0.1111111111111111,
             "#46039f"
            ],
            [
             0.2222222222222222,
             "#7201a8"
            ],
            [
             0.3333333333333333,
             "#9c179e"
            ],
            [
             0.4444444444444444,
             "#bd3786"
            ],
            [
             0.5555555555555556,
             "#d8576b"
            ],
            [
             0.6666666666666666,
             "#ed7953"
            ],
            [
             0.7777777777777778,
             "#fb9f3a"
            ],
            [
             0.8888888888888888,
             "#fdca26"
            ],
            [
             1,
             "#f0f921"
            ]
           ],
           "sequentialminus": [
            [
             0,
             "#0d0887"
            ],
            [
             0.1111111111111111,
             "#46039f"
            ],
            [
             0.2222222222222222,
             "#7201a8"
            ],
            [
             0.3333333333333333,
             "#9c179e"
            ],
            [
             0.4444444444444444,
             "#bd3786"
            ],
            [
             0.5555555555555556,
             "#d8576b"
            ],
            [
             0.6666666666666666,
             "#ed7953"
            ],
            [
             0.7777777777777778,
             "#fb9f3a"
            ],
            [
             0.8888888888888888,
             "#fdca26"
            ],
            [
             1,
             "#f0f921"
            ]
           ]
          },
          "colorway": [
           "#636efa",
           "#EF553B",
           "#00cc96",
           "#ab63fa",
           "#FFA15A",
           "#19d3f3",
           "#FF6692",
           "#B6E880",
           "#FF97FF",
           "#FECB52"
          ],
          "font": {
           "color": "#2a3f5f"
          },
          "geo": {
           "bgcolor": "white",
           "lakecolor": "white",
           "landcolor": "#E5ECF6",
           "showlakes": true,
           "showland": true,
           "subunitcolor": "white"
          },
          "hoverlabel": {
           "align": "left"
          },
          "hovermode": "closest",
          "mapbox": {
           "style": "light"
          },
          "paper_bgcolor": "white",
          "plot_bgcolor": "#E5ECF6",
          "polar": {
           "angularaxis": {
            "gridcolor": "white",
            "linecolor": "white",
            "ticks": ""
           },
           "bgcolor": "#E5ECF6",
           "radialaxis": {
            "gridcolor": "white",
            "linecolor": "white",
            "ticks": ""
           }
          },
          "scene": {
           "xaxis": {
            "backgroundcolor": "#E5ECF6",
            "gridcolor": "white",
            "gridwidth": 2,
            "linecolor": "white",
            "showbackground": true,
            "ticks": "",
            "zerolinecolor": "white"
           },
           "yaxis": {
            "backgroundcolor": "#E5ECF6",
            "gridcolor": "white",
            "gridwidth": 2,
            "linecolor": "white",
            "showbackground": true,
            "ticks": "",
            "zerolinecolor": "white"
           },
           "zaxis": {
            "backgroundcolor": "#E5ECF6",
            "gridcolor": "white",
            "gridwidth": 2,
            "linecolor": "white",
            "showbackground": true,
            "ticks": "",
            "zerolinecolor": "white"
           }
          },
          "shapedefaults": {
           "line": {
            "color": "#2a3f5f"
           }
          },
          "ternary": {
           "aaxis": {
            "gridcolor": "white",
            "linecolor": "white",
            "ticks": ""
           },
           "baxis": {
            "gridcolor": "white",
            "linecolor": "white",
            "ticks": ""
           },
           "bgcolor": "#E5ECF6",
           "caxis": {
            "gridcolor": "white",
            "linecolor": "white",
            "ticks": ""
           }
          },
          "title": {
           "x": 0.05
          },
          "xaxis": {
           "automargin": true,
           "gridcolor": "white",
           "linecolor": "white",
           "ticks": "",
           "title": {
            "standoff": 15
           },
           "zerolinecolor": "white",
           "zerolinewidth": 2
          },
          "yaxis": {
           "automargin": true,
           "gridcolor": "white",
           "linecolor": "white",
           "ticks": "",
           "title": {
            "standoff": 15
           },
           "zerolinecolor": "white",
           "zerolinewidth": 2
          }
         }
        }
       }
      }
     },
     "metadata": {},
     "output_type": "display_data"
    },
    {
     "name": "stdout",
     "output_type": "stream",
     "text": [
      "2022-11-10 23:47:52.221171\n"
     ]
    }
   ],
   "source": [
    "jh.printMarkdown(\"With our solution, we can plot it as well as inspect the final variables.\")\n",
    "\n",
    "def plotPyomoSolution(model, stateSymbols):\n",
    "    tSpace =np.array( [t for t in model.t]) * model.tf.value\n",
    "    rSym = np.array([model.r[t]() for t in model.t])\n",
    "    uSym = np.array([model.u[t]() for t in model.t])\n",
    "    vSym = np.array([model.v[t]() for t in model.t])\n",
    "    lonSim = np.array([model.lon[t]() for t in model.t])\n",
    "    controls = np.array([model.control[t]() for t in model.t])\n",
    "    print(\"control 0 = \" + str(controls[0]))\n",
    "    plt.title(\"Thrust Angle\")\n",
    "    plt.plot(tSpace/86400, controls*180.0/math.pi, label=\"Thrust Angle (deg)\")\n",
    "    plt.tight_layout()\n",
    "    plt.grid(alpha=0.5)\n",
    "    plt.legend(framealpha=1, shadow=True)\n",
    "    plt.show()    \n",
    "    ansAsDict = OrderedDict()\n",
    "    ansAsDict[stateSymbols[0]]= rSym\n",
    "    ansAsDict[stateSymbols[1]]= uSym\n",
    "    ansAsDict[stateSymbols[2]]= vSym\n",
    "    ansAsDict[stateSymbols[3]]=  lonSim\n",
    "\n",
    "    return [tSpace, ansAsDict]\n",
    "\n",
    "[tArray, solutionDictionary] = plotPyomoSolution(model, problem.StateVariables)\n",
    "unscaledResults = problem.DescaleResults(solutionDictionary)\n",
    "baseProblem.PlotSolution(tArray, unscaledResults, \"Leo to Geo\")\n",
    "\n",
    "print(\"Tf = \" + str(model.tf.value/86400))\n",
    "jh.showEquation(\"r_f\", unscaledResults[baseProblem.StateVariables[0]][-1]) \n",
    "jh.showEquation(\"u_f\", unscaledResults[baseProblem.StateVariables[1]][-1]) \n",
    "jh.showEquation(\"v_f\", unscaledResults[baseProblem.StateVariables[2]][-1])    \n",
    "\n",
    "xyz = np.zeros((len(tArray), 3))\n",
    "for i in range(0, len(unscaledResults[baseProblem.StateVariables[0]])) :\n",
    "    r = unscaledResults[baseProblem.StateVariables[0]][i]\n",
    "    theta = unscaledResults[baseProblem.StateVariables[3]][i]\n",
    "    x = r*math.cos(theta)\n",
    "    y = r*math.sin(theta)\n",
    "    xyz[i,0] = x\n",
    "    xyz[i,1] = y\n",
    "    xyz[i,2] = 0\n",
    "\n",
    "import plotly.express as px\n",
    "from pandas import DataFrame\n",
    "df = DataFrame(xyz)\n",
    "\n",
    "x = np.array(xyz[:,0])\n",
    "y = np.array(xyz[:,1])\n",
    "z = np.array(xyz[:,2])\n",
    "df = DataFrame({\"x\": x, \"y\":y, \"z\":z})\n",
    "fig = px.line_3d(df, x=\"x\", y=\"y\", z=\"z\")\n",
    "fig.show()\n",
    "print(str(datetime.now()))"
   ]
  },
  {
   "cell_type": "markdown",
   "metadata": {},
   "source": [
    "These results look very similar to the indirect results as expected."
   ]
  }
 ],
 "metadata": {
  "kernelspec": {
   "display_name": "Python 3.9.13 64-bit",
   "language": "python",
   "name": "python3"
  },
  "language_info": {
   "codemirror_mode": {
    "name": "ipython",
    "version": 3
   },
   "file_extension": ".py",
   "mimetype": "text/x-python",
   "name": "python",
   "nbconvert_exporter": "python",
   "pygments_lexer": "ipython3",
   "version": "3.9.16"
  },
  "orig_nbformat": 4,
  "vscode": {
   "interpreter": {
    "hash": "278c831daabb7f66c946c17fd3cc6d92e704d472fe74a9e57946bf2027d8a33f"
   }
  }
 },
 "nbformat": 4,
 "nbformat_minor": 2
}
