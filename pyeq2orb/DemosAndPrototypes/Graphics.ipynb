{
 "cells": [
  {
   "cell_type": "code",
   "execution_count": 2,
   "metadata": {},
   "outputs": [
    {
     "data": {
      "application/vnd.jupyter.widget-view+json": {
       "model_id": "3215dcfad6a241ca89c8ebdbb714b911",
       "version_major": 2,
       "version_minor": 0
      },
      "text/plain": [
       "RFBOutputContext()"
      ]
     },
     "metadata": {},
     "output_type": "display_data"
    },
    {
     "data": {
      "text/html": [
       "<div class='initial-snapshot-3161dc1a8d034d2a969042e3c9927716' style='position:relative;'><img src='data:image/png;base64,iVBORw0KGgoAAAANSUhEUgAAAZAAAAGQCAYAAACAvzbMAAAFX0lEQVR42u3VMQEAMBADofg33Wr4m8EE2/YA4MoeACQCASARCACJQABIBAJAIhAAEoEAkAgEgEQgACQCASARCACJQABIBAJAIhAAEoEAkAgEgEQgACQCASARCACJQABIBAJAIhAAEoEAkAgEgEQgACQCASARCACJQABIBAJAIhAAEoEAkAgEgEQgACQCASARCACJQABIBAJAIhAAEoEAkAgEgEQgACQCASARCACJQABIBAJAIhAAEoEAkAgEgEQgACQCASARCACJQABIBAJAIhAAEoEAkAgEgEQgACQCASARCACJQABIBAJAIhAAEoEAkAgEgEQgACQCASARCACJQABIBAJAIhAAEoEAkAgEgEQgACQCASARCACJQABIBAJAIhAAEoEAkAgEgEQgACQCASARCACJQABIBAJAIhAAEoEAkAgEgEQgACQCASARCACJQABIBAJAIhAAEoEAkAgEgEQgACQCASARCACJQABIBAJAIhAAEoEAkAgEgEQgACQCASARCACJQABIBAJAIhAAEoEAkAgEgEQgACQCASARCACJQABIBAJAIhAAEoEAkAgEgEQgACQCASARCACJQABIBAJAIhAAEoEAkAgEgEQgACQCASARCACJQABIBAJAIhAAEoEAkAgEgEQgACQCASARCACJQABIBAJAIhAAEoEAkAgEgEQgACQCASARCACJQABIBAJAIhAAEoEAkAgEgEQgACQCASARCACJQABIBAJAIhAAEoEAkAgEgEQgACQCASARCACJQABIBAJAIhAAEoEAkAgEgEQgACQCASARCACJQABIBAJAIhAAEoEAkAgEgEQgACQCASARCACJQABIBAJAIhAAEoEAkAgEgEQgACQCASARCACJQABIBAJAIhAAEoEAkAgEgEQgACQCASARCACJQABIBAJAIhAAEoEAkAgEgEQgACQCASARCACJQABIBAJAIhAAEoEAkAgEgEQgACQCASARCACJQABIBAJAIhAAEoEAkAgEgEQgACQCASARCACJQABIBAJAIhAAEoEAkAgEgEQgACQCASARCACJQABIBAJAIhAAEoEAkAgEgEQgACQCASARCACJQABIBAJAIhAAEoEAkAgEgEQgACQCASARCACJQABIBAJAIhAAEoEAkAgEgEQgACQCASARCACJQABIBAJAIhAAEoEAkAgEgEQgACQCASARCACJQABIBAJAIhAAEoEAkAgEgEQgACQCASARCACJQABIBAJAIhAAEoEAkAgEgEQgACQCASARCACJQABIBAJAIhAAEoEAkAgEgEQgACQCASARCACJQABIBAJAIhAAEoEAkAgEgEQgACQCASARCACJQABIBAJAIhAAEoEAkAgEgEQgACQCASARCACJQABIBAJAIhAAEoEAkAgEgEQgACQCASARCACJQABIBAJAIhAAEoEAkAgEgEQgACQCASARCACJQABIBAJAIhAAEoEAkAgEgEQgACQCASARCACJQABIBAJAIhAAEoEAkAgEgEQgACQCASARCACJQABIBAJAIhAAEoEAkAgEgEQgACQCASARCACJQABIBAJAIhAAEoEAkAgEgEQgACQCASARCACJQABIBAJAIhAAEoEAkAgEgEQgACQCASARCACJQABIBAJAIhAAEoEAkAgEgEQgACQCASARCACJQABIBAJAIhAAEoEAkAgEgEQgACQCASARCACJQABIBAJAIhAAEoEAkAgEgEQgACQCASARCACJQABIBAJAIhAAEoEAkAgEgEQgACQCASARCACJQABIBAJAIhAAEoEAkAgEgEQgACQCASARCACJQABIBAJAIhAAEoEAkHyTrcrqwxgJFAAAAABJRU5ErkJggg==' style='width:400.0px;height:400.0px;' /><div style='position: absolute; top:0; left:0; padding:1px 3px; background: #777; color:#fff; font-size: 90%; font-family:sans-serif; '>initial snapshot</div></div>"
      ],
      "text/plain": [
       "<jupyter_rfb._utils.Snapshot object>"
      ]
     },
     "metadata": {},
     "output_type": "display_data"
    },
    {
     "data": {
      "application/vnd.jupyter.widget-view+json": {
       "model_id": "3161dc1a8d034d2a969042e3c9927716",
       "version_major": 2,
       "version_minor": 0
      },
      "text/plain": [
       "CanvasBackend(css_height='400px', css_width='400px')"
      ]
     },
     "execution_count": 2,
     "metadata": {},
     "output_type": "execute_result"
    }
   ],
   "source": [
    "import vispy.app\n",
    "vispy.app.use_app('jupyter_rfb')\n",
    "import sys\n",
    "\n",
    "from vispy import app, gloo, scene\n",
    "from vispy.visuals import CubeVisual, transforms\n",
    "from vispy.visuals.transforms import STTransform\n",
    "\n",
    "class Canvas(app.Canvas):\n",
    "    def __init__(self):\n",
    "        app.Canvas.__init__(self, 'Cube', keys='interactive', size=(400, 400))\n",
    "\n",
    "        self.sphere1 = scene.visuals.Sphere(radius=1, method='latitude',\n",
    "                                       edge_color='black')\n",
    "\n",
    "        #self.sphere2 = scene.visuals.Sphere(radius=1, method='ico', \n",
    "        #                               edge_color='black')\n",
    "\n",
    "        #self.sphere3 = scene.visuals.Sphere(radius=1, rows=10, cols=10, depth=10,\n",
    "        #                               method='cube',\n",
    "        #                               edge_color='black')\n",
    "        self.theta = 0\n",
    "        self.phi = 0\n",
    "\n",
    "        # Create a TransformSystem that will tell the visual how to draw\n",
    "        self.cube_transform = transforms.MatrixTransform()\n",
    "        self.sphere1.transform = self.cube_transform\n",
    "        #self.sphere2.transform = self.cube_transform\n",
    "        #self.sphere3.transform = self.cube_transform\n",
    "\n",
    "        self.timer = app.Timer('auto', connect=self.on_timer, start=True)\n",
    "\n",
    "    def on_resize(self, event):\n",
    "        # Set canvas viewport and reconfigure visual transforms to match.\n",
    "        vp = (0, 0, self.physical_size[0], self.physical_size[1])\n",
    "        self.context.set_viewport(*vp)\n",
    "        self.sphere1.transforms.configure(canvas=self, viewport=vp)\n",
    "        #self.sphere2.transforms.configure(canvas=self, viewport=vp)\n",
    "        #self.sphere3.transforms.configure(canvas=self, viewport=vp)\n",
    "\n",
    "    def on_draw(self, event):\n",
    "        gloo.set_viewport(0, 0, *self.physical_size)\n",
    "        gloo.clear('white', depth=True)\n",
    "\n",
    "        self.sphere1.draw()\n",
    "        #self.sphere2.draw()\n",
    "        #self.sphere3.draw()\n",
    "\n",
    "    def on_timer(self, event):\n",
    "        self.theta += .5\n",
    "        self.phi += .5\n",
    "        #self.cube_transform.reset()\n",
    "        #self.cube_transform.rotate(self.theta, (0, 0, 1))\n",
    "        #self.cube_transform.rotate(self.phi, (0, 1, 0))\n",
    "        #self.cube_transform.scale((100, 100, 0.001))\n",
    "        #self.cube_transform.translate((200, 200))\n",
    "        self.update()\n",
    "\n",
    "\n",
    "win = Canvas()\n",
    "#win.app.run()\n",
    "win.show()\n",
    "win"
   ]
  },
  {
   "cell_type": "code",
   "execution_count": null,
   "metadata": {},
   "outputs": [],
   "source": [
    "from czml3.examples import simple\n",
    "from czml3.widget import CZMLWidget\n",
    "CZMLWidget(simple)"
   ]
  }
 ],
 "metadata": {
  "kernelspec": {
   "display_name": "Python 3 (ipykernel)",
   "language": "python",
   "name": "python3"
  },
  "language_info": {
   "codemirror_mode": {
    "name": "ipython",
    "version": 3
   },
   "file_extension": ".py",
   "mimetype": "text/x-python",
   "name": "python",
   "nbconvert_exporter": "python",
   "pygments_lexer": "ipython3",
   "version": "3.8.13"
  },
  "vscode": {
   "interpreter": {
    "hash": "c11be2252a29b1061c5ed3399b19a7961633b5ac10e84658cb3159dc3098bc91"
   }
  }
 },
 "nbformat": 4,
 "nbformat_minor": 2
}
