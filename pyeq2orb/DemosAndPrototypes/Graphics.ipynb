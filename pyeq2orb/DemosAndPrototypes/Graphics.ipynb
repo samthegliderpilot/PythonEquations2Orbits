{
 "cells": [
  {
   "cell_type": "code",
   "execution_count": 1,
   "metadata": {},
   "outputs": [
    {
     "ename": "ModuleNotFoundError",
     "evalue": "No module named 'vispy'",
     "output_type": "error",
     "traceback": [
      "\u001b[1;31m---------------------------------------------------------------------------\u001b[0m",
      "\u001b[1;31mModuleNotFoundError\u001b[0m                       Traceback (most recent call last)",
      "Cell \u001b[1;32mIn[1], line 1\u001b[0m\n\u001b[1;32m----> 1\u001b[0m \u001b[39mimport\u001b[39;00m \u001b[39mvispy\u001b[39;00m\u001b[39m.\u001b[39;00m\u001b[39mapp\u001b[39;00m\n\u001b[0;32m      2\u001b[0m vispy\u001b[39m.\u001b[39mapp\u001b[39m.\u001b[39muse_app(\u001b[39m'\u001b[39m\u001b[39mjupyter_rfb\u001b[39m\u001b[39m'\u001b[39m)\n\u001b[0;32m      3\u001b[0m \u001b[39mimport\u001b[39;00m \u001b[39msys\u001b[39;00m\n",
      "\u001b[1;31mModuleNotFoundError\u001b[0m: No module named 'vispy'"
     ]
    }
   ],
   "source": [
    "import vispy.app\n",
    "vispy.app.use_app('jupyter_rfb')\n",
    "import sys\n",
    "\n",
    "from vispy import app, gloo, scene\n",
    "from vispy.visuals import CubeVisual, transforms\n",
    "from vispy.visuals.transforms import STTransform\n",
    "\n",
    "class Canvas(app.Canvas):\n",
    "    def __init__(self):\n",
    "        app.Canvas.__init__(self, 'Cube', keys='interactive', size=(400, 400))\n",
    "\n",
    "        self.sphere1 = scene.visuals.Sphere(radius=1, method='latitude',\n",
    "                                       edge_color='black')\n",
    "\n",
    "        #self.sphere2 = scene.visuals.Sphere(radius=1, method='ico', \n",
    "        #                               edge_color='black')\n",
    "\n",
    "        #self.sphere3 = scene.visuals.Sphere(radius=1, rows=10, cols=10, depth=10,\n",
    "        #                               method='cube',\n",
    "        #                               edge_color='black')\n",
    "        self.theta = 0\n",
    "        self.phi = 0\n",
    "\n",
    "        # Create a TransformSystem that will tell the visual how to draw\n",
    "        self.cube_transform = transforms.MatrixTransform()\n",
    "        self.sphere1.transform = self.cube_transform\n",
    "        #self.sphere2.transform = self.cube_transform\n",
    "        #self.sphere3.transform = self.cube_transform\n",
    "\n",
    "        self.timer = app.Timer('auto', connect=self.on_timer, start=True)\n",
    "\n",
    "    def on_resize(self, event):\n",
    "        # Set canvas viewport and reconfigure visual transforms to match.\n",
    "        vp = (0, 0, self.physical_size[0], self.physical_size[1])\n",
    "        self.context.set_viewport(*vp)\n",
    "        self.sphere1.transforms.configure(canvas=self, viewport=vp)\n",
    "        #self.sphere2.transforms.configure(canvas=self, viewport=vp)\n",
    "        #self.sphere3.transforms.configure(canvas=self, viewport=vp)\n",
    "\n",
    "    def on_draw(self, event):\n",
    "        gloo.set_viewport(0, 0, *self.physical_size)\n",
    "        gloo.clear('white', depth=True)\n",
    "\n",
    "        self.sphere1.draw()\n",
    "        #self.sphere2.draw()\n",
    "        #self.sphere3.draw()\n",
    "\n",
    "    def on_timer(self, event):\n",
    "        self.theta += .5\n",
    "        self.phi += .5\n",
    "        #self.cube_transform.reset()\n",
    "        #self.cube_transform.rotate(self.theta, (0, 0, 1))\n",
    "        #self.cube_transform.rotate(self.phi, (0, 1, 0))\n",
    "        #self.cube_transform.scale((100, 100, 0.001))\n",
    "        #self.cube_transform.translate((200, 200))\n",
    "        self.update()\n",
    "\n",
    "\n",
    "win = Canvas()\n",
    "#win.app.run()\n",
    "win.show()\n",
    "win"
   ]
  },
  {
   "cell_type": "code",
   "execution_count": null,
   "metadata": {},
   "outputs": [],
   "source": [
    "from czml3.examples import simple\n",
    "from czml3.widget import CZMLWidget\n",
    "CZMLWidget(simple)"
   ]
  }
 ],
 "metadata": {
  "kernelspec": {
   "display_name": "Py39OptFun",
   "language": "python",
   "name": "python3"
  },
  "language_info": {
   "codemirror_mode": {
    "name": "ipython",
    "version": 3
   },
   "file_extension": ".py",
   "mimetype": "text/x-python",
   "name": "python",
   "nbconvert_exporter": "python",
   "pygments_lexer": "ipython3",
   "version": "3.9.16"
  },
  "vscode": {
   "interpreter": {
    "hash": "8342c32f61487938d91ef427b475f7f8fd87b254acf7cf2fdac2f92ff118120c"
   }
  }
 },
 "nbformat": 4,
 "nbformat_minor": 2
}
